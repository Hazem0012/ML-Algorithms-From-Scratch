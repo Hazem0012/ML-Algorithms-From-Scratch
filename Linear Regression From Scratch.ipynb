{
 "cells": [
  {
   "cell_type": "markdown",
   "metadata": {
    "id": "Qm1kCpQmAVjE"
   },
   "source": [
    "# **Linear Regression From Scratch**\n",
    "\n"
   ]
  },
  {
   "cell_type": "code",
   "execution_count": null,
   "metadata": {
    "id": "ZFaK0VYl3JCt"
   },
   "outputs": [],
   "source": [
    "import numpy as np\n",
    "import pandas as pd"
   ]
  },
  {
   "cell_type": "code",
   "execution_count": null,
   "metadata": {
    "id": "kQJiQ5reQbBE"
   },
   "outputs": [],
   "source": [
    "file_csv=pd.read_csv('https://raw.githubusercontent.com/yoga-suhas-km/Intelligent_systems/main/marks_dataset.csv')"
   ]
  },
  {
   "cell_type": "markdown",
   "metadata": {
    "id": "W_4XvYjCpxiU"
   },
   "source": [
    "## Checking for null and NAN values in the dataset"
   ]
  },
  {
   "cell_type": "code",
   "execution_count": null,
   "metadata": {
    "colab": {
     "base_uri": "https://localhost:8080/"
    },
    "executionInfo": {
     "elapsed": 14,
     "status": "ok",
     "timestamp": 1738937229859,
     "user": {
      "displayName": "Hazem Alsagheer",
      "userId": "05232312845808918344"
     },
     "user_tz": 300
    },
    "id": "dVqJcqwTk2NA",
    "outputId": "5d66ad6e-78b8-4a64-8b82-1c461ae43bb2"
   },
   "outputs": [
    {
     "name": "stdout",
     "output_type": "stream",
     "text": [
      "<class 'pandas.core.frame.DataFrame'>\n",
      "RangeIndex: 100 entries, 0 to 99\n",
      "Data columns (total 2 columns):\n",
      " #   Column        Non-Null Count  Dtype  \n",
      "---  ------        --------------  -----  \n",
      " 0   Midterm mark  100 non-null    float64\n",
      " 1   Final mark    100 non-null    float64\n",
      "dtypes: float64(2)\n",
      "memory usage: 1.7 KB\n"
     ]
    }
   ],
   "source": [
    "file_csv.info()"
   ]
  },
  {
   "cell_type": "code",
   "execution_count": null,
   "metadata": {
    "colab": {
     "base_uri": "https://localhost:8080/",
     "height": 300
    },
    "executionInfo": {
     "elapsed": 40,
     "status": "ok",
     "timestamp": 1738937229901,
     "user": {
      "displayName": "Hazem Alsagheer",
      "userId": "05232312845808918344"
     },
     "user_tz": 300
    },
    "id": "NFSV37_Xk7LZ",
    "outputId": "82860aa6-7aee-48cb-b906-679a6e3cf38c"
   },
   "outputs": [
    {
     "data": {
      "application/vnd.google.colaboratory.intrinsic+json": {
       "summary": "{\n  \"name\": \"file_csv\",\n  \"rows\": 8,\n  \"fields\": [\n    {\n      \"column\": \"Midterm mark\",\n      \"properties\": {\n        \"dtype\": \"number\",\n        \"std\": 27.438634420095283,\n        \"min\": 9.746494785617063,\n        \"max\": 100.0,\n        \"num_unique_values\": 8,\n        \"samples\": [\n          48.959,\n          49.6,\n          100.0\n        ],\n        \"semantic_type\": \"\",\n        \"description\": \"\"\n      }\n    },\n    {\n      \"column\": \"Final mark\",\n      \"properties\": {\n        \"dtype\": \"number\",\n        \"std\": 33.47230053002396,\n        \"min\": 16.658248631676365,\n        \"max\": 118.6,\n        \"num_unique_values\": 8,\n        \"samples\": [\n          72.735,\n          72.15,\n          100.0\n        ],\n        \"semantic_type\": \"\",\n        \"description\": \"\"\n      }\n    }\n  ]\n}",
       "type": "dataframe"
      },
      "text/html": [
       "\n",
       "  <div id=\"df-b13e332b-d961-42e6-8754-0e27d7eeb0d8\" class=\"colab-df-container\">\n",
       "    <div>\n",
       "<style scoped>\n",
       "    .dataframe tbody tr th:only-of-type {\n",
       "        vertical-align: middle;\n",
       "    }\n",
       "\n",
       "    .dataframe tbody tr th {\n",
       "        vertical-align: top;\n",
       "    }\n",
       "\n",
       "    .dataframe thead th {\n",
       "        text-align: right;\n",
       "    }\n",
       "</style>\n",
       "<table border=\"1\" class=\"dataframe\">\n",
       "  <thead>\n",
       "    <tr style=\"text-align: right;\">\n",
       "      <th></th>\n",
       "      <th>Midterm mark</th>\n",
       "      <th>Final mark</th>\n",
       "    </tr>\n",
       "  </thead>\n",
       "  <tbody>\n",
       "    <tr>\n",
       "      <th>count</th>\n",
       "      <td>100.000000</td>\n",
       "      <td>100.000000</td>\n",
       "    </tr>\n",
       "    <tr>\n",
       "      <th>mean</th>\n",
       "      <td>48.959000</td>\n",
       "      <td>72.735000</td>\n",
       "    </tr>\n",
       "    <tr>\n",
       "      <th>std</th>\n",
       "      <td>9.746495</td>\n",
       "      <td>16.658249</td>\n",
       "    </tr>\n",
       "    <tr>\n",
       "      <th>min</th>\n",
       "      <td>25.100000</td>\n",
       "      <td>31.700000</td>\n",
       "    </tr>\n",
       "    <tr>\n",
       "      <th>25%</th>\n",
       "      <td>41.550000</td>\n",
       "      <td>60.775000</td>\n",
       "    </tr>\n",
       "    <tr>\n",
       "      <th>50%</th>\n",
       "      <td>49.600000</td>\n",
       "      <td>72.150000</td>\n",
       "    </tr>\n",
       "    <tr>\n",
       "      <th>75%</th>\n",
       "      <td>56.750000</td>\n",
       "      <td>83.175000</td>\n",
       "    </tr>\n",
       "    <tr>\n",
       "      <th>max</th>\n",
       "      <td>70.300000</td>\n",
       "      <td>118.600000</td>\n",
       "    </tr>\n",
       "  </tbody>\n",
       "</table>\n",
       "</div>\n",
       "    <div class=\"colab-df-buttons\">\n",
       "\n",
       "  <div class=\"colab-df-container\">\n",
       "    <button class=\"colab-df-convert\" onclick=\"convertToInteractive('df-b13e332b-d961-42e6-8754-0e27d7eeb0d8')\"\n",
       "            title=\"Convert this dataframe to an interactive table.\"\n",
       "            style=\"display:none;\">\n",
       "\n",
       "  <svg xmlns=\"http://www.w3.org/2000/svg\" height=\"24px\" viewBox=\"0 -960 960 960\">\n",
       "    <path d=\"M120-120v-720h720v720H120Zm60-500h600v-160H180v160Zm220 220h160v-160H400v160Zm0 220h160v-160H400v160ZM180-400h160v-160H180v160Zm440 0h160v-160H620v160ZM180-180h160v-160H180v160Zm440 0h160v-160H620v160Z\"/>\n",
       "  </svg>\n",
       "    </button>\n",
       "\n",
       "  <style>\n",
       "    .colab-df-container {\n",
       "      display:flex;\n",
       "      gap: 12px;\n",
       "    }\n",
       "\n",
       "    .colab-df-convert {\n",
       "      background-color: #E8F0FE;\n",
       "      border: none;\n",
       "      border-radius: 50%;\n",
       "      cursor: pointer;\n",
       "      display: none;\n",
       "      fill: #1967D2;\n",
       "      height: 32px;\n",
       "      padding: 0 0 0 0;\n",
       "      width: 32px;\n",
       "    }\n",
       "\n",
       "    .colab-df-convert:hover {\n",
       "      background-color: #E2EBFA;\n",
       "      box-shadow: 0px 1px 2px rgba(60, 64, 67, 0.3), 0px 1px 3px 1px rgba(60, 64, 67, 0.15);\n",
       "      fill: #174EA6;\n",
       "    }\n",
       "\n",
       "    .colab-df-buttons div {\n",
       "      margin-bottom: 4px;\n",
       "    }\n",
       "\n",
       "    [theme=dark] .colab-df-convert {\n",
       "      background-color: #3B4455;\n",
       "      fill: #D2E3FC;\n",
       "    }\n",
       "\n",
       "    [theme=dark] .colab-df-convert:hover {\n",
       "      background-color: #434B5C;\n",
       "      box-shadow: 0px 1px 3px 1px rgba(0, 0, 0, 0.15);\n",
       "      filter: drop-shadow(0px 1px 2px rgba(0, 0, 0, 0.3));\n",
       "      fill: #FFFFFF;\n",
       "    }\n",
       "  </style>\n",
       "\n",
       "    <script>\n",
       "      const buttonEl =\n",
       "        document.querySelector('#df-b13e332b-d961-42e6-8754-0e27d7eeb0d8 button.colab-df-convert');\n",
       "      buttonEl.style.display =\n",
       "        google.colab.kernel.accessAllowed ? 'block' : 'none';\n",
       "\n",
       "      async function convertToInteractive(key) {\n",
       "        const element = document.querySelector('#df-b13e332b-d961-42e6-8754-0e27d7eeb0d8');\n",
       "        const dataTable =\n",
       "          await google.colab.kernel.invokeFunction('convertToInteractive',\n",
       "                                                    [key], {});\n",
       "        if (!dataTable) return;\n",
       "\n",
       "        const docLinkHtml = 'Like what you see? Visit the ' +\n",
       "          '<a target=\"_blank\" href=https://colab.research.google.com/notebooks/data_table.ipynb>data table notebook</a>'\n",
       "          + ' to learn more about interactive tables.';\n",
       "        element.innerHTML = '';\n",
       "        dataTable['output_type'] = 'display_data';\n",
       "        await google.colab.output.renderOutput(dataTable, element);\n",
       "        const docLink = document.createElement('div');\n",
       "        docLink.innerHTML = docLinkHtml;\n",
       "        element.appendChild(docLink);\n",
       "      }\n",
       "    </script>\n",
       "  </div>\n",
       "\n",
       "\n",
       "<div id=\"df-1c83d61f-aea5-4fe1-929a-e019091167b1\">\n",
       "  <button class=\"colab-df-quickchart\" onclick=\"quickchart('df-1c83d61f-aea5-4fe1-929a-e019091167b1')\"\n",
       "            title=\"Suggest charts\"\n",
       "            style=\"display:none;\">\n",
       "\n",
       "<svg xmlns=\"http://www.w3.org/2000/svg\" height=\"24px\"viewBox=\"0 0 24 24\"\n",
       "     width=\"24px\">\n",
       "    <g>\n",
       "        <path d=\"M19 3H5c-1.1 0-2 .9-2 2v14c0 1.1.9 2 2 2h14c1.1 0 2-.9 2-2V5c0-1.1-.9-2-2-2zM9 17H7v-7h2v7zm4 0h-2V7h2v10zm4 0h-2v-4h2v4z\"/>\n",
       "    </g>\n",
       "</svg>\n",
       "  </button>\n",
       "\n",
       "<style>\n",
       "  .colab-df-quickchart {\n",
       "      --bg-color: #E8F0FE;\n",
       "      --fill-color: #1967D2;\n",
       "      --hover-bg-color: #E2EBFA;\n",
       "      --hover-fill-color: #174EA6;\n",
       "      --disabled-fill-color: #AAA;\n",
       "      --disabled-bg-color: #DDD;\n",
       "  }\n",
       "\n",
       "  [theme=dark] .colab-df-quickchart {\n",
       "      --bg-color: #3B4455;\n",
       "      --fill-color: #D2E3FC;\n",
       "      --hover-bg-color: #434B5C;\n",
       "      --hover-fill-color: #FFFFFF;\n",
       "      --disabled-bg-color: #3B4455;\n",
       "      --disabled-fill-color: #666;\n",
       "  }\n",
       "\n",
       "  .colab-df-quickchart {\n",
       "    background-color: var(--bg-color);\n",
       "    border: none;\n",
       "    border-radius: 50%;\n",
       "    cursor: pointer;\n",
       "    display: none;\n",
       "    fill: var(--fill-color);\n",
       "    height: 32px;\n",
       "    padding: 0;\n",
       "    width: 32px;\n",
       "  }\n",
       "\n",
       "  .colab-df-quickchart:hover {\n",
       "    background-color: var(--hover-bg-color);\n",
       "    box-shadow: 0 1px 2px rgba(60, 64, 67, 0.3), 0 1px 3px 1px rgba(60, 64, 67, 0.15);\n",
       "    fill: var(--button-hover-fill-color);\n",
       "  }\n",
       "\n",
       "  .colab-df-quickchart-complete:disabled,\n",
       "  .colab-df-quickchart-complete:disabled:hover {\n",
       "    background-color: var(--disabled-bg-color);\n",
       "    fill: var(--disabled-fill-color);\n",
       "    box-shadow: none;\n",
       "  }\n",
       "\n",
       "  .colab-df-spinner {\n",
       "    border: 2px solid var(--fill-color);\n",
       "    border-color: transparent;\n",
       "    border-bottom-color: var(--fill-color);\n",
       "    animation:\n",
       "      spin 1s steps(1) infinite;\n",
       "  }\n",
       "\n",
       "  @keyframes spin {\n",
       "    0% {\n",
       "      border-color: transparent;\n",
       "      border-bottom-color: var(--fill-color);\n",
       "      border-left-color: var(--fill-color);\n",
       "    }\n",
       "    20% {\n",
       "      border-color: transparent;\n",
       "      border-left-color: var(--fill-color);\n",
       "      border-top-color: var(--fill-color);\n",
       "    }\n",
       "    30% {\n",
       "      border-color: transparent;\n",
       "      border-left-color: var(--fill-color);\n",
       "      border-top-color: var(--fill-color);\n",
       "      border-right-color: var(--fill-color);\n",
       "    }\n",
       "    40% {\n",
       "      border-color: transparent;\n",
       "      border-right-color: var(--fill-color);\n",
       "      border-top-color: var(--fill-color);\n",
       "    }\n",
       "    60% {\n",
       "      border-color: transparent;\n",
       "      border-right-color: var(--fill-color);\n",
       "    }\n",
       "    80% {\n",
       "      border-color: transparent;\n",
       "      border-right-color: var(--fill-color);\n",
       "      border-bottom-color: var(--fill-color);\n",
       "    }\n",
       "    90% {\n",
       "      border-color: transparent;\n",
       "      border-bottom-color: var(--fill-color);\n",
       "    }\n",
       "  }\n",
       "</style>\n",
       "\n",
       "  <script>\n",
       "    async function quickchart(key) {\n",
       "      const quickchartButtonEl =\n",
       "        document.querySelector('#' + key + ' button');\n",
       "      quickchartButtonEl.disabled = true;  // To prevent multiple clicks.\n",
       "      quickchartButtonEl.classList.add('colab-df-spinner');\n",
       "      try {\n",
       "        const charts = await google.colab.kernel.invokeFunction(\n",
       "            'suggestCharts', [key], {});\n",
       "      } catch (error) {\n",
       "        console.error('Error during call to suggestCharts:', error);\n",
       "      }\n",
       "      quickchartButtonEl.classList.remove('colab-df-spinner');\n",
       "      quickchartButtonEl.classList.add('colab-df-quickchart-complete');\n",
       "    }\n",
       "    (() => {\n",
       "      let quickchartButtonEl =\n",
       "        document.querySelector('#df-1c83d61f-aea5-4fe1-929a-e019091167b1 button');\n",
       "      quickchartButtonEl.style.display =\n",
       "        google.colab.kernel.accessAllowed ? 'block' : 'none';\n",
       "    })();\n",
       "  </script>\n",
       "</div>\n",
       "\n",
       "    </div>\n",
       "  </div>\n"
      ],
      "text/plain": [
       "       Midterm mark  Final mark\n",
       "count    100.000000  100.000000\n",
       "mean      48.959000   72.735000\n",
       "std        9.746495   16.658249\n",
       "min       25.100000   31.700000\n",
       "25%       41.550000   60.775000\n",
       "50%       49.600000   72.150000\n",
       "75%       56.750000   83.175000\n",
       "max       70.300000  118.600000"
      ]
     },
     "execution_count": 4,
     "metadata": {},
     "output_type": "execute_result"
    }
   ],
   "source": [
    "file_csv.describe()"
   ]
  },
  {
   "cell_type": "code",
   "execution_count": null,
   "metadata": {
    "id": "Sbs3HH8YnVjf"
   },
   "outputs": [],
   "source": [
    "midterm_mean=file_csv['Midterm mark'].mean()\n",
    "midterm_std=file_csv['Midterm mark'].std()\n",
    "dataLength=file_csv['Midterm mark'].count()\n",
    "\n",
    "final_mean=file_csv['Final mark'].mean()\n",
    "final_std=file_csv['Final mark'].std()\n"
   ]
  },
  {
   "cell_type": "code",
   "execution_count": null,
   "metadata": {
    "id": "oec0gVqf4HSp"
   },
   "outputs": [],
   "source": [
    "midterm_mark=file_csv['Midterm mark']\n",
    "final_mark=file_csv['Final mark']"
   ]
  },
  {
   "cell_type": "code",
   "execution_count": null,
   "metadata": {
    "colab": {
     "base_uri": "https://localhost:8080/",
     "height": 458
    },
    "executionInfo": {
     "elapsed": 43,
     "status": "ok",
     "timestamp": 1738937229983,
     "user": {
      "displayName": "Hazem Alsagheer",
      "userId": "05232312845808918344"
     },
     "user_tz": 300
    },
    "id": "i0hCZb6p46U5",
    "outputId": "43752e4d-6819-4144-d58b-a8c8394a44d4"
   },
   "outputs": [
    {
     "data": {
      "text/html": [
       "<div>\n",
       "<style scoped>\n",
       "    .dataframe tbody tr th:only-of-type {\n",
       "        vertical-align: middle;\n",
       "    }\n",
       "\n",
       "    .dataframe tbody tr th {\n",
       "        vertical-align: top;\n",
       "    }\n",
       "\n",
       "    .dataframe thead th {\n",
       "        text-align: right;\n",
       "    }\n",
       "</style>\n",
       "<table border=\"1\" class=\"dataframe\">\n",
       "  <thead>\n",
       "    <tr style=\"text-align: right;\">\n",
       "      <th></th>\n",
       "      <th>Midterm mark</th>\n",
       "    </tr>\n",
       "  </thead>\n",
       "  <tbody>\n",
       "    <tr>\n",
       "      <th>0</th>\n",
       "      <td>32.5</td>\n",
       "    </tr>\n",
       "    <tr>\n",
       "      <th>1</th>\n",
       "      <td>53.4</td>\n",
       "    </tr>\n",
       "    <tr>\n",
       "      <th>2</th>\n",
       "      <td>61.5</td>\n",
       "    </tr>\n",
       "    <tr>\n",
       "      <th>3</th>\n",
       "      <td>47.5</td>\n",
       "    </tr>\n",
       "    <tr>\n",
       "      <th>4</th>\n",
       "      <td>59.8</td>\n",
       "    </tr>\n",
       "    <tr>\n",
       "      <th>...</th>\n",
       "      <td>...</td>\n",
       "    </tr>\n",
       "    <tr>\n",
       "      <th>95</th>\n",
       "      <td>50.0</td>\n",
       "    </tr>\n",
       "    <tr>\n",
       "      <th>96</th>\n",
       "      <td>49.2</td>\n",
       "    </tr>\n",
       "    <tr>\n",
       "      <th>97</th>\n",
       "      <td>50.0</td>\n",
       "    </tr>\n",
       "    <tr>\n",
       "      <th>98</th>\n",
       "      <td>48.1</td>\n",
       "    </tr>\n",
       "    <tr>\n",
       "      <th>99</th>\n",
       "      <td>25.1</td>\n",
       "    </tr>\n",
       "  </tbody>\n",
       "</table>\n",
       "<p>100 rows × 1 columns</p>\n",
       "</div><br><label><b>dtype:</b> float64</label>"
      ],
      "text/plain": [
       "0     32.5\n",
       "1     53.4\n",
       "2     61.5\n",
       "3     47.5\n",
       "4     59.8\n",
       "      ... \n",
       "95    50.0\n",
       "96    49.2\n",
       "97    50.0\n",
       "98    48.1\n",
       "99    25.1\n",
       "Name: Midterm mark, Length: 100, dtype: float64"
      ]
     },
     "execution_count": 7,
     "metadata": {},
     "output_type": "execute_result"
    }
   ],
   "source": [
    "midterm_mark"
   ]
  },
  {
   "cell_type": "markdown",
   "metadata": {
    "id": "2wIDApwlhTrk"
   },
   "source": [
    "## Standardization\n",
    "\n"
   ]
  },
  {
   "cell_type": "code",
   "execution_count": null,
   "metadata": {
    "id": "IOEsJkW15cMX"
   },
   "outputs": [],
   "source": [
    "std_input=[]\n",
    "std_output=[]\n",
    "\n",
    "for i in midterm_mark:\n",
    "  std_input.append((i-midterm_mean)/midterm_std)\n",
    "file_csv[\"standardized_midterm_mark\"]=pd.DataFrame(std_input)\n",
    "\n",
    "for i in final_mark:\n",
    "  std_output.append((i-final_mean)/final_std)\n",
    "file_csv[\"standardized_final_mark\"]=pd.DataFrame(std_output)"
   ]
  },
  {
   "cell_type": "code",
   "execution_count": null,
   "metadata": {
    "colab": {
     "base_uri": "https://localhost:8080/",
     "height": 363
    },
    "executionInfo": {
     "elapsed": 22,
     "status": "ok",
     "timestamp": 1738937230010,
     "user": {
      "displayName": "Hazem Alsagheer",
      "userId": "05232312845808918344"
     },
     "user_tz": 300
    },
    "id": "A5Gz8Mt6l9BO",
    "outputId": "71bb3158-5da8-4906-d47a-6874e8c384dd"
   },
   "outputs": [
    {
     "data": {
      "application/vnd.google.colaboratory.intrinsic+json": {
       "summary": "{\n  \"name\": \"file_csv\",\n  \"rows\": 100,\n  \"fields\": [\n    {\n      \"column\": \"Midterm mark\",\n      \"properties\": {\n        \"dtype\": \"number\",\n        \"std\": 9.746494785617063,\n        \"min\": 25.1,\n        \"max\": 70.3,\n        \"num_unique_values\": 83,\n        \"samples\": [\n          42.4,\n          32.5,\n          41.6\n        ],\n        \"semantic_type\": \"\",\n        \"description\": \"\"\n      }\n    },\n    {\n      \"column\": \"Final mark\",\n      \"properties\": {\n        \"dtype\": \"number\",\n        \"std\": 16.658248631676365,\n        \"min\": 31.7,\n        \"max\": 118.6,\n        \"num_unique_values\": 89,\n        \"samples\": [\n          54.1,\n          86.5,\n          41.4\n        ],\n        \"semantic_type\": \"\",\n        \"description\": \"\"\n      }\n    },\n    {\n      \"column\": \"standardized_midterm_mark\",\n      \"properties\": {\n        \"dtype\": \"number\",\n        \"std\": 1.0,\n        \"min\": -2.4479569860550083,\n        \"max\": 2.18960769686072,\n        \"num_unique_values\": 83,\n        \"samples\": [\n          -0.6729598839655816,\n          -1.6887096707103981,\n          -0.7550406748136472\n        ],\n        \"semantic_type\": \"\",\n        \"description\": \"\"\n      }\n    },\n    {\n      \"column\": \"standardized_final_mark\",\n      \"properties\": {\n        \"dtype\": \"number\",\n        \"std\": 0.9999999999999998,\n        \"min\": -2.4633441910556075,\n        \"max\": 2.7532906378156556,\n        \"num_unique_values\": 89,\n        \"samples\": [\n          -1.1186650176756732,\n          0.8263173581060178,\n          -1.881050084725904\n        ],\n        \"semantic_type\": \"\",\n        \"description\": \"\"\n      }\n    }\n  ]\n}",
       "type": "dataframe",
       "variable_name": "file_csv"
      },
      "text/html": [
       "\n",
       "  <div id=\"df-1cd3ae1c-e880-4376-af78-c3f225c2f41d\" class=\"colab-df-container\">\n",
       "    <div>\n",
       "<style scoped>\n",
       "    .dataframe tbody tr th:only-of-type {\n",
       "        vertical-align: middle;\n",
       "    }\n",
       "\n",
       "    .dataframe tbody tr th {\n",
       "        vertical-align: top;\n",
       "    }\n",
       "\n",
       "    .dataframe thead th {\n",
       "        text-align: right;\n",
       "    }\n",
       "</style>\n",
       "<table border=\"1\" class=\"dataframe\">\n",
       "  <thead>\n",
       "    <tr style=\"text-align: right;\">\n",
       "      <th></th>\n",
       "      <th>Midterm mark</th>\n",
       "      <th>Final mark</th>\n",
       "      <th>standardized_midterm_mark</th>\n",
       "      <th>standardized_final_mark</th>\n",
       "    </tr>\n",
       "  </thead>\n",
       "  <tbody>\n",
       "    <tr>\n",
       "      <th>0</th>\n",
       "      <td>32.5</td>\n",
       "      <td>31.7</td>\n",
       "      <td>-1.688710</td>\n",
       "      <td>-2.463344</td>\n",
       "    </tr>\n",
       "    <tr>\n",
       "      <th>1</th>\n",
       "      <td>53.4</td>\n",
       "      <td>68.8</td>\n",
       "      <td>0.455651</td>\n",
       "      <td>-0.236219</td>\n",
       "    </tr>\n",
       "    <tr>\n",
       "      <th>2</th>\n",
       "      <td>61.5</td>\n",
       "      <td>62.6</td>\n",
       "      <td>1.286719</td>\n",
       "      <td>-0.608407</td>\n",
       "    </tr>\n",
       "    <tr>\n",
       "      <th>3</th>\n",
       "      <td>47.5</td>\n",
       "      <td>71.5</td>\n",
       "      <td>-0.149695</td>\n",
       "      <td>-0.074137</td>\n",
       "    </tr>\n",
       "    <tr>\n",
       "      <th>4</th>\n",
       "      <td>59.8</td>\n",
       "      <td>87.2</td>\n",
       "      <td>1.112297</td>\n",
       "      <td>0.868339</td>\n",
       "    </tr>\n",
       "    <tr>\n",
       "      <th>5</th>\n",
       "      <td>55.1</td>\n",
       "      <td>78.2</td>\n",
       "      <td>0.630073</td>\n",
       "      <td>0.328066</td>\n",
       "    </tr>\n",
       "    <tr>\n",
       "      <th>6</th>\n",
       "      <td>52.2</td>\n",
       "      <td>79.6</td>\n",
       "      <td>0.332530</td>\n",
       "      <td>0.412108</td>\n",
       "    </tr>\n",
       "    <tr>\n",
       "      <th>7</th>\n",
       "      <td>39.3</td>\n",
       "      <td>59.2</td>\n",
       "      <td>-0.991023</td>\n",
       "      <td>-0.812510</td>\n",
       "    </tr>\n",
       "    <tr>\n",
       "      <th>8</th>\n",
       "      <td>48.1</td>\n",
       "      <td>75.3</td>\n",
       "      <td>-0.088134</td>\n",
       "      <td>0.153978</td>\n",
       "    </tr>\n",
       "    <tr>\n",
       "      <th>9</th>\n",
       "      <td>52.6</td>\n",
       "      <td>71.3</td>\n",
       "      <td>0.373570</td>\n",
       "      <td>-0.086144</td>\n",
       "    </tr>\n",
       "  </tbody>\n",
       "</table>\n",
       "</div>\n",
       "    <div class=\"colab-df-buttons\">\n",
       "\n",
       "  <div class=\"colab-df-container\">\n",
       "    <button class=\"colab-df-convert\" onclick=\"convertToInteractive('df-1cd3ae1c-e880-4376-af78-c3f225c2f41d')\"\n",
       "            title=\"Convert this dataframe to an interactive table.\"\n",
       "            style=\"display:none;\">\n",
       "\n",
       "  <svg xmlns=\"http://www.w3.org/2000/svg\" height=\"24px\" viewBox=\"0 -960 960 960\">\n",
       "    <path d=\"M120-120v-720h720v720H120Zm60-500h600v-160H180v160Zm220 220h160v-160H400v160Zm0 220h160v-160H400v160ZM180-400h160v-160H180v160Zm440 0h160v-160H620v160ZM180-180h160v-160H180v160Zm440 0h160v-160H620v160Z\"/>\n",
       "  </svg>\n",
       "    </button>\n",
       "\n",
       "  <style>\n",
       "    .colab-df-container {\n",
       "      display:flex;\n",
       "      gap: 12px;\n",
       "    }\n",
       "\n",
       "    .colab-df-convert {\n",
       "      background-color: #E8F0FE;\n",
       "      border: none;\n",
       "      border-radius: 50%;\n",
       "      cursor: pointer;\n",
       "      display: none;\n",
       "      fill: #1967D2;\n",
       "      height: 32px;\n",
       "      padding: 0 0 0 0;\n",
       "      width: 32px;\n",
       "    }\n",
       "\n",
       "    .colab-df-convert:hover {\n",
       "      background-color: #E2EBFA;\n",
       "      box-shadow: 0px 1px 2px rgba(60, 64, 67, 0.3), 0px 1px 3px 1px rgba(60, 64, 67, 0.15);\n",
       "      fill: #174EA6;\n",
       "    }\n",
       "\n",
       "    .colab-df-buttons div {\n",
       "      margin-bottom: 4px;\n",
       "    }\n",
       "\n",
       "    [theme=dark] .colab-df-convert {\n",
       "      background-color: #3B4455;\n",
       "      fill: #D2E3FC;\n",
       "    }\n",
       "\n",
       "    [theme=dark] .colab-df-convert:hover {\n",
       "      background-color: #434B5C;\n",
       "      box-shadow: 0px 1px 3px 1px rgba(0, 0, 0, 0.15);\n",
       "      filter: drop-shadow(0px 1px 2px rgba(0, 0, 0, 0.3));\n",
       "      fill: #FFFFFF;\n",
       "    }\n",
       "  </style>\n",
       "\n",
       "    <script>\n",
       "      const buttonEl =\n",
       "        document.querySelector('#df-1cd3ae1c-e880-4376-af78-c3f225c2f41d button.colab-df-convert');\n",
       "      buttonEl.style.display =\n",
       "        google.colab.kernel.accessAllowed ? 'block' : 'none';\n",
       "\n",
       "      async function convertToInteractive(key) {\n",
       "        const element = document.querySelector('#df-1cd3ae1c-e880-4376-af78-c3f225c2f41d');\n",
       "        const dataTable =\n",
       "          await google.colab.kernel.invokeFunction('convertToInteractive',\n",
       "                                                    [key], {});\n",
       "        if (!dataTable) return;\n",
       "\n",
       "        const docLinkHtml = 'Like what you see? Visit the ' +\n",
       "          '<a target=\"_blank\" href=https://colab.research.google.com/notebooks/data_table.ipynb>data table notebook</a>'\n",
       "          + ' to learn more about interactive tables.';\n",
       "        element.innerHTML = '';\n",
       "        dataTable['output_type'] = 'display_data';\n",
       "        await google.colab.output.renderOutput(dataTable, element);\n",
       "        const docLink = document.createElement('div');\n",
       "        docLink.innerHTML = docLinkHtml;\n",
       "        element.appendChild(docLink);\n",
       "      }\n",
       "    </script>\n",
       "  </div>\n",
       "\n",
       "\n",
       "<div id=\"df-127fb7e2-50f9-4644-b515-06c1ce8de3d3\">\n",
       "  <button class=\"colab-df-quickchart\" onclick=\"quickchart('df-127fb7e2-50f9-4644-b515-06c1ce8de3d3')\"\n",
       "            title=\"Suggest charts\"\n",
       "            style=\"display:none;\">\n",
       "\n",
       "<svg xmlns=\"http://www.w3.org/2000/svg\" height=\"24px\"viewBox=\"0 0 24 24\"\n",
       "     width=\"24px\">\n",
       "    <g>\n",
       "        <path d=\"M19 3H5c-1.1 0-2 .9-2 2v14c0 1.1.9 2 2 2h14c1.1 0 2-.9 2-2V5c0-1.1-.9-2-2-2zM9 17H7v-7h2v7zm4 0h-2V7h2v10zm4 0h-2v-4h2v4z\"/>\n",
       "    </g>\n",
       "</svg>\n",
       "  </button>\n",
       "\n",
       "<style>\n",
       "  .colab-df-quickchart {\n",
       "      --bg-color: #E8F0FE;\n",
       "      --fill-color: #1967D2;\n",
       "      --hover-bg-color: #E2EBFA;\n",
       "      --hover-fill-color: #174EA6;\n",
       "      --disabled-fill-color: #AAA;\n",
       "      --disabled-bg-color: #DDD;\n",
       "  }\n",
       "\n",
       "  [theme=dark] .colab-df-quickchart {\n",
       "      --bg-color: #3B4455;\n",
       "      --fill-color: #D2E3FC;\n",
       "      --hover-bg-color: #434B5C;\n",
       "      --hover-fill-color: #FFFFFF;\n",
       "      --disabled-bg-color: #3B4455;\n",
       "      --disabled-fill-color: #666;\n",
       "  }\n",
       "\n",
       "  .colab-df-quickchart {\n",
       "    background-color: var(--bg-color);\n",
       "    border: none;\n",
       "    border-radius: 50%;\n",
       "    cursor: pointer;\n",
       "    display: none;\n",
       "    fill: var(--fill-color);\n",
       "    height: 32px;\n",
       "    padding: 0;\n",
       "    width: 32px;\n",
       "  }\n",
       "\n",
       "  .colab-df-quickchart:hover {\n",
       "    background-color: var(--hover-bg-color);\n",
       "    box-shadow: 0 1px 2px rgba(60, 64, 67, 0.3), 0 1px 3px 1px rgba(60, 64, 67, 0.15);\n",
       "    fill: var(--button-hover-fill-color);\n",
       "  }\n",
       "\n",
       "  .colab-df-quickchart-complete:disabled,\n",
       "  .colab-df-quickchart-complete:disabled:hover {\n",
       "    background-color: var(--disabled-bg-color);\n",
       "    fill: var(--disabled-fill-color);\n",
       "    box-shadow: none;\n",
       "  }\n",
       "\n",
       "  .colab-df-spinner {\n",
       "    border: 2px solid var(--fill-color);\n",
       "    border-color: transparent;\n",
       "    border-bottom-color: var(--fill-color);\n",
       "    animation:\n",
       "      spin 1s steps(1) infinite;\n",
       "  }\n",
       "\n",
       "  @keyframes spin {\n",
       "    0% {\n",
       "      border-color: transparent;\n",
       "      border-bottom-color: var(--fill-color);\n",
       "      border-left-color: var(--fill-color);\n",
       "    }\n",
       "    20% {\n",
       "      border-color: transparent;\n",
       "      border-left-color: var(--fill-color);\n",
       "      border-top-color: var(--fill-color);\n",
       "    }\n",
       "    30% {\n",
       "      border-color: transparent;\n",
       "      border-left-color: var(--fill-color);\n",
       "      border-top-color: var(--fill-color);\n",
       "      border-right-color: var(--fill-color);\n",
       "    }\n",
       "    40% {\n",
       "      border-color: transparent;\n",
       "      border-right-color: var(--fill-color);\n",
       "      border-top-color: var(--fill-color);\n",
       "    }\n",
       "    60% {\n",
       "      border-color: transparent;\n",
       "      border-right-color: var(--fill-color);\n",
       "    }\n",
       "    80% {\n",
       "      border-color: transparent;\n",
       "      border-right-color: var(--fill-color);\n",
       "      border-bottom-color: var(--fill-color);\n",
       "    }\n",
       "    90% {\n",
       "      border-color: transparent;\n",
       "      border-bottom-color: var(--fill-color);\n",
       "    }\n",
       "  }\n",
       "</style>\n",
       "\n",
       "  <script>\n",
       "    async function quickchart(key) {\n",
       "      const quickchartButtonEl =\n",
       "        document.querySelector('#' + key + ' button');\n",
       "      quickchartButtonEl.disabled = true;  // To prevent multiple clicks.\n",
       "      quickchartButtonEl.classList.add('colab-df-spinner');\n",
       "      try {\n",
       "        const charts = await google.colab.kernel.invokeFunction(\n",
       "            'suggestCharts', [key], {});\n",
       "      } catch (error) {\n",
       "        console.error('Error during call to suggestCharts:', error);\n",
       "      }\n",
       "      quickchartButtonEl.classList.remove('colab-df-spinner');\n",
       "      quickchartButtonEl.classList.add('colab-df-quickchart-complete');\n",
       "    }\n",
       "    (() => {\n",
       "      let quickchartButtonEl =\n",
       "        document.querySelector('#df-127fb7e2-50f9-4644-b515-06c1ce8de3d3 button');\n",
       "      quickchartButtonEl.style.display =\n",
       "        google.colab.kernel.accessAllowed ? 'block' : 'none';\n",
       "    })();\n",
       "  </script>\n",
       "</div>\n",
       "\n",
       "    </div>\n",
       "  </div>\n"
      ],
      "text/plain": [
       "   Midterm mark  Final mark  standardized_midterm_mark  \\\n",
       "0          32.5        31.7                  -1.688710   \n",
       "1          53.4        68.8                   0.455651   \n",
       "2          61.5        62.6                   1.286719   \n",
       "3          47.5        71.5                  -0.149695   \n",
       "4          59.8        87.2                   1.112297   \n",
       "5          55.1        78.2                   0.630073   \n",
       "6          52.2        79.6                   0.332530   \n",
       "7          39.3        59.2                  -0.991023   \n",
       "8          48.1        75.3                  -0.088134   \n",
       "9          52.6        71.3                   0.373570   \n",
       "\n",
       "   standardized_final_mark  \n",
       "0                -2.463344  \n",
       "1                -0.236219  \n",
       "2                -0.608407  \n",
       "3                -0.074137  \n",
       "4                 0.868339  \n",
       "5                 0.328066  \n",
       "6                 0.412108  \n",
       "7                -0.812510  \n",
       "8                 0.153978  \n",
       "9                -0.086144  "
      ]
     },
     "execution_count": 9,
     "metadata": {},
     "output_type": "execute_result"
    }
   ],
   "source": [
    "file_csv.head(10)"
   ]
  },
  {
   "cell_type": "markdown",
   "metadata": {
    "id": "bjzepV_oheOZ"
   },
   "source": [
    "## Initialization of m and b"
   ]
  },
  {
   "cell_type": "code",
   "execution_count": null,
   "metadata": {
    "id": "eojnPNebhbu2"
   },
   "outputs": [],
   "source": [
    "m=-0.5\n",
    "b=0\n",
    "alpha=0.0001"
   ]
  },
  {
   "cell_type": "markdown",
   "metadata": {
    "id": "XHZPolY4oBkt"
   },
   "source": [
    "## Predicted Value of final mark with standardization"
   ]
  },
  {
   "cell_type": "code",
   "execution_count": null,
   "metadata": {
    "colab": {
     "base_uri": "https://localhost:8080/",
     "height": 363
    },
    "executionInfo": {
     "elapsed": 19,
     "status": "ok",
     "timestamp": 1738937230075,
     "user": {
      "displayName": "Hazem Alsagheer",
      "userId": "05232312845808918344"
     },
     "user_tz": 300
    },
    "id": "alpeTFctoHy4",
    "outputId": "5c613ae2-1ace-45e2-9e7e-7d4771824dfb"
   },
   "outputs": [
    {
     "data": {
      "application/vnd.google.colaboratory.intrinsic+json": {
       "summary": "{\n  \"name\": \"file_csv\",\n  \"rows\": 100,\n  \"fields\": [\n    {\n      \"column\": \"Midterm mark\",\n      \"properties\": {\n        \"dtype\": \"number\",\n        \"std\": 9.746494785617063,\n        \"min\": 25.1,\n        \"max\": 70.3,\n        \"num_unique_values\": 83,\n        \"samples\": [\n          42.4,\n          32.5,\n          41.6\n        ],\n        \"semantic_type\": \"\",\n        \"description\": \"\"\n      }\n    },\n    {\n      \"column\": \"Final mark\",\n      \"properties\": {\n        \"dtype\": \"number\",\n        \"std\": 16.658248631676365,\n        \"min\": 31.7,\n        \"max\": 118.6,\n        \"num_unique_values\": 89,\n        \"samples\": [\n          54.1,\n          86.5,\n          41.4\n        ],\n        \"semantic_type\": \"\",\n        \"description\": \"\"\n      }\n    },\n    {\n      \"column\": \"standardized_midterm_mark\",\n      \"properties\": {\n        \"dtype\": \"number\",\n        \"std\": 1.0,\n        \"min\": -2.4479569860550083,\n        \"max\": 2.18960769686072,\n        \"num_unique_values\": 83,\n        \"samples\": [\n          -0.6729598839655816,\n          -1.6887096707103981,\n          -0.7550406748136472\n        ],\n        \"semantic_type\": \"\",\n        \"description\": \"\"\n      }\n    },\n    {\n      \"column\": \"standardized_final_mark\",\n      \"properties\": {\n        \"dtype\": \"number\",\n        \"std\": 0.9999999999999998,\n        \"min\": -2.4633441910556075,\n        \"max\": 2.7532906378156556,\n        \"num_unique_values\": 89,\n        \"samples\": [\n          -1.1186650176756732,\n          0.8263173581060178,\n          -1.881050084725904\n        ],\n        \"semantic_type\": \"\",\n        \"description\": \"\"\n      }\n    },\n    {\n      \"column\": \"final_mark_predicted_std\",\n      \"properties\": {\n        \"dtype\": \"number\",\n        \"std\": 0.5,\n        \"min\": -1.09480384843036,\n        \"max\": 1.2239784930275042,\n        \"num_unique_values\": 83,\n        \"samples\": [\n          0.3364799419827908,\n          0.8443548353551991,\n          0.3775203374068236\n        ],\n        \"semantic_type\": \"\",\n        \"description\": \"\"\n      }\n    }\n  ]\n}",
       "type": "dataframe",
       "variable_name": "file_csv"
      },
      "text/html": [
       "\n",
       "  <div id=\"df-1f53e5a0-ce90-451f-add5-9a4a89ee6f72\" class=\"colab-df-container\">\n",
       "    <div>\n",
       "<style scoped>\n",
       "    .dataframe tbody tr th:only-of-type {\n",
       "        vertical-align: middle;\n",
       "    }\n",
       "\n",
       "    .dataframe tbody tr th {\n",
       "        vertical-align: top;\n",
       "    }\n",
       "\n",
       "    .dataframe thead th {\n",
       "        text-align: right;\n",
       "    }\n",
       "</style>\n",
       "<table border=\"1\" class=\"dataframe\">\n",
       "  <thead>\n",
       "    <tr style=\"text-align: right;\">\n",
       "      <th></th>\n",
       "      <th>Midterm mark</th>\n",
       "      <th>Final mark</th>\n",
       "      <th>standardized_midterm_mark</th>\n",
       "      <th>standardized_final_mark</th>\n",
       "      <th>final_mark_predicted_std</th>\n",
       "    </tr>\n",
       "  </thead>\n",
       "  <tbody>\n",
       "    <tr>\n",
       "      <th>0</th>\n",
       "      <td>32.5</td>\n",
       "      <td>31.7</td>\n",
       "      <td>-1.688710</td>\n",
       "      <td>-2.463344</td>\n",
       "      <td>0.844355</td>\n",
       "    </tr>\n",
       "    <tr>\n",
       "      <th>1</th>\n",
       "      <td>53.4</td>\n",
       "      <td>68.8</td>\n",
       "      <td>0.455651</td>\n",
       "      <td>-0.236219</td>\n",
       "      <td>-0.227825</td>\n",
       "    </tr>\n",
       "    <tr>\n",
       "      <th>2</th>\n",
       "      <td>61.5</td>\n",
       "      <td>62.6</td>\n",
       "      <td>1.286719</td>\n",
       "      <td>-0.608407</td>\n",
       "      <td>-0.643359</td>\n",
       "    </tr>\n",
       "    <tr>\n",
       "      <th>3</th>\n",
       "      <td>47.5</td>\n",
       "      <td>71.5</td>\n",
       "      <td>-0.149695</td>\n",
       "      <td>-0.074137</td>\n",
       "      <td>0.074847</td>\n",
       "    </tr>\n",
       "    <tr>\n",
       "      <th>4</th>\n",
       "      <td>59.8</td>\n",
       "      <td>87.2</td>\n",
       "      <td>1.112297</td>\n",
       "      <td>0.868339</td>\n",
       "      <td>-0.556149</td>\n",
       "    </tr>\n",
       "    <tr>\n",
       "      <th>5</th>\n",
       "      <td>55.1</td>\n",
       "      <td>78.2</td>\n",
       "      <td>0.630073</td>\n",
       "      <td>0.328066</td>\n",
       "      <td>-0.315036</td>\n",
       "    </tr>\n",
       "    <tr>\n",
       "      <th>6</th>\n",
       "      <td>52.2</td>\n",
       "      <td>79.6</td>\n",
       "      <td>0.332530</td>\n",
       "      <td>0.412108</td>\n",
       "      <td>-0.166265</td>\n",
       "    </tr>\n",
       "    <tr>\n",
       "      <th>7</th>\n",
       "      <td>39.3</td>\n",
       "      <td>59.2</td>\n",
       "      <td>-0.991023</td>\n",
       "      <td>-0.812510</td>\n",
       "      <td>0.495511</td>\n",
       "    </tr>\n",
       "    <tr>\n",
       "      <th>8</th>\n",
       "      <td>48.1</td>\n",
       "      <td>75.3</td>\n",
       "      <td>-0.088134</td>\n",
       "      <td>0.153978</td>\n",
       "      <td>0.044067</td>\n",
       "    </tr>\n",
       "    <tr>\n",
       "      <th>9</th>\n",
       "      <td>52.6</td>\n",
       "      <td>71.3</td>\n",
       "      <td>0.373570</td>\n",
       "      <td>-0.086144</td>\n",
       "      <td>-0.186785</td>\n",
       "    </tr>\n",
       "  </tbody>\n",
       "</table>\n",
       "</div>\n",
       "    <div class=\"colab-df-buttons\">\n",
       "\n",
       "  <div class=\"colab-df-container\">\n",
       "    <button class=\"colab-df-convert\" onclick=\"convertToInteractive('df-1f53e5a0-ce90-451f-add5-9a4a89ee6f72')\"\n",
       "            title=\"Convert this dataframe to an interactive table.\"\n",
       "            style=\"display:none;\">\n",
       "\n",
       "  <svg xmlns=\"http://www.w3.org/2000/svg\" height=\"24px\" viewBox=\"0 -960 960 960\">\n",
       "    <path d=\"M120-120v-720h720v720H120Zm60-500h600v-160H180v160Zm220 220h160v-160H400v160Zm0 220h160v-160H400v160ZM180-400h160v-160H180v160Zm440 0h160v-160H620v160ZM180-180h160v-160H180v160Zm440 0h160v-160H620v160Z\"/>\n",
       "  </svg>\n",
       "    </button>\n",
       "\n",
       "  <style>\n",
       "    .colab-df-container {\n",
       "      display:flex;\n",
       "      gap: 12px;\n",
       "    }\n",
       "\n",
       "    .colab-df-convert {\n",
       "      background-color: #E8F0FE;\n",
       "      border: none;\n",
       "      border-radius: 50%;\n",
       "      cursor: pointer;\n",
       "      display: none;\n",
       "      fill: #1967D2;\n",
       "      height: 32px;\n",
       "      padding: 0 0 0 0;\n",
       "      width: 32px;\n",
       "    }\n",
       "\n",
       "    .colab-df-convert:hover {\n",
       "      background-color: #E2EBFA;\n",
       "      box-shadow: 0px 1px 2px rgba(60, 64, 67, 0.3), 0px 1px 3px 1px rgba(60, 64, 67, 0.15);\n",
       "      fill: #174EA6;\n",
       "    }\n",
       "\n",
       "    .colab-df-buttons div {\n",
       "      margin-bottom: 4px;\n",
       "    }\n",
       "\n",
       "    [theme=dark] .colab-df-convert {\n",
       "      background-color: #3B4455;\n",
       "      fill: #D2E3FC;\n",
       "    }\n",
       "\n",
       "    [theme=dark] .colab-df-convert:hover {\n",
       "      background-color: #434B5C;\n",
       "      box-shadow: 0px 1px 3px 1px rgba(0, 0, 0, 0.15);\n",
       "      filter: drop-shadow(0px 1px 2px rgba(0, 0, 0, 0.3));\n",
       "      fill: #FFFFFF;\n",
       "    }\n",
       "  </style>\n",
       "\n",
       "    <script>\n",
       "      const buttonEl =\n",
       "        document.querySelector('#df-1f53e5a0-ce90-451f-add5-9a4a89ee6f72 button.colab-df-convert');\n",
       "      buttonEl.style.display =\n",
       "        google.colab.kernel.accessAllowed ? 'block' : 'none';\n",
       "\n",
       "      async function convertToInteractive(key) {\n",
       "        const element = document.querySelector('#df-1f53e5a0-ce90-451f-add5-9a4a89ee6f72');\n",
       "        const dataTable =\n",
       "          await google.colab.kernel.invokeFunction('convertToInteractive',\n",
       "                                                    [key], {});\n",
       "        if (!dataTable) return;\n",
       "\n",
       "        const docLinkHtml = 'Like what you see? Visit the ' +\n",
       "          '<a target=\"_blank\" href=https://colab.research.google.com/notebooks/data_table.ipynb>data table notebook</a>'\n",
       "          + ' to learn more about interactive tables.';\n",
       "        element.innerHTML = '';\n",
       "        dataTable['output_type'] = 'display_data';\n",
       "        await google.colab.output.renderOutput(dataTable, element);\n",
       "        const docLink = document.createElement('div');\n",
       "        docLink.innerHTML = docLinkHtml;\n",
       "        element.appendChild(docLink);\n",
       "      }\n",
       "    </script>\n",
       "  </div>\n",
       "\n",
       "\n",
       "<div id=\"df-28daa354-60b0-4d73-9b27-b6ed6edb821e\">\n",
       "  <button class=\"colab-df-quickchart\" onclick=\"quickchart('df-28daa354-60b0-4d73-9b27-b6ed6edb821e')\"\n",
       "            title=\"Suggest charts\"\n",
       "            style=\"display:none;\">\n",
       "\n",
       "<svg xmlns=\"http://www.w3.org/2000/svg\" height=\"24px\"viewBox=\"0 0 24 24\"\n",
       "     width=\"24px\">\n",
       "    <g>\n",
       "        <path d=\"M19 3H5c-1.1 0-2 .9-2 2v14c0 1.1.9 2 2 2h14c1.1 0 2-.9 2-2V5c0-1.1-.9-2-2-2zM9 17H7v-7h2v7zm4 0h-2V7h2v10zm4 0h-2v-4h2v4z\"/>\n",
       "    </g>\n",
       "</svg>\n",
       "  </button>\n",
       "\n",
       "<style>\n",
       "  .colab-df-quickchart {\n",
       "      --bg-color: #E8F0FE;\n",
       "      --fill-color: #1967D2;\n",
       "      --hover-bg-color: #E2EBFA;\n",
       "      --hover-fill-color: #174EA6;\n",
       "      --disabled-fill-color: #AAA;\n",
       "      --disabled-bg-color: #DDD;\n",
       "  }\n",
       "\n",
       "  [theme=dark] .colab-df-quickchart {\n",
       "      --bg-color: #3B4455;\n",
       "      --fill-color: #D2E3FC;\n",
       "      --hover-bg-color: #434B5C;\n",
       "      --hover-fill-color: #FFFFFF;\n",
       "      --disabled-bg-color: #3B4455;\n",
       "      --disabled-fill-color: #666;\n",
       "  }\n",
       "\n",
       "  .colab-df-quickchart {\n",
       "    background-color: var(--bg-color);\n",
       "    border: none;\n",
       "    border-radius: 50%;\n",
       "    cursor: pointer;\n",
       "    display: none;\n",
       "    fill: var(--fill-color);\n",
       "    height: 32px;\n",
       "    padding: 0;\n",
       "    width: 32px;\n",
       "  }\n",
       "\n",
       "  .colab-df-quickchart:hover {\n",
       "    background-color: var(--hover-bg-color);\n",
       "    box-shadow: 0 1px 2px rgba(60, 64, 67, 0.3), 0 1px 3px 1px rgba(60, 64, 67, 0.15);\n",
       "    fill: var(--button-hover-fill-color);\n",
       "  }\n",
       "\n",
       "  .colab-df-quickchart-complete:disabled,\n",
       "  .colab-df-quickchart-complete:disabled:hover {\n",
       "    background-color: var(--disabled-bg-color);\n",
       "    fill: var(--disabled-fill-color);\n",
       "    box-shadow: none;\n",
       "  }\n",
       "\n",
       "  .colab-df-spinner {\n",
       "    border: 2px solid var(--fill-color);\n",
       "    border-color: transparent;\n",
       "    border-bottom-color: var(--fill-color);\n",
       "    animation:\n",
       "      spin 1s steps(1) infinite;\n",
       "  }\n",
       "\n",
       "  @keyframes spin {\n",
       "    0% {\n",
       "      border-color: transparent;\n",
       "      border-bottom-color: var(--fill-color);\n",
       "      border-left-color: var(--fill-color);\n",
       "    }\n",
       "    20% {\n",
       "      border-color: transparent;\n",
       "      border-left-color: var(--fill-color);\n",
       "      border-top-color: var(--fill-color);\n",
       "    }\n",
       "    30% {\n",
       "      border-color: transparent;\n",
       "      border-left-color: var(--fill-color);\n",
       "      border-top-color: var(--fill-color);\n",
       "      border-right-color: var(--fill-color);\n",
       "    }\n",
       "    40% {\n",
       "      border-color: transparent;\n",
       "      border-right-color: var(--fill-color);\n",
       "      border-top-color: var(--fill-color);\n",
       "    }\n",
       "    60% {\n",
       "      border-color: transparent;\n",
       "      border-right-color: var(--fill-color);\n",
       "    }\n",
       "    80% {\n",
       "      border-color: transparent;\n",
       "      border-right-color: var(--fill-color);\n",
       "      border-bottom-color: var(--fill-color);\n",
       "    }\n",
       "    90% {\n",
       "      border-color: transparent;\n",
       "      border-bottom-color: var(--fill-color);\n",
       "    }\n",
       "  }\n",
       "</style>\n",
       "\n",
       "  <script>\n",
       "    async function quickchart(key) {\n",
       "      const quickchartButtonEl =\n",
       "        document.querySelector('#' + key + ' button');\n",
       "      quickchartButtonEl.disabled = true;  // To prevent multiple clicks.\n",
       "      quickchartButtonEl.classList.add('colab-df-spinner');\n",
       "      try {\n",
       "        const charts = await google.colab.kernel.invokeFunction(\n",
       "            'suggestCharts', [key], {});\n",
       "      } catch (error) {\n",
       "        console.error('Error during call to suggestCharts:', error);\n",
       "      }\n",
       "      quickchartButtonEl.classList.remove('colab-df-spinner');\n",
       "      quickchartButtonEl.classList.add('colab-df-quickchart-complete');\n",
       "    }\n",
       "    (() => {\n",
       "      let quickchartButtonEl =\n",
       "        document.querySelector('#df-28daa354-60b0-4d73-9b27-b6ed6edb821e button');\n",
       "      quickchartButtonEl.style.display =\n",
       "        google.colab.kernel.accessAllowed ? 'block' : 'none';\n",
       "    })();\n",
       "  </script>\n",
       "</div>\n",
       "\n",
       "    </div>\n",
       "  </div>\n"
      ],
      "text/plain": [
       "   Midterm mark  Final mark  standardized_midterm_mark  \\\n",
       "0          32.5        31.7                  -1.688710   \n",
       "1          53.4        68.8                   0.455651   \n",
       "2          61.5        62.6                   1.286719   \n",
       "3          47.5        71.5                  -0.149695   \n",
       "4          59.8        87.2                   1.112297   \n",
       "5          55.1        78.2                   0.630073   \n",
       "6          52.2        79.6                   0.332530   \n",
       "7          39.3        59.2                  -0.991023   \n",
       "8          48.1        75.3                  -0.088134   \n",
       "9          52.6        71.3                   0.373570   \n",
       "\n",
       "   standardized_final_mark  final_mark_predicted_std  \n",
       "0                -2.463344                  0.844355  \n",
       "1                -0.236219                 -0.227825  \n",
       "2                -0.608407                 -0.643359  \n",
       "3                -0.074137                  0.074847  \n",
       "4                 0.868339                 -0.556149  \n",
       "5                 0.328066                 -0.315036  \n",
       "6                 0.412108                 -0.166265  \n",
       "7                -0.812510                  0.495511  \n",
       "8                 0.153978                  0.044067  \n",
       "9                -0.086144                 -0.186785  "
      ]
     },
     "execution_count": 11,
     "metadata": {},
     "output_type": "execute_result"
    }
   ],
   "source": [
    "final_mark_predicted=[]\n",
    "for i in file_csv['standardized_midterm_mark']:\n",
    "  final_mark_predicted.append(m*i+b)\n",
    "\n",
    "file_csv['final_mark_predicted_std']=pd.DataFrame(final_mark_predicted)\n",
    "file_csv.head(10)"
   ]
  },
  {
   "cell_type": "markdown",
   "metadata": {
    "id": "4dHllhiNDsP7"
   },
   "source": [
    "# Predicted Value of final mark without standardization"
   ]
  },
  {
   "cell_type": "code",
   "execution_count": null,
   "metadata": {
    "colab": {
     "base_uri": "https://localhost:8080/",
     "height": 363
    },
    "executionInfo": {
     "elapsed": 26,
     "status": "ok",
     "timestamp": 1738937230104,
     "user": {
      "displayName": "Hazem Alsagheer",
      "userId": "05232312845808918344"
     },
     "user_tz": 300
    },
    "id": "13ktQ8ChDubz",
    "outputId": "ad71b04b-3107-456e-849f-53cc10719130"
   },
   "outputs": [
    {
     "data": {
      "application/vnd.google.colaboratory.intrinsic+json": {
       "summary": "{\n  \"name\": \"file_csv\",\n  \"rows\": 100,\n  \"fields\": [\n    {\n      \"column\": \"Midterm mark\",\n      \"properties\": {\n        \"dtype\": \"number\",\n        \"std\": 9.746494785617063,\n        \"min\": 25.1,\n        \"max\": 70.3,\n        \"num_unique_values\": 83,\n        \"samples\": [\n          42.4,\n          32.5,\n          41.6\n        ],\n        \"semantic_type\": \"\",\n        \"description\": \"\"\n      }\n    },\n    {\n      \"column\": \"Final mark\",\n      \"properties\": {\n        \"dtype\": \"number\",\n        \"std\": 16.658248631676365,\n        \"min\": 31.7,\n        \"max\": 118.6,\n        \"num_unique_values\": 89,\n        \"samples\": [\n          54.1,\n          86.5,\n          41.4\n        ],\n        \"semantic_type\": \"\",\n        \"description\": \"\"\n      }\n    },\n    {\n      \"column\": \"standardized_midterm_mark\",\n      \"properties\": {\n        \"dtype\": \"number\",\n        \"std\": 1.0,\n        \"min\": -2.4479569860550083,\n        \"max\": 2.18960769686072,\n        \"num_unique_values\": 83,\n        \"samples\": [\n          -0.6729598839655816,\n          -1.6887096707103981,\n          -0.7550406748136472\n        ],\n        \"semantic_type\": \"\",\n        \"description\": \"\"\n      }\n    },\n    {\n      \"column\": \"standardized_final_mark\",\n      \"properties\": {\n        \"dtype\": \"number\",\n        \"std\": 0.9999999999999998,\n        \"min\": -2.4633441910556075,\n        \"max\": 2.7532906378156556,\n        \"num_unique_values\": 89,\n        \"samples\": [\n          -1.1186650176756732,\n          0.8263173581060178,\n          -1.881050084725904\n        ],\n        \"semantic_type\": \"\",\n        \"description\": \"\"\n      }\n    },\n    {\n      \"column\": \"final_mark_predicted_std\",\n      \"properties\": {\n        \"dtype\": \"number\",\n        \"std\": 0.5,\n        \"min\": -1.09480384843036,\n        \"max\": 1.2239784930275042,\n        \"num_unique_values\": 83,\n        \"samples\": [\n          0.3364799419827908,\n          0.8443548353551991,\n          0.3775203374068236\n        ],\n        \"semantic_type\": \"\",\n        \"description\": \"\"\n      }\n    },\n    {\n      \"column\": \"final_mark_predicted\",\n      \"properties\": {\n        \"dtype\": \"number\",\n        \"std\": 4.873247392808532,\n        \"min\": -35.15,\n        \"max\": -12.55,\n        \"num_unique_values\": 83,\n        \"samples\": [\n          -21.2,\n          -16.25,\n          -20.8\n        ],\n        \"semantic_type\": \"\",\n        \"description\": \"\"\n      }\n    }\n  ]\n}",
       "type": "dataframe",
       "variable_name": "file_csv"
      },
      "text/html": [
       "\n",
       "  <div id=\"df-f0ee56e6-6c4a-482b-978a-2fe70e3dc122\" class=\"colab-df-container\">\n",
       "    <div>\n",
       "<style scoped>\n",
       "    .dataframe tbody tr th:only-of-type {\n",
       "        vertical-align: middle;\n",
       "    }\n",
       "\n",
       "    .dataframe tbody tr th {\n",
       "        vertical-align: top;\n",
       "    }\n",
       "\n",
       "    .dataframe thead th {\n",
       "        text-align: right;\n",
       "    }\n",
       "</style>\n",
       "<table border=\"1\" class=\"dataframe\">\n",
       "  <thead>\n",
       "    <tr style=\"text-align: right;\">\n",
       "      <th></th>\n",
       "      <th>Midterm mark</th>\n",
       "      <th>Final mark</th>\n",
       "      <th>standardized_midterm_mark</th>\n",
       "      <th>standardized_final_mark</th>\n",
       "      <th>final_mark_predicted_std</th>\n",
       "      <th>final_mark_predicted</th>\n",
       "    </tr>\n",
       "  </thead>\n",
       "  <tbody>\n",
       "    <tr>\n",
       "      <th>0</th>\n",
       "      <td>32.5</td>\n",
       "      <td>31.7</td>\n",
       "      <td>-1.688710</td>\n",
       "      <td>-2.463344</td>\n",
       "      <td>0.844355</td>\n",
       "      <td>-16.25</td>\n",
       "    </tr>\n",
       "    <tr>\n",
       "      <th>1</th>\n",
       "      <td>53.4</td>\n",
       "      <td>68.8</td>\n",
       "      <td>0.455651</td>\n",
       "      <td>-0.236219</td>\n",
       "      <td>-0.227825</td>\n",
       "      <td>-26.70</td>\n",
       "    </tr>\n",
       "    <tr>\n",
       "      <th>2</th>\n",
       "      <td>61.5</td>\n",
       "      <td>62.6</td>\n",
       "      <td>1.286719</td>\n",
       "      <td>-0.608407</td>\n",
       "      <td>-0.643359</td>\n",
       "      <td>-30.75</td>\n",
       "    </tr>\n",
       "    <tr>\n",
       "      <th>3</th>\n",
       "      <td>47.5</td>\n",
       "      <td>71.5</td>\n",
       "      <td>-0.149695</td>\n",
       "      <td>-0.074137</td>\n",
       "      <td>0.074847</td>\n",
       "      <td>-23.75</td>\n",
       "    </tr>\n",
       "    <tr>\n",
       "      <th>4</th>\n",
       "      <td>59.8</td>\n",
       "      <td>87.2</td>\n",
       "      <td>1.112297</td>\n",
       "      <td>0.868339</td>\n",
       "      <td>-0.556149</td>\n",
       "      <td>-29.90</td>\n",
       "    </tr>\n",
       "    <tr>\n",
       "      <th>5</th>\n",
       "      <td>55.1</td>\n",
       "      <td>78.2</td>\n",
       "      <td>0.630073</td>\n",
       "      <td>0.328066</td>\n",
       "      <td>-0.315036</td>\n",
       "      <td>-27.55</td>\n",
       "    </tr>\n",
       "    <tr>\n",
       "      <th>6</th>\n",
       "      <td>52.2</td>\n",
       "      <td>79.6</td>\n",
       "      <td>0.332530</td>\n",
       "      <td>0.412108</td>\n",
       "      <td>-0.166265</td>\n",
       "      <td>-26.10</td>\n",
       "    </tr>\n",
       "    <tr>\n",
       "      <th>7</th>\n",
       "      <td>39.3</td>\n",
       "      <td>59.2</td>\n",
       "      <td>-0.991023</td>\n",
       "      <td>-0.812510</td>\n",
       "      <td>0.495511</td>\n",
       "      <td>-19.65</td>\n",
       "    </tr>\n",
       "    <tr>\n",
       "      <th>8</th>\n",
       "      <td>48.1</td>\n",
       "      <td>75.3</td>\n",
       "      <td>-0.088134</td>\n",
       "      <td>0.153978</td>\n",
       "      <td>0.044067</td>\n",
       "      <td>-24.05</td>\n",
       "    </tr>\n",
       "    <tr>\n",
       "      <th>9</th>\n",
       "      <td>52.6</td>\n",
       "      <td>71.3</td>\n",
       "      <td>0.373570</td>\n",
       "      <td>-0.086144</td>\n",
       "      <td>-0.186785</td>\n",
       "      <td>-26.30</td>\n",
       "    </tr>\n",
       "  </tbody>\n",
       "</table>\n",
       "</div>\n",
       "    <div class=\"colab-df-buttons\">\n",
       "\n",
       "  <div class=\"colab-df-container\">\n",
       "    <button class=\"colab-df-convert\" onclick=\"convertToInteractive('df-f0ee56e6-6c4a-482b-978a-2fe70e3dc122')\"\n",
       "            title=\"Convert this dataframe to an interactive table.\"\n",
       "            style=\"display:none;\">\n",
       "\n",
       "  <svg xmlns=\"http://www.w3.org/2000/svg\" height=\"24px\" viewBox=\"0 -960 960 960\">\n",
       "    <path d=\"M120-120v-720h720v720H120Zm60-500h600v-160H180v160Zm220 220h160v-160H400v160Zm0 220h160v-160H400v160ZM180-400h160v-160H180v160Zm440 0h160v-160H620v160ZM180-180h160v-160H180v160Zm440 0h160v-160H620v160Z\"/>\n",
       "  </svg>\n",
       "    </button>\n",
       "\n",
       "  <style>\n",
       "    .colab-df-container {\n",
       "      display:flex;\n",
       "      gap: 12px;\n",
       "    }\n",
       "\n",
       "    .colab-df-convert {\n",
       "      background-color: #E8F0FE;\n",
       "      border: none;\n",
       "      border-radius: 50%;\n",
       "      cursor: pointer;\n",
       "      display: none;\n",
       "      fill: #1967D2;\n",
       "      height: 32px;\n",
       "      padding: 0 0 0 0;\n",
       "      width: 32px;\n",
       "    }\n",
       "\n",
       "    .colab-df-convert:hover {\n",
       "      background-color: #E2EBFA;\n",
       "      box-shadow: 0px 1px 2px rgba(60, 64, 67, 0.3), 0px 1px 3px 1px rgba(60, 64, 67, 0.15);\n",
       "      fill: #174EA6;\n",
       "    }\n",
       "\n",
       "    .colab-df-buttons div {\n",
       "      margin-bottom: 4px;\n",
       "    }\n",
       "\n",
       "    [theme=dark] .colab-df-convert {\n",
       "      background-color: #3B4455;\n",
       "      fill: #D2E3FC;\n",
       "    }\n",
       "\n",
       "    [theme=dark] .colab-df-convert:hover {\n",
       "      background-color: #434B5C;\n",
       "      box-shadow: 0px 1px 3px 1px rgba(0, 0, 0, 0.15);\n",
       "      filter: drop-shadow(0px 1px 2px rgba(0, 0, 0, 0.3));\n",
       "      fill: #FFFFFF;\n",
       "    }\n",
       "  </style>\n",
       "\n",
       "    <script>\n",
       "      const buttonEl =\n",
       "        document.querySelector('#df-f0ee56e6-6c4a-482b-978a-2fe70e3dc122 button.colab-df-convert');\n",
       "      buttonEl.style.display =\n",
       "        google.colab.kernel.accessAllowed ? 'block' : 'none';\n",
       "\n",
       "      async function convertToInteractive(key) {\n",
       "        const element = document.querySelector('#df-f0ee56e6-6c4a-482b-978a-2fe70e3dc122');\n",
       "        const dataTable =\n",
       "          await google.colab.kernel.invokeFunction('convertToInteractive',\n",
       "                                                    [key], {});\n",
       "        if (!dataTable) return;\n",
       "\n",
       "        const docLinkHtml = 'Like what you see? Visit the ' +\n",
       "          '<a target=\"_blank\" href=https://colab.research.google.com/notebooks/data_table.ipynb>data table notebook</a>'\n",
       "          + ' to learn more about interactive tables.';\n",
       "        element.innerHTML = '';\n",
       "        dataTable['output_type'] = 'display_data';\n",
       "        await google.colab.output.renderOutput(dataTable, element);\n",
       "        const docLink = document.createElement('div');\n",
       "        docLink.innerHTML = docLinkHtml;\n",
       "        element.appendChild(docLink);\n",
       "      }\n",
       "    </script>\n",
       "  </div>\n",
       "\n",
       "\n",
       "<div id=\"df-97057a47-99e7-4db1-b048-b9eb98617aa1\">\n",
       "  <button class=\"colab-df-quickchart\" onclick=\"quickchart('df-97057a47-99e7-4db1-b048-b9eb98617aa1')\"\n",
       "            title=\"Suggest charts\"\n",
       "            style=\"display:none;\">\n",
       "\n",
       "<svg xmlns=\"http://www.w3.org/2000/svg\" height=\"24px\"viewBox=\"0 0 24 24\"\n",
       "     width=\"24px\">\n",
       "    <g>\n",
       "        <path d=\"M19 3H5c-1.1 0-2 .9-2 2v14c0 1.1.9 2 2 2h14c1.1 0 2-.9 2-2V5c0-1.1-.9-2-2-2zM9 17H7v-7h2v7zm4 0h-2V7h2v10zm4 0h-2v-4h2v4z\"/>\n",
       "    </g>\n",
       "</svg>\n",
       "  </button>\n",
       "\n",
       "<style>\n",
       "  .colab-df-quickchart {\n",
       "      --bg-color: #E8F0FE;\n",
       "      --fill-color: #1967D2;\n",
       "      --hover-bg-color: #E2EBFA;\n",
       "      --hover-fill-color: #174EA6;\n",
       "      --disabled-fill-color: #AAA;\n",
       "      --disabled-bg-color: #DDD;\n",
       "  }\n",
       "\n",
       "  [theme=dark] .colab-df-quickchart {\n",
       "      --bg-color: #3B4455;\n",
       "      --fill-color: #D2E3FC;\n",
       "      --hover-bg-color: #434B5C;\n",
       "      --hover-fill-color: #FFFFFF;\n",
       "      --disabled-bg-color: #3B4455;\n",
       "      --disabled-fill-color: #666;\n",
       "  }\n",
       "\n",
       "  .colab-df-quickchart {\n",
       "    background-color: var(--bg-color);\n",
       "    border: none;\n",
       "    border-radius: 50%;\n",
       "    cursor: pointer;\n",
       "    display: none;\n",
       "    fill: var(--fill-color);\n",
       "    height: 32px;\n",
       "    padding: 0;\n",
       "    width: 32px;\n",
       "  }\n",
       "\n",
       "  .colab-df-quickchart:hover {\n",
       "    background-color: var(--hover-bg-color);\n",
       "    box-shadow: 0 1px 2px rgba(60, 64, 67, 0.3), 0 1px 3px 1px rgba(60, 64, 67, 0.15);\n",
       "    fill: var(--button-hover-fill-color);\n",
       "  }\n",
       "\n",
       "  .colab-df-quickchart-complete:disabled,\n",
       "  .colab-df-quickchart-complete:disabled:hover {\n",
       "    background-color: var(--disabled-bg-color);\n",
       "    fill: var(--disabled-fill-color);\n",
       "    box-shadow: none;\n",
       "  }\n",
       "\n",
       "  .colab-df-spinner {\n",
       "    border: 2px solid var(--fill-color);\n",
       "    border-color: transparent;\n",
       "    border-bottom-color: var(--fill-color);\n",
       "    animation:\n",
       "      spin 1s steps(1) infinite;\n",
       "  }\n",
       "\n",
       "  @keyframes spin {\n",
       "    0% {\n",
       "      border-color: transparent;\n",
       "      border-bottom-color: var(--fill-color);\n",
       "      border-left-color: var(--fill-color);\n",
       "    }\n",
       "    20% {\n",
       "      border-color: transparent;\n",
       "      border-left-color: var(--fill-color);\n",
       "      border-top-color: var(--fill-color);\n",
       "    }\n",
       "    30% {\n",
       "      border-color: transparent;\n",
       "      border-left-color: var(--fill-color);\n",
       "      border-top-color: var(--fill-color);\n",
       "      border-right-color: var(--fill-color);\n",
       "    }\n",
       "    40% {\n",
       "      border-color: transparent;\n",
       "      border-right-color: var(--fill-color);\n",
       "      border-top-color: var(--fill-color);\n",
       "    }\n",
       "    60% {\n",
       "      border-color: transparent;\n",
       "      border-right-color: var(--fill-color);\n",
       "    }\n",
       "    80% {\n",
       "      border-color: transparent;\n",
       "      border-right-color: var(--fill-color);\n",
       "      border-bottom-color: var(--fill-color);\n",
       "    }\n",
       "    90% {\n",
       "      border-color: transparent;\n",
       "      border-bottom-color: var(--fill-color);\n",
       "    }\n",
       "  }\n",
       "</style>\n",
       "\n",
       "  <script>\n",
       "    async function quickchart(key) {\n",
       "      const quickchartButtonEl =\n",
       "        document.querySelector('#' + key + ' button');\n",
       "      quickchartButtonEl.disabled = true;  // To prevent multiple clicks.\n",
       "      quickchartButtonEl.classList.add('colab-df-spinner');\n",
       "      try {\n",
       "        const charts = await google.colab.kernel.invokeFunction(\n",
       "            'suggestCharts', [key], {});\n",
       "      } catch (error) {\n",
       "        console.error('Error during call to suggestCharts:', error);\n",
       "      }\n",
       "      quickchartButtonEl.classList.remove('colab-df-spinner');\n",
       "      quickchartButtonEl.classList.add('colab-df-quickchart-complete');\n",
       "    }\n",
       "    (() => {\n",
       "      let quickchartButtonEl =\n",
       "        document.querySelector('#df-97057a47-99e7-4db1-b048-b9eb98617aa1 button');\n",
       "      quickchartButtonEl.style.display =\n",
       "        google.colab.kernel.accessAllowed ? 'block' : 'none';\n",
       "    })();\n",
       "  </script>\n",
       "</div>\n",
       "\n",
       "    </div>\n",
       "  </div>\n"
      ],
      "text/plain": [
       "   Midterm mark  Final mark  standardized_midterm_mark  \\\n",
       "0          32.5        31.7                  -1.688710   \n",
       "1          53.4        68.8                   0.455651   \n",
       "2          61.5        62.6                   1.286719   \n",
       "3          47.5        71.5                  -0.149695   \n",
       "4          59.8        87.2                   1.112297   \n",
       "5          55.1        78.2                   0.630073   \n",
       "6          52.2        79.6                   0.332530   \n",
       "7          39.3        59.2                  -0.991023   \n",
       "8          48.1        75.3                  -0.088134   \n",
       "9          52.6        71.3                   0.373570   \n",
       "\n",
       "   standardized_final_mark  final_mark_predicted_std  final_mark_predicted  \n",
       "0                -2.463344                  0.844355                -16.25  \n",
       "1                -0.236219                 -0.227825                -26.70  \n",
       "2                -0.608407                 -0.643359                -30.75  \n",
       "3                -0.074137                  0.074847                -23.75  \n",
       "4                 0.868339                 -0.556149                -29.90  \n",
       "5                 0.328066                 -0.315036                -27.55  \n",
       "6                 0.412108                 -0.166265                -26.10  \n",
       "7                -0.812510                  0.495511                -19.65  \n",
       "8                 0.153978                  0.044067                -24.05  \n",
       "9                -0.086144                 -0.186785                -26.30  "
      ]
     },
     "execution_count": 12,
     "metadata": {},
     "output_type": "execute_result"
    }
   ],
   "source": [
    "final_mark_predicted=[]\n",
    "for i in file_csv['Midterm mark']:\n",
    "  final_mark_predicted.append(m*i+b)\n",
    "\n",
    "file_csv['final_mark_predicted']=pd.DataFrame(final_mark_predicted)\n",
    "file_csv.head(10)"
   ]
  },
  {
   "cell_type": "markdown",
   "metadata": {
    "id": "NcDwE9VRhX_k"
   },
   "source": [
    "## Cost Function"
   ]
  },
  {
   "cell_type": "code",
   "execution_count": null,
   "metadata": {
    "id": "LpvOwTPVhSJt"
   },
   "outputs": [],
   "source": [
    "def costFunction(y,y_predicted):\n",
    "  Error=0\n",
    "  for i in range(dataLength):\n",
    "    Error+=(1/dataLength)*((y.iloc[i] - y_predicted.iloc[i])**2)\n",
    "  return Error"
   ]
  },
  {
   "cell_type": "markdown",
   "metadata": {
    "id": "c8B0RaeY11im"
   },
   "source": [
    "## Plot of non standardized data"
   ]
  },
  {
   "cell_type": "code",
   "execution_count": null,
   "metadata": {
    "colab": {
     "base_uri": "https://localhost:8080/",
     "height": 472
    },
    "executionInfo": {
     "elapsed": 236,
     "status": "ok",
     "timestamp": 1738937230379,
     "user": {
      "displayName": "Hazem Alsagheer",
      "userId": "05232312845808918344"
     },
     "user_tz": 300
    },
    "id": "PohsUk7i14sI",
    "outputId": "85c04c14-0743-4e7e-c656-6294a14718f3"
   },
   "outputs": [
    {
     "data": {
      "image/png": "[encoded data removed]",
      "text/plain": [
       "<Figure size 640x480 with 1 Axes>"
      ]
     },
     "metadata": {},
     "output_type": "display_data"
    }
   ],
   "source": [
    "import matplotlib.pyplot as plt\n",
    "\n",
    "# Create the prediction space\n",
    "prediction_space = np.linspace(min(file_csv['Midterm mark']), max(file_csv['Midterm mark'])).reshape(-1,1)\n",
    "y= m*file_csv['Midterm mark']+b\n",
    "# Plot\n",
    "plt.scatter(file_csv['Midterm mark'], file_csv['Final mark'], color='blue')\n",
    "plt.xlabel('Midterm Mark')\n",
    "plt.ylabel('Final Mark')\n",
    "plt.plot(file_csv['Midterm mark'], y, color='black', linewidth=3)\n",
    "plt.title(\"Final Mark vs Midterm Mark\")\n",
    "plt.show()"
   ]
  },
  {
   "cell_type": "markdown",
   "metadata": {
    "id": "RBUN7Qh-QlhD"
   },
   "source": [
    "## Plot of Standardized Data"
   ]
  },
  {
   "cell_type": "code",
   "execution_count": null,
   "metadata": {
    "colab": {
     "base_uri": "https://localhost:8080/",
     "height": 472
    },
    "executionInfo": {
     "elapsed": 205,
     "status": "ok",
     "timestamp": 1738937230605,
     "user": {
      "displayName": "Hazem Alsagheer",
      "userId": "05232312845808918344"
     },
     "user_tz": 300
    },
    "id": "sq1mN0DQQlGb",
    "outputId": "9aa9d62b-273e-4827-d7f3-34ce1a9bcdc2"
   },
   "outputs": [
    {
     "data": {
      "image/png": "[encoded data removed]",
      "text/plain": [
       "<Figure size 640x480 with 1 Axes>"
      ]
     },
     "metadata": {},
     "output_type": "display_data"
    }
   ],
   "source": [
    "# Create the prediction space\n",
    "prediction_space = np.linspace(min(file_csv['standardized_midterm_mark']), max(file_csv['standardized_midterm_mark'])).reshape(-1,1)\n",
    "\n",
    "# Plot\n",
    "plt.scatter(file_csv['standardized_midterm_mark'], file_csv['standardized_final_mark'], color='blue')\n",
    "plt.xlabel('Standardized Midterm Mark')\n",
    "plt.ylabel('Standardized Final Mark')\n",
    "plt.plot(file_csv['standardized_midterm_mark'], file_csv['final_mark_predicted_std'], color='black', linewidth=3)\n",
    "plt.title(\"Standardized Final Mark vs Standardized Midterm Mark\")\n",
    "plt.show()"
   ]
  },
  {
   "cell_type": "markdown",
   "metadata": {
    "id": "mfn2nCmAycdO"
   },
   "source": [
    "## Sample Gradient Partial Derivative"
   ]
  },
  {
   "cell_type": "code",
   "execution_count": null,
   "metadata": {
    "colab": {
     "base_uri": "https://localhost:8080/"
    },
    "executionInfo": {
     "elapsed": 19,
     "status": "ok",
     "timestamp": 1738937230627,
     "user": {
      "displayName": "Hazem Alsagheer",
      "userId": "05232312845808918344"
     },
     "user_tz": 300
    },
    "id": "CCsE80NChSL5",
    "outputId": "917a5151-da49-4d17-c788-804c7729e682"
   },
   "outputs": [
    {
     "data": {
      "text/plain": [
       "('gpd_m: -9861.7451', 'gpd_b: -194.429')"
      ]
     },
     "execution_count": 16,
     "metadata": {},
     "output_type": "execute_result"
    }
   ],
   "source": [
    "gpd_m=0\n",
    "gpd_b=0\n",
    "\n",
    "for i in range(dataLength):\n",
    "  gpd_m+=(2/dataLength)*((file_csv['Final mark'].iloc[i] - file_csv['final_mark_predicted'].iloc[i]) * (-1)*(file_csv['Midterm mark'].iloc[i]))\n",
    "  gpd_b+=(2/dataLength)*((file_csv['Final mark'].iloc[i] - file_csv['final_mark_predicted'].iloc[i]) * (-1))\n",
    "\n",
    "\"gpd_m: \" + str(gpd_m),\"gpd_b: \"+str(gpd_b)"
   ]
  },
  {
   "cell_type": "markdown",
   "metadata": {
    "id": "2JMl7IMh09nA"
   },
   "source": [
    "## Sample Updating m and b"
   ]
  },
  {
   "cell_type": "code",
   "execution_count": null,
   "metadata": {
    "colab": {
     "base_uri": "https://localhost:8080/"
    },
    "executionInfo": {
     "elapsed": 13,
     "status": "ok",
     "timestamp": 1738937230643,
     "user": {
      "displayName": "Hazem Alsagheer",
      "userId": "05232312845808918344"
     },
     "user_tz": 300
    },
    "id": "KsSYqLm3hSPO",
    "outputId": "183d624d-4ab9-459f-ec0e-eacab6a53273"
   },
   "outputs": [
    {
     "data": {
      "text/plain": [
       "(0.48617451, 0.019442900000000003)"
      ]
     },
     "execution_count": 17,
     "metadata": {},
     "output_type": "execute_result"
    }
   ],
   "source": [
    "m_new = m - (alpha * gpd_m)\n",
    "b_new= b - (alpha * gpd_b)\n",
    "\n",
    "m_new, b_new"
   ]
  },
  {
   "cell_type": "markdown",
   "metadata": {
    "id": "SMCnrcobHIOI"
   },
   "source": [
    "## Creating the function to update m and b respectively"
   ]
  },
  {
   "cell_type": "code",
   "execution_count": null,
   "metadata": {
    "id": "AjBrPmHJ1Ihg"
   },
   "outputs": [],
   "source": [
    "def update_weights(m_old, b_old, y, y_std, x):\n",
    "\n",
    "  final_mark_predicted=[]\n",
    "  for i in x:\n",
    "    final_mark_predicted.append(m_old*i+b_old)\n",
    "\n",
    "  file_csv['final_mark_predicted'+y_std]=pd.DataFrame(final_mark_predicted)\n",
    "  gpd_m=0\n",
    "  gpd_b=0\n",
    "\n",
    "  #Applying Gradient Partial Derivative\n",
    "  for i in range(dataLength):\n",
    "    gpd_m+=(2/dataLength)*((y.iloc[i] - file_csv['final_mark_predicted'+y_std].iloc[i]) * (-1)*(x.iloc[i]))\n",
    "    gpd_b+=(2/dataLength)*((y.iloc[i] - file_csv['final_mark_predicted'+y_std].iloc[i]) * (-1))\n",
    "\n",
    "  #Updating m and b parameters/weights\n",
    "  m_new = m_old - (alpha * gpd_m)\n",
    "  b_new = b_old - (alpha * gpd_b)\n",
    "  return m_new, b_new"
   ]
  },
  {
   "cell_type": "markdown",
   "metadata": {
    "id": "XGtz5lvqJwEH"
   },
   "source": [
    "## Updating the Parameters for 100 Iterations"
   ]
  },
  {
   "cell_type": "markdown",
   "metadata": {
    "id": "r8NyNWQOUct_"
   },
   "source": [
    "## Non-Standardized Data"
   ]
  },
  {
   "cell_type": "code",
   "execution_count": null,
   "metadata": {
    "colab": {
     "base_uri": "https://localhost:8080/"
    },
    "executionInfo": {
     "elapsed": 598,
     "status": "ok",
     "timestamp": 1738937231270,
     "user": {
      "displayName": "Hazem Alsagheer",
      "userId": "05232312845808918344"
     },
     "user_tz": 300
    },
    "id": "i4OIyGxWJsVI",
    "outputId": "c4f97395-b3f0-40a4-fda8-f90c3651c502"
   },
   "outputs": [
    {
     "data": {
      "text/plain": [
       "(1.478572756014391, 0.044905363972887136)"
      ]
     },
     "execution_count": 19,
     "metadata": {},
     "output_type": "execute_result"
    }
   ],
   "source": [
    "m_old=m\n",
    "b_old=b\n",
    "lossFunction=[]\n",
    "for i in range(100):\n",
    "  m_new,b_new= update_weights(m_old, b_old,file_csv['Final mark'],\"\",file_csv['Midterm mark'])\n",
    "  m_old=m_new\n",
    "  b_old=b_new\n",
    "  lossFunction.append(costFunction(file_csv['Final mark'],file_csv['final_mark_predicted']))\n",
    "m_new,b_new"
   ]
  },
  {
   "cell_type": "code",
   "execution_count": null,
   "metadata": {
    "colab": {
     "base_uri": "https://localhost:8080/",
     "height": 472
    },
    "executionInfo": {
     "elapsed": 252,
     "status": "ok",
     "timestamp": 1738937231526,
     "user": {
      "displayName": "Hazem Alsagheer",
      "userId": "05232312845808918344"
     },
     "user_tz": 300
    },
    "id": "xrT4qIwuKJpO",
    "outputId": "2642510e-1e9f-4401-bb93-4971e8d68448"
   },
   "outputs": [
    {
     "data": {
      "image/png": "[encoded data removed]",
      "text/plain": [
       "<Figure size 640x480 with 1 Axes>"
      ]
     },
     "metadata": {},
     "output_type": "display_data"
    }
   ],
   "source": [
    "# Create the prediction space\n",
    "prediction_space = np.linspace(min(file_csv['Midterm mark']), max(file_csv['Midterm mark'])).reshape(-1,1)\n",
    "y= m_new*file_csv['Midterm mark']+b_new\n",
    "# Plot\n",
    "plt.scatter(file_csv['Midterm mark'], file_csv['Final mark'], color='blue')\n",
    "plt.xlabel('Midterm Mark')\n",
    "plt.ylabel('Final Mark')\n",
    "plt.plot(file_csv['Midterm mark'], y, color='black', linewidth=3)\n",
    "plt.title(\"Final Mark vs Midterm Mark\")\n",
    "plt.show()"
   ]
  },
  {
   "cell_type": "code",
   "execution_count": null,
   "metadata": {
    "colab": {
     "base_uri": "https://localhost:8080/",
     "height": 472
    },
    "executionInfo": {
     "elapsed": 252,
     "status": "ok",
     "timestamp": 1738937231776,
     "user": {
      "displayName": "Hazem Alsagheer",
      "userId": "05232312845808918344"
     },
     "user_tz": 300
    },
    "id": "gL7bytsYHeqA",
    "outputId": "4cb01a25-5d50-4730-a58b-8cf576577d45"
   },
   "outputs": [
    {
     "data": {
      "image/png": "[encoded data removed]",
      "text/plain": [
       "<Figure size 640x480 with 1 Axes>"
      ]
     },
     "metadata": {},
     "output_type": "display_data"
    }
   ],
   "source": [
    "# Plot Loss vs. Epoch\n",
    "plt.plot(range(100), lossFunction)\n",
    "plt.xlabel(\"Epoch\")\n",
    "plt.ylabel(\"Loss\")\n",
    "plt.title(\"Loss vs Epoch\")\n",
    "plt.show()"
   ]
  },
  {
   "cell_type": "markdown",
   "metadata": {
    "id": "8ezIOaM_UmWA"
   },
   "source": [
    "## Standardized Data"
   ]
  },
  {
   "cell_type": "code",
   "execution_count": null,
   "metadata": {
    "colab": {
     "base_uri": "https://localhost:8080/"
    },
    "executionInfo": {
     "elapsed": 732,
     "status": "ok",
     "timestamp": 1738937232510,
     "user": {
      "displayName": "Hazem Alsagheer",
      "userId": "05232312845808918344"
     },
     "user_tz": 300
    },
    "id": "hv8VfJFBUuUW",
    "outputId": "8391bdff-d9a6-49dc-a596-e1cbd418c62a"
   },
   "outputs": [
    {
     "data": {
      "text/plain": [
       "(-0.475030672874282, -2.4792667918660543e-18)"
      ]
     },
     "execution_count": 22,
     "metadata": {},
     "output_type": "execute_result"
    }
   ],
   "source": [
    "m_old=m\n",
    "b_old=b\n",
    "lossFunction_std=[]\n",
    "for i in range(100):\n",
    "  m_new_std,b_new_std= update_weights(m_old, b_old,file_csv['standardized_final_mark'],\"_std\",file_csv['standardized_midterm_mark'])\n",
    "  m_old=m_new_std\n",
    "  b_old=b_new_std\n",
    "  lossFunction_std.append(costFunction(file_csv['standardized_final_mark'],file_csv['final_mark_predicted_std']))\n",
    "m_new_std,b_new_std"
   ]
  },
  {
   "cell_type": "code",
   "execution_count": null,
   "metadata": {
    "colab": {
     "base_uri": "https://localhost:8080/",
     "height": 472
    },
    "executionInfo": {
     "elapsed": 290,
     "status": "ok",
     "timestamp": 1738937232802,
     "user": {
      "displayName": "Hazem Alsagheer",
      "userId": "05232312845808918344"
     },
     "user_tz": 300
    },
    "id": "cjKQdTORU_RS",
    "outputId": "93fdee08-d73b-4c6f-ca8a-e4bfc42d1d60"
   },
   "outputs": [
    {
     "data": {
      "image/png": "[encoded data removed]",
      "text/plain": [
       "<Figure size 640x480 with 1 Axes>"
      ]
     },
     "metadata": {},
     "output_type": "display_data"
    }
   ],
   "source": [
    "# Create the prediction space\n",
    "prediction_space = np.linspace(min(file_csv['standardized_midterm_mark']), max(file_csv['standardized_midterm_mark'])).reshape(-1,1)\n",
    "\n",
    "# Plot\n",
    "plt.scatter(file_csv['standardized_midterm_mark'], file_csv['standardized_final_mark'], color='blue')\n",
    "plt.xlabel('Standardized Midterm Mark')\n",
    "plt.ylabel('Standardized Final Mark')\n",
    "plt.plot(file_csv['standardized_midterm_mark'], file_csv['final_mark_predicted_std'], color='black', linewidth=3)\n",
    "plt.title(\"Standardized Final Mark vs Standardized Midterm Mark\")\n",
    "plt.show()"
   ]
  },
  {
   "cell_type": "code",
   "execution_count": null,
   "metadata": {
    "colab": {
     "base_uri": "https://localhost:8080/",
     "height": 472
    },
    "executionInfo": {
     "elapsed": 262,
     "status": "ok",
     "timestamp": 1738937233067,
     "user": {
      "displayName": "Hazem Alsagheer",
      "userId": "05232312845808918344"
     },
     "user_tz": 300
    },
    "id": "8XmOm6BOVZ6m",
    "outputId": "b07362dc-1e0f-4e12-99fe-a4a4972caf8d"
   },
   "outputs": [
    {
     "data": {
      "image/png": "[encoded data removed]",
      "text/plain": [
       "<Figure size 640x480 with 1 Axes>"
      ]
     },
     "metadata": {},
     "output_type": "display_data"
    }
   ],
   "source": [
    "# Plot Loss vs. Epoch\n",
    "plt.plot(range(100), lossFunction_std, label='Loss')\n",
    "plt.xlabel(\"Epoch\")\n",
    "plt.ylabel(\"Loss\")\n",
    "plt.title(\"Loss vs Epoch\")\n",
    "plt.show()"
   ]
  },
  {
   "cell_type": "markdown",
   "metadata": {
    "id": "JXocmjwvUm1w"
   },
   "source": [
    "# Updating the parameters for 2000 iterations"
   ]
  },
  {
   "cell_type": "markdown",
   "metadata": {
    "id": "1MiAbpM7O7-M"
   },
   "source": [
    "## Non-Standardized Data"
   ]
  },
  {
   "cell_type": "code",
   "execution_count": null,
   "metadata": {
    "colab": {
     "base_uri": "https://localhost:8080/"
    },
    "executionInfo": {
     "elapsed": 8387,
     "status": "ok",
     "timestamp": 1738937241456,
     "user": {
      "displayName": "Hazem Alsagheer",
      "userId": "05232312845808918344"
     },
     "user_tz": 300
    },
    "id": "whXfbVW0E7Ti",
    "outputId": "74124df3-3d90-4bbe-958d-0b5d9337400b"
   },
   "outputs": [
    {
     "data": {
      "text/plain": [
       "(1.4763433036607632, 0.158337907084427)"
      ]
     },
     "execution_count": 25,
     "metadata": {},
     "output_type": "execute_result"
    }
   ],
   "source": [
    "m_old=m\n",
    "b_old=b\n",
    "lossFunction=[]\n",
    "for i in range(2000):\n",
    "  m_new,b_new= update_weights(m_old, b_old,file_csv['Final mark'],\"\",file_csv['Midterm mark'])\n",
    "  m_old=m_new\n",
    "  b_old=b_new\n",
    "  lossFunction.append(costFunction(file_csv['Final mark'],file_csv['final_mark_predicted']))\n",
    "m_new,b_new"
   ]
  },
  {
   "cell_type": "code",
   "execution_count": null,
   "metadata": {
    "colab": {
     "base_uri": "https://localhost:8080/",
     "height": 472
    },
    "executionInfo": {
     "elapsed": 177,
     "status": "ok",
     "timestamp": 1738937241631,
     "user": {
      "displayName": "Hazem Alsagheer",
      "userId": "05232312845808918344"
     },
     "user_tz": 300
    },
    "id": "cK9QGoaPFEuD",
    "outputId": "d0b4b271-2ae7-4fe0-afa0-b5defca22aea"
   },
   "outputs": [
    {
     "data": {
      "image/png": "[encoded data removed]",
      "text/plain": [
       "<Figure size 640x480 with 1 Axes>"
      ]
     },
     "metadata": {},
     "output_type": "display_data"
    }
   ],
   "source": [
    "# Create the prediction space\n",
    "prediction_space = np.linspace(min(file_csv['Midterm mark']), max(file_csv['Midterm mark'])).reshape(-1,1)\n",
    "y= m_new*file_csv['Midterm mark']+b_new\n",
    "# Plot\n",
    "plt.scatter(file_csv['Midterm mark'], file_csv['Final mark'], color='blue')\n",
    "plt.xlabel('Midterm Mark')\n",
    "plt.ylabel('Final Mark')\n",
    "plt.plot(file_csv['Midterm mark'], y, color='black', linewidth=3)\n",
    "plt.title(\"Final Mark vs Midterm Mark\")\n",
    "plt.show()"
   ]
  },
  {
   "cell_type": "code",
   "execution_count": null,
   "metadata": {
    "colab": {
     "base_uri": "https://localhost:8080/",
     "height": 472
    },
    "executionInfo": {
     "elapsed": 195,
     "status": "ok",
     "timestamp": 1738937241831,
     "user": {
      "displayName": "Hazem Alsagheer",
      "userId": "05232312845808918344"
     },
     "user_tz": 300
    },
    "id": "EpgUsePMH3Vs",
    "outputId": "2392947f-4b86-4048-b2bd-212b987c761d"
   },
   "outputs": [
    {
     "data": {
      "image/png": "[encoded data removed]",
      "text/plain": [
       "<Figure size 640x480 with 1 Axes>"
      ]
     },
     "metadata": {},
     "output_type": "display_data"
    }
   ],
   "source": [
    "# Plot Loss vs. Epoch\n",
    "plt.plot(range(2000), lossFunction)\n",
    "plt.xlabel(\"Epoch\")\n",
    "plt.ylabel(\"Loss\")\n",
    "plt.title(\"Loss vs Epoch\")\n",
    "plt.show()"
   ]
  },
  {
   "cell_type": "markdown",
   "metadata": {
    "id": "SNj_A0VSPG6I"
   },
   "source": [
    "## Standardized Data"
   ]
  },
  {
   "cell_type": "code",
   "execution_count": null,
   "metadata": {
    "colab": {
     "base_uri": "https://localhost:8080/"
    },
    "executionInfo": {
     "elapsed": 9336,
     "status": "ok",
     "timestamp": 1738937251164,
     "user": {
      "displayName": "Hazem Alsagheer",
      "userId": "05232312845808918344"
     },
     "user_tz": 300
    },
    "id": "ipXvIce-FIqj",
    "outputId": "bdc7936c-d067-49f3-e973-eb3ff92cd043"
   },
   "outputs": [
    {
     "data": {
      "text/plain": [
       "(-0.08354757025254304, -2.242060703760978e-17)"
      ]
     },
     "execution_count": 28,
     "metadata": {},
     "output_type": "execute_result"
    }
   ],
   "source": [
    "m_old=m\n",
    "b_old=b\n",
    "lossFunction_std=[]\n",
    "for i in range(2000):\n",
    "  m_new_std,b_new_std= update_weights(m_old, b_old,file_csv['standardized_final_mark'],'_std',file_csv['standardized_midterm_mark'])\n",
    "  m_old=m_new_std\n",
    "  b_old=b_new_std\n",
    "  lossFunction_std.append(costFunction(file_csv['standardized_final_mark'],file_csv['final_mark_predicted_std']))\n",
    "m_new_std,b_new_std"
   ]
  },
  {
   "cell_type": "code",
   "execution_count": null,
   "metadata": {
    "colab": {
     "base_uri": "https://localhost:8080/",
     "height": 472
    },
    "executionInfo": {
     "elapsed": 210,
     "status": "ok",
     "timestamp": 1738937251376,
     "user": {
      "displayName": "Hazem Alsagheer",
      "userId": "05232312845808918344"
     },
     "user_tz": 300
    },
    "id": "b20QB8NBVktX",
    "outputId": "dff2cec4-f87d-4d1e-9075-f6f4375b9dd9"
   },
   "outputs": [
    {
     "data": {
      "image/png": "[encoded data removed]",
      "text/plain": [
       "<Figure size 640x480 with 1 Axes>"
      ]
     },
     "metadata": {},
     "output_type": "display_data"
    }
   ],
   "source": [
    "# Create the prediction space\n",
    "prediction_space = np.linspace(min(file_csv['standardized_midterm_mark']), max(file_csv['standardized_midterm_mark'])).reshape(-1,1)\n",
    "\n",
    "# Plot\n",
    "plt.scatter(file_csv['standardized_midterm_mark'], file_csv['standardized_final_mark'], color='blue')\n",
    "plt.xlabel('Standardized Midterm Mark')\n",
    "plt.ylabel('Final mark')\n",
    "plt.plot(file_csv['standardized_midterm_mark'], file_csv['final_mark_predicted_std'], color='black', linewidth=3)\n",
    "plt.title(\"Standardized Final Mark vs Standardized Midterm Mark\")\n",
    "plt.show()"
   ]
  },
  {
   "cell_type": "code",
   "execution_count": null,
   "metadata": {
    "colab": {
     "base_uri": "https://localhost:8080/",
     "height": 472
    },
    "executionInfo": {
     "elapsed": 151,
     "status": "ok",
     "timestamp": 1738937251529,
     "user": {
      "displayName": "Hazem Alsagheer",
      "userId": "05232312845808918344"
     },
     "user_tz": 300
    },
    "id": "cJOHnsTSVlBA",
    "outputId": "9c6fb264-3e8a-49fe-ea34-8b03b19d0f60"
   },
   "outputs": [
    {
     "data": {
      "image/png": "[encoded data removed]",
      "text/plain": [
       "<Figure size 640x480 with 1 Axes>"
      ]
     },
     "metadata": {},
     "output_type": "display_data"
    }
   ],
   "source": [
    "# Plot Loss vs. Epoch\n",
    "plt.plot(range(2000), lossFunction_std, label='Loss')\n",
    "plt.xlabel(\"Epoch\")\n",
    "plt.ylabel(\"Loss\")\n",
    "plt.title(\"Loss vs Epoch\")\n",
    "plt.show()"
   ]
  },
  {
   "cell_type": "markdown",
   "metadata": {
    "id": "n7z1En0vfElA"
   },
   "source": [
    "# Utilizing Scikit Learn LinearRegression()"
   ]
  },
  {
   "cell_type": "markdown",
   "metadata": {
    "id": "um6TYNod440e"
   },
   "source": [
    "## Non Standardized"
   ]
  },
  {
   "cell_type": "code",
   "execution_count": null,
   "metadata": {
    "colab": {
     "base_uri": "https://localhost:8080/",
     "height": 524
    },
    "executionInfo": {
     "elapsed": 1360,
     "status": "ok",
     "timestamp": 1738937252891,
     "user": {
      "displayName": "Hazem Alsagheer",
      "userId": "05232312845808918344"
     },
     "user_tz": 300
    },
    "id": "Kq-NujuaXi9h",
    "outputId": "f4ac1f3c-f90b-4ba8-9041-9aa3fe4accc1"
   },
   "outputs": [
    {
     "data": {
      "image/png": "[encoded data removed]",
      "text/plain": [
       "<Figure size 640x480 with 1 Axes>"
      ]
     },
     "metadata": {},
     "output_type": "display_data"
    },
    {
     "name": "stdout",
     "output_type": "stream",
     "text": [
      "Model Score: 0.5982684385776686\n",
      "Model Coefficient (m) [[1.32199232]]\n",
      "Model Intercept (b) [8.01157814]\n"
     ]
    }
   ],
   "source": [
    "from sklearn.linear_model import LinearRegression\n",
    "import numpy as np\n",
    "\n",
    "# Reshape the input to be 2-dimensional\n",
    "X = file_csv['Midterm mark'].values.reshape(-1, 1)\n",
    "y = file_csv['Final mark'].values.reshape(-1,1)\n",
    "\n",
    "# Fit the model\n",
    "reg = LinearRegression().fit(X, y)\n",
    "\n",
    "# Predict\n",
    "prediction_space = np.linspace(min(file_csv['Midterm mark']), max(file_csv['Midterm mark'])).reshape(-1, 1)\n",
    "predictions = reg.predict(prediction_space)\n",
    "\n",
    "# Plot (if needed)\n",
    "import matplotlib.pyplot as plt\n",
    "plt.scatter(X, y, color='blue')\n",
    "plt.plot(prediction_space, predictions, color='black', linewidth=3)\n",
    "plt.xlabel('Midterm mark')\n",
    "plt.ylabel('Final mark')\n",
    "plt.title(\"Final Mark vs Midterm Mark\")\n",
    "plt.show()\n",
    "\n",
    "print(\"Model Score:\", reg.score(X, y))\n",
    "print(\"Model Coefficient (m)\", reg.coef_)\n",
    "print(\"Model Intercept (b)\", reg.intercept_)\n"
   ]
  },
  {
   "cell_type": "markdown",
   "metadata": {
    "id": "kxhmQRx94-Z4"
   },
   "source": [
    "## Standardized"
   ]
  },
  {
   "cell_type": "code",
   "execution_count": null,
   "metadata": {
    "colab": {
     "base_uri": "https://localhost:8080/",
     "height": 524
    },
    "executionInfo": {
     "elapsed": 209,
     "status": "ok",
     "timestamp": 1738937253102,
     "user": {
      "displayName": "Hazem Alsagheer",
      "userId": "05232312845808918344"
     },
     "user_tz": 300
    },
    "id": "rGBAmuZefsPZ",
    "outputId": "83b0e2bd-7398-4597-b305-1b4433f7af68"
   },
   "outputs": [
    {
     "data": {
      "image/png": "[encoded data removed]",
      "text/plain": [
       "<Figure size 640x480 with 1 Axes>"
      ]
     },
     "metadata": {},
     "output_type": "display_data"
    },
    {
     "name": "stdout",
     "output_type": "stream",
     "text": [
      "Model Score: 0.5982684385776688\n",
      "Model Coefficient (m) [[0.77347814]]\n",
      "Model Intercept (b) [1.9759457e-16]\n"
     ]
    }
   ],
   "source": [
    "# Reshape the input to be 2-dimensional\n",
    "X = file_csv['standardized_midterm_mark'].values.reshape(-1, 1)\n",
    "y = file_csv['standardized_final_mark'].values.reshape(-1,1)\n",
    "\n",
    "# Fit the model\n",
    "reg = LinearRegression().fit(X, y)\n",
    "\n",
    "# Predict\n",
    "prediction_space = np.linspace(min(file_csv['standardized_midterm_mark']), max(file_csv['standardized_midterm_mark'])).reshape(-1, 1)\n",
    "predictions = reg.predict(prediction_space)\n",
    "\n",
    "# Plot (if needed)\n",
    "import matplotlib.pyplot as plt\n",
    "plt.scatter(X, y, color='blue')\n",
    "plt.plot(prediction_space, predictions, color='black', linewidth=3)\n",
    "plt.xlabel('Standardized Midterm mark')\n",
    "plt.ylabel('Standardized Final mark')\n",
    "plt.title(\"Standardized Final Mark vs Standardized Midterm Mark\")\n",
    "plt.show()\n",
    "\n",
    "print(\"Model Score:\", reg.score(X, y))\n",
    "print(\"Model Coefficient (m)\", reg.coef_)\n",
    "print(\"Model Intercept (b)\", reg.intercept_)"
   ]
  },
  {
   "cell_type": "markdown",
   "metadata": {
    "id": "E2oAFTOMthlU"
   },
   "source": [
    "#Questions"
   ]
  },
  {
   "cell_type": "markdown",
   "metadata": {
    "id": "ihsUZWT2uUFD"
   },
   "source": [
    "## **Q1:** Write your observation by changing the learning rate to 0.1. Include error plots while explaining your observation."
   ]
  },
  {
   "cell_type": "code",
   "execution_count": null,
   "metadata": {
    "id": "UfLabNzhthIk"
   },
   "outputs": [],
   "source": [
    "alpha=0.1"
   ]
  },
  {
   "cell_type": "markdown",
   "metadata": {
    "id": "liU4eRkNFWJw"
   },
   "source": [
    "Using 100 iterations modification for comparison"
   ]
  },
  {
   "cell_type": "markdown",
   "metadata": {
    "id": "d9GwmCkyFMbO"
   },
   "source": [
    "## Non-Standaridized"
   ]
  },
  {
   "cell_type": "code",
   "execution_count": null,
   "metadata": {
    "colab": {
     "base_uri": "https://localhost:8080/"
    },
    "executionInfo": {
     "elapsed": 419,
     "status": "ok",
     "timestamp": 1738937253541,
     "user": {
      "displayName": "Hazem Alsagheer",
      "userId": "05232312845808918344"
     },
     "user_tz": 300
    },
    "id": "q3vpWqNjhjc2",
    "outputId": "eb0a31a0-accb-48b0-859e-532f2238f699"
   },
   "outputs": [
    {
     "name": "stderr",
     "output_type": "stream",
     "text": [
      "<ipython-input-13-7651b5480339>:4: RuntimeWarning: overflow encountered in scalar power\n",
      "  Error+=(1/dataLength)*((y.iloc[i] - y_predicted.iloc[i])**2)\n"
     ]
    },
    {
     "data": {
      "text/plain": [
       "(-9.263695270230228e+269, -1.8207268088133824e+268)"
      ]
     },
     "execution_count": 34,
     "metadata": {},
     "output_type": "execute_result"
    }
   ],
   "source": [
    "m_old=m\n",
    "b_old=b\n",
    "lossFunction=[]\n",
    "for i in range(100):\n",
    "  m_new,b_new= update_weights(m_old, b_old,file_csv['Final mark'],\"\",file_csv['Midterm mark'])\n",
    "  m_old=m_new\n",
    "  b_old=b_new\n",
    "  lossFunction.append(costFunction(file_csv['Final mark'],file_csv['final_mark_predicted']))\n",
    "m_new,b_new"
   ]
  },
  {
   "cell_type": "markdown",
   "metadata": {
    "id": "dRiQhwvoF0tr"
   },
   "source": [
    "Due to the high learining rate the data encounted an overflow meaning the weights became too large so to compare I reduced the value to 50 iterations and observed how quickly did the model adjust with such high learning rate."
   ]
  },
  {
   "cell_type": "code",
   "execution_count": null,
   "metadata": {
    "colab": {
     "base_uri": "https://localhost:8080/"
    },
    "executionInfo": {
     "elapsed": 207,
     "status": "ok",
     "timestamp": 1738937253758,
     "user": {
      "displayName": "Hazem Alsagheer",
      "userId": "05232312845808918344"
     },
     "user_tz": 300
    },
    "id": "zmZF9jjZGKcW",
    "outputId": "cb4afdf6-06e9-423d-c038-ebebebf2c5b5"
   },
   "outputs": [
    {
     "data": {
      "text/plain": [
       "(-1.3538829456804114e+135, -2.6609802063731897e+133)"
      ]
     },
     "execution_count": 35,
     "metadata": {},
     "output_type": "execute_result"
    }
   ],
   "source": [
    "m_old=m\n",
    "b_old=b\n",
    "lossFunction=[]\n",
    "for i in range(50):\n",
    "  m_new,b_new= update_weights(m_old, b_old,file_csv['Final mark'],\"\",file_csv['Midterm mark'])\n",
    "  m_old=m_new\n",
    "  b_old=b_new\n",
    "  lossFunction.append(costFunction(file_csv['Final mark'],file_csv['final_mark_predicted']))\n",
    "m_new,b_new"
   ]
  },
  {
   "cell_type": "code",
   "execution_count": null,
   "metadata": {
    "colab": {
     "base_uri": "https://localhost:8080/",
     "height": 472
    },
    "executionInfo": {
     "elapsed": 163,
     "status": "ok",
     "timestamp": 1738937253918,
     "user": {
      "displayName": "Hazem Alsagheer",
      "userId": "05232312845808918344"
     },
     "user_tz": 300
    },
    "id": "OyQOq3d_GKkl",
    "outputId": "232b73b7-b246-4d92-ceef-2b6c7b294209"
   },
   "outputs": [
    {
     "data": {
      "image/png": "[encoded data removed]",
      "text/plain": [
       "<Figure size 640x480 with 1 Axes>"
      ]
     },
     "metadata": {},
     "output_type": "display_data"
    }
   ],
   "source": [
    "# Create the prediction space\n",
    "prediction_space = np.linspace(min(file_csv['Midterm mark']), max(file_csv['Midterm mark'])).reshape(-1,1)\n",
    "y= m_new*file_csv['Midterm mark']+b_new\n",
    "# Plot\n",
    "plt.scatter(file_csv['Midterm mark'], file_csv['Final mark'], color='blue')\n",
    "plt.xlabel('Midterm Mark')\n",
    "plt.ylabel('Final Mark')\n",
    "plt.plot(file_csv['Midterm mark'], y, color='black', linewidth=3)\n",
    "plt.title(\"Final Mark vs Midterm Mark\")\n",
    "plt.show()"
   ]
  },
  {
   "cell_type": "code",
   "execution_count": null,
   "metadata": {
    "colab": {
     "base_uri": "https://localhost:8080/",
     "height": 472
    },
    "executionInfo": {
     "elapsed": 179,
     "status": "ok",
     "timestamp": 1738937254098,
     "user": {
      "displayName": "Hazem Alsagheer",
      "userId": "05232312845808918344"
     },
     "user_tz": 300
    },
    "id": "4ldcfNGnGKnG",
    "outputId": "d398824b-adc1-46bd-9fdc-b3d8d9fe51bf"
   },
   "outputs": [
    {
     "data": {
      "image/png": "[encoded data removed]",
      "text/plain": [
       "<Figure size 640x480 with 1 Axes>"
      ]
     },
     "metadata": {},
     "output_type": "display_data"
    }
   ],
   "source": [
    "# Plot Loss vs. Epoch\n",
    "plt.plot(range(50), lossFunction)\n",
    "plt.xlabel(\"Epoch\")\n",
    "plt.ylabel(\"Loss\")\n",
    "plt.title(\"Loss vs Epoch\")\n",
    "plt.show()"
   ]
  },
  {
   "cell_type": "markdown",
   "metadata": {
    "id": "5kd1KxPbGuj-"
   },
   "source": [
    "## Standardized"
   ]
  },
  {
   "cell_type": "code",
   "execution_count": null,
   "metadata": {
    "colab": {
     "base_uri": "https://localhost:8080/"
    },
    "executionInfo": {
     "elapsed": 397,
     "status": "ok",
     "timestamp": 1738937254498,
     "user": {
      "displayName": "Hazem Alsagheer",
      "userId": "05232312845808918344"
     },
     "user_tz": 300
    },
    "id": "MHCNnsTE77Gj",
    "outputId": "e11bc6e8-7de1-4e05-d15a-37c49d91c270"
   },
   "outputs": [
    {
     "data": {
      "text/plain": [
       "(0.7734781432351862, 2.58191905355698e-16)"
      ]
     },
     "execution_count": 38,
     "metadata": {},
     "output_type": "execute_result"
    }
   ],
   "source": [
    "m_old=m\n",
    "b_old=b\n",
    "lossFunction_std=[]\n",
    "for i in range(100):\n",
    "  m_new_std,b_new_std= update_weights(m_old, b_old,file_csv['standardized_final_mark'],'_std',file_csv['standardized_midterm_mark'])\n",
    "  m_old=m_new_std\n",
    "  b_old=b_new_std\n",
    "  lossFunction_std.append(costFunction(file_csv['standardized_final_mark'],file_csv['final_mark_predicted_std']))\n",
    "m_new_std,b_new_std"
   ]
  },
  {
   "cell_type": "code",
   "execution_count": null,
   "metadata": {
    "colab": {
     "base_uri": "https://localhost:8080/",
     "height": 472
    },
    "executionInfo": {
     "elapsed": 207,
     "status": "ok",
     "timestamp": 1738937254707,
     "user": {
      "displayName": "Hazem Alsagheer",
      "userId": "05232312845808918344"
     },
     "user_tz": 300
    },
    "id": "P1aQSbi877NV",
    "outputId": "335926ee-886c-4ff1-8b90-1e9259d8737f"
   },
   "outputs": [
    {
     "data": {
      "image/png": "[encoded data removed]",
      "text/plain": [
       "<Figure size 640x480 with 1 Axes>"
      ]
     },
     "metadata": {},
     "output_type": "display_data"
    }
   ],
   "source": [
    "# Create the prediction space\n",
    "prediction_space = np.linspace(min(file_csv['standardized_midterm_mark']), max(file_csv['standardized_midterm_mark'])).reshape(-1,1)\n",
    "\n",
    "# Plot\n",
    "plt.scatter(file_csv['standardized_midterm_mark'], file_csv['standardized_final_mark'], color='blue')\n",
    "plt.xlabel('Standardized Midterm Mark')\n",
    "plt.ylabel('Final mark')\n",
    "plt.plot(file_csv['standardized_midterm_mark'], file_csv['final_mark_predicted_std'], color='black', linewidth=3)\n",
    "plt.title(\"Standardized Final Mark vs Standardized Midterm Mark\")\n",
    "plt.show()"
   ]
  },
  {
   "cell_type": "code",
   "execution_count": null,
   "metadata": {
    "colab": {
     "base_uri": "https://localhost:8080/",
     "height": 472
    },
    "executionInfo": {
     "elapsed": 164,
     "status": "ok",
     "timestamp": 1738937254869,
     "user": {
      "displayName": "Hazem Alsagheer",
      "userId": "05232312845808918344"
     },
     "user_tz": 300
    },
    "id": "HpQ1IHRb7-Di",
    "outputId": "ab9817aa-50a4-4b06-d971-571be696e1c2"
   },
   "outputs": [
    {
     "data": {
      "image/png": "[encoded data removed]",
      "text/plain": [
       "<Figure size 640x480 with 1 Axes>"
      ]
     },
     "metadata": {},
     "output_type": "display_data"
    }
   ],
   "source": [
    "# Plot Loss vs. Epoch\n",
    "plt.plot(range(100), lossFunction_std)\n",
    "plt.xlabel(\"Epoch\")\n",
    "plt.ylabel(\"Loss\")\n",
    "plt.title(\"Loss vs Epoch\")\n",
    "plt.show()"
   ]
  },
  {
   "cell_type": "code",
   "execution_count": null,
   "metadata": {
    "colab": {
     "base_uri": "https://localhost:8080/"
    },
    "executionInfo": {
     "elapsed": 9763,
     "status": "ok",
     "timestamp": 1738937264636,
     "user": {
      "displayName": "Hazem Alsagheer",
      "userId": "05232312845808918344"
     },
     "user_tz": 300
    },
    "id": "tPIDaaUYGuHr",
    "outputId": "6aa33889-8db5-457c-d960-83db4cca7137"
   },
   "outputs": [
    {
     "data": {
      "text/plain": [
       "(0.7734781435681738, 1.872417151882314e-16)"
      ]
     },
     "execution_count": 41,
     "metadata": {},
     "output_type": "execute_result"
    }
   ],
   "source": [
    "m_old=m\n",
    "b_old=b\n",
    "lossFunction_std=[]\n",
    "for i in range(2000):\n",
    "  m_new_std,b_new_std= update_weights(m_old, b_old,file_csv['standardized_final_mark'],'_std',file_csv['standardized_midterm_mark'])\n",
    "  m_old=m_new_std\n",
    "  b_old=b_new_std\n",
    "  lossFunction_std.append(costFunction(file_csv['standardized_final_mark'],file_csv['final_mark_predicted_std']))\n",
    "m_new_std,b_new_std"
   ]
  },
  {
   "cell_type": "code",
   "execution_count": null,
   "metadata": {
    "colab": {
     "base_uri": "https://localhost:8080/",
     "height": 472
    },
    "executionInfo": {
     "elapsed": 316,
     "status": "ok",
     "timestamp": 1738937264954,
     "user": {
      "displayName": "Hazem Alsagheer",
      "userId": "05232312845808918344"
     },
     "user_tz": 300
    },
    "id": "0cbrVb4aT93x",
    "outputId": "b5674b14-1e67-42e6-a857-67ffadeb1490"
   },
   "outputs": [
    {
     "data": {
      "image/png": "[encoded data removed]",
      "text/plain": [
       "<Figure size 640x480 with 1 Axes>"
      ]
     },
     "metadata": {},
     "output_type": "display_data"
    }
   ],
   "source": [
    "# Create the prediction space\n",
    "prediction_space = np.linspace(min(file_csv['standardized_midterm_mark']), max(file_csv['standardized_midterm_mark'])).reshape(-1,1)\n",
    "\n",
    "# Plot\n",
    "plt.scatter(file_csv['standardized_midterm_mark'], file_csv['standardized_final_mark'], color='blue')\n",
    "plt.xlabel('Standardized Midterm Mark')\n",
    "plt.ylabel('Final mark')\n",
    "plt.plot(file_csv['standardized_midterm_mark'], file_csv['final_mark_predicted_std'], color='black', linewidth=3)\n",
    "plt.title(\"Standardized Final Mark vs Standardized Midterm Mark\")\n",
    "plt.show()"
   ]
  },
  {
   "cell_type": "code",
   "execution_count": null,
   "metadata": {
    "colab": {
     "base_uri": "https://localhost:8080/",
     "height": 472
    },
    "executionInfo": {
     "elapsed": 169,
     "status": "ok",
     "timestamp": 1738937265114,
     "user": {
      "displayName": "Hazem Alsagheer",
      "userId": "05232312845808918344"
     },
     "user_tz": 300
    },
    "id": "6OWykreaT_HS",
    "outputId": "b1f06ed8-40d5-4dc7-ec1a-e5537512d113"
   },
   "outputs": [
    {
     "data": {
      "image/png": "[encoded data removed]",
      "text/plain": [
       "<Figure size 640x480 with 1 Axes>"
      ]
     },
     "metadata": {},
     "output_type": "display_data"
    }
   ],
   "source": [
    "# Plot Loss vs. Epoch\n",
    "plt.plot(range(2000), lossFunction_std)\n",
    "plt.xlabel(\"Epoch\")\n",
    "plt.ylabel(\"Loss\")\n",
    "plt.title(\"Loss vs Epoch\")\n",
    "plt.show()"
   ]
  },
  {
   "cell_type": "markdown",
   "metadata": {
    "id": "eUNJISKSgImq"
   },
   "source": [
    "#**Observation**\n",
    "Increasing the learning rate to 0.1 resulted in large updates to the weights (m and b) during each epoch. This caused the model to overshoot the optimal values where the loss function is minimized, leading to instability.\n",
    "\n",
    "Initially, the error plot remained at 0, likely because the weight updates oscillated around certain values without making significant progress. However, in the later epochs, the loss suddenly spiked upward, indicating that the model completely diverged. This happened because the large learning rate led to increasingly extreme weight updates, preventing proper convergence.\n",
    "\n",
    "Due to this instability, I encountered an overflow error before reaching 100+ epochs. This suggests that the weight values became excessively large, surpassing the maximum representable number in the system, which led to numerical instability and crashed the training process.\n",
    "\n",
    "With such an aggressive learning rate, the regression line became erratic, and instead of learning an optimal trend, the model failed to converge and crashed early. This highlights the importance of choosing an appropriate learning rate to ensure stable and effective training."
   ]
  },
  {
   "cell_type": "markdown",
   "metadata": {
    "id": "G2bGev4jBXJm"
   },
   "source": [
    "## **Q2:** Investigate the effect of standardization.\n",
    "\n"
   ]
  },
  {
   "cell_type": "markdown",
   "metadata": {
    "id": "sb5csSRDjWDZ"
   },
   "source": [
    "# **Observation**\n",
    "Standardization helps by putting all features on a similar scale, making it easier for the model to learn without some values dominating the learning process. This makes training more stable and prevents the model from making extreme updates that could slow down or mess up learning.\n",
    "\n",
    "In this case, the standardized data took longer to adjust, gradually moving toward the ideal regression line. On the other hand, the non-standardized data seemed to adapt faster, but that’s mainly because its original scale made the updates larger.\n",
    "\n",
    "While standardization doesn’t completely remove the need to find a good learning rate, it makes the training process smoother and less sensitive to the initial learning rate choice. Since the values are now in a steady, smaller range, the model learns in a more controlled and consistent way rather than making erratic jumps."
   ]
  }
 ],
 "metadata": {
  "colab": {
   "authorship_tag": "ABX9TyOThMdWxCsWY+s9rGdEJHu3",
   "provenance": []
  },
  "kernelspec": {
   "display_name": "Python 3",
   "name": "python3"
  },
  "language_info": {
   "name": "python"
  }
 },
 "nbformat": 4,
 "nbformat_minor": 0
}
