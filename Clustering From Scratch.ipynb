{
 "cells": [
  {
   "cell_type": "markdown",
   "metadata": {
    "id": "Qm1kCpQmAVjE"
   },
   "source": [
    "# **Clustering from Scratch**\n",
    "##### a) K-Means\n",
    "##### b) Nearest Neighbor\n",
    "##### c) DBSCAN\n",
    "\n",
    "\n"
   ]
  },
  {
   "cell_type": "code",
   "execution_count": 584,
   "metadata": {
    "executionInfo": {
     "elapsed": 16,
     "status": "ok",
     "timestamp": 1742554949924,
     "user": {
      "displayName": "Hazem Alsagheer",
      "userId": "05232312845808918344"
     },
     "user_tz": 240
    },
    "id": "yMOQ37ZaKEL0"
   },
   "outputs": [],
   "source": [
    "import pandas as pd\n",
    "import numpy as np\n",
    "from sklearn.preprocessing import OneHotEncoder\n",
    "import matplotlib.pyplot as plt\n",
    "import seaborn as sns\n",
    "import math"
   ]
  },
  {
   "cell_type": "markdown",
   "metadata": {
    "id": "RhRjwWXYK9J1"
   },
   "source": [
    "# **Dataset 1**"
   ]
  },
  {
   "cell_type": "markdown",
   "metadata": {
    "id": "n2cCHzvcnpTr"
   },
   "source": [
    "## Initialization of Points"
   ]
  },
  {
   "cell_type": "code",
   "execution_count": 585,
   "metadata": {
    "executionInfo": {
     "elapsed": 1,
     "status": "ok",
     "timestamp": 1742554949927,
     "user": {
      "displayName": "Hazem Alsagheer",
      "userId": "05232312845808918344"
     },
     "user_tz": 240
    },
    "id": "FWSiySZDnCoK"
   },
   "outputs": [],
   "source": [
    "points = [\n",
    "    (2, 10),\n",
    "    (2, 5),\n",
    "    (8, 4),\n",
    "    (5, 8),\n",
    "    (7, 5),\n",
    "    (6, 4),\n",
    "    (1, 2),\n",
    "    (4, 9)\n",
    "]"
   ]
  },
  {
   "cell_type": "code",
   "execution_count": 586,
   "metadata": {
    "executionInfo": {
     "elapsed": 1,
     "status": "ok",
     "timestamp": 1742554949929,
     "user": {
      "displayName": "Hazem Alsagheer",
      "userId": "05232312845808918344"
     },
     "user_tz": 240
    },
    "id": "aSVnNwFpoY9R"
   },
   "outputs": [],
   "source": [
    "def euclidean_distance(point1, point2):\n",
    "  x1,y1=point1\n",
    "  x2, y2= point2\n",
    "  distance=math.sqrt((x2-x1)**2+(y2-y1)**2)\n",
    "  return distance"
   ]
  },
  {
   "cell_type": "code",
   "execution_count": 587,
   "metadata": {
    "colab": {
     "base_uri": "https://localhost:8080/"
    },
    "executionInfo": {
     "elapsed": 10,
     "status": "ok",
     "timestamp": 1742554949940,
     "user": {
      "displayName": "Hazem Alsagheer",
      "userId": "05232312845808918344"
     },
     "user_tz": 240
    },
    "id": "0yKTOfFapZYK",
    "outputId": "82533b08-807e-416e-ca66-dba2503f31ef"
   },
   "outputs": [
    {
     "data": {
      "text/plain": [
       "8.48528137423857"
      ]
     },
     "execution_count": 587,
     "metadata": {},
     "output_type": "execute_result"
    }
   ],
   "source": [
    "euclidean_distance(points[0],points[2])"
   ]
  },
  {
   "cell_type": "markdown",
   "metadata": {
    "id": "mpNg4wVJLCdp"
   },
   "source": [
    "# **Dataset 2**"
   ]
  },
  {
   "cell_type": "code",
   "execution_count": 588,
   "metadata": {
    "colab": {
     "base_uri": "https://localhost:8080/",
     "height": 300
    },
    "executionInfo": {
     "elapsed": 18,
     "status": "ok",
     "timestamp": 1742554949957,
     "user": {
      "displayName": "Hazem Alsagheer",
      "userId": "05232312845808918344"
     },
     "user_tz": 240
    },
    "id": "WifV36yILHB7",
    "outputId": "311246d3-6bf3-47ce-e2d4-58b300be47a9"
   },
   "outputs": [
    {
     "data": {
      "application/vnd.google.colaboratory.intrinsic+json": {
       "summary": "{\n  \"name\": \"dataset2\",\n  \"rows\": 8,\n  \"fields\": [\n    {\n      \"column\": \"row.names\",\n      \"properties\": {\n        \"dtype\": \"number\",\n        \"std\": 166.4233160244648,\n        \"min\": 1.0,\n        \"max\": 463.0,\n        \"num_unique_values\": 8,\n        \"samples\": [\n          231.93506493506493,\n          231.5,\n          462.0\n        ],\n        \"semantic_type\": \"\",\n        \"description\": \"\"\n      }\n    },\n    {\n      \"column\": \"sbp\",\n      \"properties\": {\n        \"dtype\": \"number\",\n        \"std\": 130.68742282570946,\n        \"min\": 20.496317175467627,\n        \"max\": 462.0,\n        \"num_unique_values\": 8,\n        \"samples\": [\n          138.32683982683983,\n          134.0,\n          462.0\n        ],\n        \"semantic_type\": \"\",\n        \"description\": \"\"\n      }\n    },\n    {\n      \"column\": \"tobacco\",\n      \"properties\": {\n        \"dtype\": \"number\",\n        \"std\": 161.29089833920912,\n        \"min\": 0.0,\n        \"max\": 462.0,\n        \"num_unique_values\": 8,\n        \"samples\": [\n          3.635649350649351,\n          2.0,\n          462.0\n        ],\n        \"semantic_type\": \"\",\n        \"description\": \"\"\n      }\n    },\n    {\n      \"column\": \"ldl\",\n      \"properties\": {\n        \"dtype\": \"number\",\n        \"std\": 161.55621652160278,\n        \"min\": 0.98,\n        \"max\": 462.0,\n        \"num_unique_values\": 8,\n        \"samples\": [\n          4.740324675324675,\n          4.34,\n          462.0\n        ],\n        \"semantic_type\": \"\",\n        \"description\": \"\"\n      }\n    },\n    {\n      \"column\": \"adiposity\",\n      \"properties\": {\n        \"dtype\": \"number\",\n        \"std\": 155.72909669661666,\n        \"min\": 6.74,\n        \"max\": 462.0,\n        \"num_unique_values\": 8,\n        \"samples\": [\n          25.4067316017316,\n          26.115000000000002,\n          462.0\n        ],\n        \"semantic_type\": \"\",\n        \"description\": \"\"\n      }\n    },\n    {\n      \"column\": \"typea\",\n      \"properties\": {\n        \"dtype\": \"number\",\n        \"std\": 149.27187541208806,\n        \"min\": 9.817534115584083,\n        \"max\": 462.0,\n        \"num_unique_values\": 8,\n        \"samples\": [\n          53.103896103896105,\n          53.0,\n          462.0\n        ],\n        \"semantic_type\": \"\",\n        \"description\": \"\"\n      }\n    },\n    {\n      \"column\": \"obesity\",\n      \"properties\": {\n        \"dtype\": \"number\",\n        \"std\": 155.28296029438135,\n        \"min\": 4.213680226897765,\n        \"max\": 462.0,\n        \"num_unique_values\": 8,\n        \"samples\": [\n          26.04411255411255,\n          25.805,\n          462.0\n        ],\n        \"semantic_type\": \"\",\n        \"description\": \"\"\n      }\n    },\n    {\n      \"column\": \"alcohol\",\n      \"properties\": {\n        \"dtype\": \"number\",\n        \"std\": 159.63289414041645,\n        \"min\": 0.0,\n        \"max\": 462.0,\n        \"num_unique_values\": 8,\n        \"samples\": [\n          17.044393939393935,\n          7.51,\n          462.0\n        ],\n        \"semantic_type\": \"\",\n        \"description\": \"\"\n      }\n    },\n    {\n      \"column\": \"age\",\n      \"properties\": {\n        \"dtype\": \"number\",\n        \"std\": 150.86182604527482,\n        \"min\": 14.60895644455249,\n        \"max\": 462.0,\n        \"num_unique_values\": 8,\n        \"samples\": [\n          42.816017316017316,\n          45.0,\n          462.0\n        ],\n        \"semantic_type\": \"\",\n        \"description\": \"\"\n      }\n    },\n    {\n      \"column\": \"chd\",\n      \"properties\": {\n        \"dtype\": \"number\",\n        \"std\": 163.19963095476027,\n        \"min\": 0.0,\n        \"max\": 462.0,\n        \"num_unique_values\": 5,\n        \"samples\": [\n          0.3463203463203463,\n          1.0,\n          0.476312536590781\n        ],\n        \"semantic_type\": \"\",\n        \"description\": \"\"\n      }\n    }\n  ]\n}",
       "type": "dataframe"
      },
      "text/html": [
       "\n",
       "  <div id=\"df-2cccf7b0-d05f-4b83-a379-d70913fad728\" class=\"colab-df-container\">\n",
       "    <div>\n",
       "<style scoped>\n",
       "    .dataframe tbody tr th:only-of-type {\n",
       "        vertical-align: middle;\n",
       "    }\n",
       "\n",
       "    .dataframe tbody tr th {\n",
       "        vertical-align: top;\n",
       "    }\n",
       "\n",
       "    .dataframe thead th {\n",
       "        text-align: right;\n",
       "    }\n",
       "</style>\n",
       "<table border=\"1\" class=\"dataframe\">\n",
       "  <thead>\n",
       "    <tr style=\"text-align: right;\">\n",
       "      <th></th>\n",
       "      <th>row.names</th>\n",
       "      <th>sbp</th>\n",
       "      <th>tobacco</th>\n",
       "      <th>ldl</th>\n",
       "      <th>adiposity</th>\n",
       "      <th>typea</th>\n",
       "      <th>obesity</th>\n",
       "      <th>alcohol</th>\n",
       "      <th>age</th>\n",
       "      <th>chd</th>\n",
       "    </tr>\n",
       "  </thead>\n",
       "  <tbody>\n",
       "    <tr>\n",
       "      <th>count</th>\n",
       "      <td>462.000000</td>\n",
       "      <td>462.000000</td>\n",
       "      <td>462.000000</td>\n",
       "      <td>462.000000</td>\n",
       "      <td>462.000000</td>\n",
       "      <td>462.000000</td>\n",
       "      <td>462.000000</td>\n",
       "      <td>462.000000</td>\n",
       "      <td>462.000000</td>\n",
       "      <td>462.000000</td>\n",
       "    </tr>\n",
       "    <tr>\n",
       "      <th>mean</th>\n",
       "      <td>231.935065</td>\n",
       "      <td>138.326840</td>\n",
       "      <td>3.635649</td>\n",
       "      <td>4.740325</td>\n",
       "      <td>25.406732</td>\n",
       "      <td>53.103896</td>\n",
       "      <td>26.044113</td>\n",
       "      <td>17.044394</td>\n",
       "      <td>42.816017</td>\n",
       "      <td>0.346320</td>\n",
       "    </tr>\n",
       "    <tr>\n",
       "      <th>std</th>\n",
       "      <td>133.938585</td>\n",
       "      <td>20.496317</td>\n",
       "      <td>4.593024</td>\n",
       "      <td>2.070909</td>\n",
       "      <td>7.780699</td>\n",
       "      <td>9.817534</td>\n",
       "      <td>4.213680</td>\n",
       "      <td>24.481059</td>\n",
       "      <td>14.608956</td>\n",
       "      <td>0.476313</td>\n",
       "    </tr>\n",
       "    <tr>\n",
       "      <th>min</th>\n",
       "      <td>1.000000</td>\n",
       "      <td>101.000000</td>\n",
       "      <td>0.000000</td>\n",
       "      <td>0.980000</td>\n",
       "      <td>6.740000</td>\n",
       "      <td>13.000000</td>\n",
       "      <td>14.700000</td>\n",
       "      <td>0.000000</td>\n",
       "      <td>15.000000</td>\n",
       "      <td>0.000000</td>\n",
       "    </tr>\n",
       "    <tr>\n",
       "      <th>25%</th>\n",
       "      <td>116.250000</td>\n",
       "      <td>124.000000</td>\n",
       "      <td>0.052500</td>\n",
       "      <td>3.282500</td>\n",
       "      <td>19.775000</td>\n",
       "      <td>47.000000</td>\n",
       "      <td>22.985000</td>\n",
       "      <td>0.510000</td>\n",
       "      <td>31.000000</td>\n",
       "      <td>0.000000</td>\n",
       "    </tr>\n",
       "    <tr>\n",
       "      <th>50%</th>\n",
       "      <td>231.500000</td>\n",
       "      <td>134.000000</td>\n",
       "      <td>2.000000</td>\n",
       "      <td>4.340000</td>\n",
       "      <td>26.115000</td>\n",
       "      <td>53.000000</td>\n",
       "      <td>25.805000</td>\n",
       "      <td>7.510000</td>\n",
       "      <td>45.000000</td>\n",
       "      <td>0.000000</td>\n",
       "    </tr>\n",
       "    <tr>\n",
       "      <th>75%</th>\n",
       "      <td>347.750000</td>\n",
       "      <td>148.000000</td>\n",
       "      <td>5.500000</td>\n",
       "      <td>5.790000</td>\n",
       "      <td>31.227500</td>\n",
       "      <td>60.000000</td>\n",
       "      <td>28.497500</td>\n",
       "      <td>23.892500</td>\n",
       "      <td>55.000000</td>\n",
       "      <td>1.000000</td>\n",
       "    </tr>\n",
       "    <tr>\n",
       "      <th>max</th>\n",
       "      <td>463.000000</td>\n",
       "      <td>218.000000</td>\n",
       "      <td>31.200000</td>\n",
       "      <td>15.330000</td>\n",
       "      <td>42.490000</td>\n",
       "      <td>78.000000</td>\n",
       "      <td>46.580000</td>\n",
       "      <td>147.190000</td>\n",
       "      <td>64.000000</td>\n",
       "      <td>1.000000</td>\n",
       "    </tr>\n",
       "  </tbody>\n",
       "</table>\n",
       "</div>\n",
       "    <div class=\"colab-df-buttons\">\n",
       "\n",
       "  <div class=\"colab-df-container\">\n",
       "    <button class=\"colab-df-convert\" onclick=\"convertToInteractive('df-2cccf7b0-d05f-4b83-a379-d70913fad728')\"\n",
       "            title=\"Convert this dataframe to an interactive table.\"\n",
       "            style=\"display:none;\">\n",
       "\n",
       "  <svg xmlns=\"http://www.w3.org/2000/svg\" height=\"24px\" viewBox=\"0 -960 960 960\">\n",
       "    <path d=\"M120-120v-720h720v720H120Zm60-500h600v-160H180v160Zm220 220h160v-160H400v160Zm0 220h160v-160H400v160ZM180-400h160v-160H180v160Zm440 0h160v-160H620v160ZM180-180h160v-160H180v160Zm440 0h160v-160H620v160Z\"/>\n",
       "  </svg>\n",
       "    </button>\n",
       "\n",
       "  <style>\n",
       "    .colab-df-container {\n",
       "      display:flex;\n",
       "      gap: 12px;\n",
       "    }\n",
       "\n",
       "    .colab-df-convert {\n",
       "      background-color: #E8F0FE;\n",
       "      border: none;\n",
       "      border-radius: 50%;\n",
       "      cursor: pointer;\n",
       "      display: none;\n",
       "      fill: #1967D2;\n",
       "      height: 32px;\n",
       "      padding: 0 0 0 0;\n",
       "      width: 32px;\n",
       "    }\n",
       "\n",
       "    .colab-df-convert:hover {\n",
       "      background-color: #E2EBFA;\n",
       "      box-shadow: 0px 1px 2px rgba(60, 64, 67, 0.3), 0px 1px 3px 1px rgba(60, 64, 67, 0.15);\n",
       "      fill: #174EA6;\n",
       "    }\n",
       "\n",
       "    .colab-df-buttons div {\n",
       "      margin-bottom: 4px;\n",
       "    }\n",
       "\n",
       "    [theme=dark] .colab-df-convert {\n",
       "      background-color: #3B4455;\n",
       "      fill: #D2E3FC;\n",
       "    }\n",
       "\n",
       "    [theme=dark] .colab-df-convert:hover {\n",
       "      background-color: #434B5C;\n",
       "      box-shadow: 0px 1px 3px 1px rgba(0, 0, 0, 0.15);\n",
       "      filter: drop-shadow(0px 1px 2px rgba(0, 0, 0, 0.3));\n",
       "      fill: #FFFFFF;\n",
       "    }\n",
       "  </style>\n",
       "\n",
       "    <script>\n",
       "      const buttonEl =\n",
       "        document.querySelector('#df-2cccf7b0-d05f-4b83-a379-d70913fad728 button.colab-df-convert');\n",
       "      buttonEl.style.display =\n",
       "        google.colab.kernel.accessAllowed ? 'block' : 'none';\n",
       "\n",
       "      async function convertToInteractive(key) {\n",
       "        const element = document.querySelector('#df-2cccf7b0-d05f-4b83-a379-d70913fad728');\n",
       "        const dataTable =\n",
       "          await google.colab.kernel.invokeFunction('convertToInteractive',\n",
       "                                                    [key], {});\n",
       "        if (!dataTable) return;\n",
       "\n",
       "        const docLinkHtml = 'Like what you see? Visit the ' +\n",
       "          '<a target=\"_blank\" href=https://colab.research.google.com/notebooks/data_table.ipynb>data table notebook</a>'\n",
       "          + ' to learn more about interactive tables.';\n",
       "        element.innerHTML = '';\n",
       "        dataTable['output_type'] = 'display_data';\n",
       "        await google.colab.output.renderOutput(dataTable, element);\n",
       "        const docLink = document.createElement('div');\n",
       "        docLink.innerHTML = docLinkHtml;\n",
       "        element.appendChild(docLink);\n",
       "      }\n",
       "    </script>\n",
       "  </div>\n",
       "\n",
       "\n",
       "<div id=\"df-c2be4b6e-bf73-4063-ad12-86f242eed2bc\">\n",
       "  <button class=\"colab-df-quickchart\" onclick=\"quickchart('df-c2be4b6e-bf73-4063-ad12-86f242eed2bc')\"\n",
       "            title=\"Suggest charts\"\n",
       "            style=\"display:none;\">\n",
       "\n",
       "<svg xmlns=\"http://www.w3.org/2000/svg\" height=\"24px\"viewBox=\"0 0 24 24\"\n",
       "     width=\"24px\">\n",
       "    <g>\n",
       "        <path d=\"M19 3H5c-1.1 0-2 .9-2 2v14c0 1.1.9 2 2 2h14c1.1 0 2-.9 2-2V5c0-1.1-.9-2-2-2zM9 17H7v-7h2v7zm4 0h-2V7h2v10zm4 0h-2v-4h2v4z\"/>\n",
       "    </g>\n",
       "</svg>\n",
       "  </button>\n",
       "\n",
       "<style>\n",
       "  .colab-df-quickchart {\n",
       "      --bg-color: #E8F0FE;\n",
       "      --fill-color: #1967D2;\n",
       "      --hover-bg-color: #E2EBFA;\n",
       "      --hover-fill-color: #174EA6;\n",
       "      --disabled-fill-color: #AAA;\n",
       "      --disabled-bg-color: #DDD;\n",
       "  }\n",
       "\n",
       "  [theme=dark] .colab-df-quickchart {\n",
       "      --bg-color: #3B4455;\n",
       "      --fill-color: #D2E3FC;\n",
       "      --hover-bg-color: #434B5C;\n",
       "      --hover-fill-color: #FFFFFF;\n",
       "      --disabled-bg-color: #3B4455;\n",
       "      --disabled-fill-color: #666;\n",
       "  }\n",
       "\n",
       "  .colab-df-quickchart {\n",
       "    background-color: var(--bg-color);\n",
       "    border: none;\n",
       "    border-radius: 50%;\n",
       "    cursor: pointer;\n",
       "    display: none;\n",
       "    fill: var(--fill-color);\n",
       "    height: 32px;\n",
       "    padding: 0;\n",
       "    width: 32px;\n",
       "  }\n",
       "\n",
       "  .colab-df-quickchart:hover {\n",
       "    background-color: var(--hover-bg-color);\n",
       "    box-shadow: 0 1px 2px rgba(60, 64, 67, 0.3), 0 1px 3px 1px rgba(60, 64, 67, 0.15);\n",
       "    fill: var(--button-hover-fill-color);\n",
       "  }\n",
       "\n",
       "  .colab-df-quickchart-complete:disabled,\n",
       "  .colab-df-quickchart-complete:disabled:hover {\n",
       "    background-color: var(--disabled-bg-color);\n",
       "    fill: var(--disabled-fill-color);\n",
       "    box-shadow: none;\n",
       "  }\n",
       "\n",
       "  .colab-df-spinner {\n",
       "    border: 2px solid var(--fill-color);\n",
       "    border-color: transparent;\n",
       "    border-bottom-color: var(--fill-color);\n",
       "    animation:\n",
       "      spin 1s steps(1) infinite;\n",
       "  }\n",
       "\n",
       "  @keyframes spin {\n",
       "    0% {\n",
       "      border-color: transparent;\n",
       "      border-bottom-color: var(--fill-color);\n",
       "      border-left-color: var(--fill-color);\n",
       "    }\n",
       "    20% {\n",
       "      border-color: transparent;\n",
       "      border-left-color: var(--fill-color);\n",
       "      border-top-color: var(--fill-color);\n",
       "    }\n",
       "    30% {\n",
       "      border-color: transparent;\n",
       "      border-left-color: var(--fill-color);\n",
       "      border-top-color: var(--fill-color);\n",
       "      border-right-color: var(--fill-color);\n",
       "    }\n",
       "    40% {\n",
       "      border-color: transparent;\n",
       "      border-right-color: var(--fill-color);\n",
       "      border-top-color: var(--fill-color);\n",
       "    }\n",
       "    60% {\n",
       "      border-color: transparent;\n",
       "      border-right-color: var(--fill-color);\n",
       "    }\n",
       "    80% {\n",
       "      border-color: transparent;\n",
       "      border-right-color: var(--fill-color);\n",
       "      border-bottom-color: var(--fill-color);\n",
       "    }\n",
       "    90% {\n",
       "      border-color: transparent;\n",
       "      border-bottom-color: var(--fill-color);\n",
       "    }\n",
       "  }\n",
       "</style>\n",
       "\n",
       "  <script>\n",
       "    async function quickchart(key) {\n",
       "      const quickchartButtonEl =\n",
       "        document.querySelector('#' + key + ' button');\n",
       "      quickchartButtonEl.disabled = true;  // To prevent multiple clicks.\n",
       "      quickchartButtonEl.classList.add('colab-df-spinner');\n",
       "      try {\n",
       "        const charts = await google.colab.kernel.invokeFunction(\n",
       "            'suggestCharts', [key], {});\n",
       "      } catch (error) {\n",
       "        console.error('Error during call to suggestCharts:', error);\n",
       "      }\n",
       "      quickchartButtonEl.classList.remove('colab-df-spinner');\n",
       "      quickchartButtonEl.classList.add('colab-df-quickchart-complete');\n",
       "    }\n",
       "    (() => {\n",
       "      let quickchartButtonEl =\n",
       "        document.querySelector('#df-c2be4b6e-bf73-4063-ad12-86f242eed2bc button');\n",
       "      quickchartButtonEl.style.display =\n",
       "        google.colab.kernel.accessAllowed ? 'block' : 'none';\n",
       "    })();\n",
       "  </script>\n",
       "</div>\n",
       "\n",
       "    </div>\n",
       "  </div>\n"
      ],
      "text/plain": [
       "        row.names         sbp     tobacco         ldl   adiposity       typea  \\\n",
       "count  462.000000  462.000000  462.000000  462.000000  462.000000  462.000000   \n",
       "mean   231.935065  138.326840    3.635649    4.740325   25.406732   53.103896   \n",
       "std    133.938585   20.496317    4.593024    2.070909    7.780699    9.817534   \n",
       "min      1.000000  101.000000    0.000000    0.980000    6.740000   13.000000   \n",
       "25%    116.250000  124.000000    0.052500    3.282500   19.775000   47.000000   \n",
       "50%    231.500000  134.000000    2.000000    4.340000   26.115000   53.000000   \n",
       "75%    347.750000  148.000000    5.500000    5.790000   31.227500   60.000000   \n",
       "max    463.000000  218.000000   31.200000   15.330000   42.490000   78.000000   \n",
       "\n",
       "          obesity     alcohol         age         chd  \n",
       "count  462.000000  462.000000  462.000000  462.000000  \n",
       "mean    26.044113   17.044394   42.816017    0.346320  \n",
       "std      4.213680   24.481059   14.608956    0.476313  \n",
       "min     14.700000    0.000000   15.000000    0.000000  \n",
       "25%     22.985000    0.510000   31.000000    0.000000  \n",
       "50%     25.805000    7.510000   45.000000    0.000000  \n",
       "75%     28.497500   23.892500   55.000000    1.000000  \n",
       "max     46.580000  147.190000   64.000000    1.000000  "
      ]
     },
     "execution_count": 588,
     "metadata": {},
     "output_type": "execute_result"
    }
   ],
   "source": [
    "dataset2=pd.read_csv('https://raw.githubusercontent.com/tofighi/MachineLearning/master/datasets/heart.csv')\n",
    "dataset2.describe()"
   ]
  },
  {
   "cell_type": "code",
   "execution_count": 589,
   "metadata": {
    "colab": {
     "base_uri": "https://localhost:8080/"
    },
    "executionInfo": {
     "elapsed": 14,
     "status": "ok",
     "timestamp": 1742554949971,
     "user": {
      "displayName": "Hazem Alsagheer",
      "userId": "05232312845808918344"
     },
     "user_tz": 240
    },
    "id": "EG0alUNcL2E_",
    "outputId": "a71dbead-66b8-4e38-a559-2f910946c6d1"
   },
   "outputs": [
    {
     "name": "stdout",
     "output_type": "stream",
     "text": [
      "row.names    False\n",
      "sbp          False\n",
      "tobacco      False\n",
      "ldl          False\n",
      "adiposity    False\n",
      "famhist      False\n",
      "typea        False\n",
      "obesity      False\n",
      "alcohol      False\n",
      "age          False\n",
      "chd          False\n",
      "dtype: bool\n",
      "row.names    False\n",
      "sbp          False\n",
      "tobacco      False\n",
      "ldl          False\n",
      "adiposity    False\n",
      "famhist      False\n",
      "typea        False\n",
      "obesity      False\n",
      "alcohol      False\n",
      "age          False\n",
      "chd          False\n",
      "dtype: bool\n"
     ]
    }
   ],
   "source": [
    "print(dataset2.isna().any())\n",
    "print(dataset2.isnull().any())"
   ]
  },
  {
   "cell_type": "code",
   "execution_count": 590,
   "metadata": {
    "colab": {
     "base_uri": "https://localhost:8080/",
     "height": 363
    },
    "executionInfo": {
     "elapsed": 24,
     "status": "ok",
     "timestamp": 1742554949994,
     "user": {
      "displayName": "Hazem Alsagheer",
      "userId": "05232312845808918344"
     },
     "user_tz": 240
    },
    "id": "CgPyv_4gAAS7",
    "outputId": "d64b53f5-1173-49a9-ac89-3194a9c0ba5c"
   },
   "outputs": [
    {
     "data": {
      "application/vnd.google.colaboratory.intrinsic+json": {
       "summary": "{\n  \"name\": \"dataset2\",\n  \"rows\": 462,\n  \"fields\": [\n    {\n      \"column\": \"row.names\",\n      \"properties\": {\n        \"dtype\": \"number\",\n        \"std\": 133,\n        \"min\": 1,\n        \"max\": 463,\n        \"num_unique_values\": 462,\n        \"samples\": [\n          226,\n          31,\n          40\n        ],\n        \"semantic_type\": \"\",\n        \"description\": \"\"\n      }\n    },\n    {\n      \"column\": \"sbp\",\n      \"properties\": {\n        \"dtype\": \"number\",\n        \"std\": 20,\n        \"min\": 101,\n        \"max\": 218,\n        \"num_unique_values\": 62,\n        \"samples\": [\n          176,\n          178,\n          160\n        ],\n        \"semantic_type\": \"\",\n        \"description\": \"\"\n      }\n    },\n    {\n      \"column\": \"tobacco\",\n      \"properties\": {\n        \"dtype\": \"number\",\n        \"std\": 4.593024078404595,\n        \"min\": 0.0,\n        \"max\": 31.2,\n        \"num_unique_values\": 214,\n        \"samples\": [\n          6.0,\n          2.38,\n          3.7\n        ],\n        \"semantic_type\": \"\",\n        \"description\": \"\"\n      }\n    },\n    {\n      \"column\": \"ldl\",\n      \"properties\": {\n        \"dtype\": \"number\",\n        \"std\": 2.0709091610593258,\n        \"min\": 0.98,\n        \"max\": 15.33,\n        \"num_unique_values\": 329,\n        \"samples\": [\n          5.8,\n          6.58,\n          5.13\n        ],\n        \"semantic_type\": \"\",\n        \"description\": \"\"\n      }\n    },\n    {\n      \"column\": \"adiposity\",\n      \"properties\": {\n        \"dtype\": \"number\",\n        \"std\": 7.7806985958397625,\n        \"min\": 6.74,\n        \"max\": 42.49,\n        \"num_unique_values\": 408,\n        \"samples\": [\n          26.35,\n          27.68,\n          33.23\n        ],\n        \"semantic_type\": \"\",\n        \"description\": \"\"\n      }\n    },\n    {\n      \"column\": \"famhist\",\n      \"properties\": {\n        \"dtype\": \"category\",\n        \"num_unique_values\": 2,\n        \"samples\": [\n          \"Absent\",\n          \"Present\"\n        ],\n        \"semantic_type\": \"\",\n        \"description\": \"\"\n      }\n    },\n    {\n      \"column\": \"typea\",\n      \"properties\": {\n        \"dtype\": \"number\",\n        \"std\": 9,\n        \"min\": 13,\n        \"max\": 78,\n        \"num_unique_values\": 54,\n        \"samples\": [\n          57,\n          20\n        ],\n        \"semantic_type\": \"\",\n        \"description\": \"\"\n      }\n    },\n    {\n      \"column\": \"obesity\",\n      \"properties\": {\n        \"dtype\": \"number\",\n        \"std\": 4.213680226897765,\n        \"min\": 14.7,\n        \"max\": 46.58,\n        \"num_unique_values\": 400,\n        \"samples\": [\n          19.48,\n          24.32\n        ],\n        \"semantic_type\": \"\",\n        \"description\": \"\"\n      }\n    },\n    {\n      \"column\": \"alcohol\",\n      \"properties\": {\n        \"dtype\": \"number\",\n        \"std\": 24.481058691658568,\n        \"min\": 0.0,\n        \"max\": 147.19,\n        \"num_unique_values\": 249,\n        \"samples\": [\n          7.85,\n          2.62\n        ],\n        \"semantic_type\": \"\",\n        \"description\": \"\"\n      }\n    },\n    {\n      \"column\": \"age\",\n      \"properties\": {\n        \"dtype\": \"number\",\n        \"std\": 14,\n        \"min\": 15,\n        \"max\": 64,\n        \"num_unique_values\": 49,\n        \"samples\": [\n          62,\n          47\n        ],\n        \"semantic_type\": \"\",\n        \"description\": \"\"\n      }\n    },\n    {\n      \"column\": \"chd\",\n      \"properties\": {\n        \"dtype\": \"number\",\n        \"std\": 0,\n        \"min\": 0,\n        \"max\": 1,\n        \"num_unique_values\": 2,\n        \"samples\": [\n          0,\n          1\n        ],\n        \"semantic_type\": \"\",\n        \"description\": \"\"\n      }\n    }\n  ]\n}",
       "type": "dataframe",
       "variable_name": "dataset2"
      },
      "text/html": [
       "\n",
       "  <div id=\"df-d06c15ba-65ee-497f-ac70-8b5deead4039\" class=\"colab-df-container\">\n",
       "    <div>\n",
       "<style scoped>\n",
       "    .dataframe tbody tr th:only-of-type {\n",
       "        vertical-align: middle;\n",
       "    }\n",
       "\n",
       "    .dataframe tbody tr th {\n",
       "        vertical-align: top;\n",
       "    }\n",
       "\n",
       "    .dataframe thead th {\n",
       "        text-align: right;\n",
       "    }\n",
       "</style>\n",
       "<table border=\"1\" class=\"dataframe\">\n",
       "  <thead>\n",
       "    <tr style=\"text-align: right;\">\n",
       "      <th></th>\n",
       "      <th>row.names</th>\n",
       "      <th>sbp</th>\n",
       "      <th>tobacco</th>\n",
       "      <th>ldl</th>\n",
       "      <th>adiposity</th>\n",
       "      <th>famhist</th>\n",
       "      <th>typea</th>\n",
       "      <th>obesity</th>\n",
       "      <th>alcohol</th>\n",
       "      <th>age</th>\n",
       "      <th>chd</th>\n",
       "    </tr>\n",
       "  </thead>\n",
       "  <tbody>\n",
       "    <tr>\n",
       "      <th>0</th>\n",
       "      <td>1</td>\n",
       "      <td>160</td>\n",
       "      <td>12.00</td>\n",
       "      <td>5.73</td>\n",
       "      <td>23.11</td>\n",
       "      <td>Present</td>\n",
       "      <td>49</td>\n",
       "      <td>25.30</td>\n",
       "      <td>97.20</td>\n",
       "      <td>52</td>\n",
       "      <td>1</td>\n",
       "    </tr>\n",
       "    <tr>\n",
       "      <th>1</th>\n",
       "      <td>2</td>\n",
       "      <td>144</td>\n",
       "      <td>0.01</td>\n",
       "      <td>4.41</td>\n",
       "      <td>28.61</td>\n",
       "      <td>Absent</td>\n",
       "      <td>55</td>\n",
       "      <td>28.87</td>\n",
       "      <td>2.06</td>\n",
       "      <td>63</td>\n",
       "      <td>1</td>\n",
       "    </tr>\n",
       "    <tr>\n",
       "      <th>2</th>\n",
       "      <td>3</td>\n",
       "      <td>118</td>\n",
       "      <td>0.08</td>\n",
       "      <td>3.48</td>\n",
       "      <td>32.28</td>\n",
       "      <td>Present</td>\n",
       "      <td>52</td>\n",
       "      <td>29.14</td>\n",
       "      <td>3.81</td>\n",
       "      <td>46</td>\n",
       "      <td>0</td>\n",
       "    </tr>\n",
       "    <tr>\n",
       "      <th>3</th>\n",
       "      <td>4</td>\n",
       "      <td>170</td>\n",
       "      <td>7.50</td>\n",
       "      <td>6.41</td>\n",
       "      <td>38.03</td>\n",
       "      <td>Present</td>\n",
       "      <td>51</td>\n",
       "      <td>31.99</td>\n",
       "      <td>24.26</td>\n",
       "      <td>58</td>\n",
       "      <td>1</td>\n",
       "    </tr>\n",
       "    <tr>\n",
       "      <th>4</th>\n",
       "      <td>5</td>\n",
       "      <td>134</td>\n",
       "      <td>13.60</td>\n",
       "      <td>3.50</td>\n",
       "      <td>27.78</td>\n",
       "      <td>Present</td>\n",
       "      <td>60</td>\n",
       "      <td>25.99</td>\n",
       "      <td>57.34</td>\n",
       "      <td>49</td>\n",
       "      <td>1</td>\n",
       "    </tr>\n",
       "    <tr>\n",
       "      <th>5</th>\n",
       "      <td>6</td>\n",
       "      <td>132</td>\n",
       "      <td>6.20</td>\n",
       "      <td>6.47</td>\n",
       "      <td>36.21</td>\n",
       "      <td>Present</td>\n",
       "      <td>62</td>\n",
       "      <td>30.77</td>\n",
       "      <td>14.14</td>\n",
       "      <td>45</td>\n",
       "      <td>0</td>\n",
       "    </tr>\n",
       "    <tr>\n",
       "      <th>6</th>\n",
       "      <td>7</td>\n",
       "      <td>142</td>\n",
       "      <td>4.05</td>\n",
       "      <td>3.38</td>\n",
       "      <td>16.20</td>\n",
       "      <td>Absent</td>\n",
       "      <td>59</td>\n",
       "      <td>20.81</td>\n",
       "      <td>2.62</td>\n",
       "      <td>38</td>\n",
       "      <td>0</td>\n",
       "    </tr>\n",
       "    <tr>\n",
       "      <th>7</th>\n",
       "      <td>8</td>\n",
       "      <td>114</td>\n",
       "      <td>4.08</td>\n",
       "      <td>4.59</td>\n",
       "      <td>14.60</td>\n",
       "      <td>Present</td>\n",
       "      <td>62</td>\n",
       "      <td>23.11</td>\n",
       "      <td>6.72</td>\n",
       "      <td>58</td>\n",
       "      <td>1</td>\n",
       "    </tr>\n",
       "    <tr>\n",
       "      <th>8</th>\n",
       "      <td>9</td>\n",
       "      <td>114</td>\n",
       "      <td>0.00</td>\n",
       "      <td>3.83</td>\n",
       "      <td>19.40</td>\n",
       "      <td>Present</td>\n",
       "      <td>49</td>\n",
       "      <td>24.86</td>\n",
       "      <td>2.49</td>\n",
       "      <td>29</td>\n",
       "      <td>0</td>\n",
       "    </tr>\n",
       "    <tr>\n",
       "      <th>9</th>\n",
       "      <td>10</td>\n",
       "      <td>132</td>\n",
       "      <td>0.00</td>\n",
       "      <td>5.80</td>\n",
       "      <td>30.96</td>\n",
       "      <td>Present</td>\n",
       "      <td>69</td>\n",
       "      <td>30.11</td>\n",
       "      <td>0.00</td>\n",
       "      <td>53</td>\n",
       "      <td>1</td>\n",
       "    </tr>\n",
       "  </tbody>\n",
       "</table>\n",
       "</div>\n",
       "    <div class=\"colab-df-buttons\">\n",
       "\n",
       "  <div class=\"colab-df-container\">\n",
       "    <button class=\"colab-df-convert\" onclick=\"convertToInteractive('df-d06c15ba-65ee-497f-ac70-8b5deead4039')\"\n",
       "            title=\"Convert this dataframe to an interactive table.\"\n",
       "            style=\"display:none;\">\n",
       "\n",
       "  <svg xmlns=\"http://www.w3.org/2000/svg\" height=\"24px\" viewBox=\"0 -960 960 960\">\n",
       "    <path d=\"M120-120v-720h720v720H120Zm60-500h600v-160H180v160Zm220 220h160v-160H400v160Zm0 220h160v-160H400v160ZM180-400h160v-160H180v160Zm440 0h160v-160H620v160ZM180-180h160v-160H180v160Zm440 0h160v-160H620v160Z\"/>\n",
       "  </svg>\n",
       "    </button>\n",
       "\n",
       "  <style>\n",
       "    .colab-df-container {\n",
       "      display:flex;\n",
       "      gap: 12px;\n",
       "    }\n",
       "\n",
       "    .colab-df-convert {\n",
       "      background-color: #E8F0FE;\n",
       "      border: none;\n",
       "      border-radius: 50%;\n",
       "      cursor: pointer;\n",
       "      display: none;\n",
       "      fill: #1967D2;\n",
       "      height: 32px;\n",
       "      padding: 0 0 0 0;\n",
       "      width: 32px;\n",
       "    }\n",
       "\n",
       "    .colab-df-convert:hover {\n",
       "      background-color: #E2EBFA;\n",
       "      box-shadow: 0px 1px 2px rgba(60, 64, 67, 0.3), 0px 1px 3px 1px rgba(60, 64, 67, 0.15);\n",
       "      fill: #174EA6;\n",
       "    }\n",
       "\n",
       "    .colab-df-buttons div {\n",
       "      margin-bottom: 4px;\n",
       "    }\n",
       "\n",
       "    [theme=dark] .colab-df-convert {\n",
       "      background-color: #3B4455;\n",
       "      fill: #D2E3FC;\n",
       "    }\n",
       "\n",
       "    [theme=dark] .colab-df-convert:hover {\n",
       "      background-color: #434B5C;\n",
       "      box-shadow: 0px 1px 3px 1px rgba(0, 0, 0, 0.15);\n",
       "      filter: drop-shadow(0px 1px 2px rgba(0, 0, 0, 0.3));\n",
       "      fill: #FFFFFF;\n",
       "    }\n",
       "  </style>\n",
       "\n",
       "    <script>\n",
       "      const buttonEl =\n",
       "        document.querySelector('#df-d06c15ba-65ee-497f-ac70-8b5deead4039 button.colab-df-convert');\n",
       "      buttonEl.style.display =\n",
       "        google.colab.kernel.accessAllowed ? 'block' : 'none';\n",
       "\n",
       "      async function convertToInteractive(key) {\n",
       "        const element = document.querySelector('#df-d06c15ba-65ee-497f-ac70-8b5deead4039');\n",
       "        const dataTable =\n",
       "          await google.colab.kernel.invokeFunction('convertToInteractive',\n",
       "                                                    [key], {});\n",
       "        if (!dataTable) return;\n",
       "\n",
       "        const docLinkHtml = 'Like what you see? Visit the ' +\n",
       "          '<a target=\"_blank\" href=https://colab.research.google.com/notebooks/data_table.ipynb>data table notebook</a>'\n",
       "          + ' to learn more about interactive tables.';\n",
       "        element.innerHTML = '';\n",
       "        dataTable['output_type'] = 'display_data';\n",
       "        await google.colab.output.renderOutput(dataTable, element);\n",
       "        const docLink = document.createElement('div');\n",
       "        docLink.innerHTML = docLinkHtml;\n",
       "        element.appendChild(docLink);\n",
       "      }\n",
       "    </script>\n",
       "  </div>\n",
       "\n",
       "\n",
       "<div id=\"df-99385820-cf8a-4604-9ecb-8271c511cd83\">\n",
       "  <button class=\"colab-df-quickchart\" onclick=\"quickchart('df-99385820-cf8a-4604-9ecb-8271c511cd83')\"\n",
       "            title=\"Suggest charts\"\n",
       "            style=\"display:none;\">\n",
       "\n",
       "<svg xmlns=\"http://www.w3.org/2000/svg\" height=\"24px\"viewBox=\"0 0 24 24\"\n",
       "     width=\"24px\">\n",
       "    <g>\n",
       "        <path d=\"M19 3H5c-1.1 0-2 .9-2 2v14c0 1.1.9 2 2 2h14c1.1 0 2-.9 2-2V5c0-1.1-.9-2-2-2zM9 17H7v-7h2v7zm4 0h-2V7h2v10zm4 0h-2v-4h2v4z\"/>\n",
       "    </g>\n",
       "</svg>\n",
       "  </button>\n",
       "\n",
       "<style>\n",
       "  .colab-df-quickchart {\n",
       "      --bg-color: #E8F0FE;\n",
       "      --fill-color: #1967D2;\n",
       "      --hover-bg-color: #E2EBFA;\n",
       "      --hover-fill-color: #174EA6;\n",
       "      --disabled-fill-color: #AAA;\n",
       "      --disabled-bg-color: #DDD;\n",
       "  }\n",
       "\n",
       "  [theme=dark] .colab-df-quickchart {\n",
       "      --bg-color: #3B4455;\n",
       "      --fill-color: #D2E3FC;\n",
       "      --hover-bg-color: #434B5C;\n",
       "      --hover-fill-color: #FFFFFF;\n",
       "      --disabled-bg-color: #3B4455;\n",
       "      --disabled-fill-color: #666;\n",
       "  }\n",
       "\n",
       "  .colab-df-quickchart {\n",
       "    background-color: var(--bg-color);\n",
       "    border: none;\n",
       "    border-radius: 50%;\n",
       "    cursor: pointer;\n",
       "    display: none;\n",
       "    fill: var(--fill-color);\n",
       "    height: 32px;\n",
       "    padding: 0;\n",
       "    width: 32px;\n",
       "  }\n",
       "\n",
       "  .colab-df-quickchart:hover {\n",
       "    background-color: var(--hover-bg-color);\n",
       "    box-shadow: 0 1px 2px rgba(60, 64, 67, 0.3), 0 1px 3px 1px rgba(60, 64, 67, 0.15);\n",
       "    fill: var(--button-hover-fill-color);\n",
       "  }\n",
       "\n",
       "  .colab-df-quickchart-complete:disabled,\n",
       "  .colab-df-quickchart-complete:disabled:hover {\n",
       "    background-color: var(--disabled-bg-color);\n",
       "    fill: var(--disabled-fill-color);\n",
       "    box-shadow: none;\n",
       "  }\n",
       "\n",
       "  .colab-df-spinner {\n",
       "    border: 2px solid var(--fill-color);\n",
       "    border-color: transparent;\n",
       "    border-bottom-color: var(--fill-color);\n",
       "    animation:\n",
       "      spin 1s steps(1) infinite;\n",
       "  }\n",
       "\n",
       "  @keyframes spin {\n",
       "    0% {\n",
       "      border-color: transparent;\n",
       "      border-bottom-color: var(--fill-color);\n",
       "      border-left-color: var(--fill-color);\n",
       "    }\n",
       "    20% {\n",
       "      border-color: transparent;\n",
       "      border-left-color: var(--fill-color);\n",
       "      border-top-color: var(--fill-color);\n",
       "    }\n",
       "    30% {\n",
       "      border-color: transparent;\n",
       "      border-left-color: var(--fill-color);\n",
       "      border-top-color: var(--fill-color);\n",
       "      border-right-color: var(--fill-color);\n",
       "    }\n",
       "    40% {\n",
       "      border-color: transparent;\n",
       "      border-right-color: var(--fill-color);\n",
       "      border-top-color: var(--fill-color);\n",
       "    }\n",
       "    60% {\n",
       "      border-color: transparent;\n",
       "      border-right-color: var(--fill-color);\n",
       "    }\n",
       "    80% {\n",
       "      border-color: transparent;\n",
       "      border-right-color: var(--fill-color);\n",
       "      border-bottom-color: var(--fill-color);\n",
       "    }\n",
       "    90% {\n",
       "      border-color: transparent;\n",
       "      border-bottom-color: var(--fill-color);\n",
       "    }\n",
       "  }\n",
       "</style>\n",
       "\n",
       "  <script>\n",
       "    async function quickchart(key) {\n",
       "      const quickchartButtonEl =\n",
       "        document.querySelector('#' + key + ' button');\n",
       "      quickchartButtonEl.disabled = true;  // To prevent multiple clicks.\n",
       "      quickchartButtonEl.classList.add('colab-df-spinner');\n",
       "      try {\n",
       "        const charts = await google.colab.kernel.invokeFunction(\n",
       "            'suggestCharts', [key], {});\n",
       "      } catch (error) {\n",
       "        console.error('Error during call to suggestCharts:', error);\n",
       "      }\n",
       "      quickchartButtonEl.classList.remove('colab-df-spinner');\n",
       "      quickchartButtonEl.classList.add('colab-df-quickchart-complete');\n",
       "    }\n",
       "    (() => {\n",
       "      let quickchartButtonEl =\n",
       "        document.querySelector('#df-99385820-cf8a-4604-9ecb-8271c511cd83 button');\n",
       "      quickchartButtonEl.style.display =\n",
       "        google.colab.kernel.accessAllowed ? 'block' : 'none';\n",
       "    })();\n",
       "  </script>\n",
       "</div>\n",
       "\n",
       "    </div>\n",
       "  </div>\n"
      ],
      "text/plain": [
       "   row.names  sbp  tobacco   ldl  adiposity  famhist  typea  obesity  alcohol  \\\n",
       "0          1  160    12.00  5.73      23.11  Present     49    25.30    97.20   \n",
       "1          2  144     0.01  4.41      28.61   Absent     55    28.87     2.06   \n",
       "2          3  118     0.08  3.48      32.28  Present     52    29.14     3.81   \n",
       "3          4  170     7.50  6.41      38.03  Present     51    31.99    24.26   \n",
       "4          5  134    13.60  3.50      27.78  Present     60    25.99    57.34   \n",
       "5          6  132     6.20  6.47      36.21  Present     62    30.77    14.14   \n",
       "6          7  142     4.05  3.38      16.20   Absent     59    20.81     2.62   \n",
       "7          8  114     4.08  4.59      14.60  Present     62    23.11     6.72   \n",
       "8          9  114     0.00  3.83      19.40  Present     49    24.86     2.49   \n",
       "9         10  132     0.00  5.80      30.96  Present     69    30.11     0.00   \n",
       "\n",
       "   age  chd  \n",
       "0   52    1  \n",
       "1   63    1  \n",
       "2   46    0  \n",
       "3   58    1  \n",
       "4   49    1  \n",
       "5   45    0  \n",
       "6   38    0  \n",
       "7   58    1  \n",
       "8   29    0  \n",
       "9   53    1  "
      ]
     },
     "execution_count": 590,
     "metadata": {},
     "output_type": "execute_result"
    }
   ],
   "source": [
    "dataset2.head(10)"
   ]
  },
  {
   "cell_type": "markdown",
   "metadata": {
    "id": "Wr_qEgh3rlhP"
   },
   "source": [
    "# **Part A:** K-means"
   ]
  },
  {
   "cell_type": "code",
   "execution_count": 591,
   "metadata": {
    "executionInfo": {
     "elapsed": 3,
     "status": "ok",
     "timestamp": 1742554949996,
     "user": {
      "displayName": "Hazem Alsagheer",
      "userId": "05232312845808918344"
     },
     "user_tz": 240
    },
    "id": "SwNTCMSizENh"
   },
   "outputs": [],
   "source": [
    "def kmeans(seeds, points):\n",
    "  clusters={}\n",
    "  for s in seeds:\n",
    "    clusters[s]=[]\n",
    "\n",
    "  for p in points:\n",
    "    distances=[]\n",
    "    for index, s in enumerate(seeds):\n",
    "      distances.append(euclidean_distance(p,s))\n",
    "\n",
    "    indexOfMinValue=distances.index(min(distances))\n",
    "    clusters[seeds[indexOfMinValue]].append(p)\n",
    "\n",
    "  print(clusters)\n",
    "  return clusters\n",
    "\n",
    "\n"
   ]
  },
  {
   "cell_type": "markdown",
   "metadata": {
    "id": "JHxtHAiEMqF8"
   },
   "source": [
    "### **Q1.** The new clusters (i.e. the examples belonging to each cluster)"
   ]
  },
  {
   "cell_type": "code",
   "execution_count": 592,
   "metadata": {
    "colab": {
     "base_uri": "https://localhost:8080/"
    },
    "executionInfo": {
     "elapsed": 13,
     "status": "ok",
     "timestamp": 1742554950010,
     "user": {
      "displayName": "Hazem Alsagheer",
      "userId": "05232312845808918344"
     },
     "user_tz": 240
    },
    "id": "qjEOA-OFpek8",
    "outputId": "12a55b41-77fc-43f9-91eb-aaf535293243"
   },
   "outputs": [
    {
     "name": "stdout",
     "output_type": "stream",
     "text": [
      "{(2, 5): [(2, 5), (1, 2)], (8, 4): [(8, 4), (7, 5), (6, 4)], (4, 9): [(2, 10), (5, 8), (4, 9)]}\n"
     ]
    }
   ],
   "source": [
    "initial_clusters=kmeans([points[1],points[2],points[7]], points)"
   ]
  },
  {
   "cell_type": "code",
   "execution_count": 593,
   "metadata": {
    "executionInfo": {
     "elapsed": 2,
     "status": "ok",
     "timestamp": 1742554950011,
     "user": {
      "displayName": "Hazem Alsagheer",
      "userId": "05232312845808918344"
     },
     "user_tz": 240
    },
    "id": "_HjM4PQX0zKN"
   },
   "outputs": [],
   "source": [
    "def centralization(clusters):\n",
    "  newSeeds=[]\n",
    "  for seed in clusters:\n",
    "    c=clusters[seed]\n",
    "    length=len(c)\n",
    "    newCentroid=np.sum(c,axis=0)/length\n",
    "    newCentroid=tuple(np.round(newCentroid,2).tolist())\n",
    "    newSeeds.append(newCentroid)\n",
    "  return newSeeds"
   ]
  },
  {
   "cell_type": "markdown",
   "metadata": {
    "id": "suBbuvdLMy6l"
   },
   "source": [
    "### **Q2.** The centers of the new clusters"
   ]
  },
  {
   "cell_type": "code",
   "execution_count": 594,
   "metadata": {
    "colab": {
     "base_uri": "https://localhost:8080/"
    },
    "executionInfo": {
     "elapsed": 40,
     "status": "ok",
     "timestamp": 1742554950050,
     "user": {
      "displayName": "Hazem Alsagheer",
      "userId": "05232312845808918344"
     },
     "user_tz": 240
    },
    "id": "mCcznXsG4x8z",
    "outputId": "be3fcfc0-f76e-4c42-bcc0-562e97542dce"
   },
   "outputs": [
    {
     "name": "stdout",
     "output_type": "stream",
     "text": [
      "[(1.5, 3.5), (7.0, 4.33), (3.67, 9.0)]\n"
     ]
    }
   ],
   "source": [
    "newCenters=centralization(initial_clusters)\n",
    "print(newCenters)"
   ]
  },
  {
   "cell_type": "markdown",
   "metadata": {
    "id": "92YfjYvWSfpZ"
   },
   "source": [
    "### **Q3.** Plot a 10 by 10 space with all the 8 points and show the clusters after the first epoch and the new."
   ]
  },
  {
   "cell_type": "code",
   "execution_count": 595,
   "metadata": {
    "executionInfo": {
     "elapsed": 4,
     "status": "ok",
     "timestamp": 1742554950053,
     "user": {
      "displayName": "Hazem Alsagheer",
      "userId": "05232312845808918344"
     },
     "user_tz": 240
    },
    "id": "yOoGtm44Fajh"
   },
   "outputs": [],
   "source": [
    "# Plot initial cluster assignments\n",
    "def plotClusters(clusters, centers, title=\"\"):\n",
    "  plt.figure()\n",
    "\n",
    "  for count, points in enumerate(clusters.values()):\n",
    "      x_vals = [p[0] for p in points]\n",
    "      y_vals = [p[1] for p in points]\n",
    "      plt.scatter(x_vals, y_vals, color=f\"C{count+1}\", label=f\"Cluster {count}\")\n",
    "  for count, center in enumerate(centers):\n",
    "    plt.scatter(center[0], center[1], marker='x', s=100, color=f\"C{count+1}\",  label=f\"New Center {count}\")\n",
    "\n",
    "  plt.title(f\"{title} Clusters\")\n",
    "  plt.legend()\n",
    "  plt.show()"
   ]
  },
  {
   "cell_type": "code",
   "execution_count": 596,
   "metadata": {
    "colab": {
     "base_uri": "https://localhost:8080/",
     "height": 452
    },
    "executionInfo": {
     "elapsed": 44,
     "status": "ok",
     "timestamp": 1742554950096,
     "user": {
      "displayName": "Hazem Alsagheer",
      "userId": "05232312845808918344"
     },
     "user_tz": 240
    },
    "id": "opnch_2AJY8u",
    "outputId": "4a548013-057e-426b-a65e-fb31336847ef"
   },
   "outputs": [
    {
     "data": {
      "image/png": "[encoded data removed]",
      "text/plain": [
       "<Figure size 640x480 with 1 Axes>"
      ]
     },
     "metadata": {},
     "output_type": "display_data"
    }
   ],
   "source": [
    "plotClusters(initial_clusters,[points[1],points[2],points[7]])"
   ]
  },
  {
   "cell_type": "markdown",
   "metadata": {
    "id": "hdP7BNzYFePn"
   },
   "source": [
    "## Determining the max numbers of iterations before the model settles"
   ]
  },
  {
   "cell_type": "markdown",
   "metadata": {
    "id": "HJawRUYlS8la"
   },
   "source": [
    "### **Q4.** How many are more iterations needed to converge? Draw the result for each epoch.\n",
    "\n"
   ]
  },
  {
   "cell_type": "code",
   "execution_count": 597,
   "metadata": {
    "executionInfo": {
     "elapsed": 1,
     "status": "ok",
     "timestamp": 1742554950098,
     "user": {
      "displayName": "Hazem Alsagheer",
      "userId": "05232312845808918344"
     },
     "user_tz": 240
    },
    "id": "ruJIHhbPFwhW"
   },
   "outputs": [],
   "source": [
    "def iterateKmeans( points,preUpdateCenters,preUpdateClusters):\n",
    "  newClusters={}\n",
    "  count=0\n",
    "  while (True):\n",
    "    newClusters=kmeans(preUpdateCenters, points)\n",
    "    if newClusters==preUpdateClusters:\n",
    "      break\n",
    "\n",
    "    else:\n",
    "      count+=1\n",
    "      print(f\"Update Number: {count}\")\n",
    "      preUpdateClusters=newClusters\n",
    "      preUpdateCenters=centralization(newClusters)\n",
    "\n",
    "    plotClusters(newClusters,preUpdateCenters)\n",
    "\n",
    "  newCenters=preUpdateCenters\n",
    "  return newCenters,newClusters"
   ]
  },
  {
   "cell_type": "code",
   "execution_count": 598,
   "metadata": {
    "colab": {
     "base_uri": "https://localhost:8080/",
     "height": 504
    },
    "executionInfo": {
     "elapsed": 213,
     "status": "ok",
     "timestamp": 1742554950313,
     "user": {
      "displayName": "Hazem Alsagheer",
      "userId": "05232312845808918344"
     },
     "user_tz": 240
    },
    "id": "rLp_teXjtb46",
    "outputId": "c4eaf357-823d-4afa-958a-1a17de5c3420"
   },
   "outputs": [
    {
     "name": "stdout",
     "output_type": "stream",
     "text": [
      "{(1.5, 3.5): [(2, 5), (1, 2)], (7.0, 4.33): [(8, 4), (7, 5), (6, 4)], (3.67, 9.0): [(2, 10), (5, 8), (4, 9)]}\n",
      "Update Number: 1\n"
     ]
    },
    {
     "data": {
      "image/png": "[encoded data removed]",
      "text/plain": [
       "<Figure size 640x480 with 1 Axes>"
      ]
     },
     "metadata": {},
     "output_type": "display_data"
    },
    {
     "name": "stdout",
     "output_type": "stream",
     "text": [
      "{(1.5, 3.5): [(2, 5), (1, 2)], (7.0, 4.33): [(8, 4), (7, 5), (6, 4)], (3.67, 9.0): [(2, 10), (5, 8), (4, 9)]}\n"
     ]
    }
   ],
   "source": [
    "finalCentersDS1, finalClustersDS1= iterateKmeans(points,newCenters,initial_clusters)"
   ]
  },
  {
   "cell_type": "code",
   "execution_count": 599,
   "metadata": {
    "colab": {
     "base_uri": "https://localhost:8080/"
    },
    "executionInfo": {
     "elapsed": 15,
     "status": "ok",
     "timestamp": 1742554950329,
     "user": {
      "displayName": "Hazem Alsagheer",
      "userId": "05232312845808918344"
     },
     "user_tz": 240
    },
    "id": "DQ2HiqLJLv_D",
    "outputId": "f942f476-f649-4912-bb97-9ca9aa78a19e"
   },
   "outputs": [
    {
     "data": {
      "text/plain": [
       "[(1.5, 3.5), (7.0, 4.33), (3.67, 9.0)]"
      ]
     },
     "execution_count": 599,
     "metadata": {},
     "output_type": "execute_result"
    }
   ],
   "source": [
    "finalCentersDS1"
   ]
  },
  {
   "cell_type": "markdown",
   "metadata": {
    "id": "yRMjaoNtUV3w"
   },
   "source": [
    "### **Q5.** Based on the answer for Q4, run that many epochs for convergence and present a final cluster plot."
   ]
  },
  {
   "cell_type": "code",
   "execution_count": 600,
   "metadata": {
    "colab": {
     "base_uri": "https://localhost:8080/",
     "height": 452
    },
    "executionInfo": {
     "elapsed": 175,
     "status": "ok",
     "timestamp": 1742554950505,
     "user": {
      "displayName": "Hazem Alsagheer",
      "userId": "05232312845808918344"
     },
     "user_tz": 240
    },
    "id": "-P6VNp-SuUoO",
    "outputId": "1e393671-4938-4070-abd3-25668e3bf0d4"
   },
   "outputs": [
    {
     "data": {
      "image/png": "[encoded data removed]",
      "text/plain": [
       "<Figure size 640x480 with 1 Axes>"
      ]
     },
     "metadata": {},
     "output_type": "display_data"
    }
   ],
   "source": [
    "plotClusters(finalClustersDS1,finalCentersDS1,\"K-Means\")"
   ]
  },
  {
   "cell_type": "markdown",
   "metadata": {
    "id": "pHrpHLTdRqC7"
   },
   "source": [
    "# **Kmeans applied on Dataset2**"
   ]
  },
  {
   "cell_type": "markdown",
   "metadata": {
    "id": "n73NAK9MU52d"
   },
   "source": [
    "#### Data Visualization\n"
   ]
  },
  {
   "cell_type": "markdown",
   "metadata": {
    "id": "JXLRYfgSqrFB"
   },
   "source": [
    "### **Q7.** Plot ’sbp’ vs ’tobacco’ and represent the actual data points with different color to show the two classes. Hint: you may have to convert the labels from categorical to numeric values to plot."
   ]
  },
  {
   "cell_type": "code",
   "execution_count": 601,
   "metadata": {
    "colab": {
     "base_uri": "https://localhost:8080/",
     "height": 472
    },
    "executionInfo": {
     "elapsed": 159,
     "status": "ok",
     "timestamp": 1742554950667,
     "user": {
      "displayName": "Hazem Alsagheer",
      "userId": "05232312845808918344"
     },
     "user_tz": 240
    },
    "id": "1w9n4DVyHLL6",
    "outputId": "fe93665f-9c1d-4225-eeb5-ce320ded0f38"
   },
   "outputs": [
    {
     "data": {
      "image/png": "[encoded data removed]",
      "text/plain": [
       "<Figure size 640x480 with 1 Axes>"
      ]
     },
     "metadata": {},
     "output_type": "display_data"
    }
   ],
   "source": [
    "plt.figure()\n",
    "class0=dataset2[dataset2['chd']==0]\n",
    "class1=dataset2[dataset2['chd']==1]\n",
    "plt.scatter(class0.iloc[:,1], class0.iloc[:,2], color=\"C0\", label=\"0\")\n",
    "plt.scatter(class1.iloc[:,1], class1.iloc[:,2], color=\"C1\", label=\"1\")\n",
    "plt.xlabel(\"sbp\")\n",
    "plt.ylabel(\"tobacco\")\n",
    "plt.title(\"Actual sbp vs tobacco\")\n",
    "plt.legend()\n",
    "plt.show()"
   ]
  },
  {
   "cell_type": "markdown",
   "metadata": {
    "id": "6KgcyynfZQDs"
   },
   "source": [
    "#### Preparing data in a tuple to fit into kmeans"
   ]
  },
  {
   "cell_type": "code",
   "execution_count": 602,
   "metadata": {
    "colab": {
     "base_uri": "https://localhost:8080/"
    },
    "executionInfo": {
     "elapsed": 15,
     "status": "ok",
     "timestamp": 1742554950683,
     "user": {
      "displayName": "Hazem Alsagheer",
      "userId": "05232312845808918344"
     },
     "user_tz": 240
    },
    "id": "vS053PlOq62V",
    "outputId": "14458d1c-99ce-418d-9eea-1e1b46234306"
   },
   "outputs": [
    {
     "data": {
      "text/plain": [
       "[(160, 12.0), (144, 0.01), (118, 0.08), (170, 7.5), (134, 13.6)]"
      ]
     },
     "execution_count": 602,
     "metadata": {},
     "output_type": "execute_result"
    }
   ],
   "source": [
    "list_of_tuples = list(zip(dataset2.iloc[:300,1], dataset2.iloc[:300,2]))\n",
    "pointsDS2=list_of_tuples\n",
    "pointsDS2[:5]"
   ]
  },
  {
   "cell_type": "code",
   "execution_count": 603,
   "metadata": {
    "colab": {
     "base_uri": "https://localhost:8080/"
    },
    "executionInfo": {
     "elapsed": 14,
     "status": "ok",
     "timestamp": 1742554950698,
     "user": {
      "displayName": "Hazem Alsagheer",
      "userId": "05232312845808918344"
     },
     "user_tz": 240
    },
    "id": "nO1SEh6LJ3RY",
    "outputId": "60117889-feab-44a9-e4da-f0976b4b46ea"
   },
   "outputs": [
    {
     "data": {
      "text/plain": [
       "[(138, 0.0), (138, 2.27), (170, 0.0), (128, 0.0), (136, 1.2)]"
      ]
     },
     "execution_count": 603,
     "metadata": {},
     "output_type": "execute_result"
    }
   ],
   "source": [
    "list_of_tuples_test = list(zip(dataset2.iloc[300:,1], dataset2.iloc[300:,2]))\n",
    "pointsDS2Test=list_of_tuples_test\n",
    "pointsDS2Test[:5]"
   ]
  },
  {
   "cell_type": "code",
   "execution_count": 604,
   "metadata": {
    "colab": {
     "base_uri": "https://localhost:8080/"
    },
    "executionInfo": {
     "elapsed": 69,
     "status": "ok",
     "timestamp": 1742554950768,
     "user": {
      "displayName": "Hazem Alsagheer",
      "userId": "05232312845808918344"
     },
     "user_tz": 240
    },
    "id": "gdlfvKb0s44F",
    "outputId": "24bd3666-2adf-4c0d-8b35-7368ce6feac3"
   },
   "outputs": [
    {
     "name": "stdout",
     "output_type": "stream",
     "text": [
      "{(138, 0.0): [(138, 0.0), (170, 0.0), (128, 0.0), (128, 0.0), (130, 0.05), (174, 0.0), (124, 0.0), (154, 0.0), (156, 0.0), (132, 0.0), (128, 0.0), (144, 0.4), (154, 0.31), (148, 0.0), (138, 0.87), (198, 0.52), (130, 0.08), (134, 0.9), (134, 0.0), (124, 0.4), (166, 0.6), (132, 0.72), (150, 0.0), (134, 0.12), (148, 0.5), (140, 0.0), (126, 0.0), (126, 0.96), (144, 0.0), (146, 0.0), (130, 0.54), (178, 0.95), (142, 0.0), (126, 0.0), (132, 0.0), (120, 0.0), (166, 0.8), (216, 0.92), (134, 1.1), (176, 0.0), (126, 0.0), (174, 0.0), (132, 0.0), (120, 0.0), (118, 0.0), (108, 0.0), (136, 0.0), (120, 0.0), (132, 0.0), (136, 0.0), (138, 0.0), (138, 0.06), (110, 0.0), (120, 0.0), (134, 0.57), (142, 0.0), (130, 0.0), (120, 0.0), (146, 0.64), (170, 0.4), (214, 0.4), (132, 0.0)], (138, 2.27): [(138, 2.27), (136, 1.2), (150, 14.4), (132, 8.4), (142, 2.4), (174, 3.5), (114, 9.6), (162, 1.5), (190, 5.15), (154, 1.4), (114, 1.2), (168, 11.4), (142, 3.72), (146, 4.36), (166, 6.0), (140, 8.6), (136, 1.7), (106, 5.6), (126, 3.1), (134, 6.4), (152, 19.45), (146, 1.35), (162, 6.94), (130, 7.28), (138, 6.0), (124, 4.2), (118, 1.62), (116, 4.28), (162, 6.3), (137, 1.2), (154, 4.5), (128, 5.4), (162, 5.6), (120, 10.5), (136, 3.99), (176, 1.2), (134, 11.79), (122, 1.7), (136, 6.6), (132, 4.05), (152, 1.68), (132, 12.3), (140, 4.2), (156, 3.02), (126, 3.4), (148, 8.2), (132, 6.0), (128, 1.6), (128, 5.16), (114, 3.6), (118, 1.25), (154, 4.5), (112, 1.44), (140, 8.0), (140, 1.68), (128, 2.6), (126, 19.6), (160, 4.2), (148, 4.5), (164, 5.6), (154, 2.4), (180, 3.57), (134, 12.5), (162, 7.0), (218, 11.2), (126, 8.75), (134, 6.1), (178, 5.5), (208, 5.04), (160, 1.15), (116, 2.38), (180, 25.01), (200, 19.2), (112, 4.2), (178, 20.0), (164, 8.2), (146, 6.4), (158, 16.0), (132, 2.8), (120, 5.5), (150, 13.8), (176, 6.0), (142, 2.2), (142, 1.32), (146, 1.16), (132, 7.2), (130, 1.22), (130, 4.0), (166, 6.0), (142, 3.0), (136, 2.8), (124, 1.8), (144, 4.0), (136, 1.81), (154, 5.53), (124, 1.6), (128, 2.24), (182, 4.2), (108, 3.0), (118, 5.4)]}\n"
     ]
    }
   ],
   "source": [
    "KMclustersDS2=kmeans(pointsDS2Test[:2], pointsDS2Test)"
   ]
  },
  {
   "cell_type": "code",
   "execution_count": 605,
   "metadata": {
    "colab": {
     "base_uri": "https://localhost:8080/"
    },
    "executionInfo": {
     "elapsed": 9,
     "status": "ok",
     "timestamp": 1742554950769,
     "user": {
      "displayName": "Hazem Alsagheer",
      "userId": "05232312845808918344"
     },
     "user_tz": 240
    },
    "id": "35YNXO0htjUd",
    "outputId": "45bb954e-7214-42ed-bcb8-b450ba6a01ef"
   },
   "outputs": [
    {
     "data": {
      "text/plain": [
       "[(141.84, 0.21), (143.71, 5.7)]"
      ]
     },
     "execution_count": 605,
     "metadata": {},
     "output_type": "execute_result"
    }
   ],
   "source": [
    "initialcentersDS2=centralization(KMclustersDS2)\n",
    "initialcentersDS2"
   ]
  },
  {
   "cell_type": "code",
   "execution_count": 606,
   "metadata": {
    "colab": {
     "base_uri": "https://localhost:8080/",
     "height": 1000
    },
    "executionInfo": {
     "elapsed": 1054,
     "status": "ok",
     "timestamp": 1742554951822,
     "user": {
      "displayName": "Hazem Alsagheer",
      "userId": "05232312845808918344"
     },
     "user_tz": 240
    },
    "id": "ErBtrquBt383",
    "outputId": "03402190-c0e9-43b4-f96d-65f5bbccea4f"
   },
   "outputs": [
    {
     "name": "stdout",
     "output_type": "stream",
     "text": [
      "{(141.84, 0.21): [(144, 0.01), (118, 0.08), (132, 6.2), (114, 4.08), (114, 0.0), (132, 0.0), (118, 0.0), (132, 0.0), (112, 9.65), (117, 1.53), (120, 7.5), (106, 1.61), (150, 0.3), (138, 0.6), (124, 4.0), (118, 6.0), (146, 0.0), (136, 2.52), (122, 6.6), (122, 4.26), (140, 3.9), (110, 4.64), (130, 0.0), (118, 0.28), (144, 0.04), (120, 0.0), (130, 2.61), (114, 0.0), (128, 4.65), (116, 1.91), (114, 0.0), (126, 3.8), (122, 0.0), (134, 2.5), (118, 0.0), (126, 5.1), (103, 0.03), (121, 0.8), (142, 0.28), (138, 1.15), (140, 0.45), (130, 0.0), (124, 4.82), (112, 0.41), (118, 4.46), (122, 0.0), (118, 0.0), (130, 1.72), (130, 5.6), (126, 0.09), (128, 0.4), (136, 0.0), (134, 0.0), (140, 0.6), (108, 0.4), (114, 3.0), (128, 0.0), (130, 0.56), (140, 0.0), (126, 0.9), (122, 0.72), (116, 1.03), (120, 3.7), (143, 0.46), (118, 4.0), (134, 3.0), (138, 2.16), (136, 0.0), (122, 3.2), (118, 0.0), (128, 0.42), (118, 1.5), (108, 1.5), (118, 1.0), (124, 0.0), (114, 0.0), (134, 2.0), (128, 0.0), (130, 0.0), (128, 2.0), (120, 1.4), (120, 0.0), (138, 4.5), (123, 8.6), (136, 3.96), (132, 2.0), (134, 1.5), (122, 4.18), (116, 2.7), (128, 0.5), (120, 0.0), (124, 0.0), (130, 2.78), (128, 2.8), (130, 4.5), (109, 1.2), (144, 0.0), (118, 1.05), (136, 3.46), (136, 1.5), (128, 6.6), (122, 0.28), (108, 0.0), (124, 3.04), (127, 0.0), (122, 0.0), (126, 1.8), (138, 0.0), (148, 0.0), (122, 0.0), (110, 12.16), (126, 0.54), (118, 0.75), (124, 0.0), (128, 0.0), (122, 4.0), (132, 2.0), (120, 0.0), (128, 0.04), (116, 8.0), (122, 4.4), (129, 2.15), (134, 4.8), (126, 0.0), (142, 0.0), (128, 0.7), (102, 0.4), (130, 0.0), (138, 0.05), (138, 0.0), (128, 0.0), (148, 0.0), (124, 0.16), (136, 3.15), (134, 2.75), (128, 0.73), (122, 3.2), (124, 4.0), (134, 0.05), (122, 1.0), (116, 3.0), (132, 0.0), (134, 0.0), (124, 0.81), (114, 0.0), (138, 0.0), (144, 2.4), (112, 4.46), (138, 2.0), (110, 2.35), (130, 1.75), (122, 0.0), (138, 0.0), (126, 5.5), (122, 0.0), (124, 0.0), (128, 6.0), (144, 0.76), (126, 4.6), (128, 0.0), (136, 0.4), (124, 6.0), (128, 0.0), (118, 0.0), (124, 0.61), (124, 1.04), (136, 5.0), (118, 0.12), (118, 0.12), (114, 0.1), (130, 0.0), (136, 2.2), (136, 1.36), (108, 0.8), (124, 4.25), (114, 0.0), (118, 0.12), (106, 1.08), (134, 3.0), (126, 0.21), (134, 0.0), (134, 0.02), (123, 0.05), (112, 0.6), (112, 0.0), (101, 0.48), (150, 0.18), (134, 0.0), (142, 0.0), (132, 0.1), (136, 0.0)], (143.71, 5.7): [(160, 12.0), (170, 7.5), (134, 13.6), (142, 4.05), (206, 6.0), (134, 14.1), (146, 10.5), (158, 2.6), (124, 14.0), (132, 7.9), (142, 18.2), (145, 9.1), (144, 4.09), (158, 1.02), (126, 8.75), (148, 5.5), (136, 11.2), (162, 7.4), (152, 0.9), (134, 8.08), (156, 3.0), (152, 5.99), (152, 10.1), (136, 7.36), (168, 4.5), (140, 8.14), (148, 4.8), (148, 12.2), (126, 10.5), (194, 1.7), (164, 12.0), (136, 8.0), (166, 0.07), (158, 3.6), (170, 7.6), (168, 9.0), (174, 0.0), (116, 31.2), (140, 4.5), (154, 0.7), (150, 3.5), (153, 7.8), (148, 4.04), (134, 8.8), (152, 12.18), (158, 13.5), (142, 7.44), (134, 6.0), (160, 14.0), (124, 15.5), (148, 6.0), (138, 8.8), (174, 9.45), (144, 6.75), (208, 27.4), (132, 7.0), (160, 1.52), (162, 5.3), (194, 2.55), (160, 0.0), (108, 15.0), (166, 0.0), (152, 0.0), (170, 4.2), (156, 4.0), (150, 20.0), (162, 2.92), (160, 3.0), (152, 3.0), (162, 0.0), (136, 5.8), (136, 8.8), (160, 7.77), (180, 0.52), (208, 7.4), (164, 0.5), (136, 7.5), (132, 7.28), (143, 5.04), (134, 10.0), (188, 0.0), (136, 13.2), (130, 18.0), (176, 5.76), (140, 5.2), (190, 4.18), (158, 4.0), (160, 0.6), (158, 6.17), (166, 3.0), (146, 7.5), (161, 9.0), (164, 13.02), (146, 5.08), (142, 4.48), (138, 12.0), (154, 1.8), (132, 9.9), (134, 12.0), (136, 6.8), (154, 4.2), (136, 8.8), (174, 2.02), (146, 3.6), (206, 0.0), (148, 15.0), (170, 2.6), (132, 12.0), (166, 4.1)]}\n",
      "Update Number: 1\n"
     ]
    },
    {
     "data": {
      "image/png": "[encoded data removed]",
      "text/plain": [
       "<Figure size 640x480 with 1 Axes>"
      ]
     },
     "metadata": {},
     "output_type": "display_data"
    },
    {
     "name": "stdout",
     "output_type": "stream",
     "text": [
      "{(126.15, 1.63): [(118, 0.08), (134, 13.6), (132, 6.2), (114, 4.08), (114, 0.0), (132, 0.0), (134, 14.1), (118, 0.0), (132, 0.0), (112, 9.65), (117, 1.53), (120, 7.5), (124, 14.0), (106, 1.61), (132, 7.9), (138, 0.6), (124, 4.0), (118, 6.0), (136, 2.52), (122, 6.6), (126, 8.75), (122, 4.26), (110, 4.64), (130, 0.0), (136, 11.2), (118, 0.28), (120, 0.0), (130, 2.61), (114, 0.0), (128, 4.65), (116, 1.91), (114, 0.0), (126, 3.8), (122, 0.0), (134, 2.5), (134, 8.08), (118, 0.0), (126, 5.1), (103, 0.03), (121, 0.8), (138, 1.15), (140, 0.45), (130, 0.0), (136, 7.36), (124, 4.82), (112, 0.41), (118, 4.46), (122, 0.0), (118, 0.0), (130, 1.72), (130, 5.6), (126, 0.09), (128, 0.4), (136, 0.0), (134, 0.0), (140, 0.6), (108, 0.4), (114, 3.0), (128, 0.0), (130, 0.56), (126, 10.5), (140, 0.0), (126, 0.9), (122, 0.72), (116, 1.03), (120, 3.7), (118, 4.0), (134, 3.0), (138, 2.16), (136, 0.0), (122, 3.2), (136, 8.0), (118, 0.0), (128, 0.42), (118, 1.5), (108, 1.5), (118, 1.0), (124, 0.0), (114, 0.0), (134, 2.0), (116, 31.2), (128, 0.0), (130, 0.0), (128, 2.0), (120, 1.4), (120, 0.0), (138, 4.5), (123, 8.6), (136, 3.96), (134, 8.8), (132, 2.0), (134, 1.5), (134, 6.0), (122, 4.18), (116, 2.7), (128, 0.5), (120, 0.0), (124, 0.0), (130, 2.78), (128, 2.8), (130, 4.5), (109, 1.2), (118, 1.05), (136, 3.46), (136, 1.5), (124, 15.5), (128, 6.6), (122, 0.28), (108, 0.0), (124, 3.04), (138, 8.8), (127, 0.0), (122, 0.0), (126, 1.8), (138, 0.0), (122, 0.0), (132, 7.0), (110, 12.16), (126, 0.54), (118, 0.75), (124, 0.0), (128, 0.0), (122, 4.0), (132, 2.0), (120, 0.0), (128, 0.04), (108, 15.0), (116, 8.0), (122, 4.4), (129, 2.15), (134, 4.8), (126, 0.0), (128, 0.7), (102, 0.4), (130, 0.0), (138, 0.05), (138, 0.0), (128, 0.0), (124, 0.16), (136, 3.15), (134, 2.75), (128, 0.73), (122, 3.2), (124, 4.0), (136, 5.8), (136, 8.8), (134, 0.05), (122, 1.0), (116, 3.0), (132, 0.0), (134, 0.0), (124, 0.81), (114, 0.0), (138, 0.0), (136, 7.5), (132, 7.28), (112, 4.46), (134, 10.0), (138, 2.0), (110, 2.35), (136, 13.2), (130, 1.75), (122, 0.0), (138, 0.0), (130, 18.0), (126, 5.5), (122, 0.0), (124, 0.0), (128, 6.0), (126, 4.6), (128, 0.0), (136, 0.4), (124, 6.0), (128, 0.0), (118, 0.0), (124, 0.61), (124, 1.04), (136, 5.0), (132, 9.9), (118, 0.12), (118, 0.12), (134, 12.0), (114, 0.1), (136, 6.8), (130, 0.0), (136, 2.2), (136, 1.36), (108, 0.8), (136, 8.8), (124, 4.25), (114, 0.0), (118, 0.12), (106, 1.08), (134, 3.0), (126, 0.21), (134, 0.0), (134, 0.02), (123, 0.05), (112, 0.6), (112, 0.0), (101, 0.48), (134, 0.0), (132, 0.1), (136, 0.0), (132, 12.0)], (152.73, 7.21): [(160, 12.0), (144, 0.01), (170, 7.5), (142, 4.05), (206, 6.0), (146, 10.5), (158, 2.6), (150, 0.3), (142, 18.2), (145, 9.1), (144, 4.09), (146, 0.0), (158, 1.02), (148, 5.5), (140, 3.9), (144, 0.04), (162, 7.4), (152, 0.9), (156, 3.0), (152, 5.99), (142, 0.28), (152, 10.1), (168, 4.5), (140, 8.14), (148, 4.8), (148, 12.2), (143, 0.46), (194, 1.7), (164, 12.0), (166, 0.07), (158, 3.6), (170, 7.6), (168, 9.0), (174, 0.0), (140, 4.5), (154, 0.7), (150, 3.5), (153, 7.8), (148, 4.04), (152, 12.18), (158, 13.5), (142, 7.44), (160, 14.0), (144, 0.0), (148, 6.0), (174, 9.45), (144, 6.75), (208, 27.4), (148, 0.0), (160, 1.52), (162, 5.3), (194, 2.55), (160, 0.0), (166, 0.0), (152, 0.0), (170, 4.2), (156, 4.0), (150, 20.0), (142, 0.0), (162, 2.92), (160, 3.0), (148, 0.0), (152, 3.0), (162, 0.0), (160, 7.77), (180, 0.52), (208, 7.4), (164, 0.5), (144, 2.4), (143, 5.04), (188, 0.0), (176, 5.76), (140, 5.2), (190, 4.18), (144, 0.76), (158, 4.0), (160, 0.6), (158, 6.17), (166, 3.0), (146, 7.5), (161, 9.0), (164, 13.02), (146, 5.08), (142, 4.48), (138, 12.0), (154, 1.8), (154, 4.2), (174, 2.02), (146, 3.6), (206, 0.0), (148, 15.0), (150, 0.18), (170, 2.6), (142, 0.0), (166, 4.1)]}\n",
      "Update Number: 2\n"
     ]
    },
    {
     "data": {
      "image/png": "[encoded data removed]",
      "text/plain": [
       "<Figure size 640x480 with 1 Axes>"
      ]
     },
     "metadata": {},
     "output_type": "display_data"
    },
    {
     "name": "stdout",
     "output_type": "stream",
     "text": [
      "{(125.55, 3.02): [(118, 0.08), (134, 13.6), (132, 6.2), (114, 4.08), (114, 0.0), (132, 0.0), (134, 14.1), (118, 0.0), (132, 0.0), (112, 9.65), (117, 1.53), (120, 7.5), (124, 14.0), (106, 1.61), (132, 7.9), (138, 0.6), (124, 4.0), (118, 6.0), (136, 2.52), (122, 6.6), (126, 8.75), (122, 4.26), (140, 3.9), (110, 4.64), (130, 0.0), (136, 11.2), (118, 0.28), (120, 0.0), (130, 2.61), (114, 0.0), (128, 4.65), (116, 1.91), (114, 0.0), (126, 3.8), (122, 0.0), (134, 2.5), (134, 8.08), (118, 0.0), (126, 5.1), (103, 0.03), (121, 0.8), (138, 1.15), (140, 0.45), (130, 0.0), (136, 7.36), (124, 4.82), (112, 0.41), (118, 4.46), (122, 0.0), (118, 0.0), (130, 1.72), (130, 5.6), (126, 0.09), (128, 0.4), (136, 0.0), (134, 0.0), (140, 0.6), (108, 0.4), (114, 3.0), (140, 8.14), (128, 0.0), (130, 0.56), (126, 10.5), (140, 0.0), (126, 0.9), (122, 0.72), (116, 1.03), (120, 3.7), (118, 4.0), (134, 3.0), (138, 2.16), (136, 0.0), (122, 3.2), (136, 8.0), (118, 0.0), (128, 0.42), (118, 1.5), (108, 1.5), (118, 1.0), (124, 0.0), (114, 0.0), (134, 2.0), (116, 31.2), (128, 0.0), (140, 4.5), (130, 0.0), (128, 2.0), (120, 1.4), (120, 0.0), (138, 4.5), (123, 8.6), (136, 3.96), (134, 8.8), (132, 2.0), (134, 1.5), (134, 6.0), (122, 4.18), (116, 2.7), (128, 0.5), (120, 0.0), (124, 0.0), (130, 2.78), (128, 2.8), (130, 4.5), (109, 1.2), (118, 1.05), (136, 3.46), (136, 1.5), (124, 15.5), (128, 6.6), (122, 0.28), (108, 0.0), (124, 3.04), (138, 8.8), (127, 0.0), (122, 0.0), (126, 1.8), (138, 0.0), (122, 0.0), (132, 7.0), (110, 12.16), (126, 0.54), (118, 0.75), (124, 0.0), (128, 0.0), (122, 4.0), (132, 2.0), (120, 0.0), (128, 0.04), (108, 15.0), (116, 8.0), (122, 4.4), (129, 2.15), (134, 4.8), (126, 0.0), (128, 0.7), (102, 0.4), (130, 0.0), (138, 0.05), (138, 0.0), (128, 0.0), (124, 0.16), (136, 3.15), (134, 2.75), (128, 0.73), (122, 3.2), (124, 4.0), (136, 5.8), (136, 8.8), (134, 0.05), (122, 1.0), (116, 3.0), (132, 0.0), (134, 0.0), (124, 0.81), (114, 0.0), (138, 0.0), (136, 7.5), (132, 7.28), (112, 4.46), (134, 10.0), (138, 2.0), (110, 2.35), (136, 13.2), (130, 1.75), (122, 0.0), (138, 0.0), (130, 18.0), (126, 5.5), (122, 0.0), (124, 0.0), (140, 5.2), (128, 6.0), (126, 4.6), (128, 0.0), (136, 0.4), (124, 6.0), (128, 0.0), (138, 12.0), (118, 0.0), (124, 0.61), (124, 1.04), (136, 5.0), (132, 9.9), (118, 0.12), (118, 0.12), (134, 12.0), (114, 0.1), (136, 6.8), (130, 0.0), (136, 2.2), (136, 1.36), (108, 0.8), (136, 8.8), (124, 4.25), (114, 0.0), (118, 0.12), (106, 1.08), (134, 3.0), (126, 0.21), (134, 0.0), (134, 0.02), (123, 0.05), (112, 0.6), (112, 0.0), (101, 0.48), (134, 0.0), (132, 0.1), (136, 0.0), (132, 12.0)], (157.95, 5.03): [(160, 12.0), (144, 0.01), (170, 7.5), (142, 4.05), (206, 6.0), (146, 10.5), (158, 2.6), (150, 0.3), (142, 18.2), (145, 9.1), (144, 4.09), (146, 0.0), (158, 1.02), (148, 5.5), (144, 0.04), (162, 7.4), (152, 0.9), (156, 3.0), (152, 5.99), (142, 0.28), (152, 10.1), (168, 4.5), (148, 4.8), (148, 12.2), (143, 0.46), (194, 1.7), (164, 12.0), (166, 0.07), (158, 3.6), (170, 7.6), (168, 9.0), (174, 0.0), (154, 0.7), (150, 3.5), (153, 7.8), (148, 4.04), (152, 12.18), (158, 13.5), (142, 7.44), (160, 14.0), (144, 0.0), (148, 6.0), (174, 9.45), (144, 6.75), (208, 27.4), (148, 0.0), (160, 1.52), (162, 5.3), (194, 2.55), (160, 0.0), (166, 0.0), (152, 0.0), (170, 4.2), (156, 4.0), (150, 20.0), (142, 0.0), (162, 2.92), (160, 3.0), (148, 0.0), (152, 3.0), (162, 0.0), (160, 7.77), (180, 0.52), (208, 7.4), (164, 0.5), (144, 2.4), (143, 5.04), (188, 0.0), (176, 5.76), (190, 4.18), (144, 0.76), (158, 4.0), (160, 0.6), (158, 6.17), (166, 3.0), (146, 7.5), (161, 9.0), (164, 13.02), (146, 5.08), (142, 4.48), (154, 1.8), (154, 4.2), (174, 2.02), (146, 3.6), (206, 0.0), (148, 15.0), (150, 0.18), (170, 2.6), (142, 0.0), (166, 4.1)]}\n",
      "Update Number: 3\n"
     ]
    },
    {
     "data": {
      "image/png": "[encoded data removed]",
      "text/plain": [
       "<Figure size 640x480 with 1 Axes>"
      ]
     },
     "metadata": {},
     "output_type": "display_data"
    },
    {
     "name": "stdout",
     "output_type": "stream",
     "text": [
      "{(125.88, 3.11): [(118, 0.08), (134, 13.6), (132, 6.2), (142, 4.05), (114, 4.08), (114, 0.0), (132, 0.0), (134, 14.1), (118, 0.0), (132, 0.0), (112, 9.65), (117, 1.53), (120, 7.5), (124, 14.0), (106, 1.61), (132, 7.9), (138, 0.6), (124, 4.0), (118, 6.0), (136, 2.52), (122, 6.6), (126, 8.75), (122, 4.26), (140, 3.9), (110, 4.64), (130, 0.0), (136, 11.2), (118, 0.28), (120, 0.0), (130, 2.61), (114, 0.0), (128, 4.65), (116, 1.91), (114, 0.0), (126, 3.8), (122, 0.0), (134, 2.5), (134, 8.08), (118, 0.0), (126, 5.1), (103, 0.03), (121, 0.8), (142, 0.28), (138, 1.15), (140, 0.45), (130, 0.0), (136, 7.36), (124, 4.82), (112, 0.41), (118, 4.46), (122, 0.0), (118, 0.0), (130, 1.72), (130, 5.6), (126, 0.09), (128, 0.4), (136, 0.0), (134, 0.0), (140, 0.6), (108, 0.4), (114, 3.0), (140, 8.14), (128, 0.0), (130, 0.56), (126, 10.5), (140, 0.0), (126, 0.9), (122, 0.72), (116, 1.03), (120, 3.7), (118, 4.0), (134, 3.0), (138, 2.16), (136, 0.0), (122, 3.2), (136, 8.0), (118, 0.0), (128, 0.42), (118, 1.5), (108, 1.5), (118, 1.0), (124, 0.0), (114, 0.0), (134, 2.0), (116, 31.2), (128, 0.0), (140, 4.5), (130, 0.0), (128, 2.0), (120, 1.4), (120, 0.0), (138, 4.5), (123, 8.6), (136, 3.96), (134, 8.8), (132, 2.0), (134, 1.5), (142, 7.44), (134, 6.0), (122, 4.18), (116, 2.7), (128, 0.5), (120, 0.0), (124, 0.0), (130, 2.78), (128, 2.8), (130, 4.5), (109, 1.2), (118, 1.05), (136, 3.46), (136, 1.5), (124, 15.5), (128, 6.6), (122, 0.28), (108, 0.0), (124, 3.04), (138, 8.8), (127, 0.0), (122, 0.0), (126, 1.8), (138, 0.0), (122, 0.0), (132, 7.0), (110, 12.16), (126, 0.54), (118, 0.75), (124, 0.0), (128, 0.0), (122, 4.0), (132, 2.0), (120, 0.0), (128, 0.04), (108, 15.0), (116, 8.0), (122, 4.4), (129, 2.15), (134, 4.8), (126, 0.0), (142, 0.0), (128, 0.7), (102, 0.4), (130, 0.0), (138, 0.05), (138, 0.0), (128, 0.0), (124, 0.16), (136, 3.15), (134, 2.75), (128, 0.73), (122, 3.2), (124, 4.0), (136, 5.8), (136, 8.8), (134, 0.05), (122, 1.0), (116, 3.0), (132, 0.0), (134, 0.0), (124, 0.81), (114, 0.0), (138, 0.0), (136, 7.5), (132, 7.28), (112, 4.46), (134, 10.0), (138, 2.0), (110, 2.35), (136, 13.2), (130, 1.75), (122, 0.0), (138, 0.0), (130, 18.0), (126, 5.5), (122, 0.0), (124, 0.0), (140, 5.2), (128, 6.0), (126, 4.6), (128, 0.0), (136, 0.4), (124, 6.0), (128, 0.0), (142, 4.48), (138, 12.0), (118, 0.0), (124, 0.61), (124, 1.04), (136, 5.0), (132, 9.9), (118, 0.12), (118, 0.12), (134, 12.0), (114, 0.1), (136, 6.8), (130, 0.0), (136, 2.2), (136, 1.36), (108, 0.8), (136, 8.8), (124, 4.25), (114, 0.0), (118, 0.12), (106, 1.08), (134, 3.0), (126, 0.21), (134, 0.0), (134, 0.02), (123, 0.05), (112, 0.6), (112, 0.0), (101, 0.48), (134, 0.0), (142, 0.0), (132, 0.1), (136, 0.0), (132, 12.0)], (158.97, 4.94): [(160, 12.0), (144, 0.01), (170, 7.5), (206, 6.0), (146, 10.5), (158, 2.6), (150, 0.3), (142, 18.2), (145, 9.1), (144, 4.09), (146, 0.0), (158, 1.02), (148, 5.5), (144, 0.04), (162, 7.4), (152, 0.9), (156, 3.0), (152, 5.99), (152, 10.1), (168, 4.5), (148, 4.8), (148, 12.2), (143, 0.46), (194, 1.7), (164, 12.0), (166, 0.07), (158, 3.6), (170, 7.6), (168, 9.0), (174, 0.0), (154, 0.7), (150, 3.5), (153, 7.8), (148, 4.04), (152, 12.18), (158, 13.5), (160, 14.0), (144, 0.0), (148, 6.0), (174, 9.45), (144, 6.75), (208, 27.4), (148, 0.0), (160, 1.52), (162, 5.3), (194, 2.55), (160, 0.0), (166, 0.0), (152, 0.0), (170, 4.2), (156, 4.0), (150, 20.0), (162, 2.92), (160, 3.0), (148, 0.0), (152, 3.0), (162, 0.0), (160, 7.77), (180, 0.52), (208, 7.4), (164, 0.5), (144, 2.4), (143, 5.04), (188, 0.0), (176, 5.76), (190, 4.18), (144, 0.76), (158, 4.0), (160, 0.6), (158, 6.17), (166, 3.0), (146, 7.5), (161, 9.0), (164, 13.02), (146, 5.08), (154, 1.8), (154, 4.2), (174, 2.02), (146, 3.6), (206, 0.0), (148, 15.0), (150, 0.18), (170, 2.6), (166, 4.1)]}\n",
      "Update Number: 4\n"
     ]
    },
    {
     "data": {
      "image/png": "[encoded data removed]",
      "text/plain": [
       "<Figure size 640x480 with 1 Axes>"
      ]
     },
     "metadata": {},
     "output_type": "display_data"
    },
    {
     "name": "stdout",
     "output_type": "stream",
     "text": [
      "{(126.33, 3.1): [(118, 0.08), (134, 13.6), (132, 6.2), (142, 4.05), (114, 4.08), (114, 0.0), (132, 0.0), (134, 14.1), (118, 0.0), (132, 0.0), (112, 9.65), (117, 1.53), (120, 7.5), (124, 14.0), (106, 1.61), (132, 7.9), (138, 0.6), (142, 18.2), (124, 4.0), (118, 6.0), (136, 2.52), (122, 6.6), (126, 8.75), (122, 4.26), (140, 3.9), (110, 4.64), (130, 0.0), (136, 11.2), (118, 0.28), (120, 0.0), (130, 2.61), (114, 0.0), (128, 4.65), (116, 1.91), (114, 0.0), (126, 3.8), (122, 0.0), (134, 2.5), (134, 8.08), (118, 0.0), (126, 5.1), (103, 0.03), (121, 0.8), (142, 0.28), (138, 1.15), (140, 0.45), (130, 0.0), (136, 7.36), (124, 4.82), (112, 0.41), (118, 4.46), (122, 0.0), (118, 0.0), (130, 1.72), (130, 5.6), (126, 0.09), (128, 0.4), (136, 0.0), (134, 0.0), (140, 0.6), (108, 0.4), (114, 3.0), (140, 8.14), (128, 0.0), (130, 0.56), (126, 10.5), (140, 0.0), (126, 0.9), (122, 0.72), (116, 1.03), (120, 3.7), (143, 0.46), (118, 4.0), (134, 3.0), (138, 2.16), (136, 0.0), (122, 3.2), (136, 8.0), (118, 0.0), (128, 0.42), (118, 1.5), (108, 1.5), (118, 1.0), (124, 0.0), (114, 0.0), (134, 2.0), (116, 31.2), (128, 0.0), (140, 4.5), (130, 0.0), (128, 2.0), (120, 1.4), (120, 0.0), (138, 4.5), (123, 8.6), (136, 3.96), (134, 8.8), (132, 2.0), (134, 1.5), (142, 7.44), (134, 6.0), (122, 4.18), (116, 2.7), (128, 0.5), (120, 0.0), (124, 0.0), (130, 2.78), (128, 2.8), (130, 4.5), (109, 1.2), (118, 1.05), (136, 3.46), (136, 1.5), (124, 15.5), (128, 6.6), (122, 0.28), (108, 0.0), (124, 3.04), (138, 8.8), (127, 0.0), (122, 0.0), (126, 1.8), (138, 0.0), (122, 0.0), (132, 7.0), (110, 12.16), (126, 0.54), (118, 0.75), (124, 0.0), (128, 0.0), (122, 4.0), (132, 2.0), (120, 0.0), (128, 0.04), (108, 15.0), (116, 8.0), (122, 4.4), (129, 2.15), (134, 4.8), (126, 0.0), (142, 0.0), (128, 0.7), (102, 0.4), (130, 0.0), (138, 0.05), (138, 0.0), (128, 0.0), (124, 0.16), (136, 3.15), (134, 2.75), (128, 0.73), (122, 3.2), (124, 4.0), (136, 5.8), (136, 8.8), (134, 0.05), (122, 1.0), (116, 3.0), (132, 0.0), (134, 0.0), (124, 0.81), (114, 0.0), (138, 0.0), (136, 7.5), (132, 7.28), (143, 5.04), (112, 4.46), (134, 10.0), (138, 2.0), (110, 2.35), (136, 13.2), (130, 1.75), (122, 0.0), (138, 0.0), (130, 18.0), (126, 5.5), (122, 0.0), (124, 0.0), (140, 5.2), (128, 6.0), (126, 4.6), (128, 0.0), (136, 0.4), (124, 6.0), (128, 0.0), (142, 4.48), (138, 12.0), (118, 0.0), (124, 0.61), (124, 1.04), (136, 5.0), (132, 9.9), (118, 0.12), (118, 0.12), (134, 12.0), (114, 0.1), (136, 6.8), (130, 0.0), (136, 2.2), (136, 1.36), (108, 0.8), (136, 8.8), (124, 4.25), (114, 0.0), (118, 0.12), (106, 1.08), (134, 3.0), (126, 0.21), (134, 0.0), (134, 0.02), (123, 0.05), (112, 0.6), (112, 0.0), (101, 0.48), (134, 0.0), (142, 0.0), (132, 0.1), (136, 0.0), (132, 12.0)], (160.18, 5.1): [(160, 12.0), (144, 0.01), (170, 7.5), (206, 6.0), (146, 10.5), (158, 2.6), (150, 0.3), (145, 9.1), (144, 4.09), (146, 0.0), (158, 1.02), (148, 5.5), (144, 0.04), (162, 7.4), (152, 0.9), (156, 3.0), (152, 5.99), (152, 10.1), (168, 4.5), (148, 4.8), (148, 12.2), (194, 1.7), (164, 12.0), (166, 0.07), (158, 3.6), (170, 7.6), (168, 9.0), (174, 0.0), (154, 0.7), (150, 3.5), (153, 7.8), (148, 4.04), (152, 12.18), (158, 13.5), (160, 14.0), (144, 0.0), (148, 6.0), (174, 9.45), (144, 6.75), (208, 27.4), (148, 0.0), (160, 1.52), (162, 5.3), (194, 2.55), (160, 0.0), (166, 0.0), (152, 0.0), (170, 4.2), (156, 4.0), (150, 20.0), (162, 2.92), (160, 3.0), (148, 0.0), (152, 3.0), (162, 0.0), (160, 7.77), (180, 0.52), (208, 7.4), (164, 0.5), (144, 2.4), (188, 0.0), (176, 5.76), (190, 4.18), (144, 0.76), (158, 4.0), (160, 0.6), (158, 6.17), (166, 3.0), (146, 7.5), (161, 9.0), (164, 13.02), (146, 5.08), (154, 1.8), (154, 4.2), (174, 2.02), (146, 3.6), (206, 0.0), (148, 15.0), (150, 0.18), (170, 2.6), (166, 4.1)]}\n",
      "Update Number: 5\n"
     ]
    },
    {
     "data": {
      "image/png": "[encoded data removed]",
      "text/plain": [
       "<Figure size 640x480 with 1 Axes>"
      ]
     },
     "metadata": {},
     "output_type": "display_data"
    },
    {
     "name": "stdout",
     "output_type": "stream",
     "text": [
      "{(126.55, 3.16): [(118, 0.08), (134, 13.6), (132, 6.2), (142, 4.05), (114, 4.08), (114, 0.0), (132, 0.0), (134, 14.1), (118, 0.0), (132, 0.0), (112, 9.65), (117, 1.53), (120, 7.5), (124, 14.0), (106, 1.61), (132, 7.9), (138, 0.6), (142, 18.2), (124, 4.0), (118, 6.0), (136, 2.52), (122, 6.6), (126, 8.75), (122, 4.26), (140, 3.9), (110, 4.64), (130, 0.0), (136, 11.2), (118, 0.28), (120, 0.0), (130, 2.61), (114, 0.0), (128, 4.65), (116, 1.91), (114, 0.0), (126, 3.8), (122, 0.0), (134, 2.5), (134, 8.08), (118, 0.0), (126, 5.1), (103, 0.03), (121, 0.8), (142, 0.28), (138, 1.15), (140, 0.45), (130, 0.0), (136, 7.36), (124, 4.82), (112, 0.41), (118, 4.46), (122, 0.0), (118, 0.0), (130, 1.72), (130, 5.6), (126, 0.09), (128, 0.4), (136, 0.0), (134, 0.0), (140, 0.6), (108, 0.4), (114, 3.0), (140, 8.14), (128, 0.0), (130, 0.56), (126, 10.5), (140, 0.0), (126, 0.9), (122, 0.72), (116, 1.03), (120, 3.7), (143, 0.46), (118, 4.0), (134, 3.0), (138, 2.16), (136, 0.0), (122, 3.2), (136, 8.0), (118, 0.0), (128, 0.42), (118, 1.5), (108, 1.5), (118, 1.0), (124, 0.0), (114, 0.0), (134, 2.0), (116, 31.2), (128, 0.0), (140, 4.5), (130, 0.0), (128, 2.0), (120, 1.4), (120, 0.0), (138, 4.5), (123, 8.6), (136, 3.96), (134, 8.8), (132, 2.0), (134, 1.5), (142, 7.44), (134, 6.0), (122, 4.18), (116, 2.7), (128, 0.5), (120, 0.0), (124, 0.0), (130, 2.78), (128, 2.8), (130, 4.5), (109, 1.2), (118, 1.05), (136, 3.46), (136, 1.5), (124, 15.5), (128, 6.6), (122, 0.28), (108, 0.0), (124, 3.04), (138, 8.8), (127, 0.0), (122, 0.0), (126, 1.8), (138, 0.0), (122, 0.0), (132, 7.0), (110, 12.16), (126, 0.54), (118, 0.75), (124, 0.0), (128, 0.0), (122, 4.0), (132, 2.0), (120, 0.0), (128, 0.04), (108, 15.0), (116, 8.0), (122, 4.4), (129, 2.15), (134, 4.8), (126, 0.0), (142, 0.0), (128, 0.7), (102, 0.4), (130, 0.0), (138, 0.05), (138, 0.0), (128, 0.0), (124, 0.16), (136, 3.15), (134, 2.75), (128, 0.73), (122, 3.2), (124, 4.0), (136, 5.8), (136, 8.8), (134, 0.05), (122, 1.0), (116, 3.0), (132, 0.0), (134, 0.0), (124, 0.81), (114, 0.0), (138, 0.0), (136, 7.5), (132, 7.28), (143, 5.04), (112, 4.46), (134, 10.0), (138, 2.0), (110, 2.35), (136, 13.2), (130, 1.75), (122, 0.0), (138, 0.0), (130, 18.0), (126, 5.5), (122, 0.0), (124, 0.0), (140, 5.2), (128, 6.0), (126, 4.6), (128, 0.0), (136, 0.4), (124, 6.0), (128, 0.0), (142, 4.48), (138, 12.0), (118, 0.0), (124, 0.61), (124, 1.04), (136, 5.0), (132, 9.9), (118, 0.12), (118, 0.12), (134, 12.0), (114, 0.1), (136, 6.8), (130, 0.0), (136, 2.2), (136, 1.36), (108, 0.8), (136, 8.8), (124, 4.25), (114, 0.0), (118, 0.12), (106, 1.08), (134, 3.0), (126, 0.21), (134, 0.0), (134, 0.02), (123, 0.05), (112, 0.6), (112, 0.0), (101, 0.48), (134, 0.0), (142, 0.0), (132, 0.1), (136, 0.0), (132, 12.0)], (160.83, 4.99): [(160, 12.0), (144, 0.01), (170, 7.5), (206, 6.0), (146, 10.5), (158, 2.6), (150, 0.3), (145, 9.1), (144, 4.09), (146, 0.0), (158, 1.02), (148, 5.5), (144, 0.04), (162, 7.4), (152, 0.9), (156, 3.0), (152, 5.99), (152, 10.1), (168, 4.5), (148, 4.8), (148, 12.2), (194, 1.7), (164, 12.0), (166, 0.07), (158, 3.6), (170, 7.6), (168, 9.0), (174, 0.0), (154, 0.7), (150, 3.5), (153, 7.8), (148, 4.04), (152, 12.18), (158, 13.5), (160, 14.0), (144, 0.0), (148, 6.0), (174, 9.45), (144, 6.75), (208, 27.4), (148, 0.0), (160, 1.52), (162, 5.3), (194, 2.55), (160, 0.0), (166, 0.0), (152, 0.0), (170, 4.2), (156, 4.0), (150, 20.0), (162, 2.92), (160, 3.0), (148, 0.0), (152, 3.0), (162, 0.0), (160, 7.77), (180, 0.52), (208, 7.4), (164, 0.5), (144, 2.4), (188, 0.0), (176, 5.76), (190, 4.18), (144, 0.76), (158, 4.0), (160, 0.6), (158, 6.17), (166, 3.0), (146, 7.5), (161, 9.0), (164, 13.02), (146, 5.08), (154, 1.8), (154, 4.2), (174, 2.02), (146, 3.6), (206, 0.0), (148, 15.0), (150, 0.18), (170, 2.6), (166, 4.1)]}\n",
      "Update Number: 6\n"
     ]
    },
    {
     "data": {
      "image/png": "[encoded data removed]",
      "text/plain": [
       "<Figure size 640x480 with 1 Axes>"
      ]
     },
     "metadata": {},
     "output_type": "display_data"
    },
    {
     "name": "stdout",
     "output_type": "stream",
     "text": [
      "{(126.55, 3.16): [(118, 0.08), (134, 13.6), (132, 6.2), (142, 4.05), (114, 4.08), (114, 0.0), (132, 0.0), (134, 14.1), (118, 0.0), (132, 0.0), (112, 9.65), (117, 1.53), (120, 7.5), (124, 14.0), (106, 1.61), (132, 7.9), (138, 0.6), (142, 18.2), (124, 4.0), (118, 6.0), (136, 2.52), (122, 6.6), (126, 8.75), (122, 4.26), (140, 3.9), (110, 4.64), (130, 0.0), (136, 11.2), (118, 0.28), (120, 0.0), (130, 2.61), (114, 0.0), (128, 4.65), (116, 1.91), (114, 0.0), (126, 3.8), (122, 0.0), (134, 2.5), (134, 8.08), (118, 0.0), (126, 5.1), (103, 0.03), (121, 0.8), (142, 0.28), (138, 1.15), (140, 0.45), (130, 0.0), (136, 7.36), (124, 4.82), (112, 0.41), (118, 4.46), (122, 0.0), (118, 0.0), (130, 1.72), (130, 5.6), (126, 0.09), (128, 0.4), (136, 0.0), (134, 0.0), (140, 0.6), (108, 0.4), (114, 3.0), (140, 8.14), (128, 0.0), (130, 0.56), (126, 10.5), (140, 0.0), (126, 0.9), (122, 0.72), (116, 1.03), (120, 3.7), (143, 0.46), (118, 4.0), (134, 3.0), (138, 2.16), (136, 0.0), (122, 3.2), (136, 8.0), (118, 0.0), (128, 0.42), (118, 1.5), (108, 1.5), (118, 1.0), (124, 0.0), (114, 0.0), (134, 2.0), (116, 31.2), (128, 0.0), (140, 4.5), (130, 0.0), (128, 2.0), (120, 1.4), (120, 0.0), (138, 4.5), (123, 8.6), (136, 3.96), (134, 8.8), (132, 2.0), (134, 1.5), (142, 7.44), (134, 6.0), (122, 4.18), (116, 2.7), (128, 0.5), (120, 0.0), (124, 0.0), (130, 2.78), (128, 2.8), (130, 4.5), (109, 1.2), (118, 1.05), (136, 3.46), (136, 1.5), (124, 15.5), (128, 6.6), (122, 0.28), (108, 0.0), (124, 3.04), (138, 8.8), (127, 0.0), (122, 0.0), (126, 1.8), (138, 0.0), (122, 0.0), (132, 7.0), (110, 12.16), (126, 0.54), (118, 0.75), (124, 0.0), (128, 0.0), (122, 4.0), (132, 2.0), (120, 0.0), (128, 0.04), (108, 15.0), (116, 8.0), (122, 4.4), (129, 2.15), (134, 4.8), (126, 0.0), (142, 0.0), (128, 0.7), (102, 0.4), (130, 0.0), (138, 0.05), (138, 0.0), (128, 0.0), (124, 0.16), (136, 3.15), (134, 2.75), (128, 0.73), (122, 3.2), (124, 4.0), (136, 5.8), (136, 8.8), (134, 0.05), (122, 1.0), (116, 3.0), (132, 0.0), (134, 0.0), (124, 0.81), (114, 0.0), (138, 0.0), (136, 7.5), (132, 7.28), (143, 5.04), (112, 4.46), (134, 10.0), (138, 2.0), (110, 2.35), (136, 13.2), (130, 1.75), (122, 0.0), (138, 0.0), (130, 18.0), (126, 5.5), (122, 0.0), (124, 0.0), (140, 5.2), (128, 6.0), (126, 4.6), (128, 0.0), (136, 0.4), (124, 6.0), (128, 0.0), (142, 4.48), (138, 12.0), (118, 0.0), (124, 0.61), (124, 1.04), (136, 5.0), (132, 9.9), (118, 0.12), (118, 0.12), (134, 12.0), (114, 0.1), (136, 6.8), (130, 0.0), (136, 2.2), (136, 1.36), (108, 0.8), (136, 8.8), (124, 4.25), (114, 0.0), (118, 0.12), (106, 1.08), (134, 3.0), (126, 0.21), (134, 0.0), (134, 0.02), (123, 0.05), (112, 0.6), (112, 0.0), (101, 0.48), (134, 0.0), (142, 0.0), (132, 0.1), (136, 0.0), (132, 12.0)], (160.83, 4.99): [(160, 12.0), (144, 0.01), (170, 7.5), (206, 6.0), (146, 10.5), (158, 2.6), (150, 0.3), (145, 9.1), (144, 4.09), (146, 0.0), (158, 1.02), (148, 5.5), (144, 0.04), (162, 7.4), (152, 0.9), (156, 3.0), (152, 5.99), (152, 10.1), (168, 4.5), (148, 4.8), (148, 12.2), (194, 1.7), (164, 12.0), (166, 0.07), (158, 3.6), (170, 7.6), (168, 9.0), (174, 0.0), (154, 0.7), (150, 3.5), (153, 7.8), (148, 4.04), (152, 12.18), (158, 13.5), (160, 14.0), (144, 0.0), (148, 6.0), (174, 9.45), (144, 6.75), (208, 27.4), (148, 0.0), (160, 1.52), (162, 5.3), (194, 2.55), (160, 0.0), (166, 0.0), (152, 0.0), (170, 4.2), (156, 4.0), (150, 20.0), (162, 2.92), (160, 3.0), (148, 0.0), (152, 3.0), (162, 0.0), (160, 7.77), (180, 0.52), (208, 7.4), (164, 0.5), (144, 2.4), (188, 0.0), (176, 5.76), (190, 4.18), (144, 0.76), (158, 4.0), (160, 0.6), (158, 6.17), (166, 3.0), (146, 7.5), (161, 9.0), (164, 13.02), (146, 5.08), (154, 1.8), (154, 4.2), (174, 2.02), (146, 3.6), (206, 0.0), (148, 15.0), (150, 0.18), (170, 2.6), (166, 4.1)]}\n"
     ]
    }
   ],
   "source": [
    "finalCentersDS2,finalClustersDS2=iterateKmeans(pointsDS2,initialcentersDS2,KMclustersDS2)"
   ]
  },
  {
   "cell_type": "markdown",
   "metadata": {
    "id": "qaeViuoqwEjY"
   },
   "source": [
    "### **Q8.** Plot ’sbp’ vs ’tobacco’ and represent the predicted data points with different color to show the two classes. Hint: you may have to convert the labels from categorical to numeric values to plot."
   ]
  },
  {
   "cell_type": "code",
   "execution_count": 607,
   "metadata": {
    "colab": {
     "base_uri": "https://localhost:8080/"
    },
    "executionInfo": {
     "elapsed": 12,
     "status": "ok",
     "timestamp": 1742554951835,
     "user": {
      "displayName": "Hazem Alsagheer",
      "userId": "05232312845808918344"
     },
     "user_tz": 240
    },
    "id": "lBWWn1XiK2gc",
    "outputId": "50824a08-478a-41eb-a7a3-012bfe9fa239"
   },
   "outputs": [
    {
     "data": {
      "text/plain": [
       "[(126.55, 3.16), (160.83, 4.99)]"
      ]
     },
     "execution_count": 607,
     "metadata": {},
     "output_type": "execute_result"
    }
   ],
   "source": [
    "finalCentersDS2"
   ]
  },
  {
   "cell_type": "code",
   "execution_count": 608,
   "metadata": {
    "colab": {
     "base_uri": "https://localhost:8080/",
     "height": 452
    },
    "executionInfo": {
     "elapsed": 214,
     "status": "ok",
     "timestamp": 1742554952050,
     "user": {
      "displayName": "Hazem Alsagheer",
      "userId": "05232312845808918344"
     },
     "user_tz": 240
    },
    "id": "uHINLlY9wAyU",
    "outputId": "5617310a-1e7d-46ec-d21a-70223fa2f46a"
   },
   "outputs": [
    {
     "data": {
      "image/png": "[encoded data removed]",
      "text/plain": [
       "<Figure size 640x480 with 1 Axes>"
      ]
     },
     "metadata": {},
     "output_type": "display_data"
    }
   ],
   "source": [
    "plotClusters(finalClustersDS2,finalCentersDS2,\"Predicted\")"
   ]
  },
  {
   "cell_type": "code",
   "execution_count": 609,
   "metadata": {
    "executionInfo": {
     "elapsed": 34,
     "status": "ok",
     "timestamp": 1742554952114,
     "user": {
      "displayName": "Hazem Alsagheer",
      "userId": "05232312845808918344"
     },
     "user_tz": 240
    },
    "id": "AG5ihNwM7RK8"
   },
   "outputs": [],
   "source": [
    "dataset2_sorted_test=dataset2[300:].sort_values(by='sbp', ascending=True)\n",
    "dataset2_train_sorted = dataset2[:300].sort_values(by='sbp', ascending=True)\n"
   ]
  },
  {
   "cell_type": "markdown",
   "metadata": {
    "id": "mlLmpPlXnyyg"
   },
   "source": [
    "### **Q6.** Provide accuracy."
   ]
  },
  {
   "cell_type": "code",
   "execution_count": 610,
   "metadata": {
    "executionInfo": {
     "elapsed": 2,
     "status": "ok",
     "timestamp": 1742554952118,
     "user": {
      "displayName": "Hazem Alsagheer",
      "userId": "05232312845808918344"
     },
     "user_tz": 240
    },
    "id": "_B5CK9k687a6"
   },
   "outputs": [],
   "source": [
    "df = dataset2.iloc[:300].copy()\n",
    "df.reset_index(drop=True, inplace=True)\n",
    "chdList = {}\n",
    "\n",
    "for i, row in df.iterrows():\n",
    "    sbp_val = row['sbp']\n",
    "    tob_val = row['tobacco']\n",
    "    chd_val = row['chd']\n",
    "    pnt = (sbp_val, tob_val)\n",
    "\n",
    "    if pnt not in chdList:\n",
    "        chdList[pnt] = []\n",
    "    chdList[pnt].append(chd_val)"
   ]
  },
  {
   "cell_type": "code",
   "execution_count": 611,
   "metadata": {
    "executionInfo": {
     "elapsed": 4,
     "status": "ok",
     "timestamp": 1742554952123,
     "user": {
      "displayName": "Hazem Alsagheer",
      "userId": "05232312845808918344"
     },
     "user_tz": 240
    },
    "id": "Oj-Zsiyd87a6"
   },
   "outputs": [],
   "source": [
    "count0List=[]\n",
    "count1List=[]\n",
    "for pointList in finalClustersDS2.values():\n",
    "  chdCount=[]\n",
    "  for point in pointList:\n",
    "    if point in chdList:\n",
    "      chdCount.extend(chdList[point])\n",
    "  count0=chdCount.count(0)\n",
    "  count1=chdCount.count(1)\n",
    "  if count0>count1:\n",
    "    count0List.extend(pointList)\n",
    "  else:\n",
    "    count1List.extend(pointList)\n"
   ]
  },
  {
   "cell_type": "code",
   "execution_count": 612,
   "metadata": {
    "colab": {
     "base_uri": "https://localhost:8080/"
    },
    "executionInfo": {
     "elapsed": 44,
     "status": "ok",
     "timestamp": 1742554952168,
     "user": {
      "displayName": "Hazem Alsagheer",
      "userId": "05232312845808918344"
     },
     "user_tz": 240
    },
    "id": "UicpHhcS87a6",
    "outputId": "d7423138-a90f-4c1a-aea7-cf8b4596a991"
   },
   "outputs": [
    {
     "data": {
      "text/plain": [
       "[(118, 0.08),\n",
       " (134, 13.6),\n",
       " (132, 6.2),\n",
       " (142, 4.05),\n",
       " (114, 4.08),\n",
       " (114, 0.0),\n",
       " (132, 0.0),\n",
       " (134, 14.1),\n",
       " (118, 0.0),\n",
       " (132, 0.0),\n",
       " (112, 9.65),\n",
       " (117, 1.53),\n",
       " (120, 7.5),\n",
       " (124, 14.0),\n",
       " (106, 1.61),\n",
       " (132, 7.9),\n",
       " (138, 0.6),\n",
       " (142, 18.2),\n",
       " (124, 4.0),\n",
       " (118, 6.0),\n",
       " (136, 2.52),\n",
       " (122, 6.6),\n",
       " (126, 8.75),\n",
       " (122, 4.26),\n",
       " (140, 3.9),\n",
       " (110, 4.64),\n",
       " (130, 0.0),\n",
       " (136, 11.2),\n",
       " (118, 0.28),\n",
       " (120, 0.0),\n",
       " (130, 2.61),\n",
       " (114, 0.0),\n",
       " (128, 4.65),\n",
       " (116, 1.91),\n",
       " (114, 0.0),\n",
       " (126, 3.8),\n",
       " (122, 0.0),\n",
       " (134, 2.5),\n",
       " (134, 8.08),\n",
       " (118, 0.0),\n",
       " (126, 5.1),\n",
       " (103, 0.03),\n",
       " (121, 0.8),\n",
       " (142, 0.28),\n",
       " (138, 1.15),\n",
       " (140, 0.45),\n",
       " (130, 0.0),\n",
       " (136, 7.36),\n",
       " (124, 4.82),\n",
       " (112, 0.41),\n",
       " (118, 4.46),\n",
       " (122, 0.0),\n",
       " (118, 0.0),\n",
       " (130, 1.72),\n",
       " (130, 5.6),\n",
       " (126, 0.09),\n",
       " (128, 0.4),\n",
       " (136, 0.0),\n",
       " (134, 0.0),\n",
       " (140, 0.6),\n",
       " (108, 0.4),\n",
       " (114, 3.0),\n",
       " (140, 8.14),\n",
       " (128, 0.0),\n",
       " (130, 0.56),\n",
       " (126, 10.5),\n",
       " (140, 0.0),\n",
       " (126, 0.9),\n",
       " (122, 0.72),\n",
       " (116, 1.03),\n",
       " (120, 3.7),\n",
       " (143, 0.46),\n",
       " (118, 4.0),\n",
       " (134, 3.0),\n",
       " (138, 2.16),\n",
       " (136, 0.0),\n",
       " (122, 3.2),\n",
       " (136, 8.0),\n",
       " (118, 0.0),\n",
       " (128, 0.42),\n",
       " (118, 1.5),\n",
       " (108, 1.5),\n",
       " (118, 1.0),\n",
       " (124, 0.0),\n",
       " (114, 0.0),\n",
       " (134, 2.0),\n",
       " (116, 31.2),\n",
       " (128, 0.0),\n",
       " (140, 4.5),\n",
       " (130, 0.0),\n",
       " (128, 2.0),\n",
       " (120, 1.4),\n",
       " (120, 0.0),\n",
       " (138, 4.5),\n",
       " (123, 8.6),\n",
       " (136, 3.96),\n",
       " (134, 8.8),\n",
       " (132, 2.0),\n",
       " (134, 1.5),\n",
       " (142, 7.44),\n",
       " (134, 6.0),\n",
       " (122, 4.18),\n",
       " (116, 2.7),\n",
       " (128, 0.5),\n",
       " (120, 0.0),\n",
       " (124, 0.0),\n",
       " (130, 2.78),\n",
       " (128, 2.8),\n",
       " (130, 4.5),\n",
       " (109, 1.2),\n",
       " (118, 1.05),\n",
       " (136, 3.46),\n",
       " (136, 1.5),\n",
       " (124, 15.5),\n",
       " (128, 6.6),\n",
       " (122, 0.28),\n",
       " (108, 0.0),\n",
       " (124, 3.04),\n",
       " (138, 8.8),\n",
       " (127, 0.0),\n",
       " (122, 0.0),\n",
       " (126, 1.8),\n",
       " (138, 0.0),\n",
       " (122, 0.0),\n",
       " (132, 7.0),\n",
       " (110, 12.16),\n",
       " (126, 0.54),\n",
       " (118, 0.75),\n",
       " (124, 0.0),\n",
       " (128, 0.0),\n",
       " (122, 4.0),\n",
       " (132, 2.0),\n",
       " (120, 0.0),\n",
       " (128, 0.04),\n",
       " (108, 15.0),\n",
       " (116, 8.0),\n",
       " (122, 4.4),\n",
       " (129, 2.15),\n",
       " (134, 4.8),\n",
       " (126, 0.0),\n",
       " (142, 0.0),\n",
       " (128, 0.7),\n",
       " (102, 0.4),\n",
       " (130, 0.0),\n",
       " (138, 0.05),\n",
       " (138, 0.0),\n",
       " (128, 0.0),\n",
       " (124, 0.16),\n",
       " (136, 3.15),\n",
       " (134, 2.75),\n",
       " (128, 0.73),\n",
       " (122, 3.2),\n",
       " (124, 4.0),\n",
       " (136, 5.8),\n",
       " (136, 8.8),\n",
       " (134, 0.05),\n",
       " (122, 1.0),\n",
       " (116, 3.0),\n",
       " (132, 0.0),\n",
       " (134, 0.0),\n",
       " (124, 0.81),\n",
       " (114, 0.0),\n",
       " (138, 0.0),\n",
       " (136, 7.5),\n",
       " (132, 7.28),\n",
       " (143, 5.04),\n",
       " (112, 4.46),\n",
       " (134, 10.0),\n",
       " (138, 2.0),\n",
       " (110, 2.35),\n",
       " (136, 13.2),\n",
       " (130, 1.75),\n",
       " (122, 0.0),\n",
       " (138, 0.0),\n",
       " (130, 18.0),\n",
       " (126, 5.5),\n",
       " (122, 0.0),\n",
       " (124, 0.0),\n",
       " (140, 5.2),\n",
       " (128, 6.0),\n",
       " (126, 4.6),\n",
       " (128, 0.0),\n",
       " (136, 0.4),\n",
       " (124, 6.0),\n",
       " (128, 0.0),\n",
       " (142, 4.48),\n",
       " (138, 12.0),\n",
       " (118, 0.0),\n",
       " (124, 0.61),\n",
       " (124, 1.04),\n",
       " (136, 5.0),\n",
       " (132, 9.9),\n",
       " (118, 0.12),\n",
       " (118, 0.12),\n",
       " (134, 12.0),\n",
       " (114, 0.1),\n",
       " (136, 6.8),\n",
       " (130, 0.0),\n",
       " (136, 2.2),\n",
       " (136, 1.36),\n",
       " (108, 0.8),\n",
       " (136, 8.8),\n",
       " (124, 4.25),\n",
       " (114, 0.0),\n",
       " (118, 0.12),\n",
       " (106, 1.08),\n",
       " (134, 3.0),\n",
       " (126, 0.21),\n",
       " (134, 0.0),\n",
       " (134, 0.02),\n",
       " (123, 0.05),\n",
       " (112, 0.6),\n",
       " (112, 0.0),\n",
       " (101, 0.48),\n",
       " (134, 0.0),\n",
       " (142, 0.0),\n",
       " (132, 0.1),\n",
       " (136, 0.0),\n",
       " (132, 12.0),\n",
       " (160, 12.0),\n",
       " (144, 0.01),\n",
       " (170, 7.5),\n",
       " (206, 6.0),\n",
       " (146, 10.5),\n",
       " (158, 2.6),\n",
       " (150, 0.3),\n",
       " (145, 9.1),\n",
       " (144, 4.09),\n",
       " (146, 0.0),\n",
       " (158, 1.02),\n",
       " (148, 5.5),\n",
       " (144, 0.04),\n",
       " (162, 7.4),\n",
       " (152, 0.9),\n",
       " (156, 3.0),\n",
       " (152, 5.99),\n",
       " (152, 10.1),\n",
       " (168, 4.5),\n",
       " (148, 4.8),\n",
       " (148, 12.2),\n",
       " (194, 1.7),\n",
       " (164, 12.0),\n",
       " (166, 0.07),\n",
       " (158, 3.6),\n",
       " (170, 7.6),\n",
       " (168, 9.0),\n",
       " (174, 0.0),\n",
       " (154, 0.7),\n",
       " (150, 3.5),\n",
       " (153, 7.8),\n",
       " (148, 4.04),\n",
       " (152, 12.18),\n",
       " (158, 13.5),\n",
       " (160, 14.0),\n",
       " (144, 0.0),\n",
       " (148, 6.0),\n",
       " (174, 9.45),\n",
       " (144, 6.75),\n",
       " (208, 27.4),\n",
       " (148, 0.0),\n",
       " (160, 1.52),\n",
       " (162, 5.3),\n",
       " (194, 2.55),\n",
       " (160, 0.0),\n",
       " (166, 0.0),\n",
       " (152, 0.0),\n",
       " (170, 4.2),\n",
       " (156, 4.0),\n",
       " (150, 20.0),\n",
       " (162, 2.92),\n",
       " (160, 3.0),\n",
       " (148, 0.0),\n",
       " (152, 3.0),\n",
       " (162, 0.0),\n",
       " (160, 7.77),\n",
       " (180, 0.52),\n",
       " (208, 7.4),\n",
       " (164, 0.5),\n",
       " (144, 2.4),\n",
       " (188, 0.0),\n",
       " (176, 5.76),\n",
       " (190, 4.18),\n",
       " (144, 0.76),\n",
       " (158, 4.0),\n",
       " (160, 0.6),\n",
       " (158, 6.17),\n",
       " (166, 3.0),\n",
       " (146, 7.5),\n",
       " (161, 9.0),\n",
       " (164, 13.02),\n",
       " (146, 5.08),\n",
       " (154, 1.8),\n",
       " (154, 4.2),\n",
       " (174, 2.02),\n",
       " (146, 3.6),\n",
       " (206, 0.0),\n",
       " (148, 15.0),\n",
       " (150, 0.18),\n",
       " (170, 2.6),\n",
       " (166, 4.1)]"
      ]
     },
     "execution_count": 612,
     "metadata": {},
     "output_type": "execute_result"
    }
   ],
   "source": [
    "count0List"
   ]
  },
  {
   "cell_type": "code",
   "execution_count": 613,
   "metadata": {
    "colab": {
     "base_uri": "https://localhost:8080/",
     "height": 206
    },
    "executionInfo": {
     "elapsed": 18,
     "status": "ok",
     "timestamp": 1742554952185,
     "user": {
      "displayName": "Hazem Alsagheer",
      "userId": "05232312845808918344"
     },
     "user_tz": 240
    },
    "id": "etWntIcA87a6",
    "outputId": "f2b3b7b6-8ee6-4287-8d3e-4900bc999299"
   },
   "outputs": [
    {
     "data": {
      "application/vnd.google.colaboratory.intrinsic+json": {
       "summary": "{\n  \"name\": \"df\",\n  \"rows\": 300,\n  \"fields\": [\n    {\n      \"column\": \"sbp\",\n      \"properties\": {\n        \"dtype\": \"number\",\n        \"std\": 19,\n        \"min\": 101,\n        \"max\": 208,\n        \"num_unique_values\": 54,\n        \"samples\": [\n          103,\n          180,\n          208\n        ],\n        \"semantic_type\": \"\",\n        \"description\": \"\"\n      }\n    },\n    {\n      \"column\": \"tobacco\",\n      \"properties\": {\n        \"dtype\": \"number\",\n        \"std\": 4.596054206576351,\n        \"min\": 0.0,\n        \"max\": 31.2,\n        \"num_unique_values\": 161,\n        \"samples\": [\n          4.48,\n          1.04,\n          6.75\n        ],\n        \"semantic_type\": \"\",\n        \"description\": \"\"\n      }\n    },\n    {\n      \"column\": \"predicted\",\n      \"properties\": {\n        \"dtype\": \"number\",\n        \"std\": 0,\n        \"min\": 0,\n        \"max\": 0,\n        \"num_unique_values\": 1,\n        \"samples\": [\n          0\n        ],\n        \"semantic_type\": \"\",\n        \"description\": \"\"\n      }\n    }\n  ]\n}",
       "type": "dataframe",
       "variable_name": "df"
      },
      "text/html": [
       "\n",
       "  <div id=\"df-4d6c64c9-b6cd-4a31-898a-36f9ee0787b9\" class=\"colab-df-container\">\n",
       "    <div>\n",
       "<style scoped>\n",
       "    .dataframe tbody tr th:only-of-type {\n",
       "        vertical-align: middle;\n",
       "    }\n",
       "\n",
       "    .dataframe tbody tr th {\n",
       "        vertical-align: top;\n",
       "    }\n",
       "\n",
       "    .dataframe thead th {\n",
       "        text-align: right;\n",
       "    }\n",
       "</style>\n",
       "<table border=\"1\" class=\"dataframe\">\n",
       "  <thead>\n",
       "    <tr style=\"text-align: right;\">\n",
       "      <th></th>\n",
       "      <th>sbp</th>\n",
       "      <th>tobacco</th>\n",
       "      <th>predicted</th>\n",
       "    </tr>\n",
       "  </thead>\n",
       "  <tbody>\n",
       "    <tr>\n",
       "      <th>0</th>\n",
       "      <td>118</td>\n",
       "      <td>0.08</td>\n",
       "      <td>0</td>\n",
       "    </tr>\n",
       "    <tr>\n",
       "      <th>1</th>\n",
       "      <td>134</td>\n",
       "      <td>13.60</td>\n",
       "      <td>0</td>\n",
       "    </tr>\n",
       "    <tr>\n",
       "      <th>2</th>\n",
       "      <td>132</td>\n",
       "      <td>6.20</td>\n",
       "      <td>0</td>\n",
       "    </tr>\n",
       "    <tr>\n",
       "      <th>3</th>\n",
       "      <td>142</td>\n",
       "      <td>4.05</td>\n",
       "      <td>0</td>\n",
       "    </tr>\n",
       "    <tr>\n",
       "      <th>4</th>\n",
       "      <td>114</td>\n",
       "      <td>4.08</td>\n",
       "      <td>0</td>\n",
       "    </tr>\n",
       "  </tbody>\n",
       "</table>\n",
       "</div>\n",
       "    <div class=\"colab-df-buttons\">\n",
       "\n",
       "  <div class=\"colab-df-container\">\n",
       "    <button class=\"colab-df-convert\" onclick=\"convertToInteractive('df-4d6c64c9-b6cd-4a31-898a-36f9ee0787b9')\"\n",
       "            title=\"Convert this dataframe to an interactive table.\"\n",
       "            style=\"display:none;\">\n",
       "\n",
       "  <svg xmlns=\"http://www.w3.org/2000/svg\" height=\"24px\" viewBox=\"0 -960 960 960\">\n",
       "    <path d=\"M120-120v-720h720v720H120Zm60-500h600v-160H180v160Zm220 220h160v-160H400v160Zm0 220h160v-160H400v160ZM180-400h160v-160H180v160Zm440 0h160v-160H620v160ZM180-180h160v-160H180v160Zm440 0h160v-160H620v160Z\"/>\n",
       "  </svg>\n",
       "    </button>\n",
       "\n",
       "  <style>\n",
       "    .colab-df-container {\n",
       "      display:flex;\n",
       "      gap: 12px;\n",
       "    }\n",
       "\n",
       "    .colab-df-convert {\n",
       "      background-color: #E8F0FE;\n",
       "      border: none;\n",
       "      border-radius: 50%;\n",
       "      cursor: pointer;\n",
       "      display: none;\n",
       "      fill: #1967D2;\n",
       "      height: 32px;\n",
       "      padding: 0 0 0 0;\n",
       "      width: 32px;\n",
       "    }\n",
       "\n",
       "    .colab-df-convert:hover {\n",
       "      background-color: #E2EBFA;\n",
       "      box-shadow: 0px 1px 2px rgba(60, 64, 67, 0.3), 0px 1px 3px 1px rgba(60, 64, 67, 0.15);\n",
       "      fill: #174EA6;\n",
       "    }\n",
       "\n",
       "    .colab-df-buttons div {\n",
       "      margin-bottom: 4px;\n",
       "    }\n",
       "\n",
       "    [theme=dark] .colab-df-convert {\n",
       "      background-color: #3B4455;\n",
       "      fill: #D2E3FC;\n",
       "    }\n",
       "\n",
       "    [theme=dark] .colab-df-convert:hover {\n",
       "      background-color: #434B5C;\n",
       "      box-shadow: 0px 1px 3px 1px rgba(0, 0, 0, 0.15);\n",
       "      filter: drop-shadow(0px 1px 2px rgba(0, 0, 0, 0.3));\n",
       "      fill: #FFFFFF;\n",
       "    }\n",
       "  </style>\n",
       "\n",
       "    <script>\n",
       "      const buttonEl =\n",
       "        document.querySelector('#df-4d6c64c9-b6cd-4a31-898a-36f9ee0787b9 button.colab-df-convert');\n",
       "      buttonEl.style.display =\n",
       "        google.colab.kernel.accessAllowed ? 'block' : 'none';\n",
       "\n",
       "      async function convertToInteractive(key) {\n",
       "        const element = document.querySelector('#df-4d6c64c9-b6cd-4a31-898a-36f9ee0787b9');\n",
       "        const dataTable =\n",
       "          await google.colab.kernel.invokeFunction('convertToInteractive',\n",
       "                                                    [key], {});\n",
       "        if (!dataTable) return;\n",
       "\n",
       "        const docLinkHtml = 'Like what you see? Visit the ' +\n",
       "          '<a target=\"_blank\" href=https://colab.research.google.com/notebooks/data_table.ipynb>data table notebook</a>'\n",
       "          + ' to learn more about interactive tables.';\n",
       "        element.innerHTML = '';\n",
       "        dataTable['output_type'] = 'display_data';\n",
       "        await google.colab.output.renderOutput(dataTable, element);\n",
       "        const docLink = document.createElement('div');\n",
       "        docLink.innerHTML = docLinkHtml;\n",
       "        element.appendChild(docLink);\n",
       "      }\n",
       "    </script>\n",
       "  </div>\n",
       "\n",
       "\n",
       "<div id=\"df-75d1d60c-167a-422a-9051-8b2757385c6c\">\n",
       "  <button class=\"colab-df-quickchart\" onclick=\"quickchart('df-75d1d60c-167a-422a-9051-8b2757385c6c')\"\n",
       "            title=\"Suggest charts\"\n",
       "            style=\"display:none;\">\n",
       "\n",
       "<svg xmlns=\"http://www.w3.org/2000/svg\" height=\"24px\"viewBox=\"0 0 24 24\"\n",
       "     width=\"24px\">\n",
       "    <g>\n",
       "        <path d=\"M19 3H5c-1.1 0-2 .9-2 2v14c0 1.1.9 2 2 2h14c1.1 0 2-.9 2-2V5c0-1.1-.9-2-2-2zM9 17H7v-7h2v7zm4 0h-2V7h2v10zm4 0h-2v-4h2v4z\"/>\n",
       "    </g>\n",
       "</svg>\n",
       "  </button>\n",
       "\n",
       "<style>\n",
       "  .colab-df-quickchart {\n",
       "      --bg-color: #E8F0FE;\n",
       "      --fill-color: #1967D2;\n",
       "      --hover-bg-color: #E2EBFA;\n",
       "      --hover-fill-color: #174EA6;\n",
       "      --disabled-fill-color: #AAA;\n",
       "      --disabled-bg-color: #DDD;\n",
       "  }\n",
       "\n",
       "  [theme=dark] .colab-df-quickchart {\n",
       "      --bg-color: #3B4455;\n",
       "      --fill-color: #D2E3FC;\n",
       "      --hover-bg-color: #434B5C;\n",
       "      --hover-fill-color: #FFFFFF;\n",
       "      --disabled-bg-color: #3B4455;\n",
       "      --disabled-fill-color: #666;\n",
       "  }\n",
       "\n",
       "  .colab-df-quickchart {\n",
       "    background-color: var(--bg-color);\n",
       "    border: none;\n",
       "    border-radius: 50%;\n",
       "    cursor: pointer;\n",
       "    display: none;\n",
       "    fill: var(--fill-color);\n",
       "    height: 32px;\n",
       "    padding: 0;\n",
       "    width: 32px;\n",
       "  }\n",
       "\n",
       "  .colab-df-quickchart:hover {\n",
       "    background-color: var(--hover-bg-color);\n",
       "    box-shadow: 0 1px 2px rgba(60, 64, 67, 0.3), 0 1px 3px 1px rgba(60, 64, 67, 0.15);\n",
       "    fill: var(--button-hover-fill-color);\n",
       "  }\n",
       "\n",
       "  .colab-df-quickchart-complete:disabled,\n",
       "  .colab-df-quickchart-complete:disabled:hover {\n",
       "    background-color: var(--disabled-bg-color);\n",
       "    fill: var(--disabled-fill-color);\n",
       "    box-shadow: none;\n",
       "  }\n",
       "\n",
       "  .colab-df-spinner {\n",
       "    border: 2px solid var(--fill-color);\n",
       "    border-color: transparent;\n",
       "    border-bottom-color: var(--fill-color);\n",
       "    animation:\n",
       "      spin 1s steps(1) infinite;\n",
       "  }\n",
       "\n",
       "  @keyframes spin {\n",
       "    0% {\n",
       "      border-color: transparent;\n",
       "      border-bottom-color: var(--fill-color);\n",
       "      border-left-color: var(--fill-color);\n",
       "    }\n",
       "    20% {\n",
       "      border-color: transparent;\n",
       "      border-left-color: var(--fill-color);\n",
       "      border-top-color: var(--fill-color);\n",
       "    }\n",
       "    30% {\n",
       "      border-color: transparent;\n",
       "      border-left-color: var(--fill-color);\n",
       "      border-top-color: var(--fill-color);\n",
       "      border-right-color: var(--fill-color);\n",
       "    }\n",
       "    40% {\n",
       "      border-color: transparent;\n",
       "      border-right-color: var(--fill-color);\n",
       "      border-top-color: var(--fill-color);\n",
       "    }\n",
       "    60% {\n",
       "      border-color: transparent;\n",
       "      border-right-color: var(--fill-color);\n",
       "    }\n",
       "    80% {\n",
       "      border-color: transparent;\n",
       "      border-right-color: var(--fill-color);\n",
       "      border-bottom-color: var(--fill-color);\n",
       "    }\n",
       "    90% {\n",
       "      border-color: transparent;\n",
       "      border-bottom-color: var(--fill-color);\n",
       "    }\n",
       "  }\n",
       "</style>\n",
       "\n",
       "  <script>\n",
       "    async function quickchart(key) {\n",
       "      const quickchartButtonEl =\n",
       "        document.querySelector('#' + key + ' button');\n",
       "      quickchartButtonEl.disabled = true;  // To prevent multiple clicks.\n",
       "      quickchartButtonEl.classList.add('colab-df-spinner');\n",
       "      try {\n",
       "        const charts = await google.colab.kernel.invokeFunction(\n",
       "            'suggestCharts', [key], {});\n",
       "      } catch (error) {\n",
       "        console.error('Error during call to suggestCharts:', error);\n",
       "      }\n",
       "      quickchartButtonEl.classList.remove('colab-df-spinner');\n",
       "      quickchartButtonEl.classList.add('colab-df-quickchart-complete');\n",
       "    }\n",
       "    (() => {\n",
       "      let quickchartButtonEl =\n",
       "        document.querySelector('#df-75d1d60c-167a-422a-9051-8b2757385c6c button');\n",
       "      quickchartButtonEl.style.display =\n",
       "        google.colab.kernel.accessAllowed ? 'block' : 'none';\n",
       "    })();\n",
       "  </script>\n",
       "</div>\n",
       "\n",
       "    </div>\n",
       "  </div>\n"
      ],
      "text/plain": [
       "   sbp  tobacco  predicted\n",
       "0  118     0.08          0\n",
       "1  134    13.60          0\n",
       "2  132     6.20          0\n",
       "3  142     4.05          0\n",
       "4  114     4.08          0"
      ]
     },
     "execution_count": 613,
     "metadata": {},
     "output_type": "execute_result"
    }
   ],
   "source": [
    "x_values = []\n",
    "y_values = []\n",
    "predicted = []\n",
    "\n",
    "for pnt in count0List:\n",
    "    # Extend the totals rather than reassigning on each iteration\n",
    "    x_values.append(pnt[0])\n",
    "    y_values.append(pnt[1])\n",
    "\n",
    "predicted.extend([0] * len(count0List))\n",
    "\n",
    "for pnt in count1List:\n",
    "    # Extend the totals rather than reassigning on each iteration\n",
    "    x_values.append(pnt[0])\n",
    "    y_values.append(pnt[1])\n",
    "\n",
    "predicted.extend([1] * len(count1List))\n",
    "\n",
    "df = pd.DataFrame({\n",
    "    'sbp': x_values,\n",
    "    'tobacco': y_values,\n",
    "    'predicted': predicted\n",
    "})\n",
    "df.head()"
   ]
  },
  {
   "cell_type": "code",
   "execution_count": 614,
   "metadata": {
    "colab": {
     "base_uri": "https://localhost:8080/",
     "height": 206
    },
    "executionInfo": {
     "elapsed": 24,
     "status": "ok",
     "timestamp": 1742554952210,
     "user": {
      "displayName": "Hazem Alsagheer",
      "userId": "05232312845808918344"
     },
     "user_tz": 240
    },
    "id": "Z6gHniCz87a7",
    "outputId": "6c8f6dde-4c08-426a-d3ce-42f3b0e91a42"
   },
   "outputs": [
    {
     "data": {
      "application/vnd.google.colaboratory.intrinsic+json": {
       "summary": "{\n  \"name\": \"df_sorted_KM\",\n  \"rows\": 300,\n  \"fields\": [\n    {\n      \"column\": \"sbp\",\n      \"properties\": {\n        \"dtype\": \"number\",\n        \"std\": 19,\n        \"min\": 101,\n        \"max\": 208,\n        \"num_unique_values\": 54,\n        \"samples\": [\n          128,\n          188,\n          180\n        ],\n        \"semantic_type\": \"\",\n        \"description\": \"\"\n      }\n    },\n    {\n      \"column\": \"tobacco\",\n      \"properties\": {\n        \"dtype\": \"number\",\n        \"std\": 4.59605420657635,\n        \"min\": 0.0,\n        \"max\": 31.2,\n        \"num_unique_values\": 161,\n        \"samples\": [\n          13.2,\n          3.46,\n          6.17\n        ],\n        \"semantic_type\": \"\",\n        \"description\": \"\"\n      }\n    },\n    {\n      \"column\": \"predicted\",\n      \"properties\": {\n        \"dtype\": \"number\",\n        \"std\": 0,\n        \"min\": 0,\n        \"max\": 0,\n        \"num_unique_values\": 1,\n        \"samples\": [\n          0\n        ],\n        \"semantic_type\": \"\",\n        \"description\": \"\"\n      }\n    }\n  ]\n}",
       "type": "dataframe",
       "variable_name": "df_sorted_KM"
      },
      "text/html": [
       "\n",
       "  <div id=\"df-4c1aff04-a1be-4682-beaa-7c0d85c3c64d\" class=\"colab-df-container\">\n",
       "    <div>\n",
       "<style scoped>\n",
       "    .dataframe tbody tr th:only-of-type {\n",
       "        vertical-align: middle;\n",
       "    }\n",
       "\n",
       "    .dataframe tbody tr th {\n",
       "        vertical-align: top;\n",
       "    }\n",
       "\n",
       "    .dataframe thead th {\n",
       "        text-align: right;\n",
       "    }\n",
       "</style>\n",
       "<table border=\"1\" class=\"dataframe\">\n",
       "  <thead>\n",
       "    <tr style=\"text-align: right;\">\n",
       "      <th></th>\n",
       "      <th>sbp</th>\n",
       "      <th>tobacco</th>\n",
       "      <th>predicted</th>\n",
       "    </tr>\n",
       "  </thead>\n",
       "  <tbody>\n",
       "    <tr>\n",
       "      <th>213</th>\n",
       "      <td>101</td>\n",
       "      <td>0.48</td>\n",
       "      <td>0</td>\n",
       "    </tr>\n",
       "    <tr>\n",
       "      <th>142</th>\n",
       "      <td>102</td>\n",
       "      <td>0.40</td>\n",
       "      <td>0</td>\n",
       "    </tr>\n",
       "    <tr>\n",
       "      <th>41</th>\n",
       "      <td>103</td>\n",
       "      <td>0.03</td>\n",
       "      <td>0</td>\n",
       "    </tr>\n",
       "    <tr>\n",
       "      <th>205</th>\n",
       "      <td>106</td>\n",
       "      <td>1.08</td>\n",
       "      <td>0</td>\n",
       "    </tr>\n",
       "    <tr>\n",
       "      <th>14</th>\n",
       "      <td>106</td>\n",
       "      <td>1.61</td>\n",
       "      <td>0</td>\n",
       "    </tr>\n",
       "  </tbody>\n",
       "</table>\n",
       "</div>\n",
       "    <div class=\"colab-df-buttons\">\n",
       "\n",
       "  <div class=\"colab-df-container\">\n",
       "    <button class=\"colab-df-convert\" onclick=\"convertToInteractive('df-4c1aff04-a1be-4682-beaa-7c0d85c3c64d')\"\n",
       "            title=\"Convert this dataframe to an interactive table.\"\n",
       "            style=\"display:none;\">\n",
       "\n",
       "  <svg xmlns=\"http://www.w3.org/2000/svg\" height=\"24px\" viewBox=\"0 -960 960 960\">\n",
       "    <path d=\"M120-120v-720h720v720H120Zm60-500h600v-160H180v160Zm220 220h160v-160H400v160Zm0 220h160v-160H400v160ZM180-400h160v-160H180v160Zm440 0h160v-160H620v160ZM180-180h160v-160H180v160Zm440 0h160v-160H620v160Z\"/>\n",
       "  </svg>\n",
       "    </button>\n",
       "\n",
       "  <style>\n",
       "    .colab-df-container {\n",
       "      display:flex;\n",
       "      gap: 12px;\n",
       "    }\n",
       "\n",
       "    .colab-df-convert {\n",
       "      background-color: #E8F0FE;\n",
       "      border: none;\n",
       "      border-radius: 50%;\n",
       "      cursor: pointer;\n",
       "      display: none;\n",
       "      fill: #1967D2;\n",
       "      height: 32px;\n",
       "      padding: 0 0 0 0;\n",
       "      width: 32px;\n",
       "    }\n",
       "\n",
       "    .colab-df-convert:hover {\n",
       "      background-color: #E2EBFA;\n",
       "      box-shadow: 0px 1px 2px rgba(60, 64, 67, 0.3), 0px 1px 3px 1px rgba(60, 64, 67, 0.15);\n",
       "      fill: #174EA6;\n",
       "    }\n",
       "\n",
       "    .colab-df-buttons div {\n",
       "      margin-bottom: 4px;\n",
       "    }\n",
       "\n",
       "    [theme=dark] .colab-df-convert {\n",
       "      background-color: #3B4455;\n",
       "      fill: #D2E3FC;\n",
       "    }\n",
       "\n",
       "    [theme=dark] .colab-df-convert:hover {\n",
       "      background-color: #434B5C;\n",
       "      box-shadow: 0px 1px 3px 1px rgba(0, 0, 0, 0.15);\n",
       "      filter: drop-shadow(0px 1px 2px rgba(0, 0, 0, 0.3));\n",
       "      fill: #FFFFFF;\n",
       "    }\n",
       "  </style>\n",
       "\n",
       "    <script>\n",
       "      const buttonEl =\n",
       "        document.querySelector('#df-4c1aff04-a1be-4682-beaa-7c0d85c3c64d button.colab-df-convert');\n",
       "      buttonEl.style.display =\n",
       "        google.colab.kernel.accessAllowed ? 'block' : 'none';\n",
       "\n",
       "      async function convertToInteractive(key) {\n",
       "        const element = document.querySelector('#df-4c1aff04-a1be-4682-beaa-7c0d85c3c64d');\n",
       "        const dataTable =\n",
       "          await google.colab.kernel.invokeFunction('convertToInteractive',\n",
       "                                                    [key], {});\n",
       "        if (!dataTable) return;\n",
       "\n",
       "        const docLinkHtml = 'Like what you see? Visit the ' +\n",
       "          '<a target=\"_blank\" href=https://colab.research.google.com/notebooks/data_table.ipynb>data table notebook</a>'\n",
       "          + ' to learn more about interactive tables.';\n",
       "        element.innerHTML = '';\n",
       "        dataTable['output_type'] = 'display_data';\n",
       "        await google.colab.output.renderOutput(dataTable, element);\n",
       "        const docLink = document.createElement('div');\n",
       "        docLink.innerHTML = docLinkHtml;\n",
       "        element.appendChild(docLink);\n",
       "      }\n",
       "    </script>\n",
       "  </div>\n",
       "\n",
       "\n",
       "<div id=\"df-906dc629-3de4-4b64-8c52-e35c702af483\">\n",
       "  <button class=\"colab-df-quickchart\" onclick=\"quickchart('df-906dc629-3de4-4b64-8c52-e35c702af483')\"\n",
       "            title=\"Suggest charts\"\n",
       "            style=\"display:none;\">\n",
       "\n",
       "<svg xmlns=\"http://www.w3.org/2000/svg\" height=\"24px\"viewBox=\"0 0 24 24\"\n",
       "     width=\"24px\">\n",
       "    <g>\n",
       "        <path d=\"M19 3H5c-1.1 0-2 .9-2 2v14c0 1.1.9 2 2 2h14c1.1 0 2-.9 2-2V5c0-1.1-.9-2-2-2zM9 17H7v-7h2v7zm4 0h-2V7h2v10zm4 0h-2v-4h2v4z\"/>\n",
       "    </g>\n",
       "</svg>\n",
       "  </button>\n",
       "\n",
       "<style>\n",
       "  .colab-df-quickchart {\n",
       "      --bg-color: #E8F0FE;\n",
       "      --fill-color: #1967D2;\n",
       "      --hover-bg-color: #E2EBFA;\n",
       "      --hover-fill-color: #174EA6;\n",
       "      --disabled-fill-color: #AAA;\n",
       "      --disabled-bg-color: #DDD;\n",
       "  }\n",
       "\n",
       "  [theme=dark] .colab-df-quickchart {\n",
       "      --bg-color: #3B4455;\n",
       "      --fill-color: #D2E3FC;\n",
       "      --hover-bg-color: #434B5C;\n",
       "      --hover-fill-color: #FFFFFF;\n",
       "      --disabled-bg-color: #3B4455;\n",
       "      --disabled-fill-color: #666;\n",
       "  }\n",
       "\n",
       "  .colab-df-quickchart {\n",
       "    background-color: var(--bg-color);\n",
       "    border: none;\n",
       "    border-radius: 50%;\n",
       "    cursor: pointer;\n",
       "    display: none;\n",
       "    fill: var(--fill-color);\n",
       "    height: 32px;\n",
       "    padding: 0;\n",
       "    width: 32px;\n",
       "  }\n",
       "\n",
       "  .colab-df-quickchart:hover {\n",
       "    background-color: var(--hover-bg-color);\n",
       "    box-shadow: 0 1px 2px rgba(60, 64, 67, 0.3), 0 1px 3px 1px rgba(60, 64, 67, 0.15);\n",
       "    fill: var(--button-hover-fill-color);\n",
       "  }\n",
       "\n",
       "  .colab-df-quickchart-complete:disabled,\n",
       "  .colab-df-quickchart-complete:disabled:hover {\n",
       "    background-color: var(--disabled-bg-color);\n",
       "    fill: var(--disabled-fill-color);\n",
       "    box-shadow: none;\n",
       "  }\n",
       "\n",
       "  .colab-df-spinner {\n",
       "    border: 2px solid var(--fill-color);\n",
       "    border-color: transparent;\n",
       "    border-bottom-color: var(--fill-color);\n",
       "    animation:\n",
       "      spin 1s steps(1) infinite;\n",
       "  }\n",
       "\n",
       "  @keyframes spin {\n",
       "    0% {\n",
       "      border-color: transparent;\n",
       "      border-bottom-color: var(--fill-color);\n",
       "      border-left-color: var(--fill-color);\n",
       "    }\n",
       "    20% {\n",
       "      border-color: transparent;\n",
       "      border-left-color: var(--fill-color);\n",
       "      border-top-color: var(--fill-color);\n",
       "    }\n",
       "    30% {\n",
       "      border-color: transparent;\n",
       "      border-left-color: var(--fill-color);\n",
       "      border-top-color: var(--fill-color);\n",
       "      border-right-color: var(--fill-color);\n",
       "    }\n",
       "    40% {\n",
       "      border-color: transparent;\n",
       "      border-right-color: var(--fill-color);\n",
       "      border-top-color: var(--fill-color);\n",
       "    }\n",
       "    60% {\n",
       "      border-color: transparent;\n",
       "      border-right-color: var(--fill-color);\n",
       "    }\n",
       "    80% {\n",
       "      border-color: transparent;\n",
       "      border-right-color: var(--fill-color);\n",
       "      border-bottom-color: var(--fill-color);\n",
       "    }\n",
       "    90% {\n",
       "      border-color: transparent;\n",
       "      border-bottom-color: var(--fill-color);\n",
       "    }\n",
       "  }\n",
       "</style>\n",
       "\n",
       "  <script>\n",
       "    async function quickchart(key) {\n",
       "      const quickchartButtonEl =\n",
       "        document.querySelector('#' + key + ' button');\n",
       "      quickchartButtonEl.disabled = true;  // To prevent multiple clicks.\n",
       "      quickchartButtonEl.classList.add('colab-df-spinner');\n",
       "      try {\n",
       "        const charts = await google.colab.kernel.invokeFunction(\n",
       "            'suggestCharts', [key], {});\n",
       "      } catch (error) {\n",
       "        console.error('Error during call to suggestCharts:', error);\n",
       "      }\n",
       "      quickchartButtonEl.classList.remove('colab-df-spinner');\n",
       "      quickchartButtonEl.classList.add('colab-df-quickchart-complete');\n",
       "    }\n",
       "    (() => {\n",
       "      let quickchartButtonEl =\n",
       "        document.querySelector('#df-906dc629-3de4-4b64-8c52-e35c702af483 button');\n",
       "      quickchartButtonEl.style.display =\n",
       "        google.colab.kernel.accessAllowed ? 'block' : 'none';\n",
       "    })();\n",
       "  </script>\n",
       "</div>\n",
       "\n",
       "    </div>\n",
       "  </div>\n"
      ],
      "text/plain": [
       "     sbp  tobacco  predicted\n",
       "213  101     0.48          0\n",
       "142  102     0.40          0\n",
       "41   103     0.03          0\n",
       "205  106     1.08          0\n",
       "14   106     1.61          0"
      ]
     },
     "execution_count": 614,
     "metadata": {},
     "output_type": "execute_result"
    }
   ],
   "source": [
    "df_sorted_KM = df.sort_values(by='sbp', ascending=True)\n",
    "df_sorted_KM.head()"
   ]
  },
  {
   "cell_type": "code",
   "execution_count": 615,
   "metadata": {
    "colab": {
     "base_uri": "https://localhost:8080/"
    },
    "executionInfo": {
     "elapsed": 52,
     "status": "ok",
     "timestamp": 1742554952263,
     "user": {
      "displayName": "Hazem Alsagheer",
      "userId": "05232312845808918344"
     },
     "user_tz": 240
    },
    "id": "49bBIQIt87a7",
    "outputId": "4b79a568-f5b5-4169-db9a-fce14a991f3a"
   },
   "outputs": [
    {
     "data": {
      "text/plain": [
       "0.6333333333333333"
      ]
     },
     "execution_count": 615,
     "metadata": {},
     "output_type": "execute_result"
    }
   ],
   "source": [
    "accuracy_score(dataset2_train_sorted['chd'], df_sorted_KM['predicted'])"
   ]
  },
  {
   "cell_type": "markdown",
   "metadata": {
    "id": "ah6G7SD9NRMe"
   },
   "source": [
    "# Nearest Neighbor with Dataset 1"
   ]
  },
  {
   "cell_type": "code",
   "execution_count": 616,
   "metadata": {
    "executionInfo": {
     "elapsed": 9,
     "status": "ok",
     "timestamp": 1742554952264,
     "user": {
      "displayName": "Hazem Alsagheer",
      "userId": "05232312845808918344"
     },
     "user_tz": 240
    },
    "id": "scIvj2ivRBu1"
   },
   "outputs": [],
   "source": [
    "threshold=4\n",
    "def nearest_neighbors(points, start_point):\n",
    "  neighbors = []\n",
    "  for point in points:\n",
    "    distance=euclidean_distance(point, start_point)\n",
    "    if distance <= threshold:\n",
    "      neighbors.append(point)\n",
    "  return neighbors\n",
    "\n"
   ]
  },
  {
   "cell_type": "code",
   "execution_count": 617,
   "metadata": {
    "colab": {
     "base_uri": "https://localhost:8080/"
    },
    "executionInfo": {
     "elapsed": 9,
     "status": "ok",
     "timestamp": 1742554952265,
     "user": {
      "displayName": "Hazem Alsagheer",
      "userId": "05232312845808918344"
     },
     "user_tz": 240
    },
    "id": "TWtseNM0TLYr",
    "outputId": "9acb929e-bb72-4680-be99-66197a1982f5"
   },
   "outputs": [
    {
     "name": "stdout",
     "output_type": "stream",
     "text": [
      "Nearest neighbors to (2, 10) are: [(2, 10), (5, 8), (4, 9)]\n"
     ]
    }
   ],
   "source": [
    "start_point = points[0]  # Find neighbors for the first point\n",
    "neighbors = nearest_neighbors(points, start_point)\n",
    "print(f\"Nearest neighbors to {start_point} are: {neighbors}\")"
   ]
  },
  {
   "cell_type": "code",
   "execution_count": 618,
   "metadata": {
    "executionInfo": {
     "elapsed": 1,
     "status": "ok",
     "timestamp": 1742554952266,
     "user": {
      "displayName": "Hazem Alsagheer",
      "userId": "05232312845808918344"
     },
     "user_tz": 240
    },
    "id": "tPmSKNRsTddM"
   },
   "outputs": [],
   "source": [
    "def NN_cluster(points):\n",
    "  NNcluster={}\n",
    "  for index, point in enumerate(points):\n",
    "    check=False\n",
    "    for i in range(len(NNcluster)):\n",
    "      if i in NNcluster:\n",
    "        if point in NNcluster[i]:\n",
    "          check=True\n",
    "          break\n",
    "    if not check:\n",
    "      NNcluster[index]=nearest_neighbors(points, point)\n",
    "\n",
    "  return NNcluster\n"
   ]
  },
  {
   "cell_type": "code",
   "execution_count": 619,
   "metadata": {
    "colab": {
     "base_uri": "https://localhost:8080/"
    },
    "executionInfo": {
     "elapsed": 11,
     "status": "ok",
     "timestamp": 1742554952278,
     "user": {
      "displayName": "Hazem Alsagheer",
      "userId": "05232312845808918344"
     },
     "user_tz": 240
    },
    "id": "-4BrzSvh9pVg",
    "outputId": "877a06c3-6e79-426e-98a1-7ddd1dd536cc"
   },
   "outputs": [
    {
     "data": {
      "text/plain": [
       "{0: [(2, 10), (5, 8), (4, 9)],\n",
       " 1: [(2, 5), (1, 2)],\n",
       " 2: [(8, 4), (7, 5), (6, 4)]}"
      ]
     },
     "execution_count": 619,
     "metadata": {},
     "output_type": "execute_result"
    }
   ],
   "source": [
    "finalNNcluster=NN_cluster(points)\n",
    "finalNNcluster"
   ]
  },
  {
   "cell_type": "markdown",
   "metadata": {
    "id": "PgqD4NH4V4La"
   },
   "source": [
    "### **Q9.** Have you got the same results as you got using K-Means?\n",
    "Yes, the final clusters of the two algorithms match."
   ]
  },
  {
   "cell_type": "markdown",
   "metadata": {
    "id": "UqbYOCYcWl-o"
   },
   "source": [
    "### **Q10.** Give the final plot for NN clustering"
   ]
  },
  {
   "cell_type": "code",
   "execution_count": 620,
   "metadata": {
    "colab": {
     "base_uri": "https://localhost:8080/",
     "height": 452
    },
    "executionInfo": {
     "elapsed": 108,
     "status": "ok",
     "timestamp": 1742554952387,
     "user": {
      "displayName": "Hazem Alsagheer",
      "userId": "05232312845808918344"
     },
     "user_tz": 240
    },
    "id": "oUBRIX6vWVev",
    "outputId": "2aa48cfc-ceb6-4ef7-cec2-6740c9fe2887"
   },
   "outputs": [
    {
     "data": {
      "image/png": "[encoded data removed]",
      "text/plain": [
       "<Figure size 640x480 with 1 Axes>"
      ]
     },
     "metadata": {},
     "output_type": "display_data"
    }
   ],
   "source": [
    "plt.figure()\n",
    "\n",
    "for count,  points in enumerate(finalNNcluster.values()):\n",
    "    x_vals = [p[0] for p in points]\n",
    "    y_vals = [p[1] for p in points]\n",
    "    plt.scatter(x_vals, y_vals, color=f\"C{count+1}\", label=f\"Cluster {count}\")\n",
    "\n",
    "plt.title(\"NN Clusters\")\n",
    "plt.legend()\n",
    "plt.show()"
   ]
  },
  {
   "cell_type": "markdown",
   "metadata": {
    "id": "4F6PzleIXiDq"
   },
   "source": [
    "### **Q11.** Compare the performance of K-means and nearest neighbour clustering algorithms. Provide disadvantages of the algorithms on bigger datasets."
   ]
  },
  {
   "cell_type": "markdown",
   "metadata": {
    "id": "U87B635iXmw5"
   },
   "source": [
    "K-means clustering groups data by assigning points to clusters around specified seeds (centroids) and update their value per k-means iteration to adjust the clusters optimally. Working among several seeds make the algorithm fast and scalable for large datasets. However, its disadvantage is that the centroids must be picked carefully to optimize the final results as the choice of the seeds matter. On the other hand, nearest neighbour clustering builds clusters by linking the closest points together. NN Clustering does not rely on the choice of a centroid and can be picked at random allowing for flexibility. The downside is that it requires calculating distances between every pair of points and storing a huge distance matrix, making it slow and memory-intensive for big datasets."
   ]
  },
  {
   "cell_type": "markdown",
   "metadata": {
    "id": "yZ5jgllUXqwK"
   },
   "source": [
    "# Nearest Neighbor with Dataset 2"
   ]
  },
  {
   "cell_type": "code",
   "execution_count": 621,
   "metadata": {
    "executionInfo": {
     "elapsed": 2,
     "status": "ok",
     "timestamp": 1742554952389,
     "user": {
      "displayName": "Hazem Alsagheer",
      "userId": "05232312845808918344"
     },
     "user_tz": 240
    },
    "id": "Whak3snRXYYZ"
   },
   "outputs": [],
   "source": [
    "finalNNclusterDS2=NN_cluster(pointsDS2)\n"
   ]
  },
  {
   "cell_type": "code",
   "execution_count": 622,
   "metadata": {
    "executionInfo": {
     "elapsed": 24,
     "status": "ok",
     "timestamp": 1742554952414,
     "user": {
      "displayName": "Hazem Alsagheer",
      "userId": "05232312845808918344"
     },
     "user_tz": 240
    },
    "id": "VvhMsdu82tNE"
   },
   "outputs": [],
   "source": [
    "df = dataset2.iloc[:300].copy()\n",
    "df.reset_index(drop=True, inplace=True)\n",
    "chdList = {}\n",
    "\n",
    "for i, row in df.iterrows():\n",
    "    sbp_val = row['sbp']\n",
    "    tob_val = row['tobacco']\n",
    "    chd_val = row['chd']\n",
    "    pnt = (sbp_val, tob_val)\n",
    "\n",
    "    if pnt not in chdList:\n",
    "        chdList[pnt] = []\n",
    "    chdList[pnt].append(chd_val)"
   ]
  },
  {
   "cell_type": "code",
   "execution_count": 623,
   "metadata": {
    "executionInfo": {
     "elapsed": 1,
     "status": "ok",
     "timestamp": 1742554952417,
     "user": {
      "displayName": "Hazem Alsagheer",
      "userId": "05232312845808918344"
     },
     "user_tz": 240
    },
    "id": "NZIXVkKO3D15"
   },
   "outputs": [],
   "source": [
    "count0List=[]\n",
    "count1List=[]\n",
    "for pointList in finalNNclusterDS2.values():\n",
    "  chdCount=[]\n",
    "  for point in pointList:\n",
    "    if point in chdList:\n",
    "      chdCount.extend(chdList[point])\n",
    "  count0=chdCount.count(0)\n",
    "  count1=chdCount.count(1)\n",
    "  if count0>count1:\n",
    "    count0List.extend(pointList)\n",
    "  else:\n",
    "    count1List.extend(pointList)\n"
   ]
  },
  {
   "cell_type": "code",
   "execution_count": 624,
   "metadata": {
    "colab": {
     "base_uri": "https://localhost:8080/"
    },
    "executionInfo": {
     "elapsed": 62,
     "status": "ok",
     "timestamp": 1742554952480,
     "user": {
      "displayName": "Hazem Alsagheer",
      "userId": "05232312845808918344"
     },
     "user_tz": 240
    },
    "id": "T0dqhZ3i58f2",
    "outputId": "9c44f482-96f4-4096-c9c8-3e4cf1543851"
   },
   "outputs": [
    {
     "data": {
      "text/plain": [
       "[(160, 12.0),\n",
       " (164, 12.0),\n",
       " (158, 13.5),\n",
       " (160, 14.0),\n",
       " (161, 9.0),\n",
       " (118, 0.08),\n",
       " (118, 0.0),\n",
       " (117, 1.53),\n",
       " (118, 0.28),\n",
       " (120, 0.0),\n",
       " (116, 1.91),\n",
       " (118, 0.0),\n",
       " (121, 0.8),\n",
       " (118, 0.0),\n",
       " (116, 1.03),\n",
       " (118, 4.0),\n",
       " (118, 0.0),\n",
       " (118, 1.5),\n",
       " (118, 1.0),\n",
       " (120, 1.4),\n",
       " (120, 0.0),\n",
       " (116, 2.7),\n",
       " (120, 0.0),\n",
       " (118, 1.05),\n",
       " (118, 0.75),\n",
       " (120, 0.0),\n",
       " (116, 3.0),\n",
       " (118, 0.0),\n",
       " (118, 0.12),\n",
       " (118, 0.12),\n",
       " (118, 0.12),\n",
       " (132, 6.2),\n",
       " (132, 7.9),\n",
       " (134, 8.08),\n",
       " (130, 5.6),\n",
       " (134, 3.0),\n",
       " (134, 8.8),\n",
       " (134, 6.0),\n",
       " (130, 2.78),\n",
       " (130, 4.5),\n",
       " (132, 7.0),\n",
       " (134, 4.8),\n",
       " (134, 2.75),\n",
       " (132, 7.28),\n",
       " (132, 9.9),\n",
       " (134, 3.0),\n",
       " (142, 4.05),\n",
       " (144, 4.09),\n",
       " (140, 3.9),\n",
       " (142, 0.28),\n",
       " (140, 0.6),\n",
       " (143, 0.46),\n",
       " (140, 4.5),\n",
       " (142, 7.44),\n",
       " (144, 6.75),\n",
       " (144, 2.4),\n",
       " (143, 5.04),\n",
       " (140, 5.2),\n",
       " (144, 0.76),\n",
       " (142, 4.48),\n",
       " (114, 4.08),\n",
       " (117, 1.53),\n",
       " (116, 1.91),\n",
       " (114, 3.0),\n",
       " (116, 1.03),\n",
       " (116, 2.7),\n",
       " (116, 3.0),\n",
       " (112, 4.46),\n",
       " (114, 0.1),\n",
       " (114, 0.0),\n",
       " (118, 0.0),\n",
       " (117, 1.53),\n",
       " (114, 0.0),\n",
       " (116, 1.91),\n",
       " (114, 0.0),\n",
       " (118, 0.0),\n",
       " (112, 0.41),\n",
       " (118, 0.0),\n",
       " (114, 3.0),\n",
       " (116, 1.03),\n",
       " (118, 0.0),\n",
       " (114, 0.0),\n",
       " (116, 2.7),\n",
       " (116, 3.0),\n",
       " (114, 0.0),\n",
       " (118, 0.0),\n",
       " (114, 0.1),\n",
       " (114, 0.0),\n",
       " (112, 0.6),\n",
       " (112, 0.0),\n",
       " (132, 0.0),\n",
       " (132, 0.0),\n",
       " (130, 0.0),\n",
       " (130, 2.61),\n",
       " (134, 2.5),\n",
       " (130, 0.0),\n",
       " (130, 1.72),\n",
       " (136, 0.0),\n",
       " (134, 0.0),\n",
       " (128, 0.0),\n",
       " (130, 0.56),\n",
       " (134, 3.0),\n",
       " (136, 0.0),\n",
       " (134, 2.0),\n",
       " (128, 0.0),\n",
       " (130, 0.0),\n",
       " (132, 2.0),\n",
       " (134, 1.5),\n",
       " (130, 2.78),\n",
       " (128, 0.0),\n",
       " (132, 2.0),\n",
       " (129, 2.15),\n",
       " (130, 0.0),\n",
       " (128, 0.0),\n",
       " (134, 2.75),\n",
       " (134, 0.05),\n",
       " (132, 0.0),\n",
       " (134, 0.0),\n",
       " (130, 1.75),\n",
       " (128, 0.0),\n",
       " (128, 0.0),\n",
       " (130, 0.0),\n",
       " (134, 3.0),\n",
       " (134, 0.0),\n",
       " (134, 0.02),\n",
       " (134, 0.0),\n",
       " (132, 0.1),\n",
       " (136, 0.0),\n",
       " (158, 2.6),\n",
       " (158, 1.02),\n",
       " (156, 3.0),\n",
       " (158, 3.6),\n",
       " (160, 1.52),\n",
       " (160, 0.0),\n",
       " (156, 4.0),\n",
       " (160, 3.0),\n",
       " (158, 4.0),\n",
       " (160, 0.6),\n",
       " (158, 6.17),\n",
       " (150, 0.3),\n",
       " (152, 0.9),\n",
       " (150, 3.5),\n",
       " (148, 0.0),\n",
       " (152, 0.0),\n",
       " (148, 0.0),\n",
       " (152, 3.0),\n",
       " (150, 0.18),\n",
       " (138, 0.6),\n",
       " (136, 2.52),\n",
       " (140, 3.9),\n",
       " (138, 1.15),\n",
       " (140, 0.45),\n",
       " (136, 0.0),\n",
       " (140, 0.6),\n",
       " (140, 0.0),\n",
       " (138, 2.16),\n",
       " (136, 0.0),\n",
       " (138, 4.5),\n",
       " (136, 3.96),\n",
       " (136, 3.46),\n",
       " (136, 1.5),\n",
       " (138, 0.0),\n",
       " (138, 0.05),\n",
       " (138, 0.0),\n",
       " (136, 3.15),\n",
       " (138, 0.0),\n",
       " (138, 2.0),\n",
       " (138, 0.0),\n",
       " (136, 0.4),\n",
       " (136, 2.2),\n",
       " (136, 1.36),\n",
       " (136, 0.0),\n",
       " (142, 18.2),\n",
       " (124, 4.0),\n",
       " (122, 6.6),\n",
       " (122, 4.26),\n",
       " (126, 3.8),\n",
       " (126, 5.1),\n",
       " (124, 4.82),\n",
       " (126, 0.9),\n",
       " (122, 0.72),\n",
       " (122, 3.2),\n",
       " (124, 0.0),\n",
       " (122, 4.18),\n",
       " (124, 0.0),\n",
       " (124, 3.04),\n",
       " (126, 1.8),\n",
       " (126, 0.54),\n",
       " (124, 0.0),\n",
       " (122, 4.0),\n",
       " (122, 4.4),\n",
       " (124, 0.16),\n",
       " (122, 3.2),\n",
       " (124, 4.0),\n",
       " (122, 1.0),\n",
       " (124, 0.81),\n",
       " (126, 5.5),\n",
       " (124, 0.0),\n",
       " (126, 4.6),\n",
       " (124, 6.0),\n",
       " (124, 0.61),\n",
       " (124, 1.04),\n",
       " (124, 4.25),\n",
       " (138, 0.6),\n",
       " (136, 2.52),\n",
       " (134, 2.5),\n",
       " (138, 1.15),\n",
       " (136, 0.0),\n",
       " (134, 0.0),\n",
       " (134, 3.0),\n",
       " (138, 2.16),\n",
       " (136, 0.0),\n",
       " (134, 2.0),\n",
       " (138, 4.5),\n",
       " (136, 3.96),\n",
       " (134, 1.5),\n",
       " (136, 3.46),\n",
       " (136, 1.5),\n",
       " (138, 0.0),\n",
       " (134, 4.8),\n",
       " (138, 0.05),\n",
       " (138, 0.0),\n",
       " (136, 3.15),\n",
       " (134, 2.75),\n",
       " (136, 5.8),\n",
       " (134, 0.05),\n",
       " (134, 0.0),\n",
       " (138, 0.0),\n",
       " (138, 2.0),\n",
       " (138, 0.0),\n",
       " (136, 0.4),\n",
       " (136, 5.0),\n",
       " (136, 2.2),\n",
       " (136, 1.36),\n",
       " (134, 3.0),\n",
       " (134, 0.0),\n",
       " (134, 0.02),\n",
       " (134, 0.0),\n",
       " (136, 0.0),\n",
       " (148, 5.5),\n",
       " (148, 4.8),\n",
       " (150, 3.5),\n",
       " (148, 4.04),\n",
       " (148, 6.0),\n",
       " (146, 7.5),\n",
       " (146, 5.08),\n",
       " (146, 3.6),\n",
       " (130, 2.61),\n",
       " (128, 4.65),\n",
       " (126, 3.8),\n",
       " (126, 5.1),\n",
       " (130, 1.72),\n",
       " (130, 5.6),\n",
       " (128, 2.0),\n",
       " (130, 2.78),\n",
       " (128, 2.8),\n",
       " (130, 4.5),\n",
       " (128, 6.6),\n",
       " (126, 1.8),\n",
       " (129, 2.15),\n",
       " (128, 0.7),\n",
       " (128, 0.73),\n",
       " (130, 1.75),\n",
       " (126, 5.5),\n",
       " (128, 6.0),\n",
       " (126, 4.6),\n",
       " (118, 0.0),\n",
       " (120, 0.0),\n",
       " (122, 0.0),\n",
       " (118, 0.0),\n",
       " (121, 0.8),\n",
       " (122, 0.0),\n",
       " (118, 0.0),\n",
       " (122, 0.72),\n",
       " (122, 3.2),\n",
       " (118, 0.0),\n",
       " (124, 0.0),\n",
       " (120, 1.4),\n",
       " (120, 0.0),\n",
       " (120, 0.0),\n",
       " (124, 0.0),\n",
       " (122, 0.28),\n",
       " (124, 3.04),\n",
       " (122, 0.0),\n",
       " (122, 0.0),\n",
       " (124, 0.0),\n",
       " (122, 4.0),\n",
       " (120, 0.0),\n",
       " (126, 0.0),\n",
       " (124, 0.16),\n",
       " (122, 3.2),\n",
       " (122, 1.0),\n",
       " (124, 0.81),\n",
       " (122, 0.0),\n",
       " (122, 0.0),\n",
       " (124, 0.0),\n",
       " (118, 0.0),\n",
       " (124, 0.61),\n",
       " (124, 1.04),\n",
       " (123, 0.05),\n",
       " (152, 5.99),\n",
       " (150, 3.5),\n",
       " (153, 7.8),\n",
       " (152, 3.0),\n",
       " (154, 4.2),\n",
       " (152, 10.1),\n",
       " (153, 7.8),\n",
       " (152, 12.18),\n",
       " (118, 0.0),\n",
       " (120, 0.0),\n",
       " (122, 0.0),\n",
       " (118, 0.0),\n",
       " (121, 0.8),\n",
       " (122, 0.0),\n",
       " (118, 0.0),\n",
       " (122, 0.72),\n",
       " (122, 3.2),\n",
       " (118, 0.0),\n",
       " (124, 0.0),\n",
       " (120, 1.4),\n",
       " (120, 0.0),\n",
       " (120, 0.0),\n",
       " (124, 0.0),\n",
       " (122, 0.28),\n",
       " (124, 3.04),\n",
       " (122, 0.0),\n",
       " (122, 0.0),\n",
       " (124, 0.0),\n",
       " (122, 4.0),\n",
       " (120, 0.0),\n",
       " (126, 0.0),\n",
       " (124, 0.16),\n",
       " (122, 3.2),\n",
       " (122, 1.0),\n",
       " (124, 0.81),\n",
       " (122, 0.0),\n",
       " (122, 0.0),\n",
       " (124, 0.0),\n",
       " (118, 0.0),\n",
       " (124, 0.61),\n",
       " (124, 1.04),\n",
       " (123, 0.05),\n",
       " (126, 3.8),\n",
       " (126, 0.09),\n",
       " (128, 0.4),\n",
       " (128, 0.0),\n",
       " (126, 0.9),\n",
       " (128, 0.42),\n",
       " (124, 0.0),\n",
       " (128, 0.0),\n",
       " (128, 2.0),\n",
       " (128, 0.5),\n",
       " (124, 0.0),\n",
       " (128, 2.8),\n",
       " (124, 3.04),\n",
       " (127, 0.0),\n",
       " (126, 1.8),\n",
       " (126, 0.54),\n",
       " (124, 0.0),\n",
       " (128, 0.0),\n",
       " (128, 0.04),\n",
       " (129, 2.15),\n",
       " (126, 0.0),\n",
       " (128, 0.7),\n",
       " (128, 0.0),\n",
       " (124, 0.16),\n",
       " (128, 0.73),\n",
       " (124, 0.81),\n",
       " (124, 0.0),\n",
       " (128, 0.0),\n",
       " (128, 0.0),\n",
       " (124, 0.61),\n",
       " (124, 1.04),\n",
       " (126, 0.21),\n",
       " (123, 0.05),\n",
       " (130, 0.0),\n",
       " (130, 2.61),\n",
       " (126, 3.8),\n",
       " (130, 0.0),\n",
       " (130, 1.72),\n",
       " (126, 0.09),\n",
       " (128, 0.4),\n",
       " (128, 0.0),\n",
       " (130, 0.56),\n",
       " (126, 0.9),\n",
       " (128, 0.42),\n",
       " (128, 0.0),\n",
       " (130, 0.0),\n",
       " (128, 2.0),\n",
       " (128, 0.5),\n",
       " (130, 2.78),\n",
       " (128, 2.8),\n",
       " (127, 0.0),\n",
       " (126, 1.8),\n",
       " (126, 0.54),\n",
       " (128, 0.0),\n",
       " (128, 0.04),\n",
       " (129, 2.15),\n",
       " (126, 0.0),\n",
       " (128, 0.7),\n",
       " (130, 0.0),\n",
       " (128, 0.0),\n",
       " (128, 0.73),\n",
       " (130, 1.75),\n",
       " (128, 0.0),\n",
       " (128, 0.0),\n",
       " (130, 0.0),\n",
       " (126, 0.21),\n",
       " (194, 1.7),\n",
       " (194, 2.55),\n",
       " (130, 0.0),\n",
       " (130, 2.61),\n",
       " (126, 3.8),\n",
       " (130, 0.0),\n",
       " (130, 1.72),\n",
       " (126, 0.09),\n",
       " (128, 0.4),\n",
       " (128, 0.0),\n",
       " (130, 0.56),\n",
       " (126, 0.9),\n",
       " (128, 0.42),\n",
       " (128, 0.0),\n",
       " (130, 0.0),\n",
       " (128, 2.0),\n",
       " (128, 0.5),\n",
       " (130, 2.78),\n",
       " (128, 2.8),\n",
       " (127, 0.0),\n",
       " (126, 1.8),\n",
       " (126, 0.54),\n",
       " (128, 0.0),\n",
       " (128, 0.04),\n",
       " (129, 2.15),\n",
       " (126, 0.0),\n",
       " (128, 0.7),\n",
       " (130, 0.0),\n",
       " (128, 0.0),\n",
       " (128, 0.73),\n",
       " (130, 1.75),\n",
       " (128, 0.0),\n",
       " (128, 0.0),\n",
       " (130, 0.0),\n",
       " (126, 0.21),\n",
       " (152, 0.9),\n",
       " (156, 3.0),\n",
       " (154, 0.7),\n",
       " (152, 0.0),\n",
       " (156, 4.0),\n",
       " (152, 3.0),\n",
       " (154, 1.8),\n",
       " (154, 4.2),\n",
       " (130, 0.0),\n",
       " (130, 2.61),\n",
       " (128, 4.65),\n",
       " (126, 3.8),\n",
       " (126, 5.1),\n",
       " (130, 0.0),\n",
       " (130, 1.72),\n",
       " (126, 0.09),\n",
       " (128, 0.4),\n",
       " (128, 0.0),\n",
       " (130, 0.56),\n",
       " (126, 0.9),\n",
       " (128, 0.42),\n",
       " (128, 0.0),\n",
       " (130, 0.0),\n",
       " (128, 2.0),\n",
       " (132, 2.0),\n",
       " (128, 0.5),\n",
       " (130, 2.78),\n",
       " (128, 2.8),\n",
       " (130, 4.5),\n",
       " (127, 0.0),\n",
       " (126, 1.8),\n",
       " (126, 0.54),\n",
       " (128, 0.0),\n",
       " (132, 2.0),\n",
       " (128, 0.04),\n",
       " (129, 2.15),\n",
       " (126, 0.0),\n",
       " (128, 0.7),\n",
       " (130, 0.0),\n",
       " (128, 0.0),\n",
       " (128, 0.73),\n",
       " (130, 1.75),\n",
       " (128, 6.0),\n",
       " (126, 4.6),\n",
       " (128, 0.0),\n",
       " (128, 0.0),\n",
       " (130, 0.0),\n",
       " (126, 0.21),\n",
       " (152, 5.99),\n",
       " (152, 10.1),\n",
       " (153, 7.8),\n",
       " (154, 4.2),\n",
       " (152, 10.1),\n",
       " (152, 12.18),\n",
       " (130, 0.0),\n",
       " (130, 2.61),\n",
       " (126, 3.8),\n",
       " (130, 0.0),\n",
       " (130, 1.72),\n",
       " (126, 0.09),\n",
       " (128, 0.4),\n",
       " (128, 0.0),\n",
       " (130, 0.56),\n",
       " (126, 0.9),\n",
       " (128, 0.42),\n",
       " (128, 0.0),\n",
       " (130, 0.0),\n",
       " (128, 2.0),\n",
       " (128, 0.5),\n",
       " (130, 2.78),\n",
       " (128, 2.8),\n",
       " (127, 0.0),\n",
       " (126, 1.8),\n",
       " (126, 0.54),\n",
       " (128, 0.0),\n",
       " (128, 0.04),\n",
       " (129, 2.15),\n",
       " (126, 0.0),\n",
       " (128, 0.7),\n",
       " (130, 0.0),\n",
       " (128, 0.0),\n",
       " (128, 0.73),\n",
       " (130, 1.75),\n",
       " (128, 0.0),\n",
       " (128, 0.0),\n",
       " (130, 0.0),\n",
       " (126, 0.21),\n",
       " (122, 4.26),\n",
       " (118, 0.28),\n",
       " (120, 0.0),\n",
       " (122, 0.0),\n",
       " (121, 0.8),\n",
       " (122, 0.0),\n",
       " (122, 0.72),\n",
       " (120, 3.7),\n",
       " (122, 3.2),\n",
       " (124, 0.0),\n",
       " (120, 1.4),\n",
       " (120, 0.0),\n",
       " (122, 4.18),\n",
       " (120, 0.0),\n",
       " (124, 0.0),\n",
       " (122, 0.28),\n",
       " (124, 3.04),\n",
       " (122, 0.0),\n",
       " (122, 0.0),\n",
       " (124, 0.0),\n",
       " (122, 4.0),\n",
       " (120, 0.0),\n",
       " (124, 0.16),\n",
       " (122, 3.2),\n",
       " (122, 1.0),\n",
       " (124, 0.81),\n",
       " (122, 0.0),\n",
       " (122, 0.0),\n",
       " (124, 0.0),\n",
       " (124, 0.61),\n",
       " (124, 1.04),\n",
       " (123, 0.05),\n",
       " (130, 0.0),\n",
       " (130, 2.61),\n",
       " (126, 3.8),\n",
       " (130, 0.0),\n",
       " (130, 1.72),\n",
       " (126, 0.09),\n",
       " (128, 0.4),\n",
       " (128, 0.0),\n",
       " (130, 0.56),\n",
       " (126, 0.9),\n",
       " (128, 0.42),\n",
       " (124, 0.0),\n",
       " (128, 0.0),\n",
       " (130, 0.0),\n",
       " (128, 2.0),\n",
       " (128, 0.5),\n",
       " (124, 0.0),\n",
       " (128, 2.8),\n",
       " (127, 0.0),\n",
       " (126, 1.8),\n",
       " (126, 0.54),\n",
       " (124, 0.0),\n",
       " (128, 0.0),\n",
       " (128, 0.04),\n",
       " (129, 2.15),\n",
       " (126, 0.0),\n",
       " (128, 0.7),\n",
       " (130, 0.0),\n",
       " (128, 0.0),\n",
       " (124, 0.16),\n",
       " (128, 0.73),\n",
       " (124, 0.81),\n",
       " (130, 1.75),\n",
       " (124, 0.0),\n",
       " (128, 0.0),\n",
       " (128, 0.0),\n",
       " (124, 0.61),\n",
       " (124, 1.04),\n",
       " (130, 0.0),\n",
       " (126, 0.21),\n",
       " (174, 9.45),\n",
       " (118, 0.0),\n",
       " (120, 0.0),\n",
       " (122, 0.0),\n",
       " (118, 0.0),\n",
       " (121, 0.8),\n",
       " (122, 0.0),\n",
       " (118, 0.0),\n",
       " (122, 0.72),\n",
       " (122, 3.2),\n",
       " (118, 0.0),\n",
       " (124, 0.0),\n",
       " (120, 1.4),\n",
       " (120, 0.0),\n",
       " (120, 0.0),\n",
       " (124, 0.0),\n",
       " (122, 0.28),\n",
       " (124, 3.04),\n",
       " (122, 0.0),\n",
       " (122, 0.0),\n",
       " (124, 0.0),\n",
       " (122, 4.0),\n",
       " (120, 0.0),\n",
       " (126, 0.0),\n",
       " (124, 0.16),\n",
       " (122, 3.2),\n",
       " (122, 1.0),\n",
       " (124, 0.81),\n",
       " (122, 0.0),\n",
       " (122, 0.0),\n",
       " (124, 0.0),\n",
       " (118, 0.0),\n",
       " (124, 0.61),\n",
       " (124, 1.04),\n",
       " (123, 0.05),\n",
       " (194, 1.7),\n",
       " (194, 2.55),\n",
       " (130, 0.0),\n",
       " (130, 2.61),\n",
       " (130, 0.0),\n",
       " (130, 1.72),\n",
       " (126, 0.09),\n",
       " (128, 0.4),\n",
       " (128, 0.0),\n",
       " (130, 0.56),\n",
       " (126, 0.9),\n",
       " (128, 0.42),\n",
       " (128, 0.0),\n",
       " (130, 0.0),\n",
       " (128, 2.0),\n",
       " (128, 0.5),\n",
       " (130, 2.78),\n",
       " (128, 2.8),\n",
       " (127, 0.0),\n",
       " (126, 1.8),\n",
       " (126, 0.54),\n",
       " (128, 0.0),\n",
       " (128, 0.04),\n",
       " (129, 2.15),\n",
       " (126, 0.0),\n",
       " (128, 0.7),\n",
       " (130, 0.0),\n",
       " (128, 0.0),\n",
       " (128, 0.73),\n",
       " (130, 1.75),\n",
       " (128, 0.0),\n",
       " (128, 0.0),\n",
       " (130, 0.0),\n",
       " (126, 0.21),\n",
       " (166, 0.07),\n",
       " (166, 0.0),\n",
       " (162, 0.0),\n",
       " (164, 0.5),\n",
       " (166, 3.0),\n",
       " (150, 20.0),\n",
       " (103, 0.03),\n",
       " (102, 0.4),\n",
       " (101, 0.48),\n",
       " (160, 1.52),\n",
       " (162, 5.3),\n",
       " (160, 0.0),\n",
       " (162, 2.92),\n",
       " (160, 3.0),\n",
       " (162, 0.0),\n",
       " (164, 0.5),\n",
       " (160, 0.6),\n",
       " (160, 1.52),\n",
       " (160, 0.0),\n",
       " (166, 0.0),\n",
       " (162, 2.92),\n",
       " (160, 3.0),\n",
       " (162, 0.0),\n",
       " (164, 0.5),\n",
       " (160, 0.6),\n",
       " (166, 0.07),\n",
       " (166, 0.0),\n",
       " (162, 2.92),\n",
       " (162, 0.0),\n",
       " (164, 0.5),\n",
       " (166, 3.0),\n",
       " (176, 5.76),\n",
       " (190, 4.18),\n",
       " (152, 0.9),\n",
       " (156, 3.0),\n",
       " (154, 0.7),\n",
       " (152, 0.0),\n",
       " (156, 4.0),\n",
       " (152, 3.0),\n",
       " (154, 1.8),\n",
       " (154, 4.2),\n",
       " (103, 0.03),\n",
       " (102, 0.4),\n",
       " (101, 0.48)]"
      ]
     },
     "execution_count": 624,
     "metadata": {},
     "output_type": "execute_result"
    }
   ],
   "source": [
    "count0List"
   ]
  },
  {
   "cell_type": "code",
   "execution_count": 625,
   "metadata": {
    "colab": {
     "base_uri": "https://localhost:8080/",
     "height": 206
    },
    "executionInfo": {
     "elapsed": 49,
     "status": "ok",
     "timestamp": 1742554952547,
     "user": {
      "displayName": "Hazem Alsagheer",
      "userId": "05232312845808918344"
     },
     "user_tz": 240
    },
    "id": "0crvbTvn7Cg9",
    "outputId": "7540b7e2-62d0-47ff-99b7-2920d60427fc"
   },
   "outputs": [
    {
     "data": {
      "application/vnd.google.colaboratory.intrinsic+json": {
       "summary": "{\n  \"name\": \"df\",\n  \"rows\": 905,\n  \"fields\": [\n    {\n      \"column\": \"sbp\",\n      \"properties\": {\n        \"dtype\": \"number\",\n        \"std\": 15,\n        \"min\": 101,\n        \"max\": 208,\n        \"num_unique_values\": 54,\n        \"samples\": [\n          128,\n          106,\n          145\n        ],\n        \"semantic_type\": \"\",\n        \"description\": \"\"\n      }\n    },\n    {\n      \"column\": \"tobacco\",\n      \"properties\": {\n        \"dtype\": \"number\",\n        \"std\": 3.66313737268842,\n        \"min\": 0.0,\n        \"max\": 31.2,\n        \"num_unique_values\": 161,\n        \"samples\": [\n          0.73,\n          4.2,\n          1.61\n        ],\n        \"semantic_type\": \"\",\n        \"description\": \"\"\n      }\n    },\n    {\n      \"column\": \"predicted\",\n      \"properties\": {\n        \"dtype\": \"number\",\n        \"std\": 0,\n        \"min\": 0,\n        \"max\": 1,\n        \"num_unique_values\": 2,\n        \"samples\": [\n          1,\n          0\n        ],\n        \"semantic_type\": \"\",\n        \"description\": \"\"\n      }\n    }\n  ]\n}",
       "type": "dataframe",
       "variable_name": "df"
      },
      "text/html": [
       "\n",
       "  <div id=\"df-2912aa4b-664f-456e-be98-2d65c9fa1821\" class=\"colab-df-container\">\n",
       "    <div>\n",
       "<style scoped>\n",
       "    .dataframe tbody tr th:only-of-type {\n",
       "        vertical-align: middle;\n",
       "    }\n",
       "\n",
       "    .dataframe tbody tr th {\n",
       "        vertical-align: top;\n",
       "    }\n",
       "\n",
       "    .dataframe thead th {\n",
       "        text-align: right;\n",
       "    }\n",
       "</style>\n",
       "<table border=\"1\" class=\"dataframe\">\n",
       "  <thead>\n",
       "    <tr style=\"text-align: right;\">\n",
       "      <th></th>\n",
       "      <th>sbp</th>\n",
       "      <th>tobacco</th>\n",
       "      <th>predicted</th>\n",
       "    </tr>\n",
       "  </thead>\n",
       "  <tbody>\n",
       "    <tr>\n",
       "      <th>0</th>\n",
       "      <td>160</td>\n",
       "      <td>12.0</td>\n",
       "      <td>0</td>\n",
       "    </tr>\n",
       "    <tr>\n",
       "      <th>1</th>\n",
       "      <td>164</td>\n",
       "      <td>12.0</td>\n",
       "      <td>0</td>\n",
       "    </tr>\n",
       "    <tr>\n",
       "      <th>2</th>\n",
       "      <td>158</td>\n",
       "      <td>13.5</td>\n",
       "      <td>0</td>\n",
       "    </tr>\n",
       "    <tr>\n",
       "      <th>3</th>\n",
       "      <td>160</td>\n",
       "      <td>14.0</td>\n",
       "      <td>0</td>\n",
       "    </tr>\n",
       "    <tr>\n",
       "      <th>4</th>\n",
       "      <td>161</td>\n",
       "      <td>9.0</td>\n",
       "      <td>0</td>\n",
       "    </tr>\n",
       "  </tbody>\n",
       "</table>\n",
       "</div>\n",
       "    <div class=\"colab-df-buttons\">\n",
       "\n",
       "  <div class=\"colab-df-container\">\n",
       "    <button class=\"colab-df-convert\" onclick=\"convertToInteractive('df-2912aa4b-664f-456e-be98-2d65c9fa1821')\"\n",
       "            title=\"Convert this dataframe to an interactive table.\"\n",
       "            style=\"display:none;\">\n",
       "\n",
       "  <svg xmlns=\"http://www.w3.org/2000/svg\" height=\"24px\" viewBox=\"0 -960 960 960\">\n",
       "    <path d=\"M120-120v-720h720v720H120Zm60-500h600v-160H180v160Zm220 220h160v-160H400v160Zm0 220h160v-160H400v160ZM180-400h160v-160H180v160Zm440 0h160v-160H620v160ZM180-180h160v-160H180v160Zm440 0h160v-160H620v160Z\"/>\n",
       "  </svg>\n",
       "    </button>\n",
       "\n",
       "  <style>\n",
       "    .colab-df-container {\n",
       "      display:flex;\n",
       "      gap: 12px;\n",
       "    }\n",
       "\n",
       "    .colab-df-convert {\n",
       "      background-color: #E8F0FE;\n",
       "      border: none;\n",
       "      border-radius: 50%;\n",
       "      cursor: pointer;\n",
       "      display: none;\n",
       "      fill: #1967D2;\n",
       "      height: 32px;\n",
       "      padding: 0 0 0 0;\n",
       "      width: 32px;\n",
       "    }\n",
       "\n",
       "    .colab-df-convert:hover {\n",
       "      background-color: #E2EBFA;\n",
       "      box-shadow: 0px 1px 2px rgba(60, 64, 67, 0.3), 0px 1px 3px 1px rgba(60, 64, 67, 0.15);\n",
       "      fill: #174EA6;\n",
       "    }\n",
       "\n",
       "    .colab-df-buttons div {\n",
       "      margin-bottom: 4px;\n",
       "    }\n",
       "\n",
       "    [theme=dark] .colab-df-convert {\n",
       "      background-color: #3B4455;\n",
       "      fill: #D2E3FC;\n",
       "    }\n",
       "\n",
       "    [theme=dark] .colab-df-convert:hover {\n",
       "      background-color: #434B5C;\n",
       "      box-shadow: 0px 1px 3px 1px rgba(0, 0, 0, 0.15);\n",
       "      filter: drop-shadow(0px 1px 2px rgba(0, 0, 0, 0.3));\n",
       "      fill: #FFFFFF;\n",
       "    }\n",
       "  </style>\n",
       "\n",
       "    <script>\n",
       "      const buttonEl =\n",
       "        document.querySelector('#df-2912aa4b-664f-456e-be98-2d65c9fa1821 button.colab-df-convert');\n",
       "      buttonEl.style.display =\n",
       "        google.colab.kernel.accessAllowed ? 'block' : 'none';\n",
       "\n",
       "      async function convertToInteractive(key) {\n",
       "        const element = document.querySelector('#df-2912aa4b-664f-456e-be98-2d65c9fa1821');\n",
       "        const dataTable =\n",
       "          await google.colab.kernel.invokeFunction('convertToInteractive',\n",
       "                                                    [key], {});\n",
       "        if (!dataTable) return;\n",
       "\n",
       "        const docLinkHtml = 'Like what you see? Visit the ' +\n",
       "          '<a target=\"_blank\" href=https://colab.research.google.com/notebooks/data_table.ipynb>data table notebook</a>'\n",
       "          + ' to learn more about interactive tables.';\n",
       "        element.innerHTML = '';\n",
       "        dataTable['output_type'] = 'display_data';\n",
       "        await google.colab.output.renderOutput(dataTable, element);\n",
       "        const docLink = document.createElement('div');\n",
       "        docLink.innerHTML = docLinkHtml;\n",
       "        element.appendChild(docLink);\n",
       "      }\n",
       "    </script>\n",
       "  </div>\n",
       "\n",
       "\n",
       "<div id=\"df-7c128a27-e1e6-4ede-8563-cc2e7fc45d3e\">\n",
       "  <button class=\"colab-df-quickchart\" onclick=\"quickchart('df-7c128a27-e1e6-4ede-8563-cc2e7fc45d3e')\"\n",
       "            title=\"Suggest charts\"\n",
       "            style=\"display:none;\">\n",
       "\n",
       "<svg xmlns=\"http://www.w3.org/2000/svg\" height=\"24px\"viewBox=\"0 0 24 24\"\n",
       "     width=\"24px\">\n",
       "    <g>\n",
       "        <path d=\"M19 3H5c-1.1 0-2 .9-2 2v14c0 1.1.9 2 2 2h14c1.1 0 2-.9 2-2V5c0-1.1-.9-2-2-2zM9 17H7v-7h2v7zm4 0h-2V7h2v10zm4 0h-2v-4h2v4z\"/>\n",
       "    </g>\n",
       "</svg>\n",
       "  </button>\n",
       "\n",
       "<style>\n",
       "  .colab-df-quickchart {\n",
       "      --bg-color: #E8F0FE;\n",
       "      --fill-color: #1967D2;\n",
       "      --hover-bg-color: #E2EBFA;\n",
       "      --hover-fill-color: #174EA6;\n",
       "      --disabled-fill-color: #AAA;\n",
       "      --disabled-bg-color: #DDD;\n",
       "  }\n",
       "\n",
       "  [theme=dark] .colab-df-quickchart {\n",
       "      --bg-color: #3B4455;\n",
       "      --fill-color: #D2E3FC;\n",
       "      --hover-bg-color: #434B5C;\n",
       "      --hover-fill-color: #FFFFFF;\n",
       "      --disabled-bg-color: #3B4455;\n",
       "      --disabled-fill-color: #666;\n",
       "  }\n",
       "\n",
       "  .colab-df-quickchart {\n",
       "    background-color: var(--bg-color);\n",
       "    border: none;\n",
       "    border-radius: 50%;\n",
       "    cursor: pointer;\n",
       "    display: none;\n",
       "    fill: var(--fill-color);\n",
       "    height: 32px;\n",
       "    padding: 0;\n",
       "    width: 32px;\n",
       "  }\n",
       "\n",
       "  .colab-df-quickchart:hover {\n",
       "    background-color: var(--hover-bg-color);\n",
       "    box-shadow: 0 1px 2px rgba(60, 64, 67, 0.3), 0 1px 3px 1px rgba(60, 64, 67, 0.15);\n",
       "    fill: var(--button-hover-fill-color);\n",
       "  }\n",
       "\n",
       "  .colab-df-quickchart-complete:disabled,\n",
       "  .colab-df-quickchart-complete:disabled:hover {\n",
       "    background-color: var(--disabled-bg-color);\n",
       "    fill: var(--disabled-fill-color);\n",
       "    box-shadow: none;\n",
       "  }\n",
       "\n",
       "  .colab-df-spinner {\n",
       "    border: 2px solid var(--fill-color);\n",
       "    border-color: transparent;\n",
       "    border-bottom-color: var(--fill-color);\n",
       "    animation:\n",
       "      spin 1s steps(1) infinite;\n",
       "  }\n",
       "\n",
       "  @keyframes spin {\n",
       "    0% {\n",
       "      border-color: transparent;\n",
       "      border-bottom-color: var(--fill-color);\n",
       "      border-left-color: var(--fill-color);\n",
       "    }\n",
       "    20% {\n",
       "      border-color: transparent;\n",
       "      border-left-color: var(--fill-color);\n",
       "      border-top-color: var(--fill-color);\n",
       "    }\n",
       "    30% {\n",
       "      border-color: transparent;\n",
       "      border-left-color: var(--fill-color);\n",
       "      border-top-color: var(--fill-color);\n",
       "      border-right-color: var(--fill-color);\n",
       "    }\n",
       "    40% {\n",
       "      border-color: transparent;\n",
       "      border-right-color: var(--fill-color);\n",
       "      border-top-color: var(--fill-color);\n",
       "    }\n",
       "    60% {\n",
       "      border-color: transparent;\n",
       "      border-right-color: var(--fill-color);\n",
       "    }\n",
       "    80% {\n",
       "      border-color: transparent;\n",
       "      border-right-color: var(--fill-color);\n",
       "      border-bottom-color: var(--fill-color);\n",
       "    }\n",
       "    90% {\n",
       "      border-color: transparent;\n",
       "      border-bottom-color: var(--fill-color);\n",
       "    }\n",
       "  }\n",
       "</style>\n",
       "\n",
       "  <script>\n",
       "    async function quickchart(key) {\n",
       "      const quickchartButtonEl =\n",
       "        document.querySelector('#' + key + ' button');\n",
       "      quickchartButtonEl.disabled = true;  // To prevent multiple clicks.\n",
       "      quickchartButtonEl.classList.add('colab-df-spinner');\n",
       "      try {\n",
       "        const charts = await google.colab.kernel.invokeFunction(\n",
       "            'suggestCharts', [key], {});\n",
       "      } catch (error) {\n",
       "        console.error('Error during call to suggestCharts:', error);\n",
       "      }\n",
       "      quickchartButtonEl.classList.remove('colab-df-spinner');\n",
       "      quickchartButtonEl.classList.add('colab-df-quickchart-complete');\n",
       "    }\n",
       "    (() => {\n",
       "      let quickchartButtonEl =\n",
       "        document.querySelector('#df-7c128a27-e1e6-4ede-8563-cc2e7fc45d3e button');\n",
       "      quickchartButtonEl.style.display =\n",
       "        google.colab.kernel.accessAllowed ? 'block' : 'none';\n",
       "    })();\n",
       "  </script>\n",
       "</div>\n",
       "\n",
       "    </div>\n",
       "  </div>\n"
      ],
      "text/plain": [
       "   sbp  tobacco  predicted\n",
       "0  160     12.0          0\n",
       "1  164     12.0          0\n",
       "2  158     13.5          0\n",
       "3  160     14.0          0\n",
       "4  161      9.0          0"
      ]
     },
     "execution_count": 625,
     "metadata": {},
     "output_type": "execute_result"
    }
   ],
   "source": [
    "x_values = []\n",
    "y_values = []\n",
    "predicted = []\n",
    "\n",
    "for pnt in count0List:\n",
    "    # Extend the totals rather than reassigning on each iteration\n",
    "    x_values.append(pnt[0])\n",
    "    y_values.append(pnt[1])\n",
    "\n",
    "predicted.extend([0] * len(count0List))\n",
    "\n",
    "for pnt in count1List:\n",
    "    # Extend the totals rather than reassigning on each iteration\n",
    "    x_values.append(pnt[0])\n",
    "    y_values.append(pnt[1])\n",
    "\n",
    "predicted.extend([1] * len(count1List))\n",
    "\n",
    "df = pd.DataFrame({\n",
    "    'sbp': x_values,\n",
    "    'tobacco': y_values,\n",
    "    'predicted': predicted\n",
    "})\n",
    "df.head()"
   ]
  },
  {
   "cell_type": "code",
   "execution_count": 626,
   "metadata": {
    "colab": {
     "base_uri": "https://localhost:8080/",
     "height": 206
    },
    "executionInfo": {
     "elapsed": 18,
     "status": "ok",
     "timestamp": 1742554952566,
     "user": {
      "displayName": "Hazem Alsagheer",
      "userId": "05232312845808918344"
     },
     "user_tz": 240
    },
    "id": "3zSGF-c58LhQ",
    "outputId": "db625587-2c7c-4565-dfac-75b08cb70ee0"
   },
   "outputs": [
    {
     "data": {
      "application/vnd.google.colaboratory.intrinsic+json": {
       "summary": "{\n  \"name\": \"df_sorted_NN\",\n  \"rows\": 905,\n  \"fields\": [\n    {\n      \"column\": \"sbp\",\n      \"properties\": {\n        \"dtype\": \"number\",\n        \"std\": 15,\n        \"min\": 101,\n        \"max\": 208,\n        \"num_unique_values\": 54,\n        \"samples\": [\n          128,\n          188,\n          180\n        ],\n        \"semantic_type\": \"\",\n        \"description\": \"\"\n      }\n    },\n    {\n      \"column\": \"tobacco\",\n      \"properties\": {\n        \"dtype\": \"number\",\n        \"std\": 3.663137372688423,\n        \"min\": 0.0,\n        \"max\": 31.2,\n        \"num_unique_values\": 161,\n        \"samples\": [\n          1.36,\n          13.2,\n          13.5\n        ],\n        \"semantic_type\": \"\",\n        \"description\": \"\"\n      }\n    },\n    {\n      \"column\": \"predicted\",\n      \"properties\": {\n        \"dtype\": \"number\",\n        \"std\": 0,\n        \"min\": 0,\n        \"max\": 1,\n        \"num_unique_values\": 2,\n        \"samples\": [\n          1,\n          0\n        ],\n        \"semantic_type\": \"\",\n        \"description\": \"\"\n      }\n    }\n  ]\n}",
       "type": "dataframe",
       "variable_name": "df_sorted_NN"
      },
      "text/html": [
       "\n",
       "  <div id=\"df-da35c3bb-e2ae-4518-8357-626623c83173\" class=\"colab-df-container\">\n",
       "    <div>\n",
       "<style scoped>\n",
       "    .dataframe tbody tr th:only-of-type {\n",
       "        vertical-align: middle;\n",
       "    }\n",
       "\n",
       "    .dataframe tbody tr th {\n",
       "        vertical-align: top;\n",
       "    }\n",
       "\n",
       "    .dataframe thead th {\n",
       "        text-align: right;\n",
       "    }\n",
       "</style>\n",
       "<table border=\"1\" class=\"dataframe\">\n",
       "  <thead>\n",
       "    <tr style=\"text-align: right;\">\n",
       "      <th></th>\n",
       "      <th>sbp</th>\n",
       "      <th>tobacco</th>\n",
       "      <th>predicted</th>\n",
       "    </tr>\n",
       "  </thead>\n",
       "  <tbody>\n",
       "    <tr>\n",
       "      <th>679</th>\n",
       "      <td>101</td>\n",
       "      <td>0.48</td>\n",
       "      <td>0</td>\n",
       "    </tr>\n",
       "    <tr>\n",
       "      <th>714</th>\n",
       "      <td>101</td>\n",
       "      <td>0.48</td>\n",
       "      <td>0</td>\n",
       "    </tr>\n",
       "    <tr>\n",
       "      <th>713</th>\n",
       "      <td>102</td>\n",
       "      <td>0.40</td>\n",
       "      <td>0</td>\n",
       "    </tr>\n",
       "    <tr>\n",
       "      <th>678</th>\n",
       "      <td>102</td>\n",
       "      <td>0.40</td>\n",
       "      <td>0</td>\n",
       "    </tr>\n",
       "    <tr>\n",
       "      <th>712</th>\n",
       "      <td>103</td>\n",
       "      <td>0.03</td>\n",
       "      <td>0</td>\n",
       "    </tr>\n",
       "  </tbody>\n",
       "</table>\n",
       "</div>\n",
       "    <div class=\"colab-df-buttons\">\n",
       "\n",
       "  <div class=\"colab-df-container\">\n",
       "    <button class=\"colab-df-convert\" onclick=\"convertToInteractive('df-da35c3bb-e2ae-4518-8357-626623c83173')\"\n",
       "            title=\"Convert this dataframe to an interactive table.\"\n",
       "            style=\"display:none;\">\n",
       "\n",
       "  <svg xmlns=\"http://www.w3.org/2000/svg\" height=\"24px\" viewBox=\"0 -960 960 960\">\n",
       "    <path d=\"M120-120v-720h720v720H120Zm60-500h600v-160H180v160Zm220 220h160v-160H400v160Zm0 220h160v-160H400v160ZM180-400h160v-160H180v160Zm440 0h160v-160H620v160ZM180-180h160v-160H180v160Zm440 0h160v-160H620v160Z\"/>\n",
       "  </svg>\n",
       "    </button>\n",
       "\n",
       "  <style>\n",
       "    .colab-df-container {\n",
       "      display:flex;\n",
       "      gap: 12px;\n",
       "    }\n",
       "\n",
       "    .colab-df-convert {\n",
       "      background-color: #E8F0FE;\n",
       "      border: none;\n",
       "      border-radius: 50%;\n",
       "      cursor: pointer;\n",
       "      display: none;\n",
       "      fill: #1967D2;\n",
       "      height: 32px;\n",
       "      padding: 0 0 0 0;\n",
       "      width: 32px;\n",
       "    }\n",
       "\n",
       "    .colab-df-convert:hover {\n",
       "      background-color: #E2EBFA;\n",
       "      box-shadow: 0px 1px 2px rgba(60, 64, 67, 0.3), 0px 1px 3px 1px rgba(60, 64, 67, 0.15);\n",
       "      fill: #174EA6;\n",
       "    }\n",
       "\n",
       "    .colab-df-buttons div {\n",
       "      margin-bottom: 4px;\n",
       "    }\n",
       "\n",
       "    [theme=dark] .colab-df-convert {\n",
       "      background-color: #3B4455;\n",
       "      fill: #D2E3FC;\n",
       "    }\n",
       "\n",
       "    [theme=dark] .colab-df-convert:hover {\n",
       "      background-color: #434B5C;\n",
       "      box-shadow: 0px 1px 3px 1px rgba(0, 0, 0, 0.15);\n",
       "      filter: drop-shadow(0px 1px 2px rgba(0, 0, 0, 0.3));\n",
       "      fill: #FFFFFF;\n",
       "    }\n",
       "  </style>\n",
       "\n",
       "    <script>\n",
       "      const buttonEl =\n",
       "        document.querySelector('#df-da35c3bb-e2ae-4518-8357-626623c83173 button.colab-df-convert');\n",
       "      buttonEl.style.display =\n",
       "        google.colab.kernel.accessAllowed ? 'block' : 'none';\n",
       "\n",
       "      async function convertToInteractive(key) {\n",
       "        const element = document.querySelector('#df-da35c3bb-e2ae-4518-8357-626623c83173');\n",
       "        const dataTable =\n",
       "          await google.colab.kernel.invokeFunction('convertToInteractive',\n",
       "                                                    [key], {});\n",
       "        if (!dataTable) return;\n",
       "\n",
       "        const docLinkHtml = 'Like what you see? Visit the ' +\n",
       "          '<a target=\"_blank\" href=https://colab.research.google.com/notebooks/data_table.ipynb>data table notebook</a>'\n",
       "          + ' to learn more about interactive tables.';\n",
       "        element.innerHTML = '';\n",
       "        dataTable['output_type'] = 'display_data';\n",
       "        await google.colab.output.renderOutput(dataTable, element);\n",
       "        const docLink = document.createElement('div');\n",
       "        docLink.innerHTML = docLinkHtml;\n",
       "        element.appendChild(docLink);\n",
       "      }\n",
       "    </script>\n",
       "  </div>\n",
       "\n",
       "\n",
       "<div id=\"df-b8db72a5-a3a8-4d73-bbca-d7556324a0a7\">\n",
       "  <button class=\"colab-df-quickchart\" onclick=\"quickchart('df-b8db72a5-a3a8-4d73-bbca-d7556324a0a7')\"\n",
       "            title=\"Suggest charts\"\n",
       "            style=\"display:none;\">\n",
       "\n",
       "<svg xmlns=\"http://www.w3.org/2000/svg\" height=\"24px\"viewBox=\"0 0 24 24\"\n",
       "     width=\"24px\">\n",
       "    <g>\n",
       "        <path d=\"M19 3H5c-1.1 0-2 .9-2 2v14c0 1.1.9 2 2 2h14c1.1 0 2-.9 2-2V5c0-1.1-.9-2-2-2zM9 17H7v-7h2v7zm4 0h-2V7h2v10zm4 0h-2v-4h2v4z\"/>\n",
       "    </g>\n",
       "</svg>\n",
       "  </button>\n",
       "\n",
       "<style>\n",
       "  .colab-df-quickchart {\n",
       "      --bg-color: #E8F0FE;\n",
       "      --fill-color: #1967D2;\n",
       "      --hover-bg-color: #E2EBFA;\n",
       "      --hover-fill-color: #174EA6;\n",
       "      --disabled-fill-color: #AAA;\n",
       "      --disabled-bg-color: #DDD;\n",
       "  }\n",
       "\n",
       "  [theme=dark] .colab-df-quickchart {\n",
       "      --bg-color: #3B4455;\n",
       "      --fill-color: #D2E3FC;\n",
       "      --hover-bg-color: #434B5C;\n",
       "      --hover-fill-color: #FFFFFF;\n",
       "      --disabled-bg-color: #3B4455;\n",
       "      --disabled-fill-color: #666;\n",
       "  }\n",
       "\n",
       "  .colab-df-quickchart {\n",
       "    background-color: var(--bg-color);\n",
       "    border: none;\n",
       "    border-radius: 50%;\n",
       "    cursor: pointer;\n",
       "    display: none;\n",
       "    fill: var(--fill-color);\n",
       "    height: 32px;\n",
       "    padding: 0;\n",
       "    width: 32px;\n",
       "  }\n",
       "\n",
       "  .colab-df-quickchart:hover {\n",
       "    background-color: var(--hover-bg-color);\n",
       "    box-shadow: 0 1px 2px rgba(60, 64, 67, 0.3), 0 1px 3px 1px rgba(60, 64, 67, 0.15);\n",
       "    fill: var(--button-hover-fill-color);\n",
       "  }\n",
       "\n",
       "  .colab-df-quickchart-complete:disabled,\n",
       "  .colab-df-quickchart-complete:disabled:hover {\n",
       "    background-color: var(--disabled-bg-color);\n",
       "    fill: var(--disabled-fill-color);\n",
       "    box-shadow: none;\n",
       "  }\n",
       "\n",
       "  .colab-df-spinner {\n",
       "    border: 2px solid var(--fill-color);\n",
       "    border-color: transparent;\n",
       "    border-bottom-color: var(--fill-color);\n",
       "    animation:\n",
       "      spin 1s steps(1) infinite;\n",
       "  }\n",
       "\n",
       "  @keyframes spin {\n",
       "    0% {\n",
       "      border-color: transparent;\n",
       "      border-bottom-color: var(--fill-color);\n",
       "      border-left-color: var(--fill-color);\n",
       "    }\n",
       "    20% {\n",
       "      border-color: transparent;\n",
       "      border-left-color: var(--fill-color);\n",
       "      border-top-color: var(--fill-color);\n",
       "    }\n",
       "    30% {\n",
       "      border-color: transparent;\n",
       "      border-left-color: var(--fill-color);\n",
       "      border-top-color: var(--fill-color);\n",
       "      border-right-color: var(--fill-color);\n",
       "    }\n",
       "    40% {\n",
       "      border-color: transparent;\n",
       "      border-right-color: var(--fill-color);\n",
       "      border-top-color: var(--fill-color);\n",
       "    }\n",
       "    60% {\n",
       "      border-color: transparent;\n",
       "      border-right-color: var(--fill-color);\n",
       "    }\n",
       "    80% {\n",
       "      border-color: transparent;\n",
       "      border-right-color: var(--fill-color);\n",
       "      border-bottom-color: var(--fill-color);\n",
       "    }\n",
       "    90% {\n",
       "      border-color: transparent;\n",
       "      border-bottom-color: var(--fill-color);\n",
       "    }\n",
       "  }\n",
       "</style>\n",
       "\n",
       "  <script>\n",
       "    async function quickchart(key) {\n",
       "      const quickchartButtonEl =\n",
       "        document.querySelector('#' + key + ' button');\n",
       "      quickchartButtonEl.disabled = true;  // To prevent multiple clicks.\n",
       "      quickchartButtonEl.classList.add('colab-df-spinner');\n",
       "      try {\n",
       "        const charts = await google.colab.kernel.invokeFunction(\n",
       "            'suggestCharts', [key], {});\n",
       "      } catch (error) {\n",
       "        console.error('Error during call to suggestCharts:', error);\n",
       "      }\n",
       "      quickchartButtonEl.classList.remove('colab-df-spinner');\n",
       "      quickchartButtonEl.classList.add('colab-df-quickchart-complete');\n",
       "    }\n",
       "    (() => {\n",
       "      let quickchartButtonEl =\n",
       "        document.querySelector('#df-b8db72a5-a3a8-4d73-bbca-d7556324a0a7 button');\n",
       "      quickchartButtonEl.style.display =\n",
       "        google.colab.kernel.accessAllowed ? 'block' : 'none';\n",
       "    })();\n",
       "  </script>\n",
       "</div>\n",
       "\n",
       "    </div>\n",
       "  </div>\n"
      ],
      "text/plain": [
       "     sbp  tobacco  predicted\n",
       "679  101     0.48          0\n",
       "714  101     0.48          0\n",
       "713  102     0.40          0\n",
       "678  102     0.40          0\n",
       "712  103     0.03          0"
      ]
     },
     "execution_count": 626,
     "metadata": {},
     "output_type": "execute_result"
    }
   ],
   "source": [
    "df_sorted_NN = df.sort_values(by='sbp', ascending=True)\n",
    "df_sorted_NN.head()"
   ]
  },
  {
   "cell_type": "code",
   "execution_count": 627,
   "metadata": {
    "colab": {
     "base_uri": "https://localhost:8080/"
    },
    "executionInfo": {
     "elapsed": 50,
     "status": "ok",
     "timestamp": 1742554952617,
     "user": {
      "displayName": "Hazem Alsagheer",
      "userId": "05232312845808918344"
     },
     "user_tz": 240
    },
    "id": "owDG5niL8XMi",
    "outputId": "f8c860ab-2b04-44a2-98a8-3a59f547e5b1"
   },
   "outputs": [
    {
     "data": {
      "text/plain": [
       "0.5866666666666667"
      ]
     },
     "execution_count": 627,
     "metadata": {},
     "output_type": "execute_result"
    }
   ],
   "source": [
    "accuracy_score(dataset2_train_sorted['chd'], df_sorted_NN['predicted'][:300])"
   ]
  },
  {
   "cell_type": "markdown",
   "metadata": {
    "id": "zLsmMfNWXvrT"
   },
   "source": [
    "# DBSCAN with Dataset 1"
   ]
  },
  {
   "cell_type": "code",
   "execution_count": 628,
   "metadata": {
    "executionInfo": {
     "elapsed": 3,
     "status": "ok",
     "timestamp": 1742554952618,
     "user": {
      "displayName": "Hazem Alsagheer",
      "userId": "05232312845808918344"
     },
     "user_tz": 240
    },
    "id": "WFzH_ISKUv1K"
   },
   "outputs": [],
   "source": [
    "def dbscan(points, eps, min_points):\n",
    "    labels = [None] * len(points)\n",
    "    cluster_id = 0\n",
    "\n",
    "    for i in range(len(points)):\n",
    "        if labels[i] is not None:\n",
    "            continue\n",
    "\n",
    "        neighbors = []\n",
    "        for index, point in enumerate(points):\n",
    "          if euclidean_distance(points[i], point) <= eps:\n",
    "            neighbors.append(index)\n",
    "\n",
    "        if len(neighbors) < min_points:\n",
    "            labels[i] = -1\n",
    "\n",
    "        else:\n",
    "            cluster_id += 1\n",
    "            labels[i] = cluster_id\n",
    "            queue = list(neighbors)\n",
    "            neighbor_neighbors=[]\n",
    "\n",
    "            while queue:\n",
    "                neighbor_index = queue.pop()\n",
    "                if labels[neighbor_index] is None:\n",
    "                    labels[neighbor_index] = cluster_id\n",
    "\n",
    "                    for index, point in enumerate(points):\n",
    "                      if euclidean_distance(points[neighbor_index], point) <= eps:\n",
    "                        neighbor_neighbors.append(index)\n",
    "\n",
    "                    if len(neighbor_neighbors) >= min_points:\n",
    "                        queue.extend(neighbor_neighbors)\n",
    "\n",
    "                elif labels[neighbor_index] == -1:\n",
    "                    labels[neighbor_index] = cluster_id\n",
    "    return labels"
   ]
  },
  {
   "cell_type": "markdown",
   "metadata": {
    "id": "72DgxQD9gM9N"
   },
   "source": [
    "###Applying DBSCAN with eps=2"
   ]
  },
  {
   "cell_type": "code",
   "execution_count": 629,
   "metadata": {
    "executionInfo": {
     "elapsed": 1,
     "status": "ok",
     "timestamp": 1742554952620,
     "user": {
      "displayName": "Hazem Alsagheer",
      "userId": "05232312845808918344"
     },
     "user_tz": 240
    },
    "id": "9PH4fZ_2XaX2"
   },
   "outputs": [],
   "source": [
    "points = [\n",
    "    (2, 10),\n",
    "    (2, 5),\n",
    "    (8, 4),\n",
    "    (5, 8),\n",
    "    (7, 5),\n",
    "    (6, 4),\n",
    "    (1, 2),\n",
    "    (4, 9)\n",
    "]"
   ]
  },
  {
   "cell_type": "code",
   "execution_count": 630,
   "metadata": {
    "colab": {
     "base_uri": "https://localhost:8080/"
    },
    "executionInfo": {
     "elapsed": 10,
     "status": "ok",
     "timestamp": 1742554952631,
     "user": {
      "displayName": "Hazem Alsagheer",
      "userId": "05232312845808918344"
     },
     "user_tz": 240
    },
    "id": "Sk3ehJAgUz8I",
    "outputId": "d903d801-4f5c-433e-bb4b-44b7bc97316f"
   },
   "outputs": [
    {
     "data": {
      "text/plain": [
       "[-1, -1, 1, 2, 1, 1, -1, 2]"
      ]
     },
     "execution_count": 630,
     "metadata": {},
     "output_type": "execute_result"
    }
   ],
   "source": [
    "clusterID=dbscan(points, 2, 2)\n",
    "clusterID"
   ]
  },
  {
   "cell_type": "code",
   "execution_count": 631,
   "metadata": {
    "colab": {
     "base_uri": "https://localhost:8080/"
    },
    "executionInfo": {
     "elapsed": 8,
     "status": "ok",
     "timestamp": 1742554952640,
     "user": {
      "displayName": "Hazem Alsagheer",
      "userId": "05232312845808918344"
     },
     "user_tz": 240
    },
    "id": "Z-H5FXA2dzyK",
    "outputId": "52bdb0d5-8ac2-4e99-990f-8a880dc4b5f7"
   },
   "outputs": [
    {
     "data": {
      "text/plain": [
       "{-1, 1, 2}"
      ]
     },
     "execution_count": 631,
     "metadata": {},
     "output_type": "execute_result"
    }
   ],
   "source": [
    "listOfClusters=set(clusterID)\n",
    "listOfClusters"
   ]
  },
  {
   "cell_type": "code",
   "execution_count": 632,
   "metadata": {
    "colab": {
     "base_uri": "https://localhost:8080/"
    },
    "executionInfo": {
     "elapsed": 8,
     "status": "ok",
     "timestamp": 1742554952650,
     "user": {
      "displayName": "Hazem Alsagheer",
      "userId": "05232312845808918344"
     },
     "user_tz": 240
    },
    "id": "YwfdzZU5d5IO",
    "outputId": "aa9e64a0-c7df-43e9-d370-e91045172da0"
   },
   "outputs": [
    {
     "data": {
      "text/plain": [
       "{1: [(8, 4), (7, 5), (6, 4)],\n",
       " 2: [(5, 8), (4, 9)],\n",
       " -1: [(2, 10), (2, 5), (1, 2)]}"
      ]
     },
     "execution_count": 632,
     "metadata": {},
     "output_type": "execute_result"
    }
   ],
   "source": [
    "dbclusters={}\n",
    "for cluster in listOfClusters:\n",
    "  dbclusters[cluster]=[]\n",
    "for index, cluster in enumerate(clusterID):\n",
    "  dbclusters[cluster].append(points[index])\n",
    "dbclusters\n"
   ]
  },
  {
   "cell_type": "markdown",
   "metadata": {
    "id": "tk2yi-2dgjwE"
   },
   "source": [
    "### **Q13.** Provide the final cluster plot."
   ]
  },
  {
   "cell_type": "code",
   "execution_count": 633,
   "metadata": {
    "colab": {
     "base_uri": "https://localhost:8080/",
     "height": 452
    },
    "executionInfo": {
     "elapsed": 127,
     "status": "ok",
     "timestamp": 1742554952778,
     "user": {
      "displayName": "Hazem Alsagheer",
      "userId": "05232312845808918344"
     },
     "user_tz": 240
    },
    "id": "zBEZJx3AfMNy",
    "outputId": "094567d8-0237-4d51-d491-8cf1fd192b69"
   },
   "outputs": [
    {
     "data": {
      "image/png": "[encoded data removed]",
      "text/plain": [
       "<Figure size 640x480 with 1 Axes>"
      ]
     },
     "metadata": {},
     "output_type": "display_data"
    }
   ],
   "source": [
    "plt.figure()\n",
    "\n",
    "for count, (clusterNumber, points) in enumerate(dbclusters.items()):\n",
    "    x_vals = [p[0] for p in points]\n",
    "    y_vals = [p[1] for p in points]\n",
    "    if clusterNumber==-1:\n",
    "      plt.scatter(x_vals, y_vals, color=f\"C{count+1}\", label=f\"Outliers\")\n",
    "    else:\n",
    "      plt.scatter(x_vals, y_vals, color=f\"C{count+1}\", label=f\"Cluster {clusterNumber}\")\n",
    "\n",
    "plt.title(\"DBSCAN Clusters\")\n",
    "plt.legend()\n",
    "plt.show()"
   ]
  },
  {
   "cell_type": "code",
   "execution_count": 634,
   "metadata": {
    "colab": {
     "base_uri": "https://localhost:8080/"
    },
    "executionInfo": {
     "elapsed": 10,
     "status": "ok",
     "timestamp": 1742554952789,
     "user": {
      "displayName": "Hazem Alsagheer",
      "userId": "05232312845808918344"
     },
     "user_tz": 240
    },
    "id": "oO1i6OFYiBuo",
    "outputId": "a7d336dc-2740-4efd-d67a-043768ec8a70"
   },
   "outputs": [
    {
     "data": {
      "text/plain": [
       "[(2, 10), (2, 5), (1, 2)]"
      ]
     },
     "execution_count": 634,
     "metadata": {},
     "output_type": "execute_result"
    }
   ],
   "source": [
    "points"
   ]
  },
  {
   "cell_type": "markdown",
   "metadata": {
    "id": "UuZh23fcga3g"
   },
   "source": [
    "### Applying DBSCAN with eps=sqrt(2)"
   ]
  },
  {
   "cell_type": "markdown",
   "metadata": {
    "id": "Tb1VTrzNgnOy"
   },
   "source": [
    "### **Q14.** Perform the DBScan for eps =√10 and provide the cluster plot.\n"
   ]
  },
  {
   "cell_type": "code",
   "execution_count": 635,
   "metadata": {
    "executionInfo": {
     "elapsed": 2,
     "status": "ok",
     "timestamp": 1742554952792,
     "user": {
      "displayName": "Hazem Alsagheer",
      "userId": "05232312845808918344"
     },
     "user_tz": 240
    },
    "id": "gdXWPfo9i4P-"
   },
   "outputs": [],
   "source": [
    "points = [\n",
    "    (2, 10),\n",
    "    (2, 5),\n",
    "    (8, 4),\n",
    "    (5, 8),\n",
    "    (7, 5),\n",
    "    (6, 4),\n",
    "    (1, 2),\n",
    "    (4, 9)\n",
    "]"
   ]
  },
  {
   "cell_type": "code",
   "execution_count": 636,
   "metadata": {
    "colab": {
     "base_uri": "https://localhost:8080/"
    },
    "executionInfo": {
     "elapsed": 11,
     "status": "ok",
     "timestamp": 1742554952804,
     "user": {
      "displayName": "Hazem Alsagheer",
      "userId": "05232312845808918344"
     },
     "user_tz": 240
    },
    "id": "BIV74zvJgaNJ",
    "outputId": "2fb445f4-79e8-4d52-a7d1-3e28dc43d53a"
   },
   "outputs": [
    {
     "data": {
      "text/plain": [
       "[1, 2, 3, 1, 3, 3, 2, 1]"
      ]
     },
     "execution_count": 636,
     "metadata": {},
     "output_type": "execute_result"
    }
   ],
   "source": [
    "clusterID2=dbscan(points, math.sqrt(10), 2)\n",
    "clusterID2\n",
    "\n"
   ]
  },
  {
   "cell_type": "code",
   "execution_count": 637,
   "metadata": {
    "colab": {
     "base_uri": "https://localhost:8080/"
    },
    "executionInfo": {
     "elapsed": 9,
     "status": "ok",
     "timestamp": 1742554952814,
     "user": {
      "displayName": "Hazem Alsagheer",
      "userId": "05232312845808918344"
     },
     "user_tz": 240
    },
    "id": "DnTvD0oAhQXL",
    "outputId": "8209b3ac-0833-4962-c7d5-e50483b9f6d7"
   },
   "outputs": [
    {
     "data": {
      "text/plain": [
       "{1, 2, 3}"
      ]
     },
     "execution_count": 637,
     "metadata": {},
     "output_type": "execute_result"
    }
   ],
   "source": [
    "listOfClusters2=set(clusterID2)\n",
    "listOfClusters2"
   ]
  },
  {
   "cell_type": "code",
   "execution_count": 638,
   "metadata": {
    "colab": {
     "base_uri": "https://localhost:8080/"
    },
    "executionInfo": {
     "elapsed": 9,
     "status": "ok",
     "timestamp": 1742554952824,
     "user": {
      "displayName": "Hazem Alsagheer",
      "userId": "05232312845808918344"
     },
     "user_tz": 240
    },
    "id": "4bSGXn5-hQgU",
    "outputId": "bdbd1015-ab24-4d6a-dfc2-aec0ee4fdfe2"
   },
   "outputs": [
    {
     "data": {
      "text/plain": [
       "{1: [(2, 10), (5, 8), (4, 9)],\n",
       " 2: [(2, 5), (1, 2)],\n",
       " 3: [(8, 4), (7, 5), (6, 4)]}"
      ]
     },
     "execution_count": 638,
     "metadata": {},
     "output_type": "execute_result"
    }
   ],
   "source": [
    "dbclusters2={}\n",
    "for cluster in listOfClusters2:\n",
    "  dbclusters2[cluster]=[]\n",
    "for index, cluster in enumerate(clusterID2):\n",
    "  dbclusters2[cluster].append(points[index])\n",
    "dbclusters2\n"
   ]
  },
  {
   "cell_type": "code",
   "execution_count": 639,
   "metadata": {
    "colab": {
     "base_uri": "https://localhost:8080/",
     "height": 452
    },
    "executionInfo": {
     "elapsed": 152,
     "status": "ok",
     "timestamp": 1742554952977,
     "user": {
      "displayName": "Hazem Alsagheer",
      "userId": "05232312845808918344"
     },
     "user_tz": 240
    },
    "id": "gnahO62nhZEl",
    "outputId": "fe043e95-5739-4613-8c22-a05ce351b0fc"
   },
   "outputs": [
    {
     "data": {
      "image/png": "[encoded data removed]",
      "text/plain": [
       "<Figure size 640x480 with 1 Axes>"
      ]
     },
     "metadata": {},
     "output_type": "display_data"
    }
   ],
   "source": [
    "plt.figure()\n",
    "\n",
    "for count, (clusterNumber, points) in enumerate(dbclusters2.items()):\n",
    "    x_vals = [p[0] for p in points]\n",
    "    y_vals = [p[1] for p in points]\n",
    "    if clusterNumber==-1:\n",
    "      plt.scatter(x_vals, y_vals, color=f\"C{count+1}\", label=f\"Outliers\")\n",
    "    else:\n",
    "      plt.scatter(x_vals, y_vals, color=f\"C{count+1}\", label=f\"Cluster {clusterNumber}\")\n",
    "\n",
    "plt.title(\"DBSCAN Clusters\")\n",
    "plt.legend()\n",
    "plt.show()"
   ]
  },
  {
   "cell_type": "markdown",
   "metadata": {
    "id": "yRDPpQTLyH3l"
   },
   "source": [
    "## DBSCAN - Dataset2"
   ]
  },
  {
   "cell_type": "code",
   "execution_count": 639,
   "metadata": {
    "executionInfo": {
     "elapsed": 20,
     "status": "ok",
     "timestamp": 1742554952998,
     "user": {
      "displayName": "Hazem Alsagheer",
      "userId": "05232312845808918344"
     },
     "user_tz": 240
    },
    "id": "WyxKWdAayMf5"
   },
   "outputs": [],
   "source": []
  },
  {
   "cell_type": "code",
   "execution_count": 640,
   "metadata": {
    "colab": {
     "base_uri": "https://localhost:8080/"
    },
    "executionInfo": {
     "elapsed": 132,
     "status": "ok",
     "timestamp": 1742554953132,
     "user": {
      "displayName": "Hazem Alsagheer",
      "userId": "05232312845808918344"
     },
     "user_tz": 240
    },
    "id": "h94mgnHTFXpK",
    "outputId": "087e6c01-54f7-421a-c333-ca84f8cf8616"
   },
   "outputs": [
    {
     "data": {
      "text/plain": [
       "[1,\n",
       " 1,\n",
       " 1,\n",
       " 2,\n",
       " 1,\n",
       " 1,\n",
       " 1,\n",
       " 1,\n",
       " 1,\n",
       " 1,\n",
       " 3,\n",
       " 1,\n",
       " 1,\n",
       " 1,\n",
       " -1,\n",
       " 1,\n",
       " 1,\n",
       " 1,\n",
       " 1,\n",
       " 4,\n",
       " 1,\n",
       " 1,\n",
       " 1,\n",
       " 1,\n",
       " -1,\n",
       " 1,\n",
       " 1,\n",
       " 1,\n",
       " 1,\n",
       " 1,\n",
       " 1,\n",
       " 1,\n",
       " 1,\n",
       " 1,\n",
       " 1,\n",
       " 1,\n",
       " 1,\n",
       " 1,\n",
       " 1,\n",
       " 1,\n",
       " 1,\n",
       " 1,\n",
       " 1,\n",
       " 1,\n",
       " 1,\n",
       " 1,\n",
       " 1,\n",
       " 1,\n",
       " 1,\n",
       " 1,\n",
       " 1,\n",
       " 1,\n",
       " 1,\n",
       " 1,\n",
       " 1,\n",
       " 1,\n",
       " 1,\n",
       " 1,\n",
       " 5,\n",
       " 1,\n",
       " 1,\n",
       " 1,\n",
       " 1,\n",
       " 1,\n",
       " 1,\n",
       " 1,\n",
       " 1,\n",
       " 1,\n",
       " 1,\n",
       " 1,\n",
       " 1,\n",
       " 1,\n",
       " 1,\n",
       " 1,\n",
       " 1,\n",
       " 1,\n",
       " 1,\n",
       " 1,\n",
       " 1,\n",
       " 1,\n",
       " 1,\n",
       " 1,\n",
       " 1,\n",
       " 1,\n",
       " 1,\n",
       " 1,\n",
       " 1,\n",
       " 1,\n",
       " 1,\n",
       " 1,\n",
       " 1,\n",
       " 1,\n",
       " 1,\n",
       " 1,\n",
       " 6,\n",
       " 1,\n",
       " 1,\n",
       " 1,\n",
       " 1,\n",
       " 7,\n",
       " 1,\n",
       " 1,\n",
       " 1,\n",
       " 1,\n",
       " 1,\n",
       " 1,\n",
       " 1,\n",
       " 2,\n",
       " 1,\n",
       " 1,\n",
       " 1,\n",
       " 2,\n",
       " 1,\n",
       " 8,\n",
       " -1,\n",
       " 1,\n",
       " 1,\n",
       " 1,\n",
       " 1,\n",
       " 1,\n",
       " 1,\n",
       " 1,\n",
       " 1,\n",
       " 1,\n",
       " 1,\n",
       " 1,\n",
       " 1,\n",
       " 1,\n",
       " 1,\n",
       " 1,\n",
       " 1,\n",
       " 1,\n",
       " 1,\n",
       " 1,\n",
       " 1,\n",
       " 1,\n",
       " 1,\n",
       " 1,\n",
       " 1,\n",
       " 1,\n",
       " 1,\n",
       " 1,\n",
       " 1,\n",
       " 1,\n",
       " 1,\n",
       " 1,\n",
       " 1,\n",
       " 1,\n",
       " 1,\n",
       " 4,\n",
       " 1,\n",
       " 1,\n",
       " 1,\n",
       " 1,\n",
       " 1,\n",
       " 1,\n",
       " 1,\n",
       " -1,\n",
       " 1,\n",
       " 1,\n",
       " 1,\n",
       " -1,\n",
       " 1,\n",
       " 1,\n",
       " 1,\n",
       " 1,\n",
       " -1,\n",
       " 1,\n",
       " 1,\n",
       " 1,\n",
       " 6,\n",
       " 1,\n",
       " 1,\n",
       " 1,\n",
       " 1,\n",
       " 1,\n",
       " 1,\n",
       " 1,\n",
       " 1,\n",
       " -1,\n",
       " 1,\n",
       " 1,\n",
       " 1,\n",
       " 1,\n",
       " 1,\n",
       " 1,\n",
       " -1,\n",
       " 1,\n",
       " 1,\n",
       " 1,\n",
       " 1,\n",
       " 1,\n",
       " 5,\n",
       " 1,\n",
       " 1,\n",
       " 1,\n",
       " 1,\n",
       " 1,\n",
       " 1,\n",
       " 1,\n",
       " 1,\n",
       " 1,\n",
       " 1,\n",
       " 1,\n",
       " 1,\n",
       " 1,\n",
       " 1,\n",
       " 1,\n",
       " 1,\n",
       " 1,\n",
       " 1,\n",
       " 1,\n",
       " 1,\n",
       " 1,\n",
       " 1,\n",
       " 1,\n",
       " -1,\n",
       " 1,\n",
       " 1,\n",
       " 3,\n",
       " 1,\n",
       " 1,\n",
       " 1,\n",
       " 1,\n",
       " 1,\n",
       " 1,\n",
       " 1,\n",
       " 1,\n",
       " 1,\n",
       " -1,\n",
       " 1,\n",
       " 1,\n",
       " 1,\n",
       " 1,\n",
       " 1,\n",
       " -1,\n",
       " 1,\n",
       " -1,\n",
       " 1,\n",
       " 1,\n",
       " 1,\n",
       " 1,\n",
       " -1,\n",
       " 1,\n",
       " 1,\n",
       " 1,\n",
       " 1,\n",
       " 1,\n",
       " 1,\n",
       " 1,\n",
       " 1,\n",
       " 1,\n",
       " 1,\n",
       " 1,\n",
       " 1,\n",
       " 7,\n",
       " 1,\n",
       " 1,\n",
       " 1,\n",
       " 1,\n",
       " 1,\n",
       " 1,\n",
       " 1,\n",
       " 1,\n",
       " 1,\n",
       " 1,\n",
       " 1,\n",
       " 1,\n",
       " 1,\n",
       " 1,\n",
       " 1,\n",
       " 1,\n",
       " 1,\n",
       " 1,\n",
       " 1,\n",
       " 1,\n",
       " 8,\n",
       " 1,\n",
       " 1,\n",
       " 1,\n",
       " 1,\n",
       " 1,\n",
       " -1,\n",
       " 1,\n",
       " 1,\n",
       " 1,\n",
       " 1,\n",
       " 1,\n",
       " 1,\n",
       " 1,\n",
       " 1,\n",
       " 5,\n",
       " 1,\n",
       " 1,\n",
       " 1,\n",
       " 1,\n",
       " 1,\n",
       " 1,\n",
       " 1,\n",
       " 1]"
      ]
     },
     "execution_count": 640,
     "metadata": {},
     "output_type": "execute_result"
    }
   ],
   "source": [
    "clusterID_DS2=dbscan(pointsDS2, math.sqrt(10), 2)\n",
    "clusterID_DS2\n",
    "\n"
   ]
  },
  {
   "cell_type": "code",
   "execution_count": 641,
   "metadata": {
    "colab": {
     "base_uri": "https://localhost:8080/"
    },
    "executionInfo": {
     "elapsed": 23,
     "status": "ok",
     "timestamp": 1742554953145,
     "user": {
      "displayName": "Hazem Alsagheer",
      "userId": "05232312845808918344"
     },
     "user_tz": 240
    },
    "id": "tT1L9QuXFXpL",
    "outputId": "7d000c54-ea4c-445f-d2ef-6a1fd2b6e919"
   },
   "outputs": [
    {
     "data": {
      "text/plain": [
       "{-1, 1, 2, 3, 4, 5, 6, 7, 8}"
      ]
     },
     "execution_count": 641,
     "metadata": {},
     "output_type": "execute_result"
    }
   ],
   "source": [
    "listOfClustersDS2=set(clusterID_DS2)\n",
    "listOfClustersDS2"
   ]
  },
  {
   "cell_type": "code",
   "execution_count": 642,
   "metadata": {
    "colab": {
     "base_uri": "https://localhost:8080/"
    },
    "executionInfo": {
     "elapsed": 15,
     "status": "ok",
     "timestamp": 1742554953146,
     "user": {
      "displayName": "Hazem Alsagheer",
      "userId": "05232312845808918344"
     },
     "user_tz": 240
    },
    "id": "1BO2eQL0FXpL",
    "outputId": "2169343e-a065-4bdb-8397-0587bf5465ef"
   },
   "outputs": [
    {
     "data": {
      "text/plain": [
       "{1: [(160, 12.0),\n",
       "  (144, 0.01),\n",
       "  (118, 0.08),\n",
       "  (134, 13.6),\n",
       "  (132, 6.2),\n",
       "  (142, 4.05),\n",
       "  (114, 4.08),\n",
       "  (114, 0.0),\n",
       "  (132, 0.0),\n",
       "  (134, 14.1),\n",
       "  (118, 0.0),\n",
       "  (132, 0.0),\n",
       "  (117, 1.53),\n",
       "  (120, 7.5),\n",
       "  (146, 10.5),\n",
       "  (158, 2.6),\n",
       "  (106, 1.61),\n",
       "  (132, 7.9),\n",
       "  (150, 0.3),\n",
       "  (138, 0.6),\n",
       "  (124, 4.0),\n",
       "  (118, 6.0),\n",
       "  (145, 9.1),\n",
       "  (144, 4.09),\n",
       "  (146, 0.0),\n",
       "  (136, 2.52),\n",
       "  (158, 1.02),\n",
       "  (122, 6.6),\n",
       "  (126, 8.75),\n",
       "  (148, 5.5),\n",
       "  (122, 4.26),\n",
       "  (140, 3.9),\n",
       "  (110, 4.64),\n",
       "  (130, 0.0),\n",
       "  (136, 11.2),\n",
       "  (118, 0.28),\n",
       "  (144, 0.04),\n",
       "  (120, 0.0),\n",
       "  (130, 2.61),\n",
       "  (114, 0.0),\n",
       "  (128, 4.65),\n",
       "  (162, 7.4),\n",
       "  (116, 1.91),\n",
       "  (114, 0.0),\n",
       "  (126, 3.8),\n",
       "  (122, 0.0),\n",
       "  (134, 2.5),\n",
       "  (152, 0.9),\n",
       "  (134, 8.08),\n",
       "  (156, 3.0),\n",
       "  (152, 5.99),\n",
       "  (118, 0.0),\n",
       "  (126, 5.1),\n",
       "  (121, 0.8),\n",
       "  (142, 0.28),\n",
       "  (138, 1.15),\n",
       "  (152, 10.1),\n",
       "  (140, 0.45),\n",
       "  (130, 0.0),\n",
       "  (136, 7.36),\n",
       "  (124, 4.82),\n",
       "  (112, 0.41),\n",
       "  (118, 4.46),\n",
       "  (122, 0.0),\n",
       "  (118, 0.0),\n",
       "  (130, 1.72),\n",
       "  (130, 5.6),\n",
       "  (126, 0.09),\n",
       "  (128, 0.4),\n",
       "  (136, 0.0),\n",
       "  (134, 0.0),\n",
       "  (140, 0.6),\n",
       "  (168, 4.5),\n",
       "  (108, 0.4),\n",
       "  (114, 3.0),\n",
       "  (140, 8.14),\n",
       "  (148, 4.8),\n",
       "  (148, 12.2),\n",
       "  (128, 0.0),\n",
       "  (130, 0.56),\n",
       "  (126, 10.5),\n",
       "  (140, 0.0),\n",
       "  (126, 0.9),\n",
       "  (122, 0.72),\n",
       "  (116, 1.03),\n",
       "  (120, 3.7),\n",
       "  (143, 0.46),\n",
       "  (118, 4.0),\n",
       "  (134, 3.0),\n",
       "  (138, 2.16),\n",
       "  (136, 0.0),\n",
       "  (122, 3.2),\n",
       "  (136, 8.0),\n",
       "  (166, 0.07),\n",
       "  (118, 0.0),\n",
       "  (128, 0.42),\n",
       "  (118, 1.5),\n",
       "  (158, 3.6),\n",
       "  (108, 1.5),\n",
       "  (118, 1.0),\n",
       "  (124, 0.0),\n",
       "  (114, 0.0),\n",
       "  (134, 2.0),\n",
       "  (128, 0.0),\n",
       "  (140, 4.5),\n",
       "  (154, 0.7),\n",
       "  (150, 3.5),\n",
       "  (130, 0.0),\n",
       "  (128, 2.0),\n",
       "  (120, 1.4),\n",
       "  (120, 0.0),\n",
       "  (138, 4.5),\n",
       "  (153, 7.8),\n",
       "  (123, 8.6),\n",
       "  (148, 4.04),\n",
       "  (136, 3.96),\n",
       "  (134, 8.8),\n",
       "  (152, 12.18),\n",
       "  (158, 13.5),\n",
       "  (132, 2.0),\n",
       "  (134, 1.5),\n",
       "  (142, 7.44),\n",
       "  (134, 6.0),\n",
       "  (122, 4.18),\n",
       "  (116, 2.7),\n",
       "  (128, 0.5),\n",
       "  (120, 0.0),\n",
       "  (124, 0.0),\n",
       "  (160, 14.0),\n",
       "  (130, 2.78),\n",
       "  (128, 2.8),\n",
       "  (130, 4.5),\n",
       "  (109, 1.2),\n",
       "  (144, 0.0),\n",
       "  (118, 1.05),\n",
       "  (136, 3.46),\n",
       "  (136, 1.5),\n",
       "  (148, 6.0),\n",
       "  (128, 6.6),\n",
       "  (122, 0.28),\n",
       "  (108, 0.0),\n",
       "  (124, 3.04),\n",
       "  (138, 8.8),\n",
       "  (127, 0.0),\n",
       "  (122, 0.0),\n",
       "  (144, 6.75),\n",
       "  (126, 1.8),\n",
       "  (138, 0.0),\n",
       "  (148, 0.0),\n",
       "  (122, 0.0),\n",
       "  (132, 7.0),\n",
       "  (160, 1.52),\n",
       "  (126, 0.54),\n",
       "  (162, 5.3),\n",
       "  (118, 0.75),\n",
       "  (124, 0.0),\n",
       "  (160, 0.0),\n",
       "  (128, 0.0),\n",
       "  (122, 4.0),\n",
       "  (132, 2.0),\n",
       "  (120, 0.0),\n",
       "  (128, 0.04),\n",
       "  (166, 0.0),\n",
       "  (152, 0.0),\n",
       "  (170, 4.2),\n",
       "  (156, 4.0),\n",
       "  (116, 8.0),\n",
       "  (122, 4.4),\n",
       "  (129, 2.15),\n",
       "  (134, 4.8),\n",
       "  (126, 0.0),\n",
       "  (142, 0.0),\n",
       "  (128, 0.7),\n",
       "  (130, 0.0),\n",
       "  (138, 0.05),\n",
       "  (138, 0.0),\n",
       "  (128, 0.0),\n",
       "  (162, 2.92),\n",
       "  (160, 3.0),\n",
       "  (148, 0.0),\n",
       "  (124, 0.16),\n",
       "  (136, 3.15),\n",
       "  (134, 2.75),\n",
       "  (128, 0.73),\n",
       "  (122, 3.2),\n",
       "  (152, 3.0),\n",
       "  (162, 0.0),\n",
       "  (124, 4.0),\n",
       "  (136, 5.8),\n",
       "  (136, 8.8),\n",
       "  (134, 0.05),\n",
       "  (122, 1.0),\n",
       "  (116, 3.0),\n",
       "  (132, 0.0),\n",
       "  (134, 0.0),\n",
       "  (160, 7.77),\n",
       "  (124, 0.81),\n",
       "  (114, 0.0),\n",
       "  (138, 0.0),\n",
       "  (164, 0.5),\n",
       "  (144, 2.4),\n",
       "  (136, 7.5),\n",
       "  (132, 7.28),\n",
       "  (143, 5.04),\n",
       "  (112, 4.46),\n",
       "  (134, 10.0),\n",
       "  (138, 2.0),\n",
       "  (110, 2.35),\n",
       "  (136, 13.2),\n",
       "  (130, 1.75),\n",
       "  (122, 0.0),\n",
       "  (138, 0.0),\n",
       "  (126, 5.5),\n",
       "  (122, 0.0),\n",
       "  (124, 0.0),\n",
       "  (140, 5.2),\n",
       "  (128, 6.0),\n",
       "  (144, 0.76),\n",
       "  (126, 4.6),\n",
       "  (128, 0.0),\n",
       "  (136, 0.4),\n",
       "  (158, 4.0),\n",
       "  (160, 0.6),\n",
       "  (124, 6.0),\n",
       "  (158, 6.17),\n",
       "  (128, 0.0),\n",
       "  (166, 3.0),\n",
       "  (146, 7.5),\n",
       "  (161, 9.0),\n",
       "  (146, 5.08),\n",
       "  (142, 4.48),\n",
       "  (138, 12.0),\n",
       "  (154, 1.8),\n",
       "  (118, 0.0),\n",
       "  (124, 0.61),\n",
       "  (124, 1.04),\n",
       "  (136, 5.0),\n",
       "  (132, 9.9),\n",
       "  (118, 0.12),\n",
       "  (118, 0.12),\n",
       "  (134, 12.0),\n",
       "  (114, 0.1),\n",
       "  (136, 6.8),\n",
       "  (130, 0.0),\n",
       "  (136, 2.2),\n",
       "  (136, 1.36),\n",
       "  (154, 4.2),\n",
       "  (108, 0.8),\n",
       "  (136, 8.8),\n",
       "  (124, 4.25),\n",
       "  (114, 0.0),\n",
       "  (118, 0.12),\n",
       "  (106, 1.08),\n",
       "  (146, 3.6),\n",
       "  (134, 3.0),\n",
       "  (148, 15.0),\n",
       "  (126, 0.21),\n",
       "  (134, 0.0),\n",
       "  (134, 0.02),\n",
       "  (123, 0.05),\n",
       "  (112, 0.6),\n",
       "  (112, 0.0),\n",
       "  (150, 0.18),\n",
       "  (170, 2.6),\n",
       "  (134, 0.0),\n",
       "  (142, 0.0),\n",
       "  (132, 0.1),\n",
       "  (136, 0.0),\n",
       "  (132, 12.0),\n",
       "  (166, 4.1)],\n",
       " 2: [(170, 7.5), (170, 7.6), (168, 9.0)],\n",
       " 3: [(206, 6.0), (208, 7.4)],\n",
       " 4: [(124, 14.0), (124, 15.5)],\n",
       " 5: [(103, 0.03), (102, 0.4), (101, 0.48)],\n",
       " 6: [(194, 1.7), (194, 2.55)],\n",
       " 7: [(164, 12.0), (164, 13.02)],\n",
       " 8: [(174, 0.0), (174, 2.02)],\n",
       " -1: [(112, 9.65),\n",
       "  (142, 18.2),\n",
       "  (116, 31.2),\n",
       "  (174, 9.45),\n",
       "  (208, 27.4),\n",
       "  (110, 12.16),\n",
       "  (108, 15.0),\n",
       "  (150, 20.0),\n",
       "  (180, 0.52),\n",
       "  (188, 0.0),\n",
       "  (130, 18.0),\n",
       "  (176, 5.76),\n",
       "  (190, 4.18),\n",
       "  (206, 0.0)]}"
      ]
     },
     "execution_count": 642,
     "metadata": {},
     "output_type": "execute_result"
    }
   ],
   "source": [
    "dbclustersDS2={}\n",
    "for cluster in listOfClustersDS2:\n",
    "  dbclustersDS2[cluster]=[]\n",
    "for index, cluster in enumerate(clusterID_DS2):\n",
    "  dbclustersDS2[cluster].append(pointsDS2[index])\n",
    "dbclustersDS2\n"
   ]
  },
  {
   "cell_type": "code",
   "execution_count": 643,
   "metadata": {
    "executionInfo": {
     "elapsed": 3,
     "status": "ok",
     "timestamp": 1742554953146,
     "user": {
      "displayName": "Hazem Alsagheer",
      "userId": "05232312845808918344"
     },
     "user_tz": 240
    },
    "id": "j9RSNRlyFAmP"
   },
   "outputs": [],
   "source": [
    "df = dataset2.iloc[:300].copy()\n",
    "df.reset_index(drop=True, inplace=True)\n",
    "chdList = {}\n",
    "\n",
    "for i, row in df.iterrows():\n",
    "    sbp_val = row['sbp']\n",
    "    tob_val = row['tobacco']\n",
    "    chd_val = row['chd']\n",
    "    pnt = (sbp_val, tob_val)\n",
    "\n",
    "    if pnt not in chdList:\n",
    "        chdList[pnt] = []\n",
    "    chdList[pnt].append(chd_val)"
   ]
  },
  {
   "cell_type": "code",
   "execution_count": 644,
   "metadata": {
    "executionInfo": {
     "elapsed": 49,
     "status": "ok",
     "timestamp": 1742554953196,
     "user": {
      "displayName": "Hazem Alsagheer",
      "userId": "05232312845808918344"
     },
     "user_tz": 240
    },
    "id": "zKcMCGZNFAmP"
   },
   "outputs": [],
   "source": [
    "count0List=[]\n",
    "count1List=[]\n",
    "for pointList in dbclustersDS2.values():\n",
    "  chdCount=[]\n",
    "  for point in pointList:\n",
    "    if point in chdList:\n",
    "      chdCount.extend(chdList[point])\n",
    "  count0=chdCount.count(0)\n",
    "  count1=chdCount.count(1)\n",
    "  if count0>count1:\n",
    "    count0List.extend(pointList)\n",
    "  else:\n",
    "    count1List.extend(pointList)\n"
   ]
  },
  {
   "cell_type": "code",
   "execution_count": 645,
   "metadata": {
    "colab": {
     "base_uri": "https://localhost:8080/"
    },
    "executionInfo": {
     "elapsed": 32,
     "status": "ok",
     "timestamp": 1742554953197,
     "user": {
      "displayName": "Hazem Alsagheer",
      "userId": "05232312845808918344"
     },
     "user_tz": 240
    },
    "id": "Kw4a9kLrFAmP",
    "outputId": "1d1bb5a2-bc01-441c-bab9-c66610e33725"
   },
   "outputs": [
    {
     "data": {
      "text/plain": [
       "[(160, 12.0),\n",
       " (144, 0.01),\n",
       " (118, 0.08),\n",
       " (134, 13.6),\n",
       " (132, 6.2),\n",
       " (142, 4.05),\n",
       " (114, 4.08),\n",
       " (114, 0.0),\n",
       " (132, 0.0),\n",
       " (134, 14.1),\n",
       " (118, 0.0),\n",
       " (132, 0.0),\n",
       " (117, 1.53),\n",
       " (120, 7.5),\n",
       " (146, 10.5),\n",
       " (158, 2.6),\n",
       " (106, 1.61),\n",
       " (132, 7.9),\n",
       " (150, 0.3),\n",
       " (138, 0.6),\n",
       " (124, 4.0),\n",
       " (118, 6.0),\n",
       " (145, 9.1),\n",
       " (144, 4.09),\n",
       " (146, 0.0),\n",
       " (136, 2.52),\n",
       " (158, 1.02),\n",
       " (122, 6.6),\n",
       " (126, 8.75),\n",
       " (148, 5.5),\n",
       " (122, 4.26),\n",
       " (140, 3.9),\n",
       " (110, 4.64),\n",
       " (130, 0.0),\n",
       " (136, 11.2),\n",
       " (118, 0.28),\n",
       " (144, 0.04),\n",
       " (120, 0.0),\n",
       " (130, 2.61),\n",
       " (114, 0.0),\n",
       " (128, 4.65),\n",
       " (162, 7.4),\n",
       " (116, 1.91),\n",
       " (114, 0.0),\n",
       " (126, 3.8),\n",
       " (122, 0.0),\n",
       " (134, 2.5),\n",
       " (152, 0.9),\n",
       " (134, 8.08),\n",
       " (156, 3.0),\n",
       " (152, 5.99),\n",
       " (118, 0.0),\n",
       " (126, 5.1),\n",
       " (121, 0.8),\n",
       " (142, 0.28),\n",
       " (138, 1.15),\n",
       " (152, 10.1),\n",
       " (140, 0.45),\n",
       " (130, 0.0),\n",
       " (136, 7.36),\n",
       " (124, 4.82),\n",
       " (112, 0.41),\n",
       " (118, 4.46),\n",
       " (122, 0.0),\n",
       " (118, 0.0),\n",
       " (130, 1.72),\n",
       " (130, 5.6),\n",
       " (126, 0.09),\n",
       " (128, 0.4),\n",
       " (136, 0.0),\n",
       " (134, 0.0),\n",
       " (140, 0.6),\n",
       " (168, 4.5),\n",
       " (108, 0.4),\n",
       " (114, 3.0),\n",
       " (140, 8.14),\n",
       " (148, 4.8),\n",
       " (148, 12.2),\n",
       " (128, 0.0),\n",
       " (130, 0.56),\n",
       " (126, 10.5),\n",
       " (140, 0.0),\n",
       " (126, 0.9),\n",
       " (122, 0.72),\n",
       " (116, 1.03),\n",
       " (120, 3.7),\n",
       " (143, 0.46),\n",
       " (118, 4.0),\n",
       " (134, 3.0),\n",
       " (138, 2.16),\n",
       " (136, 0.0),\n",
       " (122, 3.2),\n",
       " (136, 8.0),\n",
       " (166, 0.07),\n",
       " (118, 0.0),\n",
       " (128, 0.42),\n",
       " (118, 1.5),\n",
       " (158, 3.6),\n",
       " (108, 1.5),\n",
       " (118, 1.0),\n",
       " (124, 0.0),\n",
       " (114, 0.0),\n",
       " (134, 2.0),\n",
       " (128, 0.0),\n",
       " (140, 4.5),\n",
       " (154, 0.7),\n",
       " (150, 3.5),\n",
       " (130, 0.0),\n",
       " (128, 2.0),\n",
       " (120, 1.4),\n",
       " (120, 0.0),\n",
       " (138, 4.5),\n",
       " (153, 7.8),\n",
       " (123, 8.6),\n",
       " (148, 4.04),\n",
       " (136, 3.96),\n",
       " (134, 8.8),\n",
       " (152, 12.18),\n",
       " (158, 13.5),\n",
       " (132, 2.0),\n",
       " (134, 1.5),\n",
       " (142, 7.44),\n",
       " (134, 6.0),\n",
       " (122, 4.18),\n",
       " (116, 2.7),\n",
       " (128, 0.5),\n",
       " (120, 0.0),\n",
       " (124, 0.0),\n",
       " (160, 14.0),\n",
       " (130, 2.78),\n",
       " (128, 2.8),\n",
       " (130, 4.5),\n",
       " (109, 1.2),\n",
       " (144, 0.0),\n",
       " (118, 1.05),\n",
       " (136, 3.46),\n",
       " (136, 1.5),\n",
       " (148, 6.0),\n",
       " (128, 6.6),\n",
       " (122, 0.28),\n",
       " (108, 0.0),\n",
       " (124, 3.04),\n",
       " (138, 8.8),\n",
       " (127, 0.0),\n",
       " (122, 0.0),\n",
       " (144, 6.75),\n",
       " (126, 1.8),\n",
       " (138, 0.0),\n",
       " (148, 0.0),\n",
       " (122, 0.0),\n",
       " (132, 7.0),\n",
       " (160, 1.52),\n",
       " (126, 0.54),\n",
       " (162, 5.3),\n",
       " (118, 0.75),\n",
       " (124, 0.0),\n",
       " (160, 0.0),\n",
       " (128, 0.0),\n",
       " (122, 4.0),\n",
       " (132, 2.0),\n",
       " (120, 0.0),\n",
       " (128, 0.04),\n",
       " (166, 0.0),\n",
       " (152, 0.0),\n",
       " (170, 4.2),\n",
       " (156, 4.0),\n",
       " (116, 8.0),\n",
       " (122, 4.4),\n",
       " (129, 2.15),\n",
       " (134, 4.8),\n",
       " (126, 0.0),\n",
       " (142, 0.0),\n",
       " (128, 0.7),\n",
       " (130, 0.0),\n",
       " (138, 0.05),\n",
       " (138, 0.0),\n",
       " (128, 0.0),\n",
       " (162, 2.92),\n",
       " (160, 3.0),\n",
       " (148, 0.0),\n",
       " (124, 0.16),\n",
       " (136, 3.15),\n",
       " (134, 2.75),\n",
       " (128, 0.73),\n",
       " (122, 3.2),\n",
       " (152, 3.0),\n",
       " (162, 0.0),\n",
       " (124, 4.0),\n",
       " (136, 5.8),\n",
       " (136, 8.8),\n",
       " (134, 0.05),\n",
       " (122, 1.0),\n",
       " (116, 3.0),\n",
       " (132, 0.0),\n",
       " (134, 0.0),\n",
       " (160, 7.77),\n",
       " (124, 0.81),\n",
       " (114, 0.0),\n",
       " (138, 0.0),\n",
       " (164, 0.5),\n",
       " (144, 2.4),\n",
       " (136, 7.5),\n",
       " (132, 7.28),\n",
       " (143, 5.04),\n",
       " (112, 4.46),\n",
       " (134, 10.0),\n",
       " (138, 2.0),\n",
       " (110, 2.35),\n",
       " (136, 13.2),\n",
       " (130, 1.75),\n",
       " (122, 0.0),\n",
       " (138, 0.0),\n",
       " (126, 5.5),\n",
       " (122, 0.0),\n",
       " (124, 0.0),\n",
       " (140, 5.2),\n",
       " (128, 6.0),\n",
       " (144, 0.76),\n",
       " (126, 4.6),\n",
       " (128, 0.0),\n",
       " (136, 0.4),\n",
       " (158, 4.0),\n",
       " (160, 0.6),\n",
       " (124, 6.0),\n",
       " (158, 6.17),\n",
       " (128, 0.0),\n",
       " (166, 3.0),\n",
       " (146, 7.5),\n",
       " (161, 9.0),\n",
       " (146, 5.08),\n",
       " (142, 4.48),\n",
       " (138, 12.0),\n",
       " (154, 1.8),\n",
       " (118, 0.0),\n",
       " (124, 0.61),\n",
       " (124, 1.04),\n",
       " (136, 5.0),\n",
       " (132, 9.9),\n",
       " (118, 0.12),\n",
       " (118, 0.12),\n",
       " (134, 12.0),\n",
       " (114, 0.1),\n",
       " (136, 6.8),\n",
       " (130, 0.0),\n",
       " (136, 2.2),\n",
       " (136, 1.36),\n",
       " (154, 4.2),\n",
       " (108, 0.8),\n",
       " (136, 8.8),\n",
       " (124, 4.25),\n",
       " (114, 0.0),\n",
       " (118, 0.12),\n",
       " (106, 1.08),\n",
       " (146, 3.6),\n",
       " (134, 3.0),\n",
       " (148, 15.0),\n",
       " (126, 0.21),\n",
       " (134, 0.0),\n",
       " (134, 0.02),\n",
       " (123, 0.05),\n",
       " (112, 0.6),\n",
       " (112, 0.0),\n",
       " (150, 0.18),\n",
       " (170, 2.6),\n",
       " (134, 0.0),\n",
       " (142, 0.0),\n",
       " (132, 0.1),\n",
       " (136, 0.0),\n",
       " (132, 12.0),\n",
       " (166, 4.1),\n",
       " (103, 0.03),\n",
       " (102, 0.4),\n",
       " (101, 0.48),\n",
       " (194, 1.7),\n",
       " (194, 2.55)]"
      ]
     },
     "execution_count": 645,
     "metadata": {},
     "output_type": "execute_result"
    }
   ],
   "source": [
    "count0List"
   ]
  },
  {
   "cell_type": "code",
   "execution_count": 646,
   "metadata": {
    "colab": {
     "base_uri": "https://localhost:8080/",
     "height": 206
    },
    "executionInfo": {
     "elapsed": 19,
     "status": "ok",
     "timestamp": 1742554953198,
     "user": {
      "displayName": "Hazem Alsagheer",
      "userId": "05232312845808918344"
     },
     "user_tz": 240
    },
    "id": "7fPGdw-EFAmP",
    "outputId": "87ebff49-1939-4d77-ba68-8e9a88061d76"
   },
   "outputs": [
    {
     "data": {
      "application/vnd.google.colaboratory.intrinsic+json": {
       "summary": "{\n  \"name\": \"df\",\n  \"rows\": 300,\n  \"fields\": [\n    {\n      \"column\": \"sbp\",\n      \"properties\": {\n        \"dtype\": \"number\",\n        \"std\": 19,\n        \"min\": 101,\n        \"max\": 208,\n        \"num_unique_values\": 54,\n        \"samples\": [\n          148,\n          174,\n          208\n        ],\n        \"semantic_type\": \"\",\n        \"description\": \"\"\n      }\n    },\n    {\n      \"column\": \"tobacco\",\n      \"properties\": {\n        \"dtype\": \"number\",\n        \"std\": 4.596054206576349,\n        \"min\": 0.0,\n        \"max\": 31.2,\n        \"num_unique_values\": 161,\n        \"samples\": [\n          2.92,\n          2.75,\n          4.1\n        ],\n        \"semantic_type\": \"\",\n        \"description\": \"\"\n      }\n    },\n    {\n      \"column\": \"predicted\",\n      \"properties\": {\n        \"dtype\": \"number\",\n        \"std\": 0,\n        \"min\": 0,\n        \"max\": 1,\n        \"num_unique_values\": 2,\n        \"samples\": [\n          1,\n          0\n        ],\n        \"semantic_type\": \"\",\n        \"description\": \"\"\n      }\n    }\n  ]\n}",
       "type": "dataframe",
       "variable_name": "df"
      },
      "text/html": [
       "\n",
       "  <div id=\"df-60e79ade-3cbb-4edf-b6a9-4ca18f387414\" class=\"colab-df-container\">\n",
       "    <div>\n",
       "<style scoped>\n",
       "    .dataframe tbody tr th:only-of-type {\n",
       "        vertical-align: middle;\n",
       "    }\n",
       "\n",
       "    .dataframe tbody tr th {\n",
       "        vertical-align: top;\n",
       "    }\n",
       "\n",
       "    .dataframe thead th {\n",
       "        text-align: right;\n",
       "    }\n",
       "</style>\n",
       "<table border=\"1\" class=\"dataframe\">\n",
       "  <thead>\n",
       "    <tr style=\"text-align: right;\">\n",
       "      <th></th>\n",
       "      <th>sbp</th>\n",
       "      <th>tobacco</th>\n",
       "      <th>predicted</th>\n",
       "    </tr>\n",
       "  </thead>\n",
       "  <tbody>\n",
       "    <tr>\n",
       "      <th>0</th>\n",
       "      <td>160</td>\n",
       "      <td>12.00</td>\n",
       "      <td>0</td>\n",
       "    </tr>\n",
       "    <tr>\n",
       "      <th>1</th>\n",
       "      <td>144</td>\n",
       "      <td>0.01</td>\n",
       "      <td>0</td>\n",
       "    </tr>\n",
       "    <tr>\n",
       "      <th>2</th>\n",
       "      <td>118</td>\n",
       "      <td>0.08</td>\n",
       "      <td>0</td>\n",
       "    </tr>\n",
       "    <tr>\n",
       "      <th>3</th>\n",
       "      <td>134</td>\n",
       "      <td>13.60</td>\n",
       "      <td>0</td>\n",
       "    </tr>\n",
       "    <tr>\n",
       "      <th>4</th>\n",
       "      <td>132</td>\n",
       "      <td>6.20</td>\n",
       "      <td>0</td>\n",
       "    </tr>\n",
       "  </tbody>\n",
       "</table>\n",
       "</div>\n",
       "    <div class=\"colab-df-buttons\">\n",
       "\n",
       "  <div class=\"colab-df-container\">\n",
       "    <button class=\"colab-df-convert\" onclick=\"convertToInteractive('df-60e79ade-3cbb-4edf-b6a9-4ca18f387414')\"\n",
       "            title=\"Convert this dataframe to an interactive table.\"\n",
       "            style=\"display:none;\">\n",
       "\n",
       "  <svg xmlns=\"http://www.w3.org/2000/svg\" height=\"24px\" viewBox=\"0 -960 960 960\">\n",
       "    <path d=\"M120-120v-720h720v720H120Zm60-500h600v-160H180v160Zm220 220h160v-160H400v160Zm0 220h160v-160H400v160ZM180-400h160v-160H180v160Zm440 0h160v-160H620v160ZM180-180h160v-160H180v160Zm440 0h160v-160H620v160Z\"/>\n",
       "  </svg>\n",
       "    </button>\n",
       "\n",
       "  <style>\n",
       "    .colab-df-container {\n",
       "      display:flex;\n",
       "      gap: 12px;\n",
       "    }\n",
       "\n",
       "    .colab-df-convert {\n",
       "      background-color: #E8F0FE;\n",
       "      border: none;\n",
       "      border-radius: 50%;\n",
       "      cursor: pointer;\n",
       "      display: none;\n",
       "      fill: #1967D2;\n",
       "      height: 32px;\n",
       "      padding: 0 0 0 0;\n",
       "      width: 32px;\n",
       "    }\n",
       "\n",
       "    .colab-df-convert:hover {\n",
       "      background-color: #E2EBFA;\n",
       "      box-shadow: 0px 1px 2px rgba(60, 64, 67, 0.3), 0px 1px 3px 1px rgba(60, 64, 67, 0.15);\n",
       "      fill: #174EA6;\n",
       "    }\n",
       "\n",
       "    .colab-df-buttons div {\n",
       "      margin-bottom: 4px;\n",
       "    }\n",
       "\n",
       "    [theme=dark] .colab-df-convert {\n",
       "      background-color: #3B4455;\n",
       "      fill: #D2E3FC;\n",
       "    }\n",
       "\n",
       "    [theme=dark] .colab-df-convert:hover {\n",
       "      background-color: #434B5C;\n",
       "      box-shadow: 0px 1px 3px 1px rgba(0, 0, 0, 0.15);\n",
       "      filter: drop-shadow(0px 1px 2px rgba(0, 0, 0, 0.3));\n",
       "      fill: #FFFFFF;\n",
       "    }\n",
       "  </style>\n",
       "\n",
       "    <script>\n",
       "      const buttonEl =\n",
       "        document.querySelector('#df-60e79ade-3cbb-4edf-b6a9-4ca18f387414 button.colab-df-convert');\n",
       "      buttonEl.style.display =\n",
       "        google.colab.kernel.accessAllowed ? 'block' : 'none';\n",
       "\n",
       "      async function convertToInteractive(key) {\n",
       "        const element = document.querySelector('#df-60e79ade-3cbb-4edf-b6a9-4ca18f387414');\n",
       "        const dataTable =\n",
       "          await google.colab.kernel.invokeFunction('convertToInteractive',\n",
       "                                                    [key], {});\n",
       "        if (!dataTable) return;\n",
       "\n",
       "        const docLinkHtml = 'Like what you see? Visit the ' +\n",
       "          '<a target=\"_blank\" href=https://colab.research.google.com/notebooks/data_table.ipynb>data table notebook</a>'\n",
       "          + ' to learn more about interactive tables.';\n",
       "        element.innerHTML = '';\n",
       "        dataTable['output_type'] = 'display_data';\n",
       "        await google.colab.output.renderOutput(dataTable, element);\n",
       "        const docLink = document.createElement('div');\n",
       "        docLink.innerHTML = docLinkHtml;\n",
       "        element.appendChild(docLink);\n",
       "      }\n",
       "    </script>\n",
       "  </div>\n",
       "\n",
       "\n",
       "<div id=\"df-1c370a7e-06fe-4455-90e6-b8ecc5d74218\">\n",
       "  <button class=\"colab-df-quickchart\" onclick=\"quickchart('df-1c370a7e-06fe-4455-90e6-b8ecc5d74218')\"\n",
       "            title=\"Suggest charts\"\n",
       "            style=\"display:none;\">\n",
       "\n",
       "<svg xmlns=\"http://www.w3.org/2000/svg\" height=\"24px\"viewBox=\"0 0 24 24\"\n",
       "     width=\"24px\">\n",
       "    <g>\n",
       "        <path d=\"M19 3H5c-1.1 0-2 .9-2 2v14c0 1.1.9 2 2 2h14c1.1 0 2-.9 2-2V5c0-1.1-.9-2-2-2zM9 17H7v-7h2v7zm4 0h-2V7h2v10zm4 0h-2v-4h2v4z\"/>\n",
       "    </g>\n",
       "</svg>\n",
       "  </button>\n",
       "\n",
       "<style>\n",
       "  .colab-df-quickchart {\n",
       "      --bg-color: #E8F0FE;\n",
       "      --fill-color: #1967D2;\n",
       "      --hover-bg-color: #E2EBFA;\n",
       "      --hover-fill-color: #174EA6;\n",
       "      --disabled-fill-color: #AAA;\n",
       "      --disabled-bg-color: #DDD;\n",
       "  }\n",
       "\n",
       "  [theme=dark] .colab-df-quickchart {\n",
       "      --bg-color: #3B4455;\n",
       "      --fill-color: #D2E3FC;\n",
       "      --hover-bg-color: #434B5C;\n",
       "      --hover-fill-color: #FFFFFF;\n",
       "      --disabled-bg-color: #3B4455;\n",
       "      --disabled-fill-color: #666;\n",
       "  }\n",
       "\n",
       "  .colab-df-quickchart {\n",
       "    background-color: var(--bg-color);\n",
       "    border: none;\n",
       "    border-radius: 50%;\n",
       "    cursor: pointer;\n",
       "    display: none;\n",
       "    fill: var(--fill-color);\n",
       "    height: 32px;\n",
       "    padding: 0;\n",
       "    width: 32px;\n",
       "  }\n",
       "\n",
       "  .colab-df-quickchart:hover {\n",
       "    background-color: var(--hover-bg-color);\n",
       "    box-shadow: 0 1px 2px rgba(60, 64, 67, 0.3), 0 1px 3px 1px rgba(60, 64, 67, 0.15);\n",
       "    fill: var(--button-hover-fill-color);\n",
       "  }\n",
       "\n",
       "  .colab-df-quickchart-complete:disabled,\n",
       "  .colab-df-quickchart-complete:disabled:hover {\n",
       "    background-color: var(--disabled-bg-color);\n",
       "    fill: var(--disabled-fill-color);\n",
       "    box-shadow: none;\n",
       "  }\n",
       "\n",
       "  .colab-df-spinner {\n",
       "    border: 2px solid var(--fill-color);\n",
       "    border-color: transparent;\n",
       "    border-bottom-color: var(--fill-color);\n",
       "    animation:\n",
       "      spin 1s steps(1) infinite;\n",
       "  }\n",
       "\n",
       "  @keyframes spin {\n",
       "    0% {\n",
       "      border-color: transparent;\n",
       "      border-bottom-color: var(--fill-color);\n",
       "      border-left-color: var(--fill-color);\n",
       "    }\n",
       "    20% {\n",
       "      border-color: transparent;\n",
       "      border-left-color: var(--fill-color);\n",
       "      border-top-color: var(--fill-color);\n",
       "    }\n",
       "    30% {\n",
       "      border-color: transparent;\n",
       "      border-left-color: var(--fill-color);\n",
       "      border-top-color: var(--fill-color);\n",
       "      border-right-color: var(--fill-color);\n",
       "    }\n",
       "    40% {\n",
       "      border-color: transparent;\n",
       "      border-right-color: var(--fill-color);\n",
       "      border-top-color: var(--fill-color);\n",
       "    }\n",
       "    60% {\n",
       "      border-color: transparent;\n",
       "      border-right-color: var(--fill-color);\n",
       "    }\n",
       "    80% {\n",
       "      border-color: transparent;\n",
       "      border-right-color: var(--fill-color);\n",
       "      border-bottom-color: var(--fill-color);\n",
       "    }\n",
       "    90% {\n",
       "      border-color: transparent;\n",
       "      border-bottom-color: var(--fill-color);\n",
       "    }\n",
       "  }\n",
       "</style>\n",
       "\n",
       "  <script>\n",
       "    async function quickchart(key) {\n",
       "      const quickchartButtonEl =\n",
       "        document.querySelector('#' + key + ' button');\n",
       "      quickchartButtonEl.disabled = true;  // To prevent multiple clicks.\n",
       "      quickchartButtonEl.classList.add('colab-df-spinner');\n",
       "      try {\n",
       "        const charts = await google.colab.kernel.invokeFunction(\n",
       "            'suggestCharts', [key], {});\n",
       "      } catch (error) {\n",
       "        console.error('Error during call to suggestCharts:', error);\n",
       "      }\n",
       "      quickchartButtonEl.classList.remove('colab-df-spinner');\n",
       "      quickchartButtonEl.classList.add('colab-df-quickchart-complete');\n",
       "    }\n",
       "    (() => {\n",
       "      let quickchartButtonEl =\n",
       "        document.querySelector('#df-1c370a7e-06fe-4455-90e6-b8ecc5d74218 button');\n",
       "      quickchartButtonEl.style.display =\n",
       "        google.colab.kernel.accessAllowed ? 'block' : 'none';\n",
       "    })();\n",
       "  </script>\n",
       "</div>\n",
       "\n",
       "    </div>\n",
       "  </div>\n"
      ],
      "text/plain": [
       "   sbp  tobacco  predicted\n",
       "0  160    12.00          0\n",
       "1  144     0.01          0\n",
       "2  118     0.08          0\n",
       "3  134    13.60          0\n",
       "4  132     6.20          0"
      ]
     },
     "execution_count": 646,
     "metadata": {},
     "output_type": "execute_result"
    }
   ],
   "source": [
    "x_values = []\n",
    "y_values = []\n",
    "predicted = []\n",
    "\n",
    "for pnt in count0List:\n",
    "    # Extend the totals rather than reassigning on each iteration\n",
    "    x_values.append(pnt[0])\n",
    "    y_values.append(pnt[1])\n",
    "\n",
    "predicted.extend([0] * len(count0List))\n",
    "\n",
    "for pnt in count1List:\n",
    "    # Extend the totals rather than reassigning on each iteration\n",
    "    x_values.append(pnt[0])\n",
    "    y_values.append(pnt[1])\n",
    "\n",
    "predicted.extend([1] * len(count1List))\n",
    "\n",
    "df = pd.DataFrame({\n",
    "    'sbp': x_values,\n",
    "    'tobacco': y_values,\n",
    "    'predicted': predicted\n",
    "})\n",
    "df.head()"
   ]
  },
  {
   "cell_type": "code",
   "execution_count": 647,
   "metadata": {
    "colab": {
     "base_uri": "https://localhost:8080/",
     "height": 206
    },
    "executionInfo": {
     "elapsed": 22,
     "status": "ok",
     "timestamp": 1742554953217,
     "user": {
      "displayName": "Hazem Alsagheer",
      "userId": "05232312845808918344"
     },
     "user_tz": 240
    },
    "id": "4N5vlJ9UFAmP",
    "outputId": "d4c5eb70-95d7-4fde-dc29-432a27980122"
   },
   "outputs": [
    {
     "data": {
      "application/vnd.google.colaboratory.intrinsic+json": {
       "summary": "{\n  \"name\": \"df_sorted_DBSCAN\",\n  \"rows\": 300,\n  \"fields\": [\n    {\n      \"column\": \"sbp\",\n      \"properties\": {\n        \"dtype\": \"number\",\n        \"std\": 19,\n        \"min\": 101,\n        \"max\": 208,\n        \"num_unique_values\": 54,\n        \"samples\": [\n          128,\n          188,\n          180\n        ],\n        \"semantic_type\": \"\",\n        \"description\": \"\"\n      }\n    },\n    {\n      \"column\": \"tobacco\",\n      \"properties\": {\n        \"dtype\": \"number\",\n        \"std\": 4.596054206576351,\n        \"min\": 0.0,\n        \"max\": 31.2,\n        \"num_unique_values\": 161,\n        \"samples\": [\n          11.2,\n          2.52,\n          13.5\n        ],\n        \"semantic_type\": \"\",\n        \"description\": \"\"\n      }\n    },\n    {\n      \"column\": \"predicted\",\n      \"properties\": {\n        \"dtype\": \"number\",\n        \"std\": 0,\n        \"min\": 0,\n        \"max\": 1,\n        \"num_unique_values\": 2,\n        \"samples\": [\n          1,\n          0\n        ],\n        \"semantic_type\": \"\",\n        \"description\": \"\"\n      }\n    }\n  ]\n}",
       "type": "dataframe",
       "variable_name": "df_sorted_DBSCAN"
      },
      "text/html": [
       "\n",
       "  <div id=\"df-ef602cb8-f172-49b0-bca0-4ab7b18b1543\" class=\"colab-df-container\">\n",
       "    <div>\n",
       "<style scoped>\n",
       "    .dataframe tbody tr th:only-of-type {\n",
       "        vertical-align: middle;\n",
       "    }\n",
       "\n",
       "    .dataframe tbody tr th {\n",
       "        vertical-align: top;\n",
       "    }\n",
       "\n",
       "    .dataframe thead th {\n",
       "        text-align: right;\n",
       "    }\n",
       "</style>\n",
       "<table border=\"1\" class=\"dataframe\">\n",
       "  <thead>\n",
       "    <tr style=\"text-align: right;\">\n",
       "      <th></th>\n",
       "      <th>sbp</th>\n",
       "      <th>tobacco</th>\n",
       "      <th>predicted</th>\n",
       "    </tr>\n",
       "  </thead>\n",
       "  <tbody>\n",
       "    <tr>\n",
       "      <th>272</th>\n",
       "      <td>101</td>\n",
       "      <td>0.48</td>\n",
       "      <td>0</td>\n",
       "    </tr>\n",
       "    <tr>\n",
       "      <th>271</th>\n",
       "      <td>102</td>\n",
       "      <td>0.40</td>\n",
       "      <td>0</td>\n",
       "    </tr>\n",
       "    <tr>\n",
       "      <th>270</th>\n",
       "      <td>103</td>\n",
       "      <td>0.03</td>\n",
       "      <td>0</td>\n",
       "    </tr>\n",
       "    <tr>\n",
       "      <th>252</th>\n",
       "      <td>106</td>\n",
       "      <td>1.08</td>\n",
       "      <td>0</td>\n",
       "    </tr>\n",
       "    <tr>\n",
       "      <th>16</th>\n",
       "      <td>106</td>\n",
       "      <td>1.61</td>\n",
       "      <td>0</td>\n",
       "    </tr>\n",
       "  </tbody>\n",
       "</table>\n",
       "</div>\n",
       "    <div class=\"colab-df-buttons\">\n",
       "\n",
       "  <div class=\"colab-df-container\">\n",
       "    <button class=\"colab-df-convert\" onclick=\"convertToInteractive('df-ef602cb8-f172-49b0-bca0-4ab7b18b1543')\"\n",
       "            title=\"Convert this dataframe to an interactive table.\"\n",
       "            style=\"display:none;\">\n",
       "\n",
       "  <svg xmlns=\"http://www.w3.org/2000/svg\" height=\"24px\" viewBox=\"0 -960 960 960\">\n",
       "    <path d=\"M120-120v-720h720v720H120Zm60-500h600v-160H180v160Zm220 220h160v-160H400v160Zm0 220h160v-160H400v160ZM180-400h160v-160H180v160Zm440 0h160v-160H620v160ZM180-180h160v-160H180v160Zm440 0h160v-160H620v160Z\"/>\n",
       "  </svg>\n",
       "    </button>\n",
       "\n",
       "  <style>\n",
       "    .colab-df-container {\n",
       "      display:flex;\n",
       "      gap: 12px;\n",
       "    }\n",
       "\n",
       "    .colab-df-convert {\n",
       "      background-color: #E8F0FE;\n",
       "      border: none;\n",
       "      border-radius: 50%;\n",
       "      cursor: pointer;\n",
       "      display: none;\n",
       "      fill: #1967D2;\n",
       "      height: 32px;\n",
       "      padding: 0 0 0 0;\n",
       "      width: 32px;\n",
       "    }\n",
       "\n",
       "    .colab-df-convert:hover {\n",
       "      background-color: #E2EBFA;\n",
       "      box-shadow: 0px 1px 2px rgba(60, 64, 67, 0.3), 0px 1px 3px 1px rgba(60, 64, 67, 0.15);\n",
       "      fill: #174EA6;\n",
       "    }\n",
       "\n",
       "    .colab-df-buttons div {\n",
       "      margin-bottom: 4px;\n",
       "    }\n",
       "\n",
       "    [theme=dark] .colab-df-convert {\n",
       "      background-color: #3B4455;\n",
       "      fill: #D2E3FC;\n",
       "    }\n",
       "\n",
       "    [theme=dark] .colab-df-convert:hover {\n",
       "      background-color: #434B5C;\n",
       "      box-shadow: 0px 1px 3px 1px rgba(0, 0, 0, 0.15);\n",
       "      filter: drop-shadow(0px 1px 2px rgba(0, 0, 0, 0.3));\n",
       "      fill: #FFFFFF;\n",
       "    }\n",
       "  </style>\n",
       "\n",
       "    <script>\n",
       "      const buttonEl =\n",
       "        document.querySelector('#df-ef602cb8-f172-49b0-bca0-4ab7b18b1543 button.colab-df-convert');\n",
       "      buttonEl.style.display =\n",
       "        google.colab.kernel.accessAllowed ? 'block' : 'none';\n",
       "\n",
       "      async function convertToInteractive(key) {\n",
       "        const element = document.querySelector('#df-ef602cb8-f172-49b0-bca0-4ab7b18b1543');\n",
       "        const dataTable =\n",
       "          await google.colab.kernel.invokeFunction('convertToInteractive',\n",
       "                                                    [key], {});\n",
       "        if (!dataTable) return;\n",
       "\n",
       "        const docLinkHtml = 'Like what you see? Visit the ' +\n",
       "          '<a target=\"_blank\" href=https://colab.research.google.com/notebooks/data_table.ipynb>data table notebook</a>'\n",
       "          + ' to learn more about interactive tables.';\n",
       "        element.innerHTML = '';\n",
       "        dataTable['output_type'] = 'display_data';\n",
       "        await google.colab.output.renderOutput(dataTable, element);\n",
       "        const docLink = document.createElement('div');\n",
       "        docLink.innerHTML = docLinkHtml;\n",
       "        element.appendChild(docLink);\n",
       "      }\n",
       "    </script>\n",
       "  </div>\n",
       "\n",
       "\n",
       "<div id=\"df-5f31571c-28db-41b5-8ded-1ecddb7bae83\">\n",
       "  <button class=\"colab-df-quickchart\" onclick=\"quickchart('df-5f31571c-28db-41b5-8ded-1ecddb7bae83')\"\n",
       "            title=\"Suggest charts\"\n",
       "            style=\"display:none;\">\n",
       "\n",
       "<svg xmlns=\"http://www.w3.org/2000/svg\" height=\"24px\"viewBox=\"0 0 24 24\"\n",
       "     width=\"24px\">\n",
       "    <g>\n",
       "        <path d=\"M19 3H5c-1.1 0-2 .9-2 2v14c0 1.1.9 2 2 2h14c1.1 0 2-.9 2-2V5c0-1.1-.9-2-2-2zM9 17H7v-7h2v7zm4 0h-2V7h2v10zm4 0h-2v-4h2v4z\"/>\n",
       "    </g>\n",
       "</svg>\n",
       "  </button>\n",
       "\n",
       "<style>\n",
       "  .colab-df-quickchart {\n",
       "      --bg-color: #E8F0FE;\n",
       "      --fill-color: #1967D2;\n",
       "      --hover-bg-color: #E2EBFA;\n",
       "      --hover-fill-color: #174EA6;\n",
       "      --disabled-fill-color: #AAA;\n",
       "      --disabled-bg-color: #DDD;\n",
       "  }\n",
       "\n",
       "  [theme=dark] .colab-df-quickchart {\n",
       "      --bg-color: #3B4455;\n",
       "      --fill-color: #D2E3FC;\n",
       "      --hover-bg-color: #434B5C;\n",
       "      --hover-fill-color: #FFFFFF;\n",
       "      --disabled-bg-color: #3B4455;\n",
       "      --disabled-fill-color: #666;\n",
       "  }\n",
       "\n",
       "  .colab-df-quickchart {\n",
       "    background-color: var(--bg-color);\n",
       "    border: none;\n",
       "    border-radius: 50%;\n",
       "    cursor: pointer;\n",
       "    display: none;\n",
       "    fill: var(--fill-color);\n",
       "    height: 32px;\n",
       "    padding: 0;\n",
       "    width: 32px;\n",
       "  }\n",
       "\n",
       "  .colab-df-quickchart:hover {\n",
       "    background-color: var(--hover-bg-color);\n",
       "    box-shadow: 0 1px 2px rgba(60, 64, 67, 0.3), 0 1px 3px 1px rgba(60, 64, 67, 0.15);\n",
       "    fill: var(--button-hover-fill-color);\n",
       "  }\n",
       "\n",
       "  .colab-df-quickchart-complete:disabled,\n",
       "  .colab-df-quickchart-complete:disabled:hover {\n",
       "    background-color: var(--disabled-bg-color);\n",
       "    fill: var(--disabled-fill-color);\n",
       "    box-shadow: none;\n",
       "  }\n",
       "\n",
       "  .colab-df-spinner {\n",
       "    border: 2px solid var(--fill-color);\n",
       "    border-color: transparent;\n",
       "    border-bottom-color: var(--fill-color);\n",
       "    animation:\n",
       "      spin 1s steps(1) infinite;\n",
       "  }\n",
       "\n",
       "  @keyframes spin {\n",
       "    0% {\n",
       "      border-color: transparent;\n",
       "      border-bottom-color: var(--fill-color);\n",
       "      border-left-color: var(--fill-color);\n",
       "    }\n",
       "    20% {\n",
       "      border-color: transparent;\n",
       "      border-left-color: var(--fill-color);\n",
       "      border-top-color: var(--fill-color);\n",
       "    }\n",
       "    30% {\n",
       "      border-color: transparent;\n",
       "      border-left-color: var(--fill-color);\n",
       "      border-top-color: var(--fill-color);\n",
       "      border-right-color: var(--fill-color);\n",
       "    }\n",
       "    40% {\n",
       "      border-color: transparent;\n",
       "      border-right-color: var(--fill-color);\n",
       "      border-top-color: var(--fill-color);\n",
       "    }\n",
       "    60% {\n",
       "      border-color: transparent;\n",
       "      border-right-color: var(--fill-color);\n",
       "    }\n",
       "    80% {\n",
       "      border-color: transparent;\n",
       "      border-right-color: var(--fill-color);\n",
       "      border-bottom-color: var(--fill-color);\n",
       "    }\n",
       "    90% {\n",
       "      border-color: transparent;\n",
       "      border-bottom-color: var(--fill-color);\n",
       "    }\n",
       "  }\n",
       "</style>\n",
       "\n",
       "  <script>\n",
       "    async function quickchart(key) {\n",
       "      const quickchartButtonEl =\n",
       "        document.querySelector('#' + key + ' button');\n",
       "      quickchartButtonEl.disabled = true;  // To prevent multiple clicks.\n",
       "      quickchartButtonEl.classList.add('colab-df-spinner');\n",
       "      try {\n",
       "        const charts = await google.colab.kernel.invokeFunction(\n",
       "            'suggestCharts', [key], {});\n",
       "      } catch (error) {\n",
       "        console.error('Error during call to suggestCharts:', error);\n",
       "      }\n",
       "      quickchartButtonEl.classList.remove('colab-df-spinner');\n",
       "      quickchartButtonEl.classList.add('colab-df-quickchart-complete');\n",
       "    }\n",
       "    (() => {\n",
       "      let quickchartButtonEl =\n",
       "        document.querySelector('#df-5f31571c-28db-41b5-8ded-1ecddb7bae83 button');\n",
       "      quickchartButtonEl.style.display =\n",
       "        google.colab.kernel.accessAllowed ? 'block' : 'none';\n",
       "    })();\n",
       "  </script>\n",
       "</div>\n",
       "\n",
       "    </div>\n",
       "  </div>\n"
      ],
      "text/plain": [
       "     sbp  tobacco  predicted\n",
       "272  101     0.48          0\n",
       "271  102     0.40          0\n",
       "270  103     0.03          0\n",
       "252  106     1.08          0\n",
       "16   106     1.61          0"
      ]
     },
     "execution_count": 647,
     "metadata": {},
     "output_type": "execute_result"
    }
   ],
   "source": [
    "df_sorted_DBSCAN = df.sort_values(by='sbp', ascending=True)\n",
    "df_sorted_DBSCAN.head()"
   ]
  },
  {
   "cell_type": "code",
   "execution_count": 648,
   "metadata": {
    "colab": {
     "base_uri": "https://localhost:8080/"
    },
    "executionInfo": {
     "elapsed": 12,
     "status": "ok",
     "timestamp": 1742554953246,
     "user": {
      "displayName": "Hazem Alsagheer",
      "userId": "05232312845808918344"
     },
     "user_tz": 240
    },
    "id": "F4znnysyFAmQ",
    "outputId": "bfa91ccd-3c6d-474f-bbbf-e13529f892fb"
   },
   "outputs": [
    {
     "data": {
      "text/plain": [
       "0.6366666666666667"
      ]
     },
     "execution_count": 648,
     "metadata": {},
     "output_type": "execute_result"
    }
   ],
   "source": [
    "accuracy_score(dataset2_train_sorted['chd'], df_sorted_DBSCAN['predicted'])"
   ]
  },
  {
   "cell_type": "markdown",
   "metadata": {
    "id": "SlFEzmqdGdKS"
   },
   "source": [
    "Comparing all 3 accuracies of models:\n",
    "\n",
    "* K-Means:0.6333333333333333\n",
    "\n",
    "* Nearest Neighbor:0.5866666666666667\n",
    "* DBSCAN:0.6366666666666667\n",
    "\n",
    "---\n",
    "It is evident that DBSCAN stands as the most accurate model of the 3 clustering algorithms.\n"
   ]
  },
  {
   "cell_type": "markdown",
   "metadata": {
    "id": "jYkKMQC9HJN-"
   },
   "source": [
    "# **Part D** - Sklearn"
   ]
  },
  {
   "cell_type": "markdown",
   "metadata": {
    "id": "6pGhN-9LJT9Z"
   },
   "source": [
    "## k-means"
   ]
  },
  {
   "cell_type": "code",
   "execution_count": 649,
   "metadata": {
    "executionInfo": {
     "elapsed": 1,
     "status": "ok",
     "timestamp": 1742554953249,
     "user": {
      "displayName": "Hazem Alsagheer",
      "userId": "05232312845808918344"
     },
     "user_tz": 240
    },
    "id": "2czLPmyaHIWp"
   },
   "outputs": [],
   "source": [
    "from sklearn.cluster import KMeans"
   ]
  },
  {
   "cell_type": "code",
   "execution_count": 650,
   "metadata": {
    "executionInfo": {
     "elapsed": 1,
     "status": "ok",
     "timestamp": 1742554953251,
     "user": {
      "displayName": "Hazem Alsagheer",
      "userId": "05232312845808918344"
     },
     "user_tz": 240
    },
    "id": "xJWaqRSZXMOK"
   },
   "outputs": [],
   "source": [
    "points = [\n",
    "    (2, 10),\n",
    "    (2, 5),\n",
    "    (8, 4),\n",
    "    (5, 8),\n",
    "    (7, 5),\n",
    "    (6, 4),\n",
    "    (1, 2),\n",
    "    (4, 9)\n",
    "]"
   ]
  },
  {
   "cell_type": "markdown",
   "metadata": {
    "id": "1eUSn4OiLOHx"
   },
   "source": [
    "#### Dataset 1"
   ]
  },
  {
   "cell_type": "code",
   "execution_count": 651,
   "metadata": {
    "colab": {
     "base_uri": "https://localhost:8080/"
    },
    "executionInfo": {
     "elapsed": 20,
     "status": "ok",
     "timestamp": 1742554953272,
     "user": {
      "displayName": "Hazem Alsagheer",
      "userId": "05232312845808918344"
     },
     "user_tz": 240
    },
    "id": "RRGxLEWRLNTi",
    "outputId": "b64cfd0f-f5d8-4b0a-b43c-59feaa0c2324"
   },
   "outputs": [
    {
     "name": "stdout",
     "output_type": "stream",
     "text": [
      "Cluster Centers:\n",
      "[[1.5        3.5       ]\n",
      " [7.         4.33333333]\n",
      " [3.66666667 9.        ]]\n"
     ]
    }
   ],
   "source": [
    "kmeansDS1 = KMeans(n_clusters=3,init=[points[1],points[2],points[7]], n_init=1,  random_state=42)\n",
    "# Fit the model\n",
    "kmeansDS1.fit(points)\n",
    "\n",
    "# Output the cluster centers\n",
    "print(\"Cluster Centers:\")\n",
    "print(kmeansDS1.cluster_centers_)\n"
   ]
  },
  {
   "cell_type": "markdown",
   "metadata": {
    "id": "i2lUTMiyL0ui"
   },
   "source": [
    "The generated final centers ([(1.5, 3.5), (7.0, 4.33), (3.67, 9.0)]) and the sklearn results for kmeans algorithm are identical ensuring a successful execution"
   ]
  },
  {
   "cell_type": "markdown",
   "metadata": {
    "id": "i5v7ASpDLRx2"
   },
   "source": [
    "#### Dataset2"
   ]
  },
  {
   "cell_type": "code",
   "execution_count": 652,
   "metadata": {
    "colab": {
     "base_uri": "https://localhost:8080/"
    },
    "executionInfo": {
     "elapsed": 9,
     "status": "ok",
     "timestamp": 1742554953274,
     "user": {
      "displayName": "Hazem Alsagheer",
      "userId": "05232312845808918344"
     },
     "user_tz": 240
    },
    "id": "fLCJyru4Jam-",
    "outputId": "23f0555b-bcee-47b0-da16-dd895e56dd5b"
   },
   "outputs": [
    {
     "name": "stdout",
     "output_type": "stream",
     "text": [
      "Cluster Centers:\n",
      "[[127.09292035   3.12769912]\n",
      " [162.41891892   5.27621622]]\n"
     ]
    }
   ],
   "source": [
    "kmeansDS2 = KMeans(n_clusters=2, random_state=42)\n",
    "# Fit the model\n",
    "kmeansDS2.fit(pointsDS2)\n",
    "\n",
    "# Output the cluster centers\n",
    "print(\"Cluster Centers:\")\n",
    "print(kmeansDS2.cluster_centers_)\n"
   ]
  },
  {
   "cell_type": "markdown",
   "metadata": {
    "id": "bq4Oh5DJKkDA"
   },
   "source": [
    "### Comparison\n",
    "The final generated result ([(126.55, 3.16), (160.83, 4.99)]) and the sklearn results for kmeans algorithm are almost identical ensuring a successful execution"
   ]
  },
  {
   "cell_type": "markdown",
   "metadata": {
    "id": "If8tJHtmPUq5"
   },
   "source": [
    "## Nearest Neighbor"
   ]
  },
  {
   "cell_type": "code",
   "execution_count": 653,
   "metadata": {
    "colab": {
     "base_uri": "https://localhost:8080/"
    },
    "executionInfo": {
     "elapsed": 49,
     "status": "ok",
     "timestamp": 1742554953323,
     "user": {
      "displayName": "Hazem Alsagheer",
      "userId": "05232312845808918344"
     },
     "user_tz": 240
    },
    "id": "grKtKh17Ob2Y",
    "outputId": "a688b14f-746b-47fd-88eb-94c4f7b4d13d"
   },
   "outputs": [
    {
     "name": "stdout",
     "output_type": "stream",
     "text": [
      "Accuracy-like metric: 0.8024691358024691\n"
     ]
    }
   ],
   "source": [
    "from sklearn.neighbors import NearestNeighbors\n",
    "\n",
    "train_df = dataset2.iloc[:300].reset_index(drop=True)\n",
    "test_df  = dataset2.iloc[300:].reset_index(drop=True)\n",
    "\n",
    "X_train = train_df[['sbp', 'tobacco']].values\n",
    "y_train = train_df['chd']\n",
    "\n",
    "X_test  = test_df[['sbp', 'tobacco']].values\n",
    "y_test  = test_df['chd']\n",
    "\n",
    "# Fit nearest neighbors on X_train\n",
    "nn = NearestNeighbors(n_neighbors=2, algorithm='ball_tree')\n",
    "nn.fit(X_train)\n",
    "\n",
    "# Predict on X_test\n",
    "distances, indices = nn.kneighbors(X_test)\n",
    "\n",
    "correct_count = 0\n",
    "for i, inds in enumerate(indices):\n",
    "    # Now y_train has an index [0..299], so y_train[inds] works\n",
    "    neighbor_labels = y_train[inds]\n",
    "    if y_test.iloc[i] in neighbor_labels.values:\n",
    "        correct_count += 1\n",
    "\n",
    "accuracy = correct_count / len(X_test)\n",
    "print(\"Accuracy-like metric:\", accuracy)\n",
    "\n",
    "\n",
    "\n"
   ]
  },
  {
   "cell_type": "markdown",
   "metadata": {
    "id": "hTo6coWmWfgY"
   },
   "source": [
    "**Comparison**\n",
    "\n",
    "The model generated a high accuracy measure in comparison to the experimental value (0.58666667) this states that more room for improvement in adjusting the parameters and the implementation can be provided and handled well. The overall implementation captures the findings of the nn clustering algorithm ensuring right implementation."
   ]
  },
  {
   "cell_type": "markdown",
   "metadata": {
    "id": "6yrIF9Xzvr-j"
   },
   "source": [
    "## DBSCAN"
   ]
  },
  {
   "cell_type": "code",
   "execution_count": 654,
   "metadata": {
    "colab": {
     "base_uri": "https://localhost:8080/"
    },
    "executionInfo": {
     "elapsed": 35,
     "status": "ok",
     "timestamp": 1742554953358,
     "user": {
      "displayName": "Hazem Alsagheer",
      "userId": "05232312845808918344"
     },
     "user_tz": 240
    },
    "id": "p28b2rCkOcdK",
    "outputId": "0c9790b5-1c24-4654-c53d-d630a1e8eab2"
   },
   "outputs": [
    {
     "name": "stdout",
     "output_type": "stream",
     "text": [
      "[ 0  1  1  2  1  3  1  1  4  1 -1  1  1  1 -1  1 -1  5  6  7  8  3  9  1\n",
      " -1  1 10  5  1  1  1  6 -1 11 12  1 13 -1  1 14  1  1  1  1  4  1 15  1\n",
      "  4  1  1  1 16  1  6 -1  1  1 17  1  1  1 -1  1  1  1  1  4 10  1  1  1\n",
      "  1  1  1  1  1  1 -1 18  1 -1 12 -1  1  1 11  1  1  1  1 -1  1 10 19  1\n",
      "  1  1  1 20  1 21  1  1  1  6 18  2  1  1  4 -1  1 -1 -1  1 13 22 -1  1\n",
      "  1  1  1 13 -1 -1 12  1  1 -1 -1  1  1 -1  1  1  1  1  1  1  0  1  1  1\n",
      " 18  1  1  1  1  7 12  1  1 18  1  1  1 -1  1  1  1 -1  1  1  1  3 -1 23\n",
      "  1 -1 19  1  1 23  1  1  1  1  1 -1 21 16 24  6 -1  1 -1  1  1  1  1  1\n",
      " 17  1  1  1  1 -1 23  1  1  1  1  1  1 -1 23  1  1  1  1  1  1  1  1 15\n",
      " -1  1  4 -1  1 -1  1  1  3  1 -1  1  1 -1 18 14  1  1  1 -1  1 -1  1  1\n",
      " 13  1 -1  1  1  1  1  6 23  1 -1  1 25  5 15 20 26  1 -1 22  1  1  1  1\n",
      "  3  1  1  1  4  1  1  1  1 -1 18  1 -1  1  4  1  8 26 -1  1 -1  1  1  1\n",
      "  1  4  4 17  9 24  1  1  1  1  1 25]\n"
     ]
    }
   ],
   "source": [
    "from sklearn.cluster import DBSCAN\n",
    "\n",
    "dbscan = DBSCAN(eps=2, min_samples=2)\n",
    "dbscan.fit(pointsDS2)\n",
    "print(dbscan.labels_)"
   ]
  },
  {
   "cell_type": "markdown",
   "metadata": {
    "id": "ISr4xvehR_8e"
   },
   "source": [
    "**Comparison**\n",
    "by comparing the sklearn result with the generated result for the labels : [1,1,1,2,1,1,1,1,1,1,3,1,1,1,-1,1,1,1,1,4,1,1,1,1,-1,1,1,1,1,1,1,1,1,1,1,1,1,1,1,1,1,1,1,1,1,1,1,1,1,1,1,1,1,1,1,1,1,1,5,1,1,1,1,1,1,1,1,1,1,1,1,1,1,1,1,1,1,1,1,1,1,1,1,1,1,1,1,1,1,1,1,1,1,1,6,1,1,1,1,7,1,1,1,1,1,1,1,2,1,1,1,2,1,8,-1,1,1,1,1,1,1,1,1,1,1,1,1,1,1,1,1,1,1,1,1,1,1,1,1,1,1,1,1,1,1,1,1,1,1,4,1,1,1,1,1,1,1,-1,1,1,1,-1,1,1,1,1,-1,1,1,1,6,1,1,1,1,1,1,1,1,-1,1,1,1,1,1,1,-1,1,1,1,1,1,5,1,1,1,1,1,1,1,1,1,1,1,1,1,1,1,1,1,1,1,1,1,1,1,-1,1,1,3,1,1,1,1,1,1,1,1,1,-1,1,1,1,1,1,-1,1,-1,1,1,1,1,-1,1,1,1,1,1,1,1,1,1,1,1,1,7,1,1,1,1,1,1,1,1,1,1,1,1,1,1,1,1,1,1,1,1,8,1,1,1,1,1,-1,1,1,1,1,1,1,1,1,5,1,1,1,1,1,1,1,1] one can tell that both models generalized the overall classification to cluster 1 making the main functionality similar ensuring successful implementation."
   ]
  },
  {
   "cell_type": "markdown",
   "metadata": {
    "id": "IGguTs7OJ7uF"
   },
   "source": [
    "# **Questions**"
   ]
  },
  {
   "cell_type": "markdown",
   "metadata": {
    "id": "0cJ9MqtovyII"
   },
   "source": [
    "#### **1) What are the different metrics used to evaluate the performance of different clustering algorithms?**\n",
    "\n",
    "\n",
    "\n",
    "\n"
   ]
  },
  {
   "cell_type": "markdown",
   "metadata": {
    "id": "CXq_kzFXJTxj"
   },
   "source": [
    "Metrics such as Silhouette Score, Davies-Bouldin Index, and Adjusted Rand Index (ARI) serve as good performance evaluation metrics to analyze and assess the clusters. They are used to measure various characteristics and behaviour of the clusters ones which include assessing cluster separation, compactness, and similarity between predicted and true clusters."
   ]
  },
  {
   "cell_type": "markdown",
   "metadata": {
    "id": "6bQNSab3JzZj"
   },
   "source": [
    "#### **2) Instead of accuracy, what other ways can we evaluate the performance of three algorithms in lab 3?**"
   ]
  },
  {
   "cell_type": "markdown",
   "metadata": {
    "id": "2KaQRhBDJzg0"
   },
   "source": [
    "Besides using accuracy, there are several ways to evaluate performance. For instance some of the previously mentioned methods such as ARI, can give a measure of how closely the generated clusters match the real labels without relying on simple classification accuracy. Alternatively, the Silhouette Score allows to analyze how well an algorithm create clear and well separated clusters based solely on the data, without using any labels."
   ]
  }
 ],
 "metadata": {
  "colab": {
   "authorship_tag": "ABX9TyOqQAKYE+vMd0OhJVQP6jFv",
   "provenance": []
  },
  "kernelspec": {
   "display_name": "Python 3",
   "name": "python3"
  },
  "language_info": {
   "name": "python"
  }
 },
 "nbformat": 4,
 "nbformat_minor": 0
}
